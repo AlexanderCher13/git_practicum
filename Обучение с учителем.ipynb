{
 "cells": [
  {
   "cell_type": "markdown",
   "metadata": {},
   "source": [
    "https://github.com/AlexanderCher13/git_practicum"
   ]
  },
  {
   "cell_type": "markdown",
   "metadata": {
    "id": "H6cQIZr3ElW1"
   },
   "source": [
    "# Проект по разработке модели машинного обучения, предсказывающей  вероятность снижения покупательской активности.\n",
    "Данный проект проводится по заказу интернет-магазина \"В один клик\". Отчёт магазина за прошлый период показал, что активность покупателей начала снижаться. Возможное решение — удерживать активность постоянных клиентов. Сделать это можно с помощью персонализированных предложений. Необходимо разработать модель машинного обучения, которая позволит персонализировать предложения постоянным клиентам, чтобы увеличить их покупательскую активность.\n",
    " \n",
    "Проект включает в себя:\n",
    " - Изучение исходных данных;\n",
    " - Предобработку данных;\n",
    " - Исследовательский анализ данных;\n",
    " - Объединение данных;\n",
    " - Корреляционный анализ;\n",
    " - Использование пайплайнов;\n",
    " - Анализ важности признаков;\n",
    " - Сегментация покупателей;\n",
    " - Общий вывод."
   ]
  },
  {
   "cell_type": "code",
   "execution_count": 1,
   "metadata": {},
   "outputs": [
    {
     "name": "stdout",
     "output_type": "stream",
     "text": [
      "Requirement already satisfied: scikit-learn in /opt/conda/lib/python3.9/site-packages (1.5.1)\n",
      "Requirement already satisfied: scipy>=1.6.0 in /opt/conda/lib/python3.9/site-packages (from scikit-learn) (1.9.1)\n",
      "Requirement already satisfied: joblib>=1.2.0 in /opt/conda/lib/python3.9/site-packages (from scikit-learn) (1.4.2)\n",
      "Requirement already satisfied: numpy>=1.19.5 in /opt/conda/lib/python3.9/site-packages (from scikit-learn) (1.21.1)\n",
      "Requirement already satisfied: threadpoolctl>=3.1.0 in /opt/conda/lib/python3.9/site-packages (from scikit-learn) (3.1.0)\n"
     ]
    }
   ],
   "source": [
    "!pip install --upgrade scikit-learn"
   ]
  },
  {
   "cell_type": "code",
   "execution_count": 2,
   "metadata": {},
   "outputs": [
    {
     "name": "stdout",
     "output_type": "stream",
     "text": [
      "Requirement already satisfied: shap in /opt/conda/lib/python3.9/site-packages (0.46.0)\n",
      "Requirement already satisfied: cloudpickle in /opt/conda/lib/python3.9/site-packages (from shap) (3.0.0)\n",
      "Requirement already satisfied: scikit-learn in /opt/conda/lib/python3.9/site-packages (from shap) (1.5.1)\n",
      "Requirement already satisfied: numpy in /opt/conda/lib/python3.9/site-packages (from shap) (1.21.1)\n",
      "Requirement already satisfied: slicer==0.0.8 in /opt/conda/lib/python3.9/site-packages (from shap) (0.0.8)\n",
      "Requirement already satisfied: numba in /opt/conda/lib/python3.9/site-packages (from shap) (0.56.0)\n",
      "Requirement already satisfied: pandas in /opt/conda/lib/python3.9/site-packages (from shap) (1.2.4)\n",
      "Requirement already satisfied: tqdm>=4.27.0 in /opt/conda/lib/python3.9/site-packages (from shap) (4.61.2)\n",
      "Requirement already satisfied: packaging>20.9 in /opt/conda/lib/python3.9/site-packages (from shap) (21.3)\n",
      "Requirement already satisfied: scipy in /opt/conda/lib/python3.9/site-packages (from shap) (1.9.1)\n",
      "Requirement already satisfied: pyparsing!=3.0.5,>=2.0.2 in /opt/conda/lib/python3.9/site-packages (from packaging>20.9->shap) (2.4.7)\n",
      "Requirement already satisfied: setuptools in /opt/conda/lib/python3.9/site-packages (from numba->shap) (49.6.0.post20210108)\n",
      "Requirement already satisfied: llvmlite<0.40,>=0.39.0dev0 in /opt/conda/lib/python3.9/site-packages (from numba->shap) (0.39.0)\n",
      "Requirement already satisfied: python-dateutil>=2.7.3 in /opt/conda/lib/python3.9/site-packages (from pandas->shap) (2.8.1)\n",
      "Requirement already satisfied: pytz>=2017.3 in /opt/conda/lib/python3.9/site-packages (from pandas->shap) (2021.1)\n",
      "Requirement already satisfied: six>=1.5 in /opt/conda/lib/python3.9/site-packages (from python-dateutil>=2.7.3->pandas->shap) (1.16.0)\n",
      "Requirement already satisfied: threadpoolctl>=3.1.0 in /opt/conda/lib/python3.9/site-packages (from scikit-learn->shap) (3.1.0)\n",
      "Requirement already satisfied: joblib>=1.2.0 in /opt/conda/lib/python3.9/site-packages (from scikit-learn->shap) (1.4.2)\n"
     ]
    }
   ],
   "source": [
    "!pip install shap"
   ]
  },
  {
   "cell_type": "code",
   "execution_count": 3,
   "metadata": {
    "scrolled": true
   },
   "outputs": [],
   "source": [
    "import pandas as pd\n",
    "from matplotlib import pyplot as plt\n",
    "import numpy as np\n",
    "import seaborn as sns\n",
    "from sklearn.model_selection import train_test_split\n",
    "from sklearn.pipeline import Pipeline\n",
    "from sklearn.linear_model import LogisticRegression\n",
    "from sklearn.neighbors import KNeighborsClassifier\n",
    "from sklearn.tree import DecisionTreeClassifier\n",
    "from sklearn.svm import SVC\n",
    "from sklearn.preprocessing import OneHotEncoder, OrdinalEncoder, StandardScaler, MinMaxScaler, LabelEncoder, RobustScaler\n",
    "from sklearn.compose import ColumnTransformer\n",
    "from sklearn.metrics import roc_auc_score\n",
    "from sklearn.model_selection import RandomizedSearchCV, GridSearchCV\n",
    "from sklearn.impute import SimpleImputer\n",
    "import shap\n",
    "import warnings\n",
    "warnings.filterwarnings('ignore')"
   ]
  },
  {
   "cell_type": "markdown",
   "metadata": {},
   "source": [
    "## Загрузка данных"
   ]
  },
  {
   "cell_type": "code",
   "execution_count": 4,
   "metadata": {},
   "outputs": [],
   "source": [
    "def check_df(df):\n",
    "    \"\"\"\n",
    "    Функция показывает 5 первых строк,\n",
    "    выдает инофрмацию о датасете,\n",
    "    показывает наличие пропусков и дубликатов\n",
    "    \"\"\"\n",
    "    display(df.head())\n",
    "    display(df.info())\n",
    "    display(df.isna().sum())\n",
    "    display(df.duplicated().sum())"
   ]
  },
  {
   "cell_type": "code",
   "execution_count": 5,
   "metadata": {},
   "outputs": [],
   "source": [
    "market_file = pd.read_csv('/datasets/market_file.csv')"
   ]
  },
  {
   "cell_type": "code",
   "execution_count": 6,
   "metadata": {},
   "outputs": [
    {
     "data": {
      "text/html": [
       "<div>\n",
       "<style scoped>\n",
       "    .dataframe tbody tr th:only-of-type {\n",
       "        vertical-align: middle;\n",
       "    }\n",
       "\n",
       "    .dataframe tbody tr th {\n",
       "        vertical-align: top;\n",
       "    }\n",
       "\n",
       "    .dataframe thead th {\n",
       "        text-align: right;\n",
       "    }\n",
       "</style>\n",
       "<table border=\"1\" class=\"dataframe\">\n",
       "  <thead>\n",
       "    <tr style=\"text-align: right;\">\n",
       "      <th></th>\n",
       "      <th>id</th>\n",
       "      <th>Покупательская активность</th>\n",
       "      <th>Тип сервиса</th>\n",
       "      <th>Разрешить сообщать</th>\n",
       "      <th>Маркет_актив_6_мес</th>\n",
       "      <th>Маркет_актив_тек_мес</th>\n",
       "      <th>Длительность</th>\n",
       "      <th>Акционные_покупки</th>\n",
       "      <th>Популярная_категория</th>\n",
       "      <th>Средний_просмотр_категорий_за_визит</th>\n",
       "      <th>Неоплаченные_продукты_штук_квартал</th>\n",
       "      <th>Ошибка_сервиса</th>\n",
       "      <th>Страниц_за_визит</th>\n",
       "    </tr>\n",
       "  </thead>\n",
       "  <tbody>\n",
       "    <tr>\n",
       "      <th>0</th>\n",
       "      <td>215348</td>\n",
       "      <td>Снизилась</td>\n",
       "      <td>премиум</td>\n",
       "      <td>да</td>\n",
       "      <td>3.4</td>\n",
       "      <td>5</td>\n",
       "      <td>121</td>\n",
       "      <td>0.00</td>\n",
       "      <td>Товары для детей</td>\n",
       "      <td>6</td>\n",
       "      <td>2</td>\n",
       "      <td>1</td>\n",
       "      <td>5</td>\n",
       "    </tr>\n",
       "    <tr>\n",
       "      <th>1</th>\n",
       "      <td>215349</td>\n",
       "      <td>Снизилась</td>\n",
       "      <td>премиум</td>\n",
       "      <td>да</td>\n",
       "      <td>4.4</td>\n",
       "      <td>4</td>\n",
       "      <td>819</td>\n",
       "      <td>0.75</td>\n",
       "      <td>Товары для детей</td>\n",
       "      <td>4</td>\n",
       "      <td>4</td>\n",
       "      <td>2</td>\n",
       "      <td>5</td>\n",
       "    </tr>\n",
       "    <tr>\n",
       "      <th>2</th>\n",
       "      <td>215350</td>\n",
       "      <td>Снизилась</td>\n",
       "      <td>стандартт</td>\n",
       "      <td>нет</td>\n",
       "      <td>4.9</td>\n",
       "      <td>3</td>\n",
       "      <td>539</td>\n",
       "      <td>0.14</td>\n",
       "      <td>Домашний текстиль</td>\n",
       "      <td>5</td>\n",
       "      <td>2</td>\n",
       "      <td>1</td>\n",
       "      <td>5</td>\n",
       "    </tr>\n",
       "    <tr>\n",
       "      <th>3</th>\n",
       "      <td>215351</td>\n",
       "      <td>Снизилась</td>\n",
       "      <td>стандартт</td>\n",
       "      <td>да</td>\n",
       "      <td>3.2</td>\n",
       "      <td>5</td>\n",
       "      <td>896</td>\n",
       "      <td>0.99</td>\n",
       "      <td>Товары для детей</td>\n",
       "      <td>5</td>\n",
       "      <td>0</td>\n",
       "      <td>6</td>\n",
       "      <td>4</td>\n",
       "    </tr>\n",
       "    <tr>\n",
       "      <th>4</th>\n",
       "      <td>215352</td>\n",
       "      <td>Снизилась</td>\n",
       "      <td>стандартт</td>\n",
       "      <td>нет</td>\n",
       "      <td>5.1</td>\n",
       "      <td>3</td>\n",
       "      <td>1064</td>\n",
       "      <td>0.94</td>\n",
       "      <td>Товары для детей</td>\n",
       "      <td>3</td>\n",
       "      <td>2</td>\n",
       "      <td>3</td>\n",
       "      <td>2</td>\n",
       "    </tr>\n",
       "  </tbody>\n",
       "</table>\n",
       "</div>"
      ],
      "text/plain": [
       "       id Покупательская активность Тип сервиса Разрешить сообщать  \\\n",
       "0  215348                 Снизилась     премиум                 да   \n",
       "1  215349                 Снизилась     премиум                 да   \n",
       "2  215350                 Снизилась   стандартт                нет   \n",
       "3  215351                 Снизилась   стандартт                 да   \n",
       "4  215352                 Снизилась   стандартт                нет   \n",
       "\n",
       "   Маркет_актив_6_мес  Маркет_актив_тек_мес  Длительность  Акционные_покупки  \\\n",
       "0                 3.4                     5           121               0.00   \n",
       "1                 4.4                     4           819               0.75   \n",
       "2                 4.9                     3           539               0.14   \n",
       "3                 3.2                     5           896               0.99   \n",
       "4                 5.1                     3          1064               0.94   \n",
       "\n",
       "  Популярная_категория  Средний_просмотр_категорий_за_визит  \\\n",
       "0     Товары для детей                                    6   \n",
       "1     Товары для детей                                    4   \n",
       "2    Домашний текстиль                                    5   \n",
       "3     Товары для детей                                    5   \n",
       "4     Товары для детей                                    3   \n",
       "\n",
       "   Неоплаченные_продукты_штук_квартал  Ошибка_сервиса  Страниц_за_визит  \n",
       "0                                   2               1                 5  \n",
       "1                                   4               2                 5  \n",
       "2                                   2               1                 5  \n",
       "3                                   0               6                 4  \n",
       "4                                   2               3                 2  "
      ]
     },
     "metadata": {},
     "output_type": "display_data"
    },
    {
     "name": "stdout",
     "output_type": "stream",
     "text": [
      "<class 'pandas.core.frame.DataFrame'>\n",
      "RangeIndex: 1300 entries, 0 to 1299\n",
      "Data columns (total 13 columns):\n",
      " #   Column                               Non-Null Count  Dtype  \n",
      "---  ------                               --------------  -----  \n",
      " 0   id                                   1300 non-null   int64  \n",
      " 1   Покупательская активность            1300 non-null   object \n",
      " 2   Тип сервиса                          1300 non-null   object \n",
      " 3   Разрешить сообщать                   1300 non-null   object \n",
      " 4   Маркет_актив_6_мес                   1300 non-null   float64\n",
      " 5   Маркет_актив_тек_мес                 1300 non-null   int64  \n",
      " 6   Длительность                         1300 non-null   int64  \n",
      " 7   Акционные_покупки                    1300 non-null   float64\n",
      " 8   Популярная_категория                 1300 non-null   object \n",
      " 9   Средний_просмотр_категорий_за_визит  1300 non-null   int64  \n",
      " 10  Неоплаченные_продукты_штук_квартал   1300 non-null   int64  \n",
      " 11  Ошибка_сервиса                       1300 non-null   int64  \n",
      " 12  Страниц_за_визит                     1300 non-null   int64  \n",
      "dtypes: float64(2), int64(7), object(4)\n",
      "memory usage: 132.2+ KB\n"
     ]
    },
    {
     "data": {
      "text/plain": [
       "None"
      ]
     },
     "metadata": {},
     "output_type": "display_data"
    },
    {
     "data": {
      "text/plain": [
       "id                                     0\n",
       "Покупательская активность              0\n",
       "Тип сервиса                            0\n",
       "Разрешить сообщать                     0\n",
       "Маркет_актив_6_мес                     0\n",
       "Маркет_актив_тек_мес                   0\n",
       "Длительность                           0\n",
       "Акционные_покупки                      0\n",
       "Популярная_категория                   0\n",
       "Средний_просмотр_категорий_за_визит    0\n",
       "Неоплаченные_продукты_штук_квартал     0\n",
       "Ошибка_сервиса                         0\n",
       "Страниц_за_визит                       0\n",
       "dtype: int64"
      ]
     },
     "metadata": {},
     "output_type": "display_data"
    },
    {
     "data": {
      "text/plain": [
       "0"
      ]
     },
     "metadata": {},
     "output_type": "display_data"
    }
   ],
   "source": [
    "check_df(market_file)"
   ]
  },
  {
   "cell_type": "code",
   "execution_count": 7,
   "metadata": {},
   "outputs": [],
   "source": [
    "market_money = pd.read_csv('/datasets/market_money.csv')"
   ]
  },
  {
   "cell_type": "code",
   "execution_count": 8,
   "metadata": {},
   "outputs": [
    {
     "data": {
      "text/html": [
       "<div>\n",
       "<style scoped>\n",
       "    .dataframe tbody tr th:only-of-type {\n",
       "        vertical-align: middle;\n",
       "    }\n",
       "\n",
       "    .dataframe tbody tr th {\n",
       "        vertical-align: top;\n",
       "    }\n",
       "\n",
       "    .dataframe thead th {\n",
       "        text-align: right;\n",
       "    }\n",
       "</style>\n",
       "<table border=\"1\" class=\"dataframe\">\n",
       "  <thead>\n",
       "    <tr style=\"text-align: right;\">\n",
       "      <th></th>\n",
       "      <th>id</th>\n",
       "      <th>Период</th>\n",
       "      <th>Выручка</th>\n",
       "    </tr>\n",
       "  </thead>\n",
       "  <tbody>\n",
       "    <tr>\n",
       "      <th>0</th>\n",
       "      <td>215348</td>\n",
       "      <td>препредыдущий_месяц</td>\n",
       "      <td>0.0</td>\n",
       "    </tr>\n",
       "    <tr>\n",
       "      <th>1</th>\n",
       "      <td>215348</td>\n",
       "      <td>текущий_месяц</td>\n",
       "      <td>3293.1</td>\n",
       "    </tr>\n",
       "    <tr>\n",
       "      <th>2</th>\n",
       "      <td>215348</td>\n",
       "      <td>предыдущий_месяц</td>\n",
       "      <td>0.0</td>\n",
       "    </tr>\n",
       "    <tr>\n",
       "      <th>3</th>\n",
       "      <td>215349</td>\n",
       "      <td>препредыдущий_месяц</td>\n",
       "      <td>4472.0</td>\n",
       "    </tr>\n",
       "    <tr>\n",
       "      <th>4</th>\n",
       "      <td>215349</td>\n",
       "      <td>текущий_месяц</td>\n",
       "      <td>4971.6</td>\n",
       "    </tr>\n",
       "  </tbody>\n",
       "</table>\n",
       "</div>"
      ],
      "text/plain": [
       "       id               Период  Выручка\n",
       "0  215348  препредыдущий_месяц      0.0\n",
       "1  215348        текущий_месяц   3293.1\n",
       "2  215348     предыдущий_месяц      0.0\n",
       "3  215349  препредыдущий_месяц   4472.0\n",
       "4  215349        текущий_месяц   4971.6"
      ]
     },
     "metadata": {},
     "output_type": "display_data"
    },
    {
     "name": "stdout",
     "output_type": "stream",
     "text": [
      "<class 'pandas.core.frame.DataFrame'>\n",
      "RangeIndex: 3900 entries, 0 to 3899\n",
      "Data columns (total 3 columns):\n",
      " #   Column   Non-Null Count  Dtype  \n",
      "---  ------   --------------  -----  \n",
      " 0   id       3900 non-null   int64  \n",
      " 1   Период   3900 non-null   object \n",
      " 2   Выручка  3900 non-null   float64\n",
      "dtypes: float64(1), int64(1), object(1)\n",
      "memory usage: 91.5+ KB\n"
     ]
    },
    {
     "data": {
      "text/plain": [
       "None"
      ]
     },
     "metadata": {},
     "output_type": "display_data"
    },
    {
     "data": {
      "text/plain": [
       "id         0\n",
       "Период     0\n",
       "Выручка    0\n",
       "dtype: int64"
      ]
     },
     "metadata": {},
     "output_type": "display_data"
    },
    {
     "data": {
      "text/plain": [
       "0"
      ]
     },
     "metadata": {},
     "output_type": "display_data"
    }
   ],
   "source": [
    "check_df(market_money)"
   ]
  },
  {
   "cell_type": "code",
   "execution_count": 9,
   "metadata": {},
   "outputs": [],
   "source": [
    "market_time = pd.read_csv('/datasets/market_time.csv')"
   ]
  },
  {
   "cell_type": "code",
   "execution_count": 10,
   "metadata": {},
   "outputs": [
    {
     "data": {
      "text/html": [
       "<div>\n",
       "<style scoped>\n",
       "    .dataframe tbody tr th:only-of-type {\n",
       "        vertical-align: middle;\n",
       "    }\n",
       "\n",
       "    .dataframe tbody tr th {\n",
       "        vertical-align: top;\n",
       "    }\n",
       "\n",
       "    .dataframe thead th {\n",
       "        text-align: right;\n",
       "    }\n",
       "</style>\n",
       "<table border=\"1\" class=\"dataframe\">\n",
       "  <thead>\n",
       "    <tr style=\"text-align: right;\">\n",
       "      <th></th>\n",
       "      <th>id</th>\n",
       "      <th>Период</th>\n",
       "      <th>минут</th>\n",
       "    </tr>\n",
       "  </thead>\n",
       "  <tbody>\n",
       "    <tr>\n",
       "      <th>0</th>\n",
       "      <td>215348</td>\n",
       "      <td>текущий_месяц</td>\n",
       "      <td>14</td>\n",
       "    </tr>\n",
       "    <tr>\n",
       "      <th>1</th>\n",
       "      <td>215348</td>\n",
       "      <td>предыдцщий_месяц</td>\n",
       "      <td>13</td>\n",
       "    </tr>\n",
       "    <tr>\n",
       "      <th>2</th>\n",
       "      <td>215349</td>\n",
       "      <td>текущий_месяц</td>\n",
       "      <td>10</td>\n",
       "    </tr>\n",
       "    <tr>\n",
       "      <th>3</th>\n",
       "      <td>215349</td>\n",
       "      <td>предыдцщий_месяц</td>\n",
       "      <td>12</td>\n",
       "    </tr>\n",
       "    <tr>\n",
       "      <th>4</th>\n",
       "      <td>215350</td>\n",
       "      <td>текущий_месяц</td>\n",
       "      <td>13</td>\n",
       "    </tr>\n",
       "  </tbody>\n",
       "</table>\n",
       "</div>"
      ],
      "text/plain": [
       "       id            Период  минут\n",
       "0  215348     текущий_месяц     14\n",
       "1  215348  предыдцщий_месяц     13\n",
       "2  215349     текущий_месяц     10\n",
       "3  215349  предыдцщий_месяц     12\n",
       "4  215350     текущий_месяц     13"
      ]
     },
     "metadata": {},
     "output_type": "display_data"
    },
    {
     "name": "stdout",
     "output_type": "stream",
     "text": [
      "<class 'pandas.core.frame.DataFrame'>\n",
      "RangeIndex: 2600 entries, 0 to 2599\n",
      "Data columns (total 3 columns):\n",
      " #   Column  Non-Null Count  Dtype \n",
      "---  ------  --------------  ----- \n",
      " 0   id      2600 non-null   int64 \n",
      " 1   Период  2600 non-null   object\n",
      " 2   минут   2600 non-null   int64 \n",
      "dtypes: int64(2), object(1)\n",
      "memory usage: 61.1+ KB\n"
     ]
    },
    {
     "data": {
      "text/plain": [
       "None"
      ]
     },
     "metadata": {},
     "output_type": "display_data"
    },
    {
     "data": {
      "text/plain": [
       "id        0\n",
       "Период    0\n",
       "минут     0\n",
       "dtype: int64"
      ]
     },
     "metadata": {},
     "output_type": "display_data"
    },
    {
     "data": {
      "text/plain": [
       "0"
      ]
     },
     "metadata": {},
     "output_type": "display_data"
    }
   ],
   "source": [
    "check_df(market_time)"
   ]
  },
  {
   "cell_type": "code",
   "execution_count": 11,
   "metadata": {},
   "outputs": [],
   "source": [
    "money = pd.read_csv('/datasets/money.csv', sep=';', decimal=',')"
   ]
  },
  {
   "cell_type": "code",
   "execution_count": 12,
   "metadata": {},
   "outputs": [
    {
     "data": {
      "text/html": [
       "<div>\n",
       "<style scoped>\n",
       "    .dataframe tbody tr th:only-of-type {\n",
       "        vertical-align: middle;\n",
       "    }\n",
       "\n",
       "    .dataframe tbody tr th {\n",
       "        vertical-align: top;\n",
       "    }\n",
       "\n",
       "    .dataframe thead th {\n",
       "        text-align: right;\n",
       "    }\n",
       "</style>\n",
       "<table border=\"1\" class=\"dataframe\">\n",
       "  <thead>\n",
       "    <tr style=\"text-align: right;\">\n",
       "      <th></th>\n",
       "      <th>id</th>\n",
       "      <th>Прибыль</th>\n",
       "    </tr>\n",
       "  </thead>\n",
       "  <tbody>\n",
       "    <tr>\n",
       "      <th>0</th>\n",
       "      <td>215348</td>\n",
       "      <td>0.98</td>\n",
       "    </tr>\n",
       "    <tr>\n",
       "      <th>1</th>\n",
       "      <td>215349</td>\n",
       "      <td>4.16</td>\n",
       "    </tr>\n",
       "    <tr>\n",
       "      <th>2</th>\n",
       "      <td>215350</td>\n",
       "      <td>3.13</td>\n",
       "    </tr>\n",
       "    <tr>\n",
       "      <th>3</th>\n",
       "      <td>215351</td>\n",
       "      <td>4.87</td>\n",
       "    </tr>\n",
       "    <tr>\n",
       "      <th>4</th>\n",
       "      <td>215352</td>\n",
       "      <td>4.21</td>\n",
       "    </tr>\n",
       "  </tbody>\n",
       "</table>\n",
       "</div>"
      ],
      "text/plain": [
       "       id  Прибыль\n",
       "0  215348     0.98\n",
       "1  215349     4.16\n",
       "2  215350     3.13\n",
       "3  215351     4.87\n",
       "4  215352     4.21"
      ]
     },
     "metadata": {},
     "output_type": "display_data"
    },
    {
     "name": "stdout",
     "output_type": "stream",
     "text": [
      "<class 'pandas.core.frame.DataFrame'>\n",
      "RangeIndex: 1300 entries, 0 to 1299\n",
      "Data columns (total 2 columns):\n",
      " #   Column   Non-Null Count  Dtype  \n",
      "---  ------   --------------  -----  \n",
      " 0   id       1300 non-null   int64  \n",
      " 1   Прибыль  1300 non-null   float64\n",
      "dtypes: float64(1), int64(1)\n",
      "memory usage: 20.4 KB\n"
     ]
    },
    {
     "data": {
      "text/plain": [
       "None"
      ]
     },
     "metadata": {},
     "output_type": "display_data"
    },
    {
     "data": {
      "text/plain": [
       "id         0\n",
       "Прибыль    0\n",
       "dtype: int64"
      ]
     },
     "metadata": {},
     "output_type": "display_data"
    },
    {
     "data": {
      "text/plain": [
       "0"
      ]
     },
     "metadata": {},
     "output_type": "display_data"
    }
   ],
   "source": [
    "check_df(money)"
   ]
  },
  {
   "cell_type": "markdown",
   "metadata": {},
   "source": [
    "###### Вывод по загрузке данных: \n",
    " - в данных отсутствуют пропуски;\n",
    " - на первый взгляд в данных отсутствуют дубликаты;\n",
    " - в датасетах данные нужного типа.\n",
    " \n",
    "Рассмотрим данные повнимательнее."
   ]
  },
  {
   "cell_type": "markdown",
   "metadata": {},
   "source": [
    "## Предобработка данных"
   ]
  },
  {
   "cell_type": "markdown",
   "metadata": {},
   "source": [
    "Приведем названия столбцов в данных к общему виду. Также переименуем столбцы с одинаковыми названиями, чтобы различать их в дальнейшем."
   ]
  },
  {
   "cell_type": "code",
   "execution_count": 13,
   "metadata": {},
   "outputs": [],
   "source": [
    "market_file.columns = ['id','покупательская_активность', 'тип_сервиса', \n",
    "                       'разрешить_сообщать', 'маркет_актив_6_мес', 'маркет_актив_тек_мес',\n",
    "                       'длительность', 'акционные_покупки', 'популярная_категория',\n",
    "                       'средний_просмотр_категорий_за_визит',\n",
    "                       'неоплаченные_продукты_штук_квартал', 'ошибка_сервиса',\n",
    "                       'страниц_за_визит']"
   ]
  },
  {
   "cell_type": "code",
   "execution_count": 14,
   "metadata": {},
   "outputs": [],
   "source": [
    "market_money.columns = ['id', 'период_деньги', 'выручка']"
   ]
  },
  {
   "cell_type": "code",
   "execution_count": 15,
   "metadata": {},
   "outputs": [],
   "source": [
    "market_time.columns = ['id', 'период_время', 'минут']"
   ]
  },
  {
   "cell_type": "code",
   "execution_count": 16,
   "metadata": {},
   "outputs": [],
   "source": [
    "money.columns = ['id', 'прибыль']"
   ]
  },
  {
   "cell_type": "markdown",
   "metadata": {},
   "source": [
    "Проверим наличие опечаток в данных."
   ]
  },
  {
   "cell_type": "code",
   "execution_count": 17,
   "metadata": {},
   "outputs": [
    {
     "data": {
      "text/plain": [
       "array(['Снизилась', 'Прежний уровень'], dtype=object)"
      ]
     },
     "execution_count": 17,
     "metadata": {},
     "output_type": "execute_result"
    }
   ],
   "source": [
    "market_file['покупательская_активность'].unique()"
   ]
  },
  {
   "cell_type": "code",
   "execution_count": 18,
   "metadata": {},
   "outputs": [
    {
     "data": {
      "text/plain": [
       "array(['премиум', 'стандартт', 'стандарт'], dtype=object)"
      ]
     },
     "execution_count": 18,
     "metadata": {},
     "output_type": "execute_result"
    }
   ],
   "source": [
    "market_file['тип_сервиса'].unique()"
   ]
  },
  {
   "cell_type": "markdown",
   "metadata": {},
   "source": [
    "Исправим опечатку."
   ]
  },
  {
   "cell_type": "code",
   "execution_count": 19,
   "metadata": {},
   "outputs": [],
   "source": [
    "market_file['тип_сервиса'] = market_file['тип_сервиса'].replace('стандартт', 'стандарт')"
   ]
  },
  {
   "cell_type": "code",
   "execution_count": 20,
   "metadata": {},
   "outputs": [
    {
     "data": {
      "text/plain": [
       "array(['да', 'нет'], dtype=object)"
      ]
     },
     "execution_count": 20,
     "metadata": {},
     "output_type": "execute_result"
    }
   ],
   "source": [
    "market_file['разрешить_сообщать'].unique()"
   ]
  },
  {
   "cell_type": "code",
   "execution_count": 21,
   "metadata": {},
   "outputs": [
    {
     "data": {
      "text/plain": [
       "array(['Товары для детей', 'Домашний текстиль', 'Косметика и аксесуары',\n",
       "       'Техника для красоты и здоровья', 'Кухонная посуда',\n",
       "       'Мелкая бытовая техника и электроника'], dtype=object)"
      ]
     },
     "execution_count": 21,
     "metadata": {},
     "output_type": "execute_result"
    }
   ],
   "source": [
    "market_file['популярная_категория'].unique()"
   ]
  },
  {
   "cell_type": "code",
   "execution_count": 22,
   "metadata": {},
   "outputs": [
    {
     "data": {
      "text/plain": [
       "array(['препредыдущий_месяц', 'текущий_месяц', 'предыдущий_месяц'],\n",
       "      dtype=object)"
      ]
     },
     "execution_count": 22,
     "metadata": {},
     "output_type": "execute_result"
    }
   ],
   "source": [
    "market_money['период_деньги'].unique()"
   ]
  },
  {
   "cell_type": "code",
   "execution_count": 23,
   "metadata": {},
   "outputs": [
    {
     "data": {
      "text/plain": [
       "array(['текущий_месяц', 'предыдцщий_месяц'], dtype=object)"
      ]
     },
     "execution_count": 23,
     "metadata": {},
     "output_type": "execute_result"
    }
   ],
   "source": [
    "market_time['период_время'].unique()"
   ]
  },
  {
   "cell_type": "markdown",
   "metadata": {},
   "source": [
    "Исправим опечатку."
   ]
  },
  {
   "cell_type": "code",
   "execution_count": 24,
   "metadata": {},
   "outputs": [],
   "source": [
    "market_time['период_время'] = market_time['период_время'].replace('предыдцщий_месяц', 'предыдущий_месяц')"
   ]
  },
  {
   "cell_type": "markdown",
   "metadata": {},
   "source": [
    "Взглянем на датасеты еще раз, так как после изменения значений могли образоваться дубликаты."
   ]
  },
  {
   "cell_type": "code",
   "execution_count": 25,
   "metadata": {},
   "outputs": [
    {
     "data": {
      "text/html": [
       "<div>\n",
       "<style scoped>\n",
       "    .dataframe tbody tr th:only-of-type {\n",
       "        vertical-align: middle;\n",
       "    }\n",
       "\n",
       "    .dataframe tbody tr th {\n",
       "        vertical-align: top;\n",
       "    }\n",
       "\n",
       "    .dataframe thead th {\n",
       "        text-align: right;\n",
       "    }\n",
       "</style>\n",
       "<table border=\"1\" class=\"dataframe\">\n",
       "  <thead>\n",
       "    <tr style=\"text-align: right;\">\n",
       "      <th></th>\n",
       "      <th>id</th>\n",
       "      <th>покупательская_активность</th>\n",
       "      <th>тип_сервиса</th>\n",
       "      <th>разрешить_сообщать</th>\n",
       "      <th>маркет_актив_6_мес</th>\n",
       "      <th>маркет_актив_тек_мес</th>\n",
       "      <th>длительность</th>\n",
       "      <th>акционные_покупки</th>\n",
       "      <th>популярная_категория</th>\n",
       "      <th>средний_просмотр_категорий_за_визит</th>\n",
       "      <th>неоплаченные_продукты_штук_квартал</th>\n",
       "      <th>ошибка_сервиса</th>\n",
       "      <th>страниц_за_визит</th>\n",
       "    </tr>\n",
       "  </thead>\n",
       "  <tbody>\n",
       "    <tr>\n",
       "      <th>0</th>\n",
       "      <td>215348</td>\n",
       "      <td>Снизилась</td>\n",
       "      <td>премиум</td>\n",
       "      <td>да</td>\n",
       "      <td>3.4</td>\n",
       "      <td>5</td>\n",
       "      <td>121</td>\n",
       "      <td>0.00</td>\n",
       "      <td>Товары для детей</td>\n",
       "      <td>6</td>\n",
       "      <td>2</td>\n",
       "      <td>1</td>\n",
       "      <td>5</td>\n",
       "    </tr>\n",
       "    <tr>\n",
       "      <th>1</th>\n",
       "      <td>215349</td>\n",
       "      <td>Снизилась</td>\n",
       "      <td>премиум</td>\n",
       "      <td>да</td>\n",
       "      <td>4.4</td>\n",
       "      <td>4</td>\n",
       "      <td>819</td>\n",
       "      <td>0.75</td>\n",
       "      <td>Товары для детей</td>\n",
       "      <td>4</td>\n",
       "      <td>4</td>\n",
       "      <td>2</td>\n",
       "      <td>5</td>\n",
       "    </tr>\n",
       "    <tr>\n",
       "      <th>2</th>\n",
       "      <td>215350</td>\n",
       "      <td>Снизилась</td>\n",
       "      <td>стандарт</td>\n",
       "      <td>нет</td>\n",
       "      <td>4.9</td>\n",
       "      <td>3</td>\n",
       "      <td>539</td>\n",
       "      <td>0.14</td>\n",
       "      <td>Домашний текстиль</td>\n",
       "      <td>5</td>\n",
       "      <td>2</td>\n",
       "      <td>1</td>\n",
       "      <td>5</td>\n",
       "    </tr>\n",
       "    <tr>\n",
       "      <th>3</th>\n",
       "      <td>215351</td>\n",
       "      <td>Снизилась</td>\n",
       "      <td>стандарт</td>\n",
       "      <td>да</td>\n",
       "      <td>3.2</td>\n",
       "      <td>5</td>\n",
       "      <td>896</td>\n",
       "      <td>0.99</td>\n",
       "      <td>Товары для детей</td>\n",
       "      <td>5</td>\n",
       "      <td>0</td>\n",
       "      <td>6</td>\n",
       "      <td>4</td>\n",
       "    </tr>\n",
       "    <tr>\n",
       "      <th>4</th>\n",
       "      <td>215352</td>\n",
       "      <td>Снизилась</td>\n",
       "      <td>стандарт</td>\n",
       "      <td>нет</td>\n",
       "      <td>5.1</td>\n",
       "      <td>3</td>\n",
       "      <td>1064</td>\n",
       "      <td>0.94</td>\n",
       "      <td>Товары для детей</td>\n",
       "      <td>3</td>\n",
       "      <td>2</td>\n",
       "      <td>3</td>\n",
       "      <td>2</td>\n",
       "    </tr>\n",
       "  </tbody>\n",
       "</table>\n",
       "</div>"
      ],
      "text/plain": [
       "       id покупательская_активность тип_сервиса разрешить_сообщать  \\\n",
       "0  215348                 Снизилась     премиум                 да   \n",
       "1  215349                 Снизилась     премиум                 да   \n",
       "2  215350                 Снизилась    стандарт                нет   \n",
       "3  215351                 Снизилась    стандарт                 да   \n",
       "4  215352                 Снизилась    стандарт                нет   \n",
       "\n",
       "   маркет_актив_6_мес  маркет_актив_тек_мес  длительность  акционные_покупки  \\\n",
       "0                 3.4                     5           121               0.00   \n",
       "1                 4.4                     4           819               0.75   \n",
       "2                 4.9                     3           539               0.14   \n",
       "3                 3.2                     5           896               0.99   \n",
       "4                 5.1                     3          1064               0.94   \n",
       "\n",
       "  популярная_категория  средний_просмотр_категорий_за_визит  \\\n",
       "0     Товары для детей                                    6   \n",
       "1     Товары для детей                                    4   \n",
       "2    Домашний текстиль                                    5   \n",
       "3     Товары для детей                                    5   \n",
       "4     Товары для детей                                    3   \n",
       "\n",
       "   неоплаченные_продукты_штук_квартал  ошибка_сервиса  страниц_за_визит  \n",
       "0                                   2               1                 5  \n",
       "1                                   4               2                 5  \n",
       "2                                   2               1                 5  \n",
       "3                                   0               6                 4  \n",
       "4                                   2               3                 2  "
      ]
     },
     "metadata": {},
     "output_type": "display_data"
    },
    {
     "name": "stdout",
     "output_type": "stream",
     "text": [
      "<class 'pandas.core.frame.DataFrame'>\n",
      "RangeIndex: 1300 entries, 0 to 1299\n",
      "Data columns (total 13 columns):\n",
      " #   Column                               Non-Null Count  Dtype  \n",
      "---  ------                               --------------  -----  \n",
      " 0   id                                   1300 non-null   int64  \n",
      " 1   покупательская_активность            1300 non-null   object \n",
      " 2   тип_сервиса                          1300 non-null   object \n",
      " 3   разрешить_сообщать                   1300 non-null   object \n",
      " 4   маркет_актив_6_мес                   1300 non-null   float64\n",
      " 5   маркет_актив_тек_мес                 1300 non-null   int64  \n",
      " 6   длительность                         1300 non-null   int64  \n",
      " 7   акционные_покупки                    1300 non-null   float64\n",
      " 8   популярная_категория                 1300 non-null   object \n",
      " 9   средний_просмотр_категорий_за_визит  1300 non-null   int64  \n",
      " 10  неоплаченные_продукты_штук_квартал   1300 non-null   int64  \n",
      " 11  ошибка_сервиса                       1300 non-null   int64  \n",
      " 12  страниц_за_визит                     1300 non-null   int64  \n",
      "dtypes: float64(2), int64(7), object(4)\n",
      "memory usage: 132.2+ KB\n"
     ]
    },
    {
     "data": {
      "text/plain": [
       "None"
      ]
     },
     "metadata": {},
     "output_type": "display_data"
    },
    {
     "data": {
      "text/plain": [
       "id                                     0\n",
       "покупательская_активность              0\n",
       "тип_сервиса                            0\n",
       "разрешить_сообщать                     0\n",
       "маркет_актив_6_мес                     0\n",
       "маркет_актив_тек_мес                   0\n",
       "длительность                           0\n",
       "акционные_покупки                      0\n",
       "популярная_категория                   0\n",
       "средний_просмотр_категорий_за_визит    0\n",
       "неоплаченные_продукты_штук_квартал     0\n",
       "ошибка_сервиса                         0\n",
       "страниц_за_визит                       0\n",
       "dtype: int64"
      ]
     },
     "metadata": {},
     "output_type": "display_data"
    },
    {
     "data": {
      "text/plain": [
       "0"
      ]
     },
     "metadata": {},
     "output_type": "display_data"
    }
   ],
   "source": [
    "check_df(market_file)"
   ]
  },
  {
   "cell_type": "code",
   "execution_count": 26,
   "metadata": {},
   "outputs": [
    {
     "data": {
      "text/html": [
       "<div>\n",
       "<style scoped>\n",
       "    .dataframe tbody tr th:only-of-type {\n",
       "        vertical-align: middle;\n",
       "    }\n",
       "\n",
       "    .dataframe tbody tr th {\n",
       "        vertical-align: top;\n",
       "    }\n",
       "\n",
       "    .dataframe thead th {\n",
       "        text-align: right;\n",
       "    }\n",
       "</style>\n",
       "<table border=\"1\" class=\"dataframe\">\n",
       "  <thead>\n",
       "    <tr style=\"text-align: right;\">\n",
       "      <th></th>\n",
       "      <th>id</th>\n",
       "      <th>период_деньги</th>\n",
       "      <th>выручка</th>\n",
       "    </tr>\n",
       "  </thead>\n",
       "  <tbody>\n",
       "    <tr>\n",
       "      <th>0</th>\n",
       "      <td>215348</td>\n",
       "      <td>препредыдущий_месяц</td>\n",
       "      <td>0.0</td>\n",
       "    </tr>\n",
       "    <tr>\n",
       "      <th>1</th>\n",
       "      <td>215348</td>\n",
       "      <td>текущий_месяц</td>\n",
       "      <td>3293.1</td>\n",
       "    </tr>\n",
       "    <tr>\n",
       "      <th>2</th>\n",
       "      <td>215348</td>\n",
       "      <td>предыдущий_месяц</td>\n",
       "      <td>0.0</td>\n",
       "    </tr>\n",
       "    <tr>\n",
       "      <th>3</th>\n",
       "      <td>215349</td>\n",
       "      <td>препредыдущий_месяц</td>\n",
       "      <td>4472.0</td>\n",
       "    </tr>\n",
       "    <tr>\n",
       "      <th>4</th>\n",
       "      <td>215349</td>\n",
       "      <td>текущий_месяц</td>\n",
       "      <td>4971.6</td>\n",
       "    </tr>\n",
       "  </tbody>\n",
       "</table>\n",
       "</div>"
      ],
      "text/plain": [
       "       id        период_деньги  выручка\n",
       "0  215348  препредыдущий_месяц      0.0\n",
       "1  215348        текущий_месяц   3293.1\n",
       "2  215348     предыдущий_месяц      0.0\n",
       "3  215349  препредыдущий_месяц   4472.0\n",
       "4  215349        текущий_месяц   4971.6"
      ]
     },
     "metadata": {},
     "output_type": "display_data"
    },
    {
     "name": "stdout",
     "output_type": "stream",
     "text": [
      "<class 'pandas.core.frame.DataFrame'>\n",
      "RangeIndex: 3900 entries, 0 to 3899\n",
      "Data columns (total 3 columns):\n",
      " #   Column         Non-Null Count  Dtype  \n",
      "---  ------         --------------  -----  \n",
      " 0   id             3900 non-null   int64  \n",
      " 1   период_деньги  3900 non-null   object \n",
      " 2   выручка        3900 non-null   float64\n",
      "dtypes: float64(1), int64(1), object(1)\n",
      "memory usage: 91.5+ KB\n"
     ]
    },
    {
     "data": {
      "text/plain": [
       "None"
      ]
     },
     "metadata": {},
     "output_type": "display_data"
    },
    {
     "data": {
      "text/plain": [
       "id               0\n",
       "период_деньги    0\n",
       "выручка          0\n",
       "dtype: int64"
      ]
     },
     "metadata": {},
     "output_type": "display_data"
    },
    {
     "data": {
      "text/plain": [
       "0"
      ]
     },
     "metadata": {},
     "output_type": "display_data"
    }
   ],
   "source": [
    "check_df(market_money)"
   ]
  },
  {
   "cell_type": "code",
   "execution_count": 27,
   "metadata": {},
   "outputs": [
    {
     "data": {
      "text/html": [
       "<div>\n",
       "<style scoped>\n",
       "    .dataframe tbody tr th:only-of-type {\n",
       "        vertical-align: middle;\n",
       "    }\n",
       "\n",
       "    .dataframe tbody tr th {\n",
       "        vertical-align: top;\n",
       "    }\n",
       "\n",
       "    .dataframe thead th {\n",
       "        text-align: right;\n",
       "    }\n",
       "</style>\n",
       "<table border=\"1\" class=\"dataframe\">\n",
       "  <thead>\n",
       "    <tr style=\"text-align: right;\">\n",
       "      <th></th>\n",
       "      <th>id</th>\n",
       "      <th>период_время</th>\n",
       "      <th>минут</th>\n",
       "    </tr>\n",
       "  </thead>\n",
       "  <tbody>\n",
       "    <tr>\n",
       "      <th>0</th>\n",
       "      <td>215348</td>\n",
       "      <td>текущий_месяц</td>\n",
       "      <td>14</td>\n",
       "    </tr>\n",
       "    <tr>\n",
       "      <th>1</th>\n",
       "      <td>215348</td>\n",
       "      <td>предыдущий_месяц</td>\n",
       "      <td>13</td>\n",
       "    </tr>\n",
       "    <tr>\n",
       "      <th>2</th>\n",
       "      <td>215349</td>\n",
       "      <td>текущий_месяц</td>\n",
       "      <td>10</td>\n",
       "    </tr>\n",
       "    <tr>\n",
       "      <th>3</th>\n",
       "      <td>215349</td>\n",
       "      <td>предыдущий_месяц</td>\n",
       "      <td>12</td>\n",
       "    </tr>\n",
       "    <tr>\n",
       "      <th>4</th>\n",
       "      <td>215350</td>\n",
       "      <td>текущий_месяц</td>\n",
       "      <td>13</td>\n",
       "    </tr>\n",
       "  </tbody>\n",
       "</table>\n",
       "</div>"
      ],
      "text/plain": [
       "       id      период_время  минут\n",
       "0  215348     текущий_месяц     14\n",
       "1  215348  предыдущий_месяц     13\n",
       "2  215349     текущий_месяц     10\n",
       "3  215349  предыдущий_месяц     12\n",
       "4  215350     текущий_месяц     13"
      ]
     },
     "metadata": {},
     "output_type": "display_data"
    },
    {
     "name": "stdout",
     "output_type": "stream",
     "text": [
      "<class 'pandas.core.frame.DataFrame'>\n",
      "RangeIndex: 2600 entries, 0 to 2599\n",
      "Data columns (total 3 columns):\n",
      " #   Column        Non-Null Count  Dtype \n",
      "---  ------        --------------  ----- \n",
      " 0   id            2600 non-null   int64 \n",
      " 1   период_время  2600 non-null   object\n",
      " 2   минут         2600 non-null   int64 \n",
      "dtypes: int64(2), object(1)\n",
      "memory usage: 61.1+ KB\n"
     ]
    },
    {
     "data": {
      "text/plain": [
       "None"
      ]
     },
     "metadata": {},
     "output_type": "display_data"
    },
    {
     "data": {
      "text/plain": [
       "id              0\n",
       "период_время    0\n",
       "минут           0\n",
       "dtype: int64"
      ]
     },
     "metadata": {},
     "output_type": "display_data"
    },
    {
     "data": {
      "text/plain": [
       "0"
      ]
     },
     "metadata": {},
     "output_type": "display_data"
    }
   ],
   "source": [
    "check_df(market_time)"
   ]
  },
  {
   "cell_type": "code",
   "execution_count": 28,
   "metadata": {},
   "outputs": [
    {
     "data": {
      "text/html": [
       "<div>\n",
       "<style scoped>\n",
       "    .dataframe tbody tr th:only-of-type {\n",
       "        vertical-align: middle;\n",
       "    }\n",
       "\n",
       "    .dataframe tbody tr th {\n",
       "        vertical-align: top;\n",
       "    }\n",
       "\n",
       "    .dataframe thead th {\n",
       "        text-align: right;\n",
       "    }\n",
       "</style>\n",
       "<table border=\"1\" class=\"dataframe\">\n",
       "  <thead>\n",
       "    <tr style=\"text-align: right;\">\n",
       "      <th></th>\n",
       "      <th>id</th>\n",
       "      <th>прибыль</th>\n",
       "    </tr>\n",
       "  </thead>\n",
       "  <tbody>\n",
       "    <tr>\n",
       "      <th>0</th>\n",
       "      <td>215348</td>\n",
       "      <td>0.98</td>\n",
       "    </tr>\n",
       "    <tr>\n",
       "      <th>1</th>\n",
       "      <td>215349</td>\n",
       "      <td>4.16</td>\n",
       "    </tr>\n",
       "    <tr>\n",
       "      <th>2</th>\n",
       "      <td>215350</td>\n",
       "      <td>3.13</td>\n",
       "    </tr>\n",
       "    <tr>\n",
       "      <th>3</th>\n",
       "      <td>215351</td>\n",
       "      <td>4.87</td>\n",
       "    </tr>\n",
       "    <tr>\n",
       "      <th>4</th>\n",
       "      <td>215352</td>\n",
       "      <td>4.21</td>\n",
       "    </tr>\n",
       "  </tbody>\n",
       "</table>\n",
       "</div>"
      ],
      "text/plain": [
       "       id  прибыль\n",
       "0  215348     0.98\n",
       "1  215349     4.16\n",
       "2  215350     3.13\n",
       "3  215351     4.87\n",
       "4  215352     4.21"
      ]
     },
     "metadata": {},
     "output_type": "display_data"
    },
    {
     "name": "stdout",
     "output_type": "stream",
     "text": [
      "<class 'pandas.core.frame.DataFrame'>\n",
      "RangeIndex: 1300 entries, 0 to 1299\n",
      "Data columns (total 2 columns):\n",
      " #   Column   Non-Null Count  Dtype  \n",
      "---  ------   --------------  -----  \n",
      " 0   id       1300 non-null   int64  \n",
      " 1   прибыль  1300 non-null   float64\n",
      "dtypes: float64(1), int64(1)\n",
      "memory usage: 20.4 KB\n"
     ]
    },
    {
     "data": {
      "text/plain": [
       "None"
      ]
     },
     "metadata": {},
     "output_type": "display_data"
    },
    {
     "data": {
      "text/plain": [
       "id         0\n",
       "прибыль    0\n",
       "dtype: int64"
      ]
     },
     "metadata": {},
     "output_type": "display_data"
    },
    {
     "data": {
      "text/plain": [
       "0"
      ]
     },
     "metadata": {},
     "output_type": "display_data"
    }
   ],
   "source": [
    "check_df(money)"
   ]
  },
  {
   "cell_type": "markdown",
   "metadata": {},
   "source": [
    "Дубликатов нет. Можно установить колонку 'id' в качестве индексов."
   ]
  },
  {
   "cell_type": "code",
   "execution_count": 29,
   "metadata": {},
   "outputs": [],
   "source": [
    "market_file = market_file.set_index('id')\n",
    "market_money = market_money.set_index('id')\n",
    "market_time = market_time.set_index('id')\n",
    "money = money.set_index('id')"
   ]
  },
  {
   "cell_type": "markdown",
   "metadata": {},
   "source": [
    "###### Вывод по предобработке данных: \n",
    " - названия столбцов приведены к общему виду;\n",
    " - исправлены опечатки в данных.\n",
    " \n",
    "Приступим к исследовательскому анализу данных."
   ]
  },
  {
   "cell_type": "markdown",
   "metadata": {},
   "source": [
    "## Исследовательский анализ данных"
   ]
  },
  {
   "cell_type": "markdown",
   "metadata": {},
   "source": [
    "Для анализа данных нам необходимо отобрать клиентов с покупательской активностью не менее трёх месяцев. Для этого нам нужно изучить датасет money - если клиент покупал что-либо за этот период, то значение в датасете money должно быть больше нуля."
   ]
  },
  {
   "cell_type": "code",
   "execution_count": 30,
   "metadata": {},
   "outputs": [
    {
     "data": {
      "text/html": [
       "<div>\n",
       "<style scoped>\n",
       "    .dataframe tbody tr th:only-of-type {\n",
       "        vertical-align: middle;\n",
       "    }\n",
       "\n",
       "    .dataframe tbody tr th {\n",
       "        vertical-align: top;\n",
       "    }\n",
       "\n",
       "    .dataframe thead th {\n",
       "        text-align: right;\n",
       "    }\n",
       "</style>\n",
       "<table border=\"1\" class=\"dataframe\">\n",
       "  <thead>\n",
       "    <tr style=\"text-align: right;\">\n",
       "      <th></th>\n",
       "      <th>прибыль</th>\n",
       "    </tr>\n",
       "  </thead>\n",
       "  <tbody>\n",
       "    <tr>\n",
       "      <th>count</th>\n",
       "      <td>1300.000000</td>\n",
       "    </tr>\n",
       "    <tr>\n",
       "      <th>mean</th>\n",
       "      <td>3.996631</td>\n",
       "    </tr>\n",
       "    <tr>\n",
       "      <th>std</th>\n",
       "      <td>1.013722</td>\n",
       "    </tr>\n",
       "    <tr>\n",
       "      <th>min</th>\n",
       "      <td>0.860000</td>\n",
       "    </tr>\n",
       "    <tr>\n",
       "      <th>25%</th>\n",
       "      <td>3.300000</td>\n",
       "    </tr>\n",
       "    <tr>\n",
       "      <th>50%</th>\n",
       "      <td>4.045000</td>\n",
       "    </tr>\n",
       "    <tr>\n",
       "      <th>75%</th>\n",
       "      <td>4.670000</td>\n",
       "    </tr>\n",
       "    <tr>\n",
       "      <th>max</th>\n",
       "      <td>7.430000</td>\n",
       "    </tr>\n",
       "  </tbody>\n",
       "</table>\n",
       "</div>"
      ],
      "text/plain": [
       "           прибыль\n",
       "count  1300.000000\n",
       "mean      3.996631\n",
       "std       1.013722\n",
       "min       0.860000\n",
       "25%       3.300000\n",
       "50%       4.045000\n",
       "75%       4.670000\n",
       "max       7.430000"
      ]
     },
     "execution_count": 30,
     "metadata": {},
     "output_type": "execute_result"
    }
   ],
   "source": [
    "money.describe()"
   ]
  },
  {
   "cell_type": "markdown",
   "metadata": {},
   "source": [
    "Минимальное значение равняется 0.86, значит каждый клиент в датасете покупал что-либо за указанный период."
   ]
  },
  {
   "cell_type": "markdown",
   "metadata": {},
   "source": [
    "Построим графики и проведем статистический анализ для каждого признака."
   ]
  },
  {
   "cell_type": "code",
   "execution_count": 31,
   "metadata": {},
   "outputs": [],
   "source": [
    "def visual_hist_box(series, title, xlabel):\n",
    "    \"\"\"\n",
    "    Функция получает на входе series,\n",
    "    название гистограммы (str),\n",
    "    название оси Х.\n",
    "    Функция строит гистограмму и ящик с усами\n",
    "    \"\"\"\n",
    "    fig, axes = plt.subplots(nrows=1, ncols=2, figsize=(10,5))\n",
    "    axes[0].hist(series, bins=20)\n",
    "    axes[0].set_title(title)\n",
    "    axes[0].set_xlabel(xlabel)\n",
    "    axes[0].set_ylabel('Частота')\n",
    "\n",
    "    axes[1].boxplot(series, patch_artist=True)\n",
    "    axes[1].set_title('Ящик с усами')\n",
    "    plt.show()"
   ]
  },
  {
   "cell_type": "code",
   "execution_count": 32,
   "metadata": {},
   "outputs": [],
   "source": [
    "def visual_countplot(series, title, xlabel):\n",
    "    sns.countplot(y=series)\n",
    "    plt.title(title)\n",
    "    plt.xlabel(xlabel)\n",
    "    plt.ylabel('Количество')\n",
    "    plt.show()"
   ]
  },
  {
   "cell_type": "code",
   "execution_count": 33,
   "metadata": {},
   "outputs": [
    {
     "data": {
      "text/html": [
       "<div>\n",
       "<style scoped>\n",
       "    .dataframe tbody tr th:only-of-type {\n",
       "        vertical-align: middle;\n",
       "    }\n",
       "\n",
       "    .dataframe tbody tr th {\n",
       "        vertical-align: top;\n",
       "    }\n",
       "\n",
       "    .dataframe thead th {\n",
       "        text-align: right;\n",
       "    }\n",
       "</style>\n",
       "<table border=\"1\" class=\"dataframe\">\n",
       "  <thead>\n",
       "    <tr style=\"text-align: right;\">\n",
       "      <th></th>\n",
       "      <th>маркет_актив_6_мес</th>\n",
       "      <th>маркет_актив_тек_мес</th>\n",
       "      <th>длительность</th>\n",
       "      <th>акционные_покупки</th>\n",
       "      <th>средний_просмотр_категорий_за_визит</th>\n",
       "      <th>неоплаченные_продукты_штук_квартал</th>\n",
       "      <th>ошибка_сервиса</th>\n",
       "      <th>страниц_за_визит</th>\n",
       "    </tr>\n",
       "  </thead>\n",
       "  <tbody>\n",
       "    <tr>\n",
       "      <th>count</th>\n",
       "      <td>1300.000000</td>\n",
       "      <td>1300.000000</td>\n",
       "      <td>1300.000000</td>\n",
       "      <td>1300.000000</td>\n",
       "      <td>1300.00000</td>\n",
       "      <td>1300.000000</td>\n",
       "      <td>1300.000000</td>\n",
       "      <td>1300.000000</td>\n",
       "    </tr>\n",
       "    <tr>\n",
       "      <th>mean</th>\n",
       "      <td>4.253769</td>\n",
       "      <td>4.011538</td>\n",
       "      <td>601.898462</td>\n",
       "      <td>0.319808</td>\n",
       "      <td>3.27000</td>\n",
       "      <td>2.840000</td>\n",
       "      <td>4.185385</td>\n",
       "      <td>8.176923</td>\n",
       "    </tr>\n",
       "    <tr>\n",
       "      <th>std</th>\n",
       "      <td>1.014814</td>\n",
       "      <td>0.696868</td>\n",
       "      <td>249.856289</td>\n",
       "      <td>0.249843</td>\n",
       "      <td>1.35535</td>\n",
       "      <td>1.971451</td>\n",
       "      <td>1.955298</td>\n",
       "      <td>3.978126</td>\n",
       "    </tr>\n",
       "    <tr>\n",
       "      <th>min</th>\n",
       "      <td>0.900000</td>\n",
       "      <td>3.000000</td>\n",
       "      <td>110.000000</td>\n",
       "      <td>0.000000</td>\n",
       "      <td>1.00000</td>\n",
       "      <td>0.000000</td>\n",
       "      <td>0.000000</td>\n",
       "      <td>1.000000</td>\n",
       "    </tr>\n",
       "    <tr>\n",
       "      <th>25%</th>\n",
       "      <td>3.700000</td>\n",
       "      <td>4.000000</td>\n",
       "      <td>405.500000</td>\n",
       "      <td>0.170000</td>\n",
       "      <td>2.00000</td>\n",
       "      <td>1.000000</td>\n",
       "      <td>3.000000</td>\n",
       "      <td>5.000000</td>\n",
       "    </tr>\n",
       "    <tr>\n",
       "      <th>50%</th>\n",
       "      <td>4.200000</td>\n",
       "      <td>4.000000</td>\n",
       "      <td>606.000000</td>\n",
       "      <td>0.240000</td>\n",
       "      <td>3.00000</td>\n",
       "      <td>3.000000</td>\n",
       "      <td>4.000000</td>\n",
       "      <td>8.000000</td>\n",
       "    </tr>\n",
       "    <tr>\n",
       "      <th>75%</th>\n",
       "      <td>4.900000</td>\n",
       "      <td>4.000000</td>\n",
       "      <td>806.000000</td>\n",
       "      <td>0.300000</td>\n",
       "      <td>4.00000</td>\n",
       "      <td>4.000000</td>\n",
       "      <td>6.000000</td>\n",
       "      <td>11.000000</td>\n",
       "    </tr>\n",
       "    <tr>\n",
       "      <th>max</th>\n",
       "      <td>6.600000</td>\n",
       "      <td>5.000000</td>\n",
       "      <td>1079.000000</td>\n",
       "      <td>0.990000</td>\n",
       "      <td>6.00000</td>\n",
       "      <td>10.000000</td>\n",
       "      <td>9.000000</td>\n",
       "      <td>20.000000</td>\n",
       "    </tr>\n",
       "  </tbody>\n",
       "</table>\n",
       "</div>"
      ],
      "text/plain": [
       "       маркет_актив_6_мес  маркет_актив_тек_мес  длительность  \\\n",
       "count         1300.000000           1300.000000   1300.000000   \n",
       "mean             4.253769              4.011538    601.898462   \n",
       "std              1.014814              0.696868    249.856289   \n",
       "min              0.900000              3.000000    110.000000   \n",
       "25%              3.700000              4.000000    405.500000   \n",
       "50%              4.200000              4.000000    606.000000   \n",
       "75%              4.900000              4.000000    806.000000   \n",
       "max              6.600000              5.000000   1079.000000   \n",
       "\n",
       "       акционные_покупки  средний_просмотр_категорий_за_визит  \\\n",
       "count        1300.000000                           1300.00000   \n",
       "mean            0.319808                              3.27000   \n",
       "std             0.249843                              1.35535   \n",
       "min             0.000000                              1.00000   \n",
       "25%             0.170000                              2.00000   \n",
       "50%             0.240000                              3.00000   \n",
       "75%             0.300000                              4.00000   \n",
       "max             0.990000                              6.00000   \n",
       "\n",
       "       неоплаченные_продукты_штук_квартал  ошибка_сервиса  страниц_за_визит  \n",
       "count                         1300.000000     1300.000000       1300.000000  \n",
       "mean                             2.840000        4.185385          8.176923  \n",
       "std                              1.971451        1.955298          3.978126  \n",
       "min                              0.000000        0.000000          1.000000  \n",
       "25%                              1.000000        3.000000          5.000000  \n",
       "50%                              3.000000        4.000000          8.000000  \n",
       "75%                              4.000000        6.000000         11.000000  \n",
       "max                             10.000000        9.000000         20.000000  "
      ]
     },
     "execution_count": 33,
     "metadata": {},
     "output_type": "execute_result"
    }
   ],
   "source": [
    "market_file.describe()"
   ]
  },
  {
   "cell_type": "code",
   "execution_count": 34,
   "metadata": {},
   "outputs": [
    {
     "data": {
      "image/png": "[encoded data removed]",
      "text/plain": [
       "<Figure size 720x360 with 2 Axes>"
      ]
     },
     "metadata": {
      "needs_background": "light"
     },
     "output_type": "display_data"
    }
   ],
   "source": [
    "visual_hist_box(market_file['маркет_актив_6_мес'], 'Гистограмма распределения значения маркетинговых коммуникаций', 'Значение маркетинговых коммуникаций')"
   ]
  },
  {
   "cell_type": "markdown",
   "metadata": {},
   "source": [
    "В столбце присутствуют выбросы."
   ]
  },
  {
   "cell_type": "code",
   "execution_count": 35,
   "metadata": {},
   "outputs": [
    {
     "data": {
      "image/png": "[encoded data removed]",
      "text/plain": [
       "<Figure size 720x360 with 2 Axes>"
      ]
     },
     "metadata": {
      "needs_background": "light"
     },
     "output_type": "display_data"
    }
   ],
   "source": [
    "visual_hist_box(market_file['маркет_актив_тек_мес'], 'Гистограмма распределения значения \\n маркетинговых коммуникаций в текущем месяце', 'Значение маркетинговых коммуникаций в текущем месяце')"
   ]
  },
  {
   "cell_type": "markdown",
   "metadata": {},
   "source": [
    "Ящик с усами выглядит так из-за того, что в столбце всего три разных значения."
   ]
  },
  {
   "cell_type": "code",
   "execution_count": 36,
   "metadata": {},
   "outputs": [
    {
     "data": {
      "image/png": "[encoded data removed]",
      "text/plain": [
       "<Figure size 720x360 with 2 Axes>"
      ]
     },
     "metadata": {
      "needs_background": "light"
     },
     "output_type": "display_data"
    }
   ],
   "source": [
    "visual_hist_box(market_file['длительность'], 'Гистограмма распределения количества дней с момента регистрации', 'Количество дней с омента регистрации')"
   ]
  },
  {
   "cell_type": "markdown",
   "metadata": {},
   "source": [
    "Выбросы отсутстсвуют. Распределение похоже на нормальное."
   ]
  },
  {
   "cell_type": "code",
   "execution_count": 37,
   "metadata": {},
   "outputs": [
    {
     "data": {
      "image/png": "[encoded data removed]",
      "text/plain": [
       "<Figure size 720x360 with 2 Axes>"
      ]
     },
     "metadata": {
      "needs_background": "light"
     },
     "output_type": "display_data"
    }
   ],
   "source": [
    "visual_hist_box(market_file['акционные_покупки'], 'Гистограмма распределения среднемесячной доли покупок по акциям', 'Среднемесячная доля покупок по акциям')"
   ]
  },
  {
   "cell_type": "markdown",
   "metadata": {},
   "source": [
    "В столбце присутствуют выбросы."
   ]
  },
  {
   "cell_type": "code",
   "execution_count": 38,
   "metadata": {},
   "outputs": [
    {
     "data": {
      "image/png": "[encoded data removed]",
      "text/plain": [
       "<Figure size 720x360 with 2 Axes>"
      ]
     },
     "metadata": {
      "needs_background": "light"
     },
     "output_type": "display_data"
    }
   ],
   "source": [
    "visual_hist_box(market_file['средний_просмотр_категорий_за_визит'], 'Гистограмма распределения количества категорий,\\n которые покупатель просмотрел за визит в течение последнего месяца', 'Количество категорий')"
   ]
  },
  {
   "cell_type": "markdown",
   "metadata": {},
   "source": [
    "Выбросы отсутствуют. Распределение нормальное."
   ]
  },
  {
   "cell_type": "code",
   "execution_count": 39,
   "metadata": {},
   "outputs": [
    {
     "data": {
      "image/png": "[encoded data removed]",
      "text/plain": [
       "<Figure size 720x360 with 2 Axes>"
      ]
     },
     "metadata": {
      "needs_background": "light"
     },
     "output_type": "display_data"
    }
   ],
   "source": [
    "visual_hist_box(market_file['неоплаченные_продукты_штук_квартал'], 'Гистограмма распределения количества неоплаченных\\nтоваров в корзине за последний квартал', 'Количество неоплаченных товаров в корзине')"
   ]
  },
  {
   "cell_type": "markdown",
   "metadata": {},
   "source": [
    "В столбце присутствуют выбросы. Распределение нормальное."
   ]
  },
  {
   "cell_type": "code",
   "execution_count": 40,
   "metadata": {},
   "outputs": [
    {
     "data": {
      "image/png": "[encoded data removed]",
      "text/plain": [
       "<Figure size 720x360 with 2 Axes>"
      ]
     },
     "metadata": {
      "needs_background": "light"
     },
     "output_type": "display_data"
    }
   ],
   "source": [
    "visual_hist_box(market_file['ошибка_сервиса'], 'Гистограмма распределения количества сбоев сайта', 'Количество сбоев сайта')"
   ]
  },
  {
   "cell_type": "markdown",
   "metadata": {},
   "source": [
    "Выбросы отсутствуют. Распределение нормальное."
   ]
  },
  {
   "cell_type": "code",
   "execution_count": 41,
   "metadata": {},
   "outputs": [
    {
     "data": {
      "image/png": "[encoded data removed]",
      "text/plain": [
       "<Figure size 720x360 with 2 Axes>"
      ]
     },
     "metadata": {
      "needs_background": "light"
     },
     "output_type": "display_data"
    }
   ],
   "source": [
    "visual_hist_box(market_file['страниц_за_визит'], 'Гистограмма распределения среднего количества страниц,\\n просмотренных за один визит за последний квартал', 'Среднее количество страниц за один визит')"
   ]
  },
  {
   "cell_type": "markdown",
   "metadata": {},
   "source": [
    "Выбросы отсутствуют. Распределение похоже на нормальное."
   ]
  },
  {
   "cell_type": "code",
   "execution_count": 42,
   "metadata": {},
   "outputs": [
    {
     "data": {
      "image/png": "[encoded data removed]",
      "text/plain": [
       "<Figure size 432x288 with 1 Axes>"
      ]
     },
     "metadata": {
      "needs_background": "light"
     },
     "output_type": "display_data"
    }
   ],
   "source": [
    "visual_countplot(market_file['покупательская_активность'], 'Соотношение покупательской активности', 'Покупательская активность')"
   ]
  },
  {
   "cell_type": "code",
   "execution_count": 43,
   "metadata": {},
   "outputs": [
    {
     "data": {
      "image/png": "[encoded data removed]",
      "text/plain": [
       "<Figure size 432x288 with 1 Axes>"
      ]
     },
     "metadata": {
      "needs_background": "light"
     },
     "output_type": "display_data"
    }
   ],
   "source": [
    "visual_countplot(market_file['тип_сервиса'], 'Соотношение уровня сервиса', 'Уровень сервиса')"
   ]
  },
  {
   "cell_type": "code",
   "execution_count": 44,
   "metadata": {},
   "outputs": [
    {
     "data": {
      "image/png": "[encoded data removed]",
      "text/plain": [
       "<Figure size 432x288 with 1 Axes>"
      ]
     },
     "metadata": {
      "needs_background": "light"
     },
     "output_type": "display_data"
    }
   ],
   "source": [
    "visual_countplot(market_file['разрешить_сообщать'], 'Соотношение соглашений на рассылку', 'Соглашение')"
   ]
  },
  {
   "cell_type": "code",
   "execution_count": 45,
   "metadata": {},
   "outputs": [
    {
     "data": {
      "image/png": "[encoded data removed]",
      "text/plain": [
       "<Figure size 432x288 with 1 Axes>"
      ]
     },
     "metadata": {
      "needs_background": "light"
     },
     "output_type": "display_data"
    }
   ],
   "source": [
    "visual_countplot(market_file['популярная_категория'], 'Соотношение самых популярных категорий у покупателей за последние полгода', 'Категории')"
   ]
  },
  {
   "cell_type": "markdown",
   "metadata": {},
   "source": [
    "В столбцах 'покупательская_активность', 'тип_сервиса' и 'разрешить_сообщать' наблюдается дисбаланс классов."
   ]
  },
  {
   "cell_type": "code",
   "execution_count": 46,
   "metadata": {},
   "outputs": [
    {
     "data": {
      "text/html": [
       "<div>\n",
       "<style scoped>\n",
       "    .dataframe tbody tr th:only-of-type {\n",
       "        vertical-align: middle;\n",
       "    }\n",
       "\n",
       "    .dataframe tbody tr th {\n",
       "        vertical-align: top;\n",
       "    }\n",
       "\n",
       "    .dataframe thead th {\n",
       "        text-align: right;\n",
       "    }\n",
       "</style>\n",
       "<table border=\"1\" class=\"dataframe\">\n",
       "  <thead>\n",
       "    <tr style=\"text-align: right;\">\n",
       "      <th></th>\n",
       "      <th>выручка</th>\n",
       "    </tr>\n",
       "  </thead>\n",
       "  <tbody>\n",
       "    <tr>\n",
       "      <th>count</th>\n",
       "      <td>3900.000000</td>\n",
       "    </tr>\n",
       "    <tr>\n",
       "      <th>mean</th>\n",
       "      <td>5025.696051</td>\n",
       "    </tr>\n",
       "    <tr>\n",
       "      <th>std</th>\n",
       "      <td>1777.704104</td>\n",
       "    </tr>\n",
       "    <tr>\n",
       "      <th>min</th>\n",
       "      <td>0.000000</td>\n",
       "    </tr>\n",
       "    <tr>\n",
       "      <th>25%</th>\n",
       "      <td>4590.150000</td>\n",
       "    </tr>\n",
       "    <tr>\n",
       "      <th>50%</th>\n",
       "      <td>4957.500000</td>\n",
       "    </tr>\n",
       "    <tr>\n",
       "      <th>75%</th>\n",
       "      <td>5363.000000</td>\n",
       "    </tr>\n",
       "    <tr>\n",
       "      <th>max</th>\n",
       "      <td>106862.200000</td>\n",
       "    </tr>\n",
       "  </tbody>\n",
       "</table>\n",
       "</div>"
      ],
      "text/plain": [
       "             выручка\n",
       "count    3900.000000\n",
       "mean     5025.696051\n",
       "std      1777.704104\n",
       "min         0.000000\n",
       "25%      4590.150000\n",
       "50%      4957.500000\n",
       "75%      5363.000000\n",
       "max    106862.200000"
      ]
     },
     "execution_count": 46,
     "metadata": {},
     "output_type": "execute_result"
    }
   ],
   "source": [
    "market_money.describe()"
   ]
  },
  {
   "cell_type": "code",
   "execution_count": 47,
   "metadata": {},
   "outputs": [
    {
     "data": {
      "image/png": "[encoded data removed]",
      "text/plain": [
       "<Figure size 432x288 with 1 Axes>"
      ]
     },
     "metadata": {
      "needs_background": "light"
     },
     "output_type": "display_data"
    }
   ],
   "source": [
    "visual_countplot(market_money['период_деньги'], 'Соотношение периодов, в которых зафиксирована выручка', 'Период')"
   ]
  },
  {
   "cell_type": "markdown",
   "metadata": {},
   "source": [
    "По каждому клиенту есть информация об активности за три периода."
   ]
  },
  {
   "cell_type": "code",
   "execution_count": 48,
   "metadata": {},
   "outputs": [
    {
     "data": {
      "image/png": "[encoded data removed]",
      "text/plain": [
       "<Figure size 720x360 with 2 Axes>"
      ]
     },
     "metadata": {
      "needs_background": "light"
     },
     "output_type": "display_data"
    }
   ],
   "source": [
    "visual_hist_box(market_money['выручка'], 'Гистограмма распределения суммы выручки', 'Сумма выручки')"
   ]
  },
  {
   "cell_type": "markdown",
   "metadata": {},
   "source": [
    "В столбце имеется выброс. Удалим его"
   ]
  },
  {
   "cell_type": "code",
   "execution_count": 49,
   "metadata": {},
   "outputs": [],
   "source": [
    "market_money = market_money[market_money['выручка'] < 20000]"
   ]
  },
  {
   "cell_type": "code",
   "execution_count": 50,
   "metadata": {},
   "outputs": [
    {
     "data": {
      "image/png": "[encoded data removed]",
      "text/plain": [
       "<Figure size 720x360 with 2 Axes>"
      ]
     },
     "metadata": {
      "needs_background": "light"
     },
     "output_type": "display_data"
    }
   ],
   "source": [
    "visual_hist_box(market_money['выручка'], 'Гистограмма распределения суммы выручки', 'Сумма выручки')"
   ]
  },
  {
   "cell_type": "markdown",
   "metadata": {},
   "source": [
    "Удалим наблюдение с нулевой выручкой."
   ]
  },
  {
   "cell_type": "code",
   "execution_count": 51,
   "metadata": {},
   "outputs": [],
   "source": [
    "market_money = market_money[market_money['выручка'] > 0]"
   ]
  },
  {
   "cell_type": "code",
   "execution_count": 52,
   "metadata": {},
   "outputs": [
    {
     "data": {
      "image/png": "[encoded data removed]",
      "text/plain": [
       "<Figure size 720x360 with 2 Axes>"
      ]
     },
     "metadata": {
      "needs_background": "light"
     },
     "output_type": "display_data"
    }
   ],
   "source": [
    "visual_hist_box(market_money['выручка'], 'Гистограмма распределения суммы выручки', 'Сумма выручки')"
   ]
  },
  {
   "cell_type": "markdown",
   "metadata": {},
   "source": [
    "В столбце все равно остались выбросы, при этом распределение - нормальное."
   ]
  },
  {
   "cell_type": "code",
   "execution_count": 53,
   "metadata": {},
   "outputs": [
    {
     "data": {
      "text/html": [
       "<div>\n",
       "<style scoped>\n",
       "    .dataframe tbody tr th:only-of-type {\n",
       "        vertical-align: middle;\n",
       "    }\n",
       "\n",
       "    .dataframe tbody tr th {\n",
       "        vertical-align: top;\n",
       "    }\n",
       "\n",
       "    .dataframe thead th {\n",
       "        text-align: right;\n",
       "    }\n",
       "</style>\n",
       "<table border=\"1\" class=\"dataframe\">\n",
       "  <thead>\n",
       "    <tr style=\"text-align: right;\">\n",
       "      <th></th>\n",
       "      <th>минут</th>\n",
       "    </tr>\n",
       "  </thead>\n",
       "  <tbody>\n",
       "    <tr>\n",
       "      <th>count</th>\n",
       "      <td>2600.000000</td>\n",
       "    </tr>\n",
       "    <tr>\n",
       "      <th>mean</th>\n",
       "      <td>13.336154</td>\n",
       "    </tr>\n",
       "    <tr>\n",
       "      <th>std</th>\n",
       "      <td>4.080198</td>\n",
       "    </tr>\n",
       "    <tr>\n",
       "      <th>min</th>\n",
       "      <td>4.000000</td>\n",
       "    </tr>\n",
       "    <tr>\n",
       "      <th>25%</th>\n",
       "      <td>10.000000</td>\n",
       "    </tr>\n",
       "    <tr>\n",
       "      <th>50%</th>\n",
       "      <td>13.000000</td>\n",
       "    </tr>\n",
       "    <tr>\n",
       "      <th>75%</th>\n",
       "      <td>16.000000</td>\n",
       "    </tr>\n",
       "    <tr>\n",
       "      <th>max</th>\n",
       "      <td>23.000000</td>\n",
       "    </tr>\n",
       "  </tbody>\n",
       "</table>\n",
       "</div>"
      ],
      "text/plain": [
       "             минут\n",
       "count  2600.000000\n",
       "mean     13.336154\n",
       "std       4.080198\n",
       "min       4.000000\n",
       "25%      10.000000\n",
       "50%      13.000000\n",
       "75%      16.000000\n",
       "max      23.000000"
      ]
     },
     "execution_count": 53,
     "metadata": {},
     "output_type": "execute_result"
    }
   ],
   "source": [
    "market_time.describe()"
   ]
  },
  {
   "cell_type": "code",
   "execution_count": 54,
   "metadata": {},
   "outputs": [
    {
     "data": {
      "image/png": "[encoded data removed]",
      "text/plain": [
       "<Figure size 432x288 with 1 Axes>"
      ]
     },
     "metadata": {
      "needs_background": "light"
     },
     "output_type": "display_data"
    }
   ],
   "source": [
    "visual_countplot(market_time['период_время'], 'Соотношение периодов', 'Период')"
   ]
  },
  {
   "cell_type": "markdown",
   "metadata": {},
   "source": [
    "По каждому клиенту есть информация по двум периодам."
   ]
  },
  {
   "cell_type": "code",
   "execution_count": 55,
   "metadata": {},
   "outputs": [
    {
     "data": {
      "image/png": "[encoded data removed]",
      "text/plain": [
       "<Figure size 720x360 with 2 Axes>"
      ]
     },
     "metadata": {
      "needs_background": "light"
     },
     "output_type": "display_data"
    }
   ],
   "source": [
    "visual_hist_box(market_time['минут'], 'Гистограмма распределения времени, проведенного на сайте', 'Время, минуты')"
   ]
  },
  {
   "cell_type": "markdown",
   "metadata": {},
   "source": [
    "Выбросы отсутствуют. Распределение похоже на нормальное."
   ]
  },
  {
   "cell_type": "code",
   "execution_count": 56,
   "metadata": {},
   "outputs": [
    {
     "data": {
      "image/png": "[encoded data removed]",
      "text/plain": [
       "<Figure size 720x360 with 2 Axes>"
      ]
     },
     "metadata": {
      "needs_background": "light"
     },
     "output_type": "display_data"
    }
   ],
   "source": [
    "visual_hist_box(money['прибыль'], 'Гистограмма распределения прибыли', 'Прибыль')"
   ]
  },
  {
   "cell_type": "markdown",
   "metadata": {},
   "source": [
    "Присутствуют выбросы. Распределение - нормальное."
   ]
  },
  {
   "cell_type": "markdown",
   "metadata": {},
   "source": [
    "###### Вывод по исследовательскому анализу данных: \n",
    " - в данных присутствуют выбросы;\n",
    " - наблюдается дисбаланс классов.\n",
    " \n",
    "Приступим к объединению таблиц."
   ]
  },
  {
   "cell_type": "markdown",
   "metadata": {},
   "source": [
    "## Объединение таблиц"
   ]
  },
  {
   "cell_type": "markdown",
   "metadata": {},
   "source": [
    "Перед объединением датасетов развернем их."
   ]
  },
  {
   "cell_type": "code",
   "execution_count": 57,
   "metadata": {},
   "outputs": [],
   "source": [
    "market_time_pivot = pd.pivot_table(market_time, index=market_time.index, columns='период_время')"
   ]
  },
  {
   "cell_type": "code",
   "execution_count": 58,
   "metadata": {},
   "outputs": [
    {
     "name": "stdout",
     "output_type": "stream",
     "text": [
      "<class 'pandas.core.frame.DataFrame'>\n",
      "Int64Index: 1300 entries, 215348 to 216647\n",
      "Data columns (total 2 columns):\n",
      " #   Column                     Non-Null Count  Dtype\n",
      "---  ------                     --------------  -----\n",
      " 0   (минут, предыдущий_месяц)  1300 non-null   int64\n",
      " 1   (минут, текущий_месяц)     1300 non-null   int64\n",
      "dtypes: int64(2)\n",
      "memory usage: 30.5 KB\n"
     ]
    }
   ],
   "source": [
    "market_time_pivot.info()"
   ]
  },
  {
   "cell_type": "code",
   "execution_count": 59,
   "metadata": {},
   "outputs": [],
   "source": [
    "market_time_pivot.columns = ['минут_предыдущий_месяц', 'минут_текущий_месяц']"
   ]
  },
  {
   "cell_type": "code",
   "execution_count": 60,
   "metadata": {},
   "outputs": [
    {
     "data": {
      "text/html": [
       "<div>\n",
       "<style scoped>\n",
       "    .dataframe tbody tr th:only-of-type {\n",
       "        vertical-align: middle;\n",
       "    }\n",
       "\n",
       "    .dataframe tbody tr th {\n",
       "        vertical-align: top;\n",
       "    }\n",
       "\n",
       "    .dataframe thead th {\n",
       "        text-align: right;\n",
       "    }\n",
       "</style>\n",
       "<table border=\"1\" class=\"dataframe\">\n",
       "  <thead>\n",
       "    <tr style=\"text-align: right;\">\n",
       "      <th></th>\n",
       "      <th>минут_предыдущий_месяц</th>\n",
       "      <th>минут_текущий_месяц</th>\n",
       "    </tr>\n",
       "    <tr>\n",
       "      <th>id</th>\n",
       "      <th></th>\n",
       "      <th></th>\n",
       "    </tr>\n",
       "  </thead>\n",
       "  <tbody>\n",
       "    <tr>\n",
       "      <th>215348</th>\n",
       "      <td>13</td>\n",
       "      <td>14</td>\n",
       "    </tr>\n",
       "    <tr>\n",
       "      <th>215349</th>\n",
       "      <td>12</td>\n",
       "      <td>10</td>\n",
       "    </tr>\n",
       "    <tr>\n",
       "      <th>215350</th>\n",
       "      <td>8</td>\n",
       "      <td>13</td>\n",
       "    </tr>\n",
       "    <tr>\n",
       "      <th>215351</th>\n",
       "      <td>11</td>\n",
       "      <td>13</td>\n",
       "    </tr>\n",
       "    <tr>\n",
       "      <th>215352</th>\n",
       "      <td>8</td>\n",
       "      <td>11</td>\n",
       "    </tr>\n",
       "  </tbody>\n",
       "</table>\n",
       "</div>"
      ],
      "text/plain": [
       "        минут_предыдущий_месяц  минут_текущий_месяц\n",
       "id                                                 \n",
       "215348                      13                   14\n",
       "215349                      12                   10\n",
       "215350                       8                   13\n",
       "215351                      11                   13\n",
       "215352                       8                   11"
      ]
     },
     "execution_count": 60,
     "metadata": {},
     "output_type": "execute_result"
    }
   ],
   "source": [
    "market_time_pivot.head()"
   ]
  },
  {
   "cell_type": "code",
   "execution_count": 61,
   "metadata": {},
   "outputs": [
    {
     "name": "stdout",
     "output_type": "stream",
     "text": [
      "<class 'pandas.core.frame.DataFrame'>\n",
      "Int64Index: 1300 entries, 215348 to 216647\n",
      "Data columns (total 2 columns):\n",
      " #   Column                  Non-Null Count  Dtype\n",
      "---  ------                  --------------  -----\n",
      " 0   минут_предыдущий_месяц  1300 non-null   int64\n",
      " 1   минут_текущий_месяц     1300 non-null   int64\n",
      "dtypes: int64(2)\n",
      "memory usage: 30.5 KB\n"
     ]
    }
   ],
   "source": [
    "market_time_pivot.info()"
   ]
  },
  {
   "cell_type": "code",
   "execution_count": 62,
   "metadata": {},
   "outputs": [],
   "source": [
    "market_money_pivot = pd.pivot_table(market_money, index=market_money.index, columns='период_деньги')"
   ]
  },
  {
   "cell_type": "code",
   "execution_count": 63,
   "metadata": {},
   "outputs": [
    {
     "name": "stdout",
     "output_type": "stream",
     "text": [
      "<class 'pandas.core.frame.DataFrame'>\n",
      "Int64Index: 1300 entries, 215348 to 216647\n",
      "Data columns (total 3 columns):\n",
      " #   Column                          Non-Null Count  Dtype  \n",
      "---  ------                          --------------  -----  \n",
      " 0   (выручка, предыдущий_месяц)     1297 non-null   float64\n",
      " 1   (выручка, препредыдущий_месяц)  1297 non-null   float64\n",
      " 2   (выручка, текущий_месяц)        1299 non-null   float64\n",
      "dtypes: float64(3)\n",
      "memory usage: 40.6 KB\n"
     ]
    }
   ],
   "source": [
    "market_money_pivot.info()"
   ]
  },
  {
   "cell_type": "code",
   "execution_count": 64,
   "metadata": {},
   "outputs": [],
   "source": [
    "market_money_pivot.columns = ['выручка_предыдущий_месяц', 'выручка_препредыдущий_месяц', 'выручка_текущий_месяц']"
   ]
  },
  {
   "cell_type": "code",
   "execution_count": 65,
   "metadata": {},
   "outputs": [
    {
     "data": {
      "text/html": [
       "<div>\n",
       "<style scoped>\n",
       "    .dataframe tbody tr th:only-of-type {\n",
       "        vertical-align: middle;\n",
       "    }\n",
       "\n",
       "    .dataframe tbody tr th {\n",
       "        vertical-align: top;\n",
       "    }\n",
       "\n",
       "    .dataframe thead th {\n",
       "        text-align: right;\n",
       "    }\n",
       "</style>\n",
       "<table border=\"1\" class=\"dataframe\">\n",
       "  <thead>\n",
       "    <tr style=\"text-align: right;\">\n",
       "      <th></th>\n",
       "      <th>выручка_предыдущий_месяц</th>\n",
       "      <th>выручка_препредыдущий_месяц</th>\n",
       "      <th>выручка_текущий_месяц</th>\n",
       "    </tr>\n",
       "    <tr>\n",
       "      <th>id</th>\n",
       "      <th></th>\n",
       "      <th></th>\n",
       "      <th></th>\n",
       "    </tr>\n",
       "  </thead>\n",
       "  <tbody>\n",
       "    <tr>\n",
       "      <th>215348</th>\n",
       "      <td>NaN</td>\n",
       "      <td>NaN</td>\n",
       "      <td>3293.1</td>\n",
       "    </tr>\n",
       "    <tr>\n",
       "      <th>215349</th>\n",
       "      <td>5216.0</td>\n",
       "      <td>4472.0</td>\n",
       "      <td>4971.6</td>\n",
       "    </tr>\n",
       "    <tr>\n",
       "      <th>215350</th>\n",
       "      <td>5457.5</td>\n",
       "      <td>4826.0</td>\n",
       "      <td>5058.4</td>\n",
       "    </tr>\n",
       "    <tr>\n",
       "      <th>215351</th>\n",
       "      <td>6158.0</td>\n",
       "      <td>4793.0</td>\n",
       "      <td>6610.4</td>\n",
       "    </tr>\n",
       "    <tr>\n",
       "      <th>215352</th>\n",
       "      <td>5807.5</td>\n",
       "      <td>4594.0</td>\n",
       "      <td>5872.5</td>\n",
       "    </tr>\n",
       "  </tbody>\n",
       "</table>\n",
       "</div>"
      ],
      "text/plain": [
       "        выручка_предыдущий_месяц  выручка_препредыдущий_месяц  \\\n",
       "id                                                              \n",
       "215348                       NaN                          NaN   \n",
       "215349                    5216.0                       4472.0   \n",
       "215350                    5457.5                       4826.0   \n",
       "215351                    6158.0                       4793.0   \n",
       "215352                    5807.5                       4594.0   \n",
       "\n",
       "        выручка_текущий_месяц  \n",
       "id                             \n",
       "215348                 3293.1  \n",
       "215349                 4971.6  \n",
       "215350                 5058.4  \n",
       "215351                 6610.4  \n",
       "215352                 5872.5  "
      ]
     },
     "execution_count": 65,
     "metadata": {},
     "output_type": "execute_result"
    }
   ],
   "source": [
    "market_money_pivot.head()"
   ]
  },
  {
   "cell_type": "markdown",
   "metadata": {},
   "source": [
    "Пропуски означают, что клиенты ничего не покупали в указанный период. Заполним их нулями."
   ]
  },
  {
   "cell_type": "code",
   "execution_count": 66,
   "metadata": {},
   "outputs": [],
   "source": [
    "market_money_pivot = market_money_pivot.fillna(0)"
   ]
  },
  {
   "cell_type": "code",
   "execution_count": 67,
   "metadata": {},
   "outputs": [
    {
     "data": {
      "text/html": [
       "<div>\n",
       "<style scoped>\n",
       "    .dataframe tbody tr th:only-of-type {\n",
       "        vertical-align: middle;\n",
       "    }\n",
       "\n",
       "    .dataframe tbody tr th {\n",
       "        vertical-align: top;\n",
       "    }\n",
       "\n",
       "    .dataframe thead th {\n",
       "        text-align: right;\n",
       "    }\n",
       "</style>\n",
       "<table border=\"1\" class=\"dataframe\">\n",
       "  <thead>\n",
       "    <tr style=\"text-align: right;\">\n",
       "      <th></th>\n",
       "      <th>выручка_предыдущий_месяц</th>\n",
       "      <th>выручка_препредыдущий_месяц</th>\n",
       "      <th>выручка_текущий_месяц</th>\n",
       "    </tr>\n",
       "    <tr>\n",
       "      <th>id</th>\n",
       "      <th></th>\n",
       "      <th></th>\n",
       "      <th></th>\n",
       "    </tr>\n",
       "  </thead>\n",
       "  <tbody>\n",
       "    <tr>\n",
       "      <th>215348</th>\n",
       "      <td>0.0</td>\n",
       "      <td>0.0</td>\n",
       "      <td>3293.1</td>\n",
       "    </tr>\n",
       "    <tr>\n",
       "      <th>215349</th>\n",
       "      <td>5216.0</td>\n",
       "      <td>4472.0</td>\n",
       "      <td>4971.6</td>\n",
       "    </tr>\n",
       "    <tr>\n",
       "      <th>215350</th>\n",
       "      <td>5457.5</td>\n",
       "      <td>4826.0</td>\n",
       "      <td>5058.4</td>\n",
       "    </tr>\n",
       "    <tr>\n",
       "      <th>215351</th>\n",
       "      <td>6158.0</td>\n",
       "      <td>4793.0</td>\n",
       "      <td>6610.4</td>\n",
       "    </tr>\n",
       "    <tr>\n",
       "      <th>215352</th>\n",
       "      <td>5807.5</td>\n",
       "      <td>4594.0</td>\n",
       "      <td>5872.5</td>\n",
       "    </tr>\n",
       "  </tbody>\n",
       "</table>\n",
       "</div>"
      ],
      "text/plain": [
       "        выручка_предыдущий_месяц  выручка_препредыдущий_месяц  \\\n",
       "id                                                              \n",
       "215348                       0.0                          0.0   \n",
       "215349                    5216.0                       4472.0   \n",
       "215350                    5457.5                       4826.0   \n",
       "215351                    6158.0                       4793.0   \n",
       "215352                    5807.5                       4594.0   \n",
       "\n",
       "        выручка_текущий_месяц  \n",
       "id                             \n",
       "215348                 3293.1  \n",
       "215349                 4971.6  \n",
       "215350                 5058.4  \n",
       "215351                 6610.4  \n",
       "215352                 5872.5  "
      ]
     },
     "execution_count": 67,
     "metadata": {},
     "output_type": "execute_result"
    }
   ],
   "source": [
    "market_money_pivot.head()"
   ]
  },
  {
   "cell_type": "code",
   "execution_count": 68,
   "metadata": {},
   "outputs": [
    {
     "name": "stdout",
     "output_type": "stream",
     "text": [
      "<class 'pandas.core.frame.DataFrame'>\n",
      "Int64Index: 1300 entries, 215348 to 216647\n",
      "Data columns (total 3 columns):\n",
      " #   Column                       Non-Null Count  Dtype  \n",
      "---  ------                       --------------  -----  \n",
      " 0   выручка_предыдущий_месяц     1300 non-null   float64\n",
      " 1   выручка_препредыдущий_месяц  1300 non-null   float64\n",
      " 2   выручка_текущий_месяц        1300 non-null   float64\n",
      "dtypes: float64(3)\n",
      "memory usage: 40.6 KB\n"
     ]
    }
   ],
   "source": [
    "market_money_pivot.info()"
   ]
  },
  {
   "cell_type": "markdown",
   "metadata": {},
   "source": [
    "Объединим датасеты."
   ]
  },
  {
   "cell_type": "code",
   "execution_count": 69,
   "metadata": {},
   "outputs": [],
   "source": [
    "df_full = market_file.join(market_money_pivot, on='id')\n",
    "df_full = df_full.join(market_time_pivot, on='id')"
   ]
  },
  {
   "cell_type": "markdown",
   "metadata": {},
   "source": [
    "Оставим только активных клиентов."
   ]
  },
  {
   "cell_type": "code",
   "execution_count": 70,
   "metadata": {},
   "outputs": [],
   "source": [
    "df_full = df_full[(df_full['выручка_предыдущий_месяц'] > 0) & (df_full['выручка_препредыдущий_месяц'] > 0) & (df_full['выручка_текущий_месяц'] > 0)]"
   ]
  },
  {
   "cell_type": "code",
   "execution_count": 71,
   "metadata": {},
   "outputs": [
    {
     "data": {
      "text/html": [
       "<div>\n",
       "<style scoped>\n",
       "    .dataframe tbody tr th:only-of-type {\n",
       "        vertical-align: middle;\n",
       "    }\n",
       "\n",
       "    .dataframe tbody tr th {\n",
       "        vertical-align: top;\n",
       "    }\n",
       "\n",
       "    .dataframe thead th {\n",
       "        text-align: right;\n",
       "    }\n",
       "</style>\n",
       "<table border=\"1\" class=\"dataframe\">\n",
       "  <thead>\n",
       "    <tr style=\"text-align: right;\">\n",
       "      <th></th>\n",
       "      <th>покупательская_активность</th>\n",
       "      <th>тип_сервиса</th>\n",
       "      <th>разрешить_сообщать</th>\n",
       "      <th>маркет_актив_6_мес</th>\n",
       "      <th>маркет_актив_тек_мес</th>\n",
       "      <th>длительность</th>\n",
       "      <th>акционные_покупки</th>\n",
       "      <th>популярная_категория</th>\n",
       "      <th>средний_просмотр_категорий_за_визит</th>\n",
       "      <th>неоплаченные_продукты_штук_квартал</th>\n",
       "      <th>ошибка_сервиса</th>\n",
       "      <th>страниц_за_визит</th>\n",
       "      <th>выручка_предыдущий_месяц</th>\n",
       "      <th>выручка_препредыдущий_месяц</th>\n",
       "      <th>выручка_текущий_месяц</th>\n",
       "      <th>минут_предыдущий_месяц</th>\n",
       "      <th>минут_текущий_месяц</th>\n",
       "    </tr>\n",
       "    <tr>\n",
       "      <th>id</th>\n",
       "      <th></th>\n",
       "      <th></th>\n",
       "      <th></th>\n",
       "      <th></th>\n",
       "      <th></th>\n",
       "      <th></th>\n",
       "      <th></th>\n",
       "      <th></th>\n",
       "      <th></th>\n",
       "      <th></th>\n",
       "      <th></th>\n",
       "      <th></th>\n",
       "      <th></th>\n",
       "      <th></th>\n",
       "      <th></th>\n",
       "      <th></th>\n",
       "      <th></th>\n",
       "    </tr>\n",
       "  </thead>\n",
       "  <tbody>\n",
       "    <tr>\n",
       "      <th>215349</th>\n",
       "      <td>Снизилась</td>\n",
       "      <td>премиум</td>\n",
       "      <td>да</td>\n",
       "      <td>4.4</td>\n",
       "      <td>4</td>\n",
       "      <td>819</td>\n",
       "      <td>0.75</td>\n",
       "      <td>Товары для детей</td>\n",
       "      <td>4</td>\n",
       "      <td>4</td>\n",
       "      <td>2</td>\n",
       "      <td>5</td>\n",
       "      <td>5216.0</td>\n",
       "      <td>4472.0</td>\n",
       "      <td>4971.6</td>\n",
       "      <td>12</td>\n",
       "      <td>10</td>\n",
       "    </tr>\n",
       "    <tr>\n",
       "      <th>215350</th>\n",
       "      <td>Снизилась</td>\n",
       "      <td>стандарт</td>\n",
       "      <td>нет</td>\n",
       "      <td>4.9</td>\n",
       "      <td>3</td>\n",
       "      <td>539</td>\n",
       "      <td>0.14</td>\n",
       "      <td>Домашний текстиль</td>\n",
       "      <td>5</td>\n",
       "      <td>2</td>\n",
       "      <td>1</td>\n",
       "      <td>5</td>\n",
       "      <td>5457.5</td>\n",
       "      <td>4826.0</td>\n",
       "      <td>5058.4</td>\n",
       "      <td>8</td>\n",
       "      <td>13</td>\n",
       "    </tr>\n",
       "    <tr>\n",
       "      <th>215351</th>\n",
       "      <td>Снизилась</td>\n",
       "      <td>стандарт</td>\n",
       "      <td>да</td>\n",
       "      <td>3.2</td>\n",
       "      <td>5</td>\n",
       "      <td>896</td>\n",
       "      <td>0.99</td>\n",
       "      <td>Товары для детей</td>\n",
       "      <td>5</td>\n",
       "      <td>0</td>\n",
       "      <td>6</td>\n",
       "      <td>4</td>\n",
       "      <td>6158.0</td>\n",
       "      <td>4793.0</td>\n",
       "      <td>6610.4</td>\n",
       "      <td>11</td>\n",
       "      <td>13</td>\n",
       "    </tr>\n",
       "    <tr>\n",
       "      <th>215352</th>\n",
       "      <td>Снизилась</td>\n",
       "      <td>стандарт</td>\n",
       "      <td>нет</td>\n",
       "      <td>5.1</td>\n",
       "      <td>3</td>\n",
       "      <td>1064</td>\n",
       "      <td>0.94</td>\n",
       "      <td>Товары для детей</td>\n",
       "      <td>3</td>\n",
       "      <td>2</td>\n",
       "      <td>3</td>\n",
       "      <td>2</td>\n",
       "      <td>5807.5</td>\n",
       "      <td>4594.0</td>\n",
       "      <td>5872.5</td>\n",
       "      <td>8</td>\n",
       "      <td>11</td>\n",
       "    </tr>\n",
       "    <tr>\n",
       "      <th>215353</th>\n",
       "      <td>Снизилась</td>\n",
       "      <td>стандарт</td>\n",
       "      <td>да</td>\n",
       "      <td>3.3</td>\n",
       "      <td>4</td>\n",
       "      <td>762</td>\n",
       "      <td>0.26</td>\n",
       "      <td>Домашний текстиль</td>\n",
       "      <td>4</td>\n",
       "      <td>1</td>\n",
       "      <td>1</td>\n",
       "      <td>4</td>\n",
       "      <td>4738.5</td>\n",
       "      <td>5124.0</td>\n",
       "      <td>5388.5</td>\n",
       "      <td>10</td>\n",
       "      <td>10</td>\n",
       "    </tr>\n",
       "  </tbody>\n",
       "</table>\n",
       "</div>"
      ],
      "text/plain": [
       "       покупательская_активность тип_сервиса разрешить_сообщать  \\\n",
       "id                                                                \n",
       "215349                 Снизилась     премиум                 да   \n",
       "215350                 Снизилась    стандарт                нет   \n",
       "215351                 Снизилась    стандарт                 да   \n",
       "215352                 Снизилась    стандарт                нет   \n",
       "215353                 Снизилась    стандарт                 да   \n",
       "\n",
       "        маркет_актив_6_мес  маркет_актив_тек_мес  длительность  \\\n",
       "id                                                               \n",
       "215349                 4.4                     4           819   \n",
       "215350                 4.9                     3           539   \n",
       "215351                 3.2                     5           896   \n",
       "215352                 5.1                     3          1064   \n",
       "215353                 3.3                     4           762   \n",
       "\n",
       "        акционные_покупки популярная_категория  \\\n",
       "id                                               \n",
       "215349               0.75     Товары для детей   \n",
       "215350               0.14    Домашний текстиль   \n",
       "215351               0.99     Товары для детей   \n",
       "215352               0.94     Товары для детей   \n",
       "215353               0.26    Домашний текстиль   \n",
       "\n",
       "        средний_просмотр_категорий_за_визит  \\\n",
       "id                                            \n",
       "215349                                    4   \n",
       "215350                                    5   \n",
       "215351                                    5   \n",
       "215352                                    3   \n",
       "215353                                    4   \n",
       "\n",
       "        неоплаченные_продукты_штук_квартал  ошибка_сервиса  страниц_за_визит  \\\n",
       "id                                                                             \n",
       "215349                                   4               2                 5   \n",
       "215350                                   2               1                 5   \n",
       "215351                                   0               6                 4   \n",
       "215352                                   2               3                 2   \n",
       "215353                                   1               1                 4   \n",
       "\n",
       "        выручка_предыдущий_месяц  выручка_препредыдущий_месяц  \\\n",
       "id                                                              \n",
       "215349                    5216.0                       4472.0   \n",
       "215350                    5457.5                       4826.0   \n",
       "215351                    6158.0                       4793.0   \n",
       "215352                    5807.5                       4594.0   \n",
       "215353                    4738.5                       5124.0   \n",
       "\n",
       "        выручка_текущий_месяц  минут_предыдущий_месяц  минут_текущий_месяц  \n",
       "id                                                                          \n",
       "215349                 4971.6                      12                   10  \n",
       "215350                 5058.4                       8                   13  \n",
       "215351                 6610.4                      11                   13  \n",
       "215352                 5872.5                       8                   11  \n",
       "215353                 5388.5                      10                   10  "
      ]
     },
     "metadata": {},
     "output_type": "display_data"
    },
    {
     "name": "stdout",
     "output_type": "stream",
     "text": [
      "<class 'pandas.core.frame.DataFrame'>\n",
      "Int64Index: 1296 entries, 215349 to 216647\n",
      "Data columns (total 17 columns):\n",
      " #   Column                               Non-Null Count  Dtype  \n",
      "---  ------                               --------------  -----  \n",
      " 0   покупательская_активность            1296 non-null   object \n",
      " 1   тип_сервиса                          1296 non-null   object \n",
      " 2   разрешить_сообщать                   1296 non-null   object \n",
      " 3   маркет_актив_6_мес                   1296 non-null   float64\n",
      " 4   маркет_актив_тек_мес                 1296 non-null   int64  \n",
      " 5   длительность                         1296 non-null   int64  \n",
      " 6   акционные_покупки                    1296 non-null   float64\n",
      " 7   популярная_категория                 1296 non-null   object \n",
      " 8   средний_просмотр_категорий_за_визит  1296 non-null   int64  \n",
      " 9   неоплаченные_продукты_штук_квартал   1296 non-null   int64  \n",
      " 10  ошибка_сервиса                       1296 non-null   int64  \n",
      " 11  страниц_за_визит                     1296 non-null   int64  \n",
      " 12  выручка_предыдущий_месяц             1296 non-null   float64\n",
      " 13  выручка_препредыдущий_месяц          1296 non-null   float64\n",
      " 14  выручка_текущий_месяц                1296 non-null   float64\n",
      " 15  минут_предыдущий_месяц               1296 non-null   int64  \n",
      " 16  минут_текущий_месяц                  1296 non-null   int64  \n",
      "dtypes: float64(5), int64(8), object(4)\n",
      "memory usage: 182.2+ KB\n"
     ]
    },
    {
     "data": {
      "text/plain": [
       "None"
      ]
     },
     "metadata": {},
     "output_type": "display_data"
    },
    {
     "data": {
      "text/plain": [
       "покупательская_активность              0\n",
       "тип_сервиса                            0\n",
       "разрешить_сообщать                     0\n",
       "маркет_актив_6_мес                     0\n",
       "маркет_актив_тек_мес                   0\n",
       "длительность                           0\n",
       "акционные_покупки                      0\n",
       "популярная_категория                   0\n",
       "средний_просмотр_категорий_за_визит    0\n",
       "неоплаченные_продукты_штук_квартал     0\n",
       "ошибка_сервиса                         0\n",
       "страниц_за_визит                       0\n",
       "выручка_предыдущий_месяц               0\n",
       "выручка_препредыдущий_месяц            0\n",
       "выручка_текущий_месяц                  0\n",
       "минут_предыдущий_месяц                 0\n",
       "минут_текущий_месяц                    0\n",
       "dtype: int64"
      ]
     },
     "metadata": {},
     "output_type": "display_data"
    },
    {
     "data": {
      "text/plain": [
       "11"
      ]
     },
     "metadata": {},
     "output_type": "display_data"
    }
   ],
   "source": [
    "check_df(df_full)"
   ]
  },
  {
   "cell_type": "markdown",
   "metadata": {},
   "source": [
    "Мы удалили 4 наблюдения о неактивных пользователях."
   ]
  },
  {
   "cell_type": "markdown",
   "metadata": {},
   "source": [
    "Мы успешно объединили таблицы.\n",
    "\n",
    "Приступим к корреляционному анализу."
   ]
  },
  {
   "cell_type": "markdown",
   "metadata": {},
   "source": [
    "## Использование пайплайнов"
   ]
  },
  {
   "cell_type": "markdown",
   "metadata": {},
   "source": [
    "В качестве целевого признака будем использовать покупательскую активность."
   ]
  },
  {
   "cell_type": "markdown",
   "metadata": {},
   "source": [
    "В качестве метрики будем использовать ROC-AUC, так как данная метрика позволяет оценить качество бинарной классификации при всех возможных порогах классификации."
   ]
  },
  {
   "cell_type": "code",
   "execution_count": 72,
   "metadata": {},
   "outputs": [
    {
     "data": {
      "text/html": [
       "<div>\n",
       "<style scoped>\n",
       "    .dataframe tbody tr th:only-of-type {\n",
       "        vertical-align: middle;\n",
       "    }\n",
       "\n",
       "    .dataframe tbody tr th {\n",
       "        vertical-align: top;\n",
       "    }\n",
       "\n",
       "    .dataframe thead th {\n",
       "        text-align: right;\n",
       "    }\n",
       "</style>\n",
       "<table border=\"1\" class=\"dataframe\">\n",
       "  <thead>\n",
       "    <tr style=\"text-align: right;\">\n",
       "      <th></th>\n",
       "      <th>покупательская_активность</th>\n",
       "      <th>тип_сервиса</th>\n",
       "      <th>разрешить_сообщать</th>\n",
       "      <th>маркет_актив_6_мес</th>\n",
       "      <th>маркет_актив_тек_мес</th>\n",
       "      <th>длительность</th>\n",
       "      <th>акционные_покупки</th>\n",
       "      <th>популярная_категория</th>\n",
       "      <th>средний_просмотр_категорий_за_визит</th>\n",
       "      <th>неоплаченные_продукты_штук_квартал</th>\n",
       "      <th>ошибка_сервиса</th>\n",
       "      <th>страниц_за_визит</th>\n",
       "      <th>выручка_предыдущий_месяц</th>\n",
       "      <th>выручка_препредыдущий_месяц</th>\n",
       "      <th>выручка_текущий_месяц</th>\n",
       "      <th>минут_предыдущий_месяц</th>\n",
       "      <th>минут_текущий_месяц</th>\n",
       "    </tr>\n",
       "    <tr>\n",
       "      <th>id</th>\n",
       "      <th></th>\n",
       "      <th></th>\n",
       "      <th></th>\n",
       "      <th></th>\n",
       "      <th></th>\n",
       "      <th></th>\n",
       "      <th></th>\n",
       "      <th></th>\n",
       "      <th></th>\n",
       "      <th></th>\n",
       "      <th></th>\n",
       "      <th></th>\n",
       "      <th></th>\n",
       "      <th></th>\n",
       "      <th></th>\n",
       "      <th></th>\n",
       "      <th></th>\n",
       "    </tr>\n",
       "  </thead>\n",
       "  <tbody>\n",
       "    <tr>\n",
       "      <th>215349</th>\n",
       "      <td>Снизилась</td>\n",
       "      <td>премиум</td>\n",
       "      <td>да</td>\n",
       "      <td>4.4</td>\n",
       "      <td>4</td>\n",
       "      <td>819</td>\n",
       "      <td>0.75</td>\n",
       "      <td>Товары для детей</td>\n",
       "      <td>4</td>\n",
       "      <td>4</td>\n",
       "      <td>2</td>\n",
       "      <td>5</td>\n",
       "      <td>5216.0</td>\n",
       "      <td>4472.0</td>\n",
       "      <td>4971.6</td>\n",
       "      <td>12</td>\n",
       "      <td>10</td>\n",
       "    </tr>\n",
       "    <tr>\n",
       "      <th>215350</th>\n",
       "      <td>Снизилась</td>\n",
       "      <td>стандарт</td>\n",
       "      <td>нет</td>\n",
       "      <td>4.9</td>\n",
       "      <td>3</td>\n",
       "      <td>539</td>\n",
       "      <td>0.14</td>\n",
       "      <td>Домашний текстиль</td>\n",
       "      <td>5</td>\n",
       "      <td>2</td>\n",
       "      <td>1</td>\n",
       "      <td>5</td>\n",
       "      <td>5457.5</td>\n",
       "      <td>4826.0</td>\n",
       "      <td>5058.4</td>\n",
       "      <td>8</td>\n",
       "      <td>13</td>\n",
       "    </tr>\n",
       "    <tr>\n",
       "      <th>215351</th>\n",
       "      <td>Снизилась</td>\n",
       "      <td>стандарт</td>\n",
       "      <td>да</td>\n",
       "      <td>3.2</td>\n",
       "      <td>5</td>\n",
       "      <td>896</td>\n",
       "      <td>0.99</td>\n",
       "      <td>Товары для детей</td>\n",
       "      <td>5</td>\n",
       "      <td>0</td>\n",
       "      <td>6</td>\n",
       "      <td>4</td>\n",
       "      <td>6158.0</td>\n",
       "      <td>4793.0</td>\n",
       "      <td>6610.4</td>\n",
       "      <td>11</td>\n",
       "      <td>13</td>\n",
       "    </tr>\n",
       "    <tr>\n",
       "      <th>215352</th>\n",
       "      <td>Снизилась</td>\n",
       "      <td>стандарт</td>\n",
       "      <td>нет</td>\n",
       "      <td>5.1</td>\n",
       "      <td>3</td>\n",
       "      <td>1064</td>\n",
       "      <td>0.94</td>\n",
       "      <td>Товары для детей</td>\n",
       "      <td>3</td>\n",
       "      <td>2</td>\n",
       "      <td>3</td>\n",
       "      <td>2</td>\n",
       "      <td>5807.5</td>\n",
       "      <td>4594.0</td>\n",
       "      <td>5872.5</td>\n",
       "      <td>8</td>\n",
       "      <td>11</td>\n",
       "    </tr>\n",
       "    <tr>\n",
       "      <th>215353</th>\n",
       "      <td>Снизилась</td>\n",
       "      <td>стандарт</td>\n",
       "      <td>да</td>\n",
       "      <td>3.3</td>\n",
       "      <td>4</td>\n",
       "      <td>762</td>\n",
       "      <td>0.26</td>\n",
       "      <td>Домашний текстиль</td>\n",
       "      <td>4</td>\n",
       "      <td>1</td>\n",
       "      <td>1</td>\n",
       "      <td>4</td>\n",
       "      <td>4738.5</td>\n",
       "      <td>5124.0</td>\n",
       "      <td>5388.5</td>\n",
       "      <td>10</td>\n",
       "      <td>10</td>\n",
       "    </tr>\n",
       "  </tbody>\n",
       "</table>\n",
       "</div>"
      ],
      "text/plain": [
       "       покупательская_активность тип_сервиса разрешить_сообщать  \\\n",
       "id                                                                \n",
       "215349                 Снизилась     премиум                 да   \n",
       "215350                 Снизилась    стандарт                нет   \n",
       "215351                 Снизилась    стандарт                 да   \n",
       "215352                 Снизилась    стандарт                нет   \n",
       "215353                 Снизилась    стандарт                 да   \n",
       "\n",
       "        маркет_актив_6_мес  маркет_актив_тек_мес  длительность  \\\n",
       "id                                                               \n",
       "215349                 4.4                     4           819   \n",
       "215350                 4.9                     3           539   \n",
       "215351                 3.2                     5           896   \n",
       "215352                 5.1                     3          1064   \n",
       "215353                 3.3                     4           762   \n",
       "\n",
       "        акционные_покупки популярная_категория  \\\n",
       "id                                               \n",
       "215349               0.75     Товары для детей   \n",
       "215350               0.14    Домашний текстиль   \n",
       "215351               0.99     Товары для детей   \n",
       "215352               0.94     Товары для детей   \n",
       "215353               0.26    Домашний текстиль   \n",
       "\n",
       "        средний_просмотр_категорий_за_визит  \\\n",
       "id                                            \n",
       "215349                                    4   \n",
       "215350                                    5   \n",
       "215351                                    5   \n",
       "215352                                    3   \n",
       "215353                                    4   \n",
       "\n",
       "        неоплаченные_продукты_штук_квартал  ошибка_сервиса  страниц_за_визит  \\\n",
       "id                                                                             \n",
       "215349                                   4               2                 5   \n",
       "215350                                   2               1                 5   \n",
       "215351                                   0               6                 4   \n",
       "215352                                   2               3                 2   \n",
       "215353                                   1               1                 4   \n",
       "\n",
       "        выручка_предыдущий_месяц  выручка_препредыдущий_месяц  \\\n",
       "id                                                              \n",
       "215349                    5216.0                       4472.0   \n",
       "215350                    5457.5                       4826.0   \n",
       "215351                    6158.0                       4793.0   \n",
       "215352                    5807.5                       4594.0   \n",
       "215353                    4738.5                       5124.0   \n",
       "\n",
       "        выручка_текущий_месяц  минут_предыдущий_месяц  минут_текущий_месяц  \n",
       "id                                                                          \n",
       "215349                 4971.6                      12                   10  \n",
       "215350                 5058.4                       8                   13  \n",
       "215351                 6610.4                      11                   13  \n",
       "215352                 5872.5                       8                   11  \n",
       "215353                 5388.5                      10                   10  "
      ]
     },
     "execution_count": 72,
     "metadata": {},
     "output_type": "execute_result"
    }
   ],
   "source": [
    "df_full.head()"
   ]
  },
  {
   "cell_type": "code",
   "execution_count": 73,
   "metadata": {},
   "outputs": [],
   "source": [
    "X = df_full.drop(['покупательская_активность'], axis=1)\n",
    "y = df_full['покупательская_активность']\n",
    "label_mapping = {'Снизилась': 1, 'Прежний уровень': 0}\n",
    "label_encoder = LabelEncoder()\n",
    "y = label_encoder.fit_transform(y.map(label_mapping)) "
   ]
  },
  {
   "cell_type": "code",
   "execution_count": 74,
   "metadata": {},
   "outputs": [],
   "source": [
    "TEST_SIZE = 0.25\n",
    "RANDOM_STATE = 42\n",
    "X_train, X_test, y_train, y_test = train_test_split(\n",
    "    X,\n",
    "    y,\n",
    "    test_size = TEST_SIZE, \n",
    "    random_state = RANDOM_STATE,\n",
    "    stratify = y)"
   ]
  },
  {
   "cell_type": "code",
   "execution_count": 75,
   "metadata": {},
   "outputs": [],
   "source": [
    "ohe_columns = ['тип_сервиса', 'разрешить_сообщать', 'популярная_категория']\n",
    "num_columns = ['маркет_актив_6_мес', 'маркет_актив_тек_мес', 'длительность',\n",
    "               'акционные_покупки', 'средний_просмотр_категорий_за_визит',\n",
    "               'неоплаченные_продукты_штук_квартал', 'ошибка_сервиса',\n",
    "               'страниц_за_визит', 'выручка_предыдущий_месяц', 'выручка_препредыдущий_месяц',\n",
    "               'выручка_текущий_месяц', 'минут_предыдущий_месяц', 'минут_текущий_месяц']"
   ]
  },
  {
   "cell_type": "code",
   "execution_count": 76,
   "metadata": {
    "scrolled": false
   },
   "outputs": [
    {
     "name": "stdout",
     "output_type": "stream",
     "text": [
      "Лучшая модель и её параметры:\n",
      "\n",
      " Pipeline(steps=[('preprocessor',\n",
      "                 ColumnTransformer(remainder='passthrough',\n",
      "                                   transformers=[('ohe',\n",
      "                                                  Pipeline(steps=[('simpleImputer_ohe',\n",
      "                                                                   SimpleImputer(strategy='most_frequent')),\n",
      "                                                                  ('ohe',\n",
      "                                                                   OneHotEncoder(drop='first'))]),\n",
      "                                                  ['тип_сервиса',\n",
      "                                                   'разрешить_сообщать',\n",
      "                                                   'популярная_категория']),\n",
      "                                                 ('num', MinMaxScaler(),\n",
      "                                                  ['маркет_актив_6_мес',\n",
      "                                                   'маркет_актив_тек_мес',\n",
      "                                                   'длительность',\n",
      "                                                   'акционные_покупки',\n",
      "                                                   'средний_просмотр_категорий_за_визит',\n",
      "                                                   'неоплаченные_продукты_штук_квартал',\n",
      "                                                   'ошибка_сервиса',\n",
      "                                                   'страниц_за_визит',\n",
      "                                                   'выручка_предыдущий_месяц',\n",
      "                                                   'выручка_препредыдущий_месяц',\n",
      "                                                   'выручка_текущий_месяц',\n",
      "                                                   'минут_предыдущий_месяц',\n",
      "                                                   'минут_текущий_месяц'])])),\n",
      "                ('models', KNeighborsClassifier(n_neighbors=6))])\n",
      "Метрика лучшей модели на кроссвалидацинной выборке: 0.861199192167374\n",
      "Метрика ROC-AUC на тестовой выборке: 0.8687052542167213\n",
      "CPU times: user 1.2 s, sys: 99.7 ms, total: 1.29 s\n",
      "Wall time: 1.3 s\n"
     ]
    }
   ],
   "source": [
    "%%time\n",
    "ohe_pipe = Pipeline(\n",
    "    [('simpleImputer_ohe', SimpleImputer(missing_values=np.nan, strategy='most_frequent')),\n",
    "     ('ohe', OneHotEncoder(drop='first', handle_unknown='error'))\n",
    "    ]\n",
    "    )\n",
    " \n",
    "ord_pipe = Pipeline(\n",
    "    [('simpleImputer_before_ord', SimpleImputer(missing_values=np.nan, strategy='most_frequent')),\n",
    "     ('ord', OrdinalEncoder(handle_unknown='use_encoded_value', unknown_value=np.nan)),\n",
    "     ('simpleImputer_after_ord', SimpleImputer(missing_values=np.nan, strategy='most_frequent'))\n",
    "    ]\n",
    ")\n",
    "#('ohe', ohe_pipe, ['популярная_категория'])\n",
    "data_preprocessor = ColumnTransformer(\n",
    "    [('ohe', ohe_pipe, ohe_columns),\n",
    "     ('num', MinMaxScaler(), num_columns)\n",
    "    ],\n",
    "    remainder='passthrough'\n",
    ")\n",
    " \n",
    "pipe_final = Pipeline([\n",
    "    ('preprocessor', data_preprocessor),\n",
    "    ('models', DecisionTreeClassifier(random_state=RANDOM_STATE))\n",
    "])\n",
    " \n",
    "param_grid = [\n",
    "    {\n",
    "        'models': [DecisionTreeClassifier(random_state=RANDOM_STATE)],\n",
    "        'models__max_depth': range(6, 20),\n",
    "        'models__max_features': range(6, 20)\n",
    "    },\n",
    "    {\n",
    "        'models': [KNeighborsClassifier()],\n",
    "        'models__n_neighbors': range(2, 20)\n",
    "    },\n",
    "    {\n",
    "        'models': [LogisticRegression(random_state=RANDOM_STATE)],\n",
    "        'models__C': range(1, 20)\n",
    "    },\n",
    "    {\n",
    "        'models': [SVC(probability=True)],\n",
    "        'models__kernel': ['linear', 'rbf']\n",
    "    },\n",
    "    {\n",
    "    'preprocessor_num': [\n",
    "        StandardScaler(),\n",
    "        MinMaxScaler(),\n",
    "        RobustScaler(), \n",
    "        'passthrough'\n",
    "    ]   \n",
    "}\n",
    "]\n",
    " \n",
    "randomized_search = RandomizedSearchCV(\n",
    "    pipe_final, \n",
    "    param_grid, \n",
    "    cv=5,\n",
    "    scoring='roc_auc',\n",
    "    random_state=RANDOM_STATE,\n",
    "    n_jobs=-1\n",
    ")\n",
    "randomized_search.fit(X_train, y_train)\n",
    " \n",
    "print('Лучшая модель и её параметры:\\n\\n', randomized_search.best_estimator_)\n",
    "print('Метрика лучшей модели на кроссвалидацинной выборке:', randomized_search.best_score_)\n",
    " \n",
    "y_test_pred_proba = randomized_search.predict_proba(X_test)[:,1]\n",
    " \n",
    "print(f'Метрика ROC-AUC на тестовой выборке: {roc_auc_score(y_test, y_test_pred_proba)}')"
   ]
  },
  {
   "cell_type": "markdown",
   "metadata": {},
   "source": [
    "Наилучшая модель - метод К-ближайших соседов с гиперпараметром n_neighbors=6.\n",
    "\n",
    "Проанализируем важность признаков."
   ]
  },
  {
   "cell_type": "markdown",
   "metadata": {},
   "source": [
    "## Сегментация покупателей"
   ]
  },
  {
   "cell_type": "markdown",
   "metadata": {},
   "source": [
    "Установим порог сегментации 0.9, чтобы выделить клиентов, у которых, по предсказанию модели, наивысшие шансы снижения покупательской активности."
   ]
  },
  {
   "cell_type": "code",
   "execution_count": 80,
   "metadata": {},
   "outputs": [],
   "source": [
    "predictions = (randomized_search.best_estimator_.predict_proba(X)[:, 1] > 0.9)\n",
    "predictions = ['Снизилась' if x == True else 'Не снизилась' for x in predictions]"
   ]
  },
  {
   "cell_type": "code",
   "execution_count": 81,
   "metadata": {},
   "outputs": [
    {
     "data": {
      "text/plain": [
       "1296"
      ]
     },
     "execution_count": 81,
     "metadata": {},
     "output_type": "execute_result"
    }
   ],
   "source": [
    "len(predictions)"
   ]
  },
  {
   "cell_type": "code",
   "execution_count": 82,
   "metadata": {},
   "outputs": [],
   "source": [
    "#threshold = 0.9\n",
    "\n",
    "#predictions = best_model.predict_proba(X)[:, 1]\n",
    "#prediction_flags = np.where(predictions > threshold, True, False)"
   ]
  },
  {
   "cell_type": "code",
   "execution_count": 83,
   "metadata": {},
   "outputs": [],
   "source": [
    "#df_decline = df_full.loc[prediction_flags]"
   ]
  },
  {
   "cell_type": "code",
   "execution_count": 84,
   "metadata": {},
   "outputs": [],
   "source": [
    "df_model = df_full.copy(deep=True)"
   ]
  },
  {
   "cell_type": "code",
   "execution_count": 85,
   "metadata": {},
   "outputs": [],
   "source": [
    "df_model['прогноз_модели'] = predictions"
   ]
  },
  {
   "cell_type": "code",
   "execution_count": 86,
   "metadata": {},
   "outputs": [
    {
     "data": {
      "text/html": [
       "<div>\n",
       "<style scoped>\n",
       "    .dataframe tbody tr th:only-of-type {\n",
       "        vertical-align: middle;\n",
       "    }\n",
       "\n",
       "    .dataframe tbody tr th {\n",
       "        vertical-align: top;\n",
       "    }\n",
       "\n",
       "    .dataframe thead th {\n",
       "        text-align: right;\n",
       "    }\n",
       "</style>\n",
       "<table border=\"1\" class=\"dataframe\">\n",
       "  <thead>\n",
       "    <tr style=\"text-align: right;\">\n",
       "      <th></th>\n",
       "      <th>покупательская_активность</th>\n",
       "      <th>тип_сервиса</th>\n",
       "      <th>разрешить_сообщать</th>\n",
       "      <th>маркет_актив_6_мес</th>\n",
       "      <th>маркет_актив_тек_мес</th>\n",
       "      <th>длительность</th>\n",
       "      <th>акционные_покупки</th>\n",
       "      <th>популярная_категория</th>\n",
       "      <th>средний_просмотр_категорий_за_визит</th>\n",
       "      <th>неоплаченные_продукты_штук_квартал</th>\n",
       "      <th>ошибка_сервиса</th>\n",
       "      <th>страниц_за_визит</th>\n",
       "      <th>выручка_предыдущий_месяц</th>\n",
       "      <th>выручка_препредыдущий_месяц</th>\n",
       "      <th>выручка_текущий_месяц</th>\n",
       "      <th>минут_предыдущий_месяц</th>\n",
       "      <th>минут_текущий_месяц</th>\n",
       "      <th>прогноз_модели</th>\n",
       "    </tr>\n",
       "    <tr>\n",
       "      <th>id</th>\n",
       "      <th></th>\n",
       "      <th></th>\n",
       "      <th></th>\n",
       "      <th></th>\n",
       "      <th></th>\n",
       "      <th></th>\n",
       "      <th></th>\n",
       "      <th></th>\n",
       "      <th></th>\n",
       "      <th></th>\n",
       "      <th></th>\n",
       "      <th></th>\n",
       "      <th></th>\n",
       "      <th></th>\n",
       "      <th></th>\n",
       "      <th></th>\n",
       "      <th></th>\n",
       "      <th></th>\n",
       "    </tr>\n",
       "  </thead>\n",
       "  <tbody>\n",
       "    <tr>\n",
       "      <th>215349</th>\n",
       "      <td>Снизилась</td>\n",
       "      <td>премиум</td>\n",
       "      <td>да</td>\n",
       "      <td>4.4</td>\n",
       "      <td>4</td>\n",
       "      <td>819</td>\n",
       "      <td>0.75</td>\n",
       "      <td>Товары для детей</td>\n",
       "      <td>4</td>\n",
       "      <td>4</td>\n",
       "      <td>2</td>\n",
       "      <td>5</td>\n",
       "      <td>5216.0</td>\n",
       "      <td>4472.0</td>\n",
       "      <td>4971.6</td>\n",
       "      <td>12</td>\n",
       "      <td>10</td>\n",
       "      <td>Снизилась</td>\n",
       "    </tr>\n",
       "    <tr>\n",
       "      <th>215350</th>\n",
       "      <td>Снизилась</td>\n",
       "      <td>стандарт</td>\n",
       "      <td>нет</td>\n",
       "      <td>4.9</td>\n",
       "      <td>3</td>\n",
       "      <td>539</td>\n",
       "      <td>0.14</td>\n",
       "      <td>Домашний текстиль</td>\n",
       "      <td>5</td>\n",
       "      <td>2</td>\n",
       "      <td>1</td>\n",
       "      <td>5</td>\n",
       "      <td>5457.5</td>\n",
       "      <td>4826.0</td>\n",
       "      <td>5058.4</td>\n",
       "      <td>8</td>\n",
       "      <td>13</td>\n",
       "      <td>Не снизилась</td>\n",
       "    </tr>\n",
       "    <tr>\n",
       "      <th>215351</th>\n",
       "      <td>Снизилась</td>\n",
       "      <td>стандарт</td>\n",
       "      <td>да</td>\n",
       "      <td>3.2</td>\n",
       "      <td>5</td>\n",
       "      <td>896</td>\n",
       "      <td>0.99</td>\n",
       "      <td>Товары для детей</td>\n",
       "      <td>5</td>\n",
       "      <td>0</td>\n",
       "      <td>6</td>\n",
       "      <td>4</td>\n",
       "      <td>6158.0</td>\n",
       "      <td>4793.0</td>\n",
       "      <td>6610.4</td>\n",
       "      <td>11</td>\n",
       "      <td>13</td>\n",
       "      <td>Не снизилась</td>\n",
       "    </tr>\n",
       "    <tr>\n",
       "      <th>215352</th>\n",
       "      <td>Снизилась</td>\n",
       "      <td>стандарт</td>\n",
       "      <td>нет</td>\n",
       "      <td>5.1</td>\n",
       "      <td>3</td>\n",
       "      <td>1064</td>\n",
       "      <td>0.94</td>\n",
       "      <td>Товары для детей</td>\n",
       "      <td>3</td>\n",
       "      <td>2</td>\n",
       "      <td>3</td>\n",
       "      <td>2</td>\n",
       "      <td>5807.5</td>\n",
       "      <td>4594.0</td>\n",
       "      <td>5872.5</td>\n",
       "      <td>8</td>\n",
       "      <td>11</td>\n",
       "      <td>Не снизилась</td>\n",
       "    </tr>\n",
       "    <tr>\n",
       "      <th>215353</th>\n",
       "      <td>Снизилась</td>\n",
       "      <td>стандарт</td>\n",
       "      <td>да</td>\n",
       "      <td>3.3</td>\n",
       "      <td>4</td>\n",
       "      <td>762</td>\n",
       "      <td>0.26</td>\n",
       "      <td>Домашний текстиль</td>\n",
       "      <td>4</td>\n",
       "      <td>1</td>\n",
       "      <td>1</td>\n",
       "      <td>4</td>\n",
       "      <td>4738.5</td>\n",
       "      <td>5124.0</td>\n",
       "      <td>5388.5</td>\n",
       "      <td>10</td>\n",
       "      <td>10</td>\n",
       "      <td>Не снизилась</td>\n",
       "    </tr>\n",
       "  </tbody>\n",
       "</table>\n",
       "</div>"
      ],
      "text/plain": [
       "       покупательская_активность тип_сервиса разрешить_сообщать  \\\n",
       "id                                                                \n",
       "215349                 Снизилась     премиум                 да   \n",
       "215350                 Снизилась    стандарт                нет   \n",
       "215351                 Снизилась    стандарт                 да   \n",
       "215352                 Снизилась    стандарт                нет   \n",
       "215353                 Снизилась    стандарт                 да   \n",
       "\n",
       "        маркет_актив_6_мес  маркет_актив_тек_мес  длительность  \\\n",
       "id                                                               \n",
       "215349                 4.4                     4           819   \n",
       "215350                 4.9                     3           539   \n",
       "215351                 3.2                     5           896   \n",
       "215352                 5.1                     3          1064   \n",
       "215353                 3.3                     4           762   \n",
       "\n",
       "        акционные_покупки популярная_категория  \\\n",
       "id                                               \n",
       "215349               0.75     Товары для детей   \n",
       "215350               0.14    Домашний текстиль   \n",
       "215351               0.99     Товары для детей   \n",
       "215352               0.94     Товары для детей   \n",
       "215353               0.26    Домашний текстиль   \n",
       "\n",
       "        средний_просмотр_категорий_за_визит  \\\n",
       "id                                            \n",
       "215349                                    4   \n",
       "215350                                    5   \n",
       "215351                                    5   \n",
       "215352                                    3   \n",
       "215353                                    4   \n",
       "\n",
       "        неоплаченные_продукты_штук_квартал  ошибка_сервиса  страниц_за_визит  \\\n",
       "id                                                                             \n",
       "215349                                   4               2                 5   \n",
       "215350                                   2               1                 5   \n",
       "215351                                   0               6                 4   \n",
       "215352                                   2               3                 2   \n",
       "215353                                   1               1                 4   \n",
       "\n",
       "        выручка_предыдущий_месяц  выручка_препредыдущий_месяц  \\\n",
       "id                                                              \n",
       "215349                    5216.0                       4472.0   \n",
       "215350                    5457.5                       4826.0   \n",
       "215351                    6158.0                       4793.0   \n",
       "215352                    5807.5                       4594.0   \n",
       "215353                    4738.5                       5124.0   \n",
       "\n",
       "        выручка_текущий_месяц  минут_предыдущий_месяц  минут_текущий_месяц  \\\n",
       "id                                                                           \n",
       "215349                 4971.6                      12                   10   \n",
       "215350                 5058.4                       8                   13   \n",
       "215351                 6610.4                      11                   13   \n",
       "215352                 5872.5                       8                   11   \n",
       "215353                 5388.5                      10                   10   \n",
       "\n",
       "       прогноз_модели  \n",
       "id                     \n",
       "215349      Снизилась  \n",
       "215350   Не снизилась  \n",
       "215351   Не снизилась  \n",
       "215352   Не снизилась  \n",
       "215353   Не снизилась  "
      ]
     },
     "execution_count": 86,
     "metadata": {},
     "output_type": "execute_result"
    }
   ],
   "source": [
    "df_model.head()"
   ]
  },
  {
   "cell_type": "markdown",
   "metadata": {},
   "source": [
    "Добавим данные о прибыльности покупателей."
   ]
  },
  {
   "cell_type": "code",
   "execution_count": 87,
   "metadata": {},
   "outputs": [
    {
     "name": "stdout",
     "output_type": "stream",
     "text": [
      "<class 'pandas.core.frame.DataFrame'>\n",
      "Int64Index: 1296 entries, 215349 to 216647\n",
      "Data columns (total 19 columns):\n",
      " #   Column                               Non-Null Count  Dtype  \n",
      "---  ------                               --------------  -----  \n",
      " 0   покупательская_активность            1296 non-null   object \n",
      " 1   тип_сервиса                          1296 non-null   object \n",
      " 2   разрешить_сообщать                   1296 non-null   object \n",
      " 3   маркет_актив_6_мес                   1296 non-null   float64\n",
      " 4   маркет_актив_тек_мес                 1296 non-null   int64  \n",
      " 5   длительность                         1296 non-null   int64  \n",
      " 6   акционные_покупки                    1296 non-null   float64\n",
      " 7   популярная_категория                 1296 non-null   object \n",
      " 8   средний_просмотр_категорий_за_визит  1296 non-null   int64  \n",
      " 9   неоплаченные_продукты_штук_квартал   1296 non-null   int64  \n",
      " 10  ошибка_сервиса                       1296 non-null   int64  \n",
      " 11  страниц_за_визит                     1296 non-null   int64  \n",
      " 12  выручка_предыдущий_месяц             1296 non-null   float64\n",
      " 13  выручка_препредыдущий_месяц          1296 non-null   float64\n",
      " 14  выручка_текущий_месяц                1296 non-null   float64\n",
      " 15  минут_предыдущий_месяц               1296 non-null   int64  \n",
      " 16  минут_текущий_месяц                  1296 non-null   int64  \n",
      " 17  прогноз_модели                       1296 non-null   object \n",
      " 18  прибыль                              1296 non-null   float64\n",
      "dtypes: float64(6), int64(8), object(5)\n",
      "memory usage: 202.5+ KB\n"
     ]
    }
   ],
   "source": [
    "df_model = df_model.join(money, on='id')\n",
    "\n",
    "df_model.info()"
   ]
  },
  {
   "cell_type": "code",
   "execution_count": 88,
   "metadata": {},
   "outputs": [
    {
     "data": {
      "text/html": [
       "<div>\n",
       "<style scoped>\n",
       "    .dataframe tbody tr th:only-of-type {\n",
       "        vertical-align: middle;\n",
       "    }\n",
       "\n",
       "    .dataframe tbody tr th {\n",
       "        vertical-align: top;\n",
       "    }\n",
       "\n",
       "    .dataframe thead th {\n",
       "        text-align: right;\n",
       "    }\n",
       "</style>\n",
       "<table border=\"1\" class=\"dataframe\">\n",
       "  <thead>\n",
       "    <tr style=\"text-align: right;\">\n",
       "      <th></th>\n",
       "      <th>покупательская_активность</th>\n",
       "      <th>тип_сервиса</th>\n",
       "      <th>разрешить_сообщать</th>\n",
       "      <th>маркет_актив_6_мес</th>\n",
       "      <th>маркет_актив_тек_мес</th>\n",
       "      <th>длительность</th>\n",
       "      <th>акционные_покупки</th>\n",
       "      <th>популярная_категория</th>\n",
       "      <th>средний_просмотр_категорий_за_визит</th>\n",
       "      <th>неоплаченные_продукты_штук_квартал</th>\n",
       "      <th>ошибка_сервиса</th>\n",
       "      <th>страниц_за_визит</th>\n",
       "      <th>выручка_предыдущий_месяц</th>\n",
       "      <th>выручка_препредыдущий_месяц</th>\n",
       "      <th>выручка_текущий_месяц</th>\n",
       "      <th>минут_предыдущий_месяц</th>\n",
       "      <th>минут_текущий_месяц</th>\n",
       "      <th>прогноз_модели</th>\n",
       "      <th>прибыль</th>\n",
       "    </tr>\n",
       "    <tr>\n",
       "      <th>id</th>\n",
       "      <th></th>\n",
       "      <th></th>\n",
       "      <th></th>\n",
       "      <th></th>\n",
       "      <th></th>\n",
       "      <th></th>\n",
       "      <th></th>\n",
       "      <th></th>\n",
       "      <th></th>\n",
       "      <th></th>\n",
       "      <th></th>\n",
       "      <th></th>\n",
       "      <th></th>\n",
       "      <th></th>\n",
       "      <th></th>\n",
       "      <th></th>\n",
       "      <th></th>\n",
       "      <th></th>\n",
       "      <th></th>\n",
       "    </tr>\n",
       "  </thead>\n",
       "  <tbody>\n",
       "    <tr>\n",
       "      <th>215349</th>\n",
       "      <td>Снизилась</td>\n",
       "      <td>премиум</td>\n",
       "      <td>да</td>\n",
       "      <td>4.4</td>\n",
       "      <td>4</td>\n",
       "      <td>819</td>\n",
       "      <td>0.75</td>\n",
       "      <td>Товары для детей</td>\n",
       "      <td>4</td>\n",
       "      <td>4</td>\n",
       "      <td>2</td>\n",
       "      <td>5</td>\n",
       "      <td>5216.0</td>\n",
       "      <td>4472.0</td>\n",
       "      <td>4971.6</td>\n",
       "      <td>12</td>\n",
       "      <td>10</td>\n",
       "      <td>Снизилась</td>\n",
       "      <td>4.16</td>\n",
       "    </tr>\n",
       "    <tr>\n",
       "      <th>215350</th>\n",
       "      <td>Снизилась</td>\n",
       "      <td>стандарт</td>\n",
       "      <td>нет</td>\n",
       "      <td>4.9</td>\n",
       "      <td>3</td>\n",
       "      <td>539</td>\n",
       "      <td>0.14</td>\n",
       "      <td>Домашний текстиль</td>\n",
       "      <td>5</td>\n",
       "      <td>2</td>\n",
       "      <td>1</td>\n",
       "      <td>5</td>\n",
       "      <td>5457.5</td>\n",
       "      <td>4826.0</td>\n",
       "      <td>5058.4</td>\n",
       "      <td>8</td>\n",
       "      <td>13</td>\n",
       "      <td>Не снизилась</td>\n",
       "      <td>3.13</td>\n",
       "    </tr>\n",
       "    <tr>\n",
       "      <th>215351</th>\n",
       "      <td>Снизилась</td>\n",
       "      <td>стандарт</td>\n",
       "      <td>да</td>\n",
       "      <td>3.2</td>\n",
       "      <td>5</td>\n",
       "      <td>896</td>\n",
       "      <td>0.99</td>\n",
       "      <td>Товары для детей</td>\n",
       "      <td>5</td>\n",
       "      <td>0</td>\n",
       "      <td>6</td>\n",
       "      <td>4</td>\n",
       "      <td>6158.0</td>\n",
       "      <td>4793.0</td>\n",
       "      <td>6610.4</td>\n",
       "      <td>11</td>\n",
       "      <td>13</td>\n",
       "      <td>Не снизилась</td>\n",
       "      <td>4.87</td>\n",
       "    </tr>\n",
       "    <tr>\n",
       "      <th>215352</th>\n",
       "      <td>Снизилась</td>\n",
       "      <td>стандарт</td>\n",
       "      <td>нет</td>\n",
       "      <td>5.1</td>\n",
       "      <td>3</td>\n",
       "      <td>1064</td>\n",
       "      <td>0.94</td>\n",
       "      <td>Товары для детей</td>\n",
       "      <td>3</td>\n",
       "      <td>2</td>\n",
       "      <td>3</td>\n",
       "      <td>2</td>\n",
       "      <td>5807.5</td>\n",
       "      <td>4594.0</td>\n",
       "      <td>5872.5</td>\n",
       "      <td>8</td>\n",
       "      <td>11</td>\n",
       "      <td>Не снизилась</td>\n",
       "      <td>4.21</td>\n",
       "    </tr>\n",
       "    <tr>\n",
       "      <th>215353</th>\n",
       "      <td>Снизилась</td>\n",
       "      <td>стандарт</td>\n",
       "      <td>да</td>\n",
       "      <td>3.3</td>\n",
       "      <td>4</td>\n",
       "      <td>762</td>\n",
       "      <td>0.26</td>\n",
       "      <td>Домашний текстиль</td>\n",
       "      <td>4</td>\n",
       "      <td>1</td>\n",
       "      <td>1</td>\n",
       "      <td>4</td>\n",
       "      <td>4738.5</td>\n",
       "      <td>5124.0</td>\n",
       "      <td>5388.5</td>\n",
       "      <td>10</td>\n",
       "      <td>10</td>\n",
       "      <td>Не снизилась</td>\n",
       "      <td>3.95</td>\n",
       "    </tr>\n",
       "  </tbody>\n",
       "</table>\n",
       "</div>"
      ],
      "text/plain": [
       "       покупательская_активность тип_сервиса разрешить_сообщать  \\\n",
       "id                                                                \n",
       "215349                 Снизилась     премиум                 да   \n",
       "215350                 Снизилась    стандарт                нет   \n",
       "215351                 Снизилась    стандарт                 да   \n",
       "215352                 Снизилась    стандарт                нет   \n",
       "215353                 Снизилась    стандарт                 да   \n",
       "\n",
       "        маркет_актив_6_мес  маркет_актив_тек_мес  длительность  \\\n",
       "id                                                               \n",
       "215349                 4.4                     4           819   \n",
       "215350                 4.9                     3           539   \n",
       "215351                 3.2                     5           896   \n",
       "215352                 5.1                     3          1064   \n",
       "215353                 3.3                     4           762   \n",
       "\n",
       "        акционные_покупки популярная_категория  \\\n",
       "id                                               \n",
       "215349               0.75     Товары для детей   \n",
       "215350               0.14    Домашний текстиль   \n",
       "215351               0.99     Товары для детей   \n",
       "215352               0.94     Товары для детей   \n",
       "215353               0.26    Домашний текстиль   \n",
       "\n",
       "        средний_просмотр_категорий_за_визит  \\\n",
       "id                                            \n",
       "215349                                    4   \n",
       "215350                                    5   \n",
       "215351                                    5   \n",
       "215352                                    3   \n",
       "215353                                    4   \n",
       "\n",
       "        неоплаченные_продукты_штук_квартал  ошибка_сервиса  страниц_за_визит  \\\n",
       "id                                                                             \n",
       "215349                                   4               2                 5   \n",
       "215350                                   2               1                 5   \n",
       "215351                                   0               6                 4   \n",
       "215352                                   2               3                 2   \n",
       "215353                                   1               1                 4   \n",
       "\n",
       "        выручка_предыдущий_месяц  выручка_препредыдущий_месяц  \\\n",
       "id                                                              \n",
       "215349                    5216.0                       4472.0   \n",
       "215350                    5457.5                       4826.0   \n",
       "215351                    6158.0                       4793.0   \n",
       "215352                    5807.5                       4594.0   \n",
       "215353                    4738.5                       5124.0   \n",
       "\n",
       "        выручка_текущий_месяц  минут_предыдущий_месяц  минут_текущий_месяц  \\\n",
       "id                                                                           \n",
       "215349                 4971.6                      12                   10   \n",
       "215350                 5058.4                       8                   13   \n",
       "215351                 6610.4                      11                   13   \n",
       "215352                 5872.5                       8                   11   \n",
       "215353                 5388.5                      10                   10   \n",
       "\n",
       "       прогноз_модели  прибыль  \n",
       "id                              \n",
       "215349      Снизилась     4.16  \n",
       "215350   Не снизилась     3.13  \n",
       "215351   Не снизилась     4.87  \n",
       "215352   Не снизилась     4.21  \n",
       "215353   Не снизилась     3.95  "
      ]
     },
     "execution_count": 88,
     "metadata": {},
     "output_type": "execute_result"
    }
   ],
   "source": [
    "df_model.head()"
   ]
  },
  {
   "cell_type": "code",
   "execution_count": 89,
   "metadata": {},
   "outputs": [
    {
     "data": {
      "image/png": "[encoded data removed]",
      "text/plain": [
       "<Figure size 432x288 with 1 Axes>"
      ]
     },
     "metadata": {
      "needs_background": "light"
     },
     "output_type": "display_data"
    }
   ],
   "source": [
    "sns.histplot(data=df_model, x='прибыль', hue='прогноз_модели', bins=20)\n",
    "plt.title('Прибыль')\n",
    "\n",
    "plt.tight_layout()\n",
    "plt.show()"
   ]
  },
  {
   "cell_type": "code",
   "execution_count": 90,
   "metadata": {},
   "outputs": [
    {
     "data": {
      "text/plain": [
       "count    1296.000000\n",
       "mean        3.997701\n",
       "std         1.011198\n",
       "min         0.860000\n",
       "25%         3.300000\n",
       "50%         4.045000\n",
       "75%         4.670000\n",
       "max         7.430000\n",
       "Name: прибыль, dtype: float64"
      ]
     },
     "execution_count": 90,
     "metadata": {},
     "output_type": "execute_result"
    }
   ],
   "source": [
    "df_model['прибыль'].describe()"
   ]
  },
  {
   "cell_type": "markdown",
   "metadata": {},
   "source": [
    "Среднее значение прибыли практически равно 4. Для дальнейшего анализа будем использовать группу пользователей со значением прибыли, выше среднего. Это наиболее выгодные клиенты для бизнеса и именно их есть смысл удержать."
   ]
  },
  {
   "cell_type": "code",
   "execution_count": 91,
   "metadata": {},
   "outputs": [],
   "source": [
    "df_most_profit = df_model[df_model['прибыль'] >= 4]"
   ]
  },
  {
   "cell_type": "code",
   "execution_count": 92,
   "metadata": {},
   "outputs": [
    {
     "data": {
      "text/plain": [
       "671"
      ]
     },
     "execution_count": 92,
     "metadata": {},
     "output_type": "execute_result"
    }
   ],
   "source": [
    "len(df_most_profit)"
   ]
  },
  {
   "cell_type": "markdown",
   "metadata": {},
   "source": [
    "Построим графики по данному датасету. Интерисующие нас столбцы - самые важные признаки для обученной модели."
   ]
  },
  {
   "cell_type": "code",
   "execution_count": 93,
   "metadata": {},
   "outputs": [
    {
     "data": {
      "image/png": "[encoded data removed]",
      "text/plain": [
       "<Figure size 1512x504 with 3 Axes>"
      ]
     },
     "metadata": {
      "needs_background": "light"
     },
     "output_type": "display_data"
    },
    {
     "data": {
      "image/png": "[encoded data removed]",
      "text/plain": [
       "<Figure size 1440x720 with 2 Axes>"
      ]
     },
     "metadata": {
      "needs_background": "light"
     },
     "output_type": "display_data"
    }
   ],
   "source": [
    "plt.figure(figsize=(21, 7))\n",
    "\n",
    "plt.subplot(1, 3, 1)\n",
    "sns.histplot(data=df_most_profit, x='страниц_за_визит', hue='прогноз_модели', bins=20)\n",
    "plt.title('Количество страниц за визит')\n",
    "\n",
    "plt.subplot(1, 3, 2)\n",
    "sns.histplot(data=df_most_profit, x='минут_текущий_месяц', hue='прогноз_модели', bins=20)\n",
    "plt.title('Значение времени, проведённого на сайте в текущем месяце, в минутах')\n",
    "\n",
    "plt.subplot(1, 3, 3)\n",
    "sns.histplot(data=df_most_profit, x='акционные_покупки', hue='прогноз_модели', bins=20)\n",
    "plt.title('Доля покупок по акции от общего числа покупок')\n",
    "\n",
    "plt.tight_layout()\n",
    "plt.show()\n",
    "\n",
    "plt.figure(figsize=(20, 10))\n",
    "\n",
    "plt.subplot(1, 2, 1)\n",
    "sns.histplot(data=df_most_profit, x='минут_предыдущий_месяц', hue='прогноз_модели', bins=15)\n",
    "plt.title('Значение времени, проведённого на сайте в предыдущем месяце, в минутах')\n",
    "\n",
    "plt.subplot(1, 2, 2)\n",
    "sns.histplot(data=df_most_profit, x='маркет_актив_6_мес', hue='прогноз_модели', bins=10)\n",
    "plt.title('Количество маркетинговых коммуникаций компании за полгода')\n",
    "\n",
    "plt.tight_layout()\n",
    "plt.show()"
   ]
  },
  {
   "cell_type": "code",
   "execution_count": 94,
   "metadata": {},
   "outputs": [
    {
     "data": {
      "text/html": [
       "<div>\n",
       "<style scoped>\n",
       "    .dataframe tbody tr th:only-of-type {\n",
       "        vertical-align: middle;\n",
       "    }\n",
       "\n",
       "    .dataframe tbody tr th {\n",
       "        vertical-align: top;\n",
       "    }\n",
       "\n",
       "    .dataframe thead th {\n",
       "        text-align: right;\n",
       "    }\n",
       "</style>\n",
       "<table border=\"1\" class=\"dataframe\">\n",
       "  <thead>\n",
       "    <tr style=\"text-align: right;\">\n",
       "      <th></th>\n",
       "      <th>count</th>\n",
       "      <th>mean</th>\n",
       "      <th>std</th>\n",
       "      <th>min</th>\n",
       "      <th>25%</th>\n",
       "      <th>50%</th>\n",
       "      <th>75%</th>\n",
       "      <th>max</th>\n",
       "    </tr>\n",
       "    <tr>\n",
       "      <th>прогноз_модели</th>\n",
       "      <th></th>\n",
       "      <th></th>\n",
       "      <th></th>\n",
       "      <th></th>\n",
       "      <th></th>\n",
       "      <th></th>\n",
       "      <th></th>\n",
       "      <th></th>\n",
       "    </tr>\n",
       "  </thead>\n",
       "  <tbody>\n",
       "    <tr>\n",
       "      <th>Не снизилась</th>\n",
       "      <td>600.0</td>\n",
       "      <td>8.578333</td>\n",
       "      <td>3.937389</td>\n",
       "      <td>1.0</td>\n",
       "      <td>6.0</td>\n",
       "      <td>8.0</td>\n",
       "      <td>11.0</td>\n",
       "      <td>20.0</td>\n",
       "    </tr>\n",
       "    <tr>\n",
       "      <th>Снизилась</th>\n",
       "      <td>71.0</td>\n",
       "      <td>4.070423</td>\n",
       "      <td>2.160185</td>\n",
       "      <td>1.0</td>\n",
       "      <td>2.5</td>\n",
       "      <td>4.0</td>\n",
       "      <td>5.0</td>\n",
       "      <td>14.0</td>\n",
       "    </tr>\n",
       "  </tbody>\n",
       "</table>\n",
       "</div>"
      ],
      "text/plain": [
       "                count      mean       std  min  25%  50%   75%   max\n",
       "прогноз_модели                                                      \n",
       "Не снизилась    600.0  8.578333  3.937389  1.0  6.0  8.0  11.0  20.0\n",
       "Снизилась        71.0  4.070423  2.160185  1.0  2.5  4.0   5.0  14.0"
      ]
     },
     "execution_count": 94,
     "metadata": {},
     "output_type": "execute_result"
    }
   ],
   "source": [
    "df_most_profit.groupby(by='прогноз_модели')['страниц_за_визит'].describe()"
   ]
  },
  {
   "cell_type": "markdown",
   "metadata": {},
   "source": [
    "Среднее количество просмотренных страниц у пользователей, у которых ожидается падение покупательской активности, - 4.1, в то время как среднее значение у остальных пользователей - 9.3. Снижение числа просмотренных страниц, может являться поводом для снижение активности покупателя. Возможное решение - удержание клиента на сайте путем введения/улучшения рекомендательных систем. Есть шанс, что увеличение просмотренных страниц положительно скажется на активности клиента."
   ]
  },
  {
   "cell_type": "code",
   "execution_count": 95,
   "metadata": {},
   "outputs": [
    {
     "data": {
      "text/html": [
       "<div>\n",
       "<style scoped>\n",
       "    .dataframe tbody tr th:only-of-type {\n",
       "        vertical-align: middle;\n",
       "    }\n",
       "\n",
       "    .dataframe tbody tr th {\n",
       "        vertical-align: top;\n",
       "    }\n",
       "\n",
       "    .dataframe thead th {\n",
       "        text-align: right;\n",
       "    }\n",
       "</style>\n",
       "<table border=\"1\" class=\"dataframe\">\n",
       "  <thead>\n",
       "    <tr style=\"text-align: right;\">\n",
       "      <th></th>\n",
       "      <th>count</th>\n",
       "      <th>mean</th>\n",
       "      <th>std</th>\n",
       "      <th>min</th>\n",
       "      <th>25%</th>\n",
       "      <th>50%</th>\n",
       "      <th>75%</th>\n",
       "      <th>max</th>\n",
       "    </tr>\n",
       "    <tr>\n",
       "      <th>прогноз_модели</th>\n",
       "      <th></th>\n",
       "      <th></th>\n",
       "      <th></th>\n",
       "      <th></th>\n",
       "      <th></th>\n",
       "      <th></th>\n",
       "      <th></th>\n",
       "      <th></th>\n",
       "    </tr>\n",
       "  </thead>\n",
       "  <tbody>\n",
       "    <tr>\n",
       "      <th>Не снизилась</th>\n",
       "      <td>600.0</td>\n",
       "      <td>13.650000</td>\n",
       "      <td>4.151251</td>\n",
       "      <td>4.0</td>\n",
       "      <td>10.0</td>\n",
       "      <td>14.0</td>\n",
       "      <td>17.0</td>\n",
       "      <td>23.0</td>\n",
       "    </tr>\n",
       "    <tr>\n",
       "      <th>Снизилась</th>\n",
       "      <td>71.0</td>\n",
       "      <td>9.661972</td>\n",
       "      <td>2.419821</td>\n",
       "      <td>4.0</td>\n",
       "      <td>8.0</td>\n",
       "      <td>10.0</td>\n",
       "      <td>11.0</td>\n",
       "      <td>17.0</td>\n",
       "    </tr>\n",
       "  </tbody>\n",
       "</table>\n",
       "</div>"
      ],
      "text/plain": [
       "                count       mean       std  min   25%   50%   75%   max\n",
       "прогноз_модели                                                         \n",
       "Не снизилась    600.0  13.650000  4.151251  4.0  10.0  14.0  17.0  23.0\n",
       "Снизилась        71.0   9.661972  2.419821  4.0   8.0  10.0  11.0  17.0"
      ]
     },
     "execution_count": 95,
     "metadata": {},
     "output_type": "execute_result"
    }
   ],
   "source": [
    "df_most_profit.groupby(by='прогноз_модели')['минут_текущий_месяц'].describe()"
   ]
  },
  {
   "cell_type": "markdown",
   "metadata": {},
   "source": [
    "Среднее значение времени, проведенного на сайте в текущем месяце, у пользователей, у которых ожидается падение покупательской активности, - 9.7, в то время как среднее значение у остальных пользователей - 14.2. Рекомендации - как по количеству просмотренных страниц."
   ]
  },
  {
   "cell_type": "code",
   "execution_count": 96,
   "metadata": {},
   "outputs": [
    {
     "data": {
      "text/html": [
       "<div>\n",
       "<style scoped>\n",
       "    .dataframe tbody tr th:only-of-type {\n",
       "        vertical-align: middle;\n",
       "    }\n",
       "\n",
       "    .dataframe tbody tr th {\n",
       "        vertical-align: top;\n",
       "    }\n",
       "\n",
       "    .dataframe thead th {\n",
       "        text-align: right;\n",
       "    }\n",
       "</style>\n",
       "<table border=\"1\" class=\"dataframe\">\n",
       "  <thead>\n",
       "    <tr style=\"text-align: right;\">\n",
       "      <th></th>\n",
       "      <th>count</th>\n",
       "      <th>mean</th>\n",
       "      <th>std</th>\n",
       "      <th>min</th>\n",
       "      <th>25%</th>\n",
       "      <th>50%</th>\n",
       "      <th>75%</th>\n",
       "      <th>max</th>\n",
       "    </tr>\n",
       "    <tr>\n",
       "      <th>прогноз_модели</th>\n",
       "      <th></th>\n",
       "      <th></th>\n",
       "      <th></th>\n",
       "      <th></th>\n",
       "      <th></th>\n",
       "      <th></th>\n",
       "      <th></th>\n",
       "      <th></th>\n",
       "    </tr>\n",
       "  </thead>\n",
       "  <tbody>\n",
       "    <tr>\n",
       "      <th>Не снизилась</th>\n",
       "      <td>600.0</td>\n",
       "      <td>13.931667</td>\n",
       "      <td>3.699072</td>\n",
       "      <td>5.0</td>\n",
       "      <td>11.0</td>\n",
       "      <td>14.0</td>\n",
       "      <td>17.0</td>\n",
       "      <td>23.0</td>\n",
       "    </tr>\n",
       "    <tr>\n",
       "      <th>Снизилась</th>\n",
       "      <td>71.0</td>\n",
       "      <td>9.028169</td>\n",
       "      <td>2.104226</td>\n",
       "      <td>5.0</td>\n",
       "      <td>8.0</td>\n",
       "      <td>9.0</td>\n",
       "      <td>10.0</td>\n",
       "      <td>14.0</td>\n",
       "    </tr>\n",
       "  </tbody>\n",
       "</table>\n",
       "</div>"
      ],
      "text/plain": [
       "                count       mean       std  min   25%   50%   75%   max\n",
       "прогноз_модели                                                         \n",
       "Не снизилась    600.0  13.931667  3.699072  5.0  11.0  14.0  17.0  23.0\n",
       "Снизилась        71.0   9.028169  2.104226  5.0   8.0   9.0  10.0  14.0"
      ]
     },
     "execution_count": 96,
     "metadata": {},
     "output_type": "execute_result"
    }
   ],
   "source": [
    "df_most_profit.groupby(by='прогноз_модели')['минут_предыдущий_месяц'].describe()"
   ]
  },
  {
   "cell_type": "markdown",
   "metadata": {},
   "source": [
    "Среднее значение времени, проведенного на сайте в текущем месяце, у пользователей, у которых ожидается падение покупательской активности, - 9.7, в то время как среднее значение у остальных пользователей - 14.5. Рекомендации - как по количеству просмотренных страниц."
   ]
  },
  {
   "cell_type": "code",
   "execution_count": 97,
   "metadata": {},
   "outputs": [
    {
     "data": {
      "text/html": [
       "<div>\n",
       "<style scoped>\n",
       "    .dataframe tbody tr th:only-of-type {\n",
       "        vertical-align: middle;\n",
       "    }\n",
       "\n",
       "    .dataframe tbody tr th {\n",
       "        vertical-align: top;\n",
       "    }\n",
       "\n",
       "    .dataframe thead th {\n",
       "        text-align: right;\n",
       "    }\n",
       "</style>\n",
       "<table border=\"1\" class=\"dataframe\">\n",
       "  <thead>\n",
       "    <tr style=\"text-align: right;\">\n",
       "      <th></th>\n",
       "      <th>count</th>\n",
       "      <th>mean</th>\n",
       "      <th>std</th>\n",
       "      <th>min</th>\n",
       "      <th>25%</th>\n",
       "      <th>50%</th>\n",
       "      <th>75%</th>\n",
       "      <th>max</th>\n",
       "    </tr>\n",
       "    <tr>\n",
       "      <th>прогноз_модели</th>\n",
       "      <th></th>\n",
       "      <th></th>\n",
       "      <th></th>\n",
       "      <th></th>\n",
       "      <th></th>\n",
       "      <th></th>\n",
       "      <th></th>\n",
       "      <th></th>\n",
       "    </tr>\n",
       "  </thead>\n",
       "  <tbody>\n",
       "    <tr>\n",
       "      <th>Не снизилась</th>\n",
       "      <td>600.0</td>\n",
       "      <td>0.282483</td>\n",
       "      <td>0.210669</td>\n",
       "      <td>0.11</td>\n",
       "      <td>0.170</td>\n",
       "      <td>0.24</td>\n",
       "      <td>0.28</td>\n",
       "      <td>0.99</td>\n",
       "    </tr>\n",
       "    <tr>\n",
       "      <th>Снизилась</th>\n",
       "      <td>71.0</td>\n",
       "      <td>0.608592</td>\n",
       "      <td>0.327651</td>\n",
       "      <td>0.21</td>\n",
       "      <td>0.295</td>\n",
       "      <td>0.40</td>\n",
       "      <td>0.94</td>\n",
       "      <td>0.99</td>\n",
       "    </tr>\n",
       "  </tbody>\n",
       "</table>\n",
       "</div>"
      ],
      "text/plain": [
       "                count      mean       std   min    25%   50%   75%   max\n",
       "прогноз_модели                                                          \n",
       "Не снизилась    600.0  0.282483  0.210669  0.11  0.170  0.24  0.28  0.99\n",
       "Снизилась        71.0  0.608592  0.327651  0.21  0.295  0.40  0.94  0.99"
      ]
     },
     "execution_count": 97,
     "metadata": {},
     "output_type": "execute_result"
    }
   ],
   "source": [
    "df_most_profit.groupby(by='прогноз_модели')['акционные_покупки'].describe()"
   ]
  },
  {
   "cell_type": "markdown",
   "metadata": {},
   "source": [
    "Средняя доля покупок акционных товаров у пользователей, у которых ожидается падение покупательской активности, - 47%, в то время как среднее значение у остальных пользователей - 27%. Эти пользователи чаще остальных покупают товары по акциям. Возможно, если мы хотим увеличить активность этих покупателей, необходимо делать этим клиентам персональные спецпредложения."
   ]
  },
  {
   "cell_type": "code",
   "execution_count": 98,
   "metadata": {},
   "outputs": [
    {
     "data": {
      "text/html": [
       "<div>\n",
       "<style scoped>\n",
       "    .dataframe tbody tr th:only-of-type {\n",
       "        vertical-align: middle;\n",
       "    }\n",
       "\n",
       "    .dataframe tbody tr th {\n",
       "        vertical-align: top;\n",
       "    }\n",
       "\n",
       "    .dataframe thead th {\n",
       "        text-align: right;\n",
       "    }\n",
       "</style>\n",
       "<table border=\"1\" class=\"dataframe\">\n",
       "  <thead>\n",
       "    <tr style=\"text-align: right;\">\n",
       "      <th></th>\n",
       "      <th>count</th>\n",
       "      <th>mean</th>\n",
       "      <th>std</th>\n",
       "      <th>min</th>\n",
       "      <th>25%</th>\n",
       "      <th>50%</th>\n",
       "      <th>75%</th>\n",
       "      <th>max</th>\n",
       "    </tr>\n",
       "    <tr>\n",
       "      <th>прогноз_модели</th>\n",
       "      <th></th>\n",
       "      <th></th>\n",
       "      <th></th>\n",
       "      <th></th>\n",
       "      <th></th>\n",
       "      <th></th>\n",
       "      <th></th>\n",
       "      <th></th>\n",
       "    </tr>\n",
       "  </thead>\n",
       "  <tbody>\n",
       "    <tr>\n",
       "      <th>Не снизилась</th>\n",
       "      <td>600.0</td>\n",
       "      <td>4.345333</td>\n",
       "      <td>0.951466</td>\n",
       "      <td>0.9</td>\n",
       "      <td>3.8</td>\n",
       "      <td>4.3</td>\n",
       "      <td>5.0</td>\n",
       "      <td>6.6</td>\n",
       "    </tr>\n",
       "    <tr>\n",
       "      <th>Снизилась</th>\n",
       "      <td>71.0</td>\n",
       "      <td>3.347887</td>\n",
       "      <td>0.946552</td>\n",
       "      <td>0.9</td>\n",
       "      <td>2.7</td>\n",
       "      <td>3.5</td>\n",
       "      <td>4.1</td>\n",
       "      <td>4.8</td>\n",
       "    </tr>\n",
       "  </tbody>\n",
       "</table>\n",
       "</div>"
      ],
      "text/plain": [
       "                count      mean       std  min  25%  50%  75%  max\n",
       "прогноз_модели                                                    \n",
       "Не снизилась    600.0  4.345333  0.951466  0.9  3.8  4.3  5.0  6.6\n",
       "Снизилась        71.0  3.347887  0.946552  0.9  2.7  3.5  4.1  4.8"
      ]
     },
     "execution_count": 98,
     "metadata": {},
     "output_type": "execute_result"
    }
   ],
   "source": [
    "df_most_profit.groupby(by='прогноз_модели')['маркет_актив_6_мес'].describe()"
   ]
  },
  {
   "cell_type": "markdown",
   "metadata": {},
   "source": [
    "Среднее количество маркетинговых коммуникаций компании, которое приходилось на покупателя за последние 6 месяцев, у пользователей, у которых ожидается падение покупательской активности, - 3.2, в то время как среднее значение у остальных пользователей - 4.5. Возможно, необходимо увеличить количество рекламных рассылок для данной группы пользователей."
   ]
  },
  {
   "cell_type": "markdown",
   "metadata": {},
   "source": [
    "## Общий вывод"
   ]
  },
  {
   "cell_type": "markdown",
   "metadata": {},
   "source": [
    "Проект проводился по заказу интернет-магазина \"В один клик\". Требовалось разработать модель машинного обучения, которая позволит персонализировать предложения постоянным клиентам, чтобы увеличить их покупательскую активность.\n",
    "\n",
    "На этапе предобработки данных были проделаны следующие шаги:\n",
    " - названия столбцов приведены к общему виду;\n",
    " - исправлены опечатки в данных;\n",
    " - данные проверены на наличие пропусков и дубликатов.\n",
    " \n",
    "В ходе исследовательского анализа данных было обнаружено:\n",
    " - в данных присутствуют выбросы;\n",
    " - наблюдается дисбаланс классов.\n",
    " \n",
    "Данные (кроме прибыли) были объединены в единный датасет. Были удалены 4 наблюдения неактивных клиентов.\n",
    "\n",
    "В ходе корреляционного анализа было обнаружено, что мультиколлинеарность отсутствует.\n",
    "\n",
    "Был создан пайплайн для нахождения наилучшей модели машинного обучения. По итогам обучения было обнаружено, что наилучшая модель - дерево решений с гиперпараметрами max_depth=5 и max_features=5.\n",
    "\n",
    "По итогам построение графика важности признаков с помощью метода SHAP было обнаружено:\n",
    "\n",
    "Наиболее важные признаки для модели:\n",
    " - среднее количество страниц, которые просмотрел покупатель за один визит на сайт за последние 3 месяца;\n",
    " - значение времени, проведённого на сайте в текущем месяце, в минутах;\n",
    " - среднемесячная доля покупок по акции от общего числа покупок за последние 6 месяцев;\n",
    " - значение времени, проведённого на сайте в предыдущем месяце, в минутах;\n",
    " - количество маркетинговых коммуникаций компании, которое приходилось на покупателя за последние 6 месяцев.\n",
    " \n",
    "Такие признаки, как: популярные категории и уровень сервиса никак не влияют на модель.\n",
    " \n",
    "Для сегментации покупателей был выбран порог 0.9 для наиболее точного определения уходящих клиентов. Также были отобраны только клиенты с прибылью выше среднего, так как они представляют наибольший интерес для бизнеса. Было обнаружено:\n",
    " - среднее количество просмотренных страниц у пользователей, у которых ожидается падение покупательской активности, ниже среднего значения пользователей, у которых прогнозируется сохранение уровня покупательской активности. Предлагаемое решение - удержание клиентов на сайте путем введения/улучшения рекомендательных систем;\n",
    " - среднее значение времени, проведенного на сайте в текущем и предыдущем месяцах, у пользователей, у которых ожидается падение покупательской активности, ниже среднего значения пользователей, у которых прогнозируется сохранение уровня покупательской активности. Предлагаемое решение - удержание клиентов на сайте путем введения/улучшения рекомендательных систем;\n",
    " - средняя доля покупок акционных товаров у пользователей, у которых ожидается падение покупательской активности, выше среднего значения пользователей, у которых прогнозируется сохранение уровня покупательской активности. Предлагаемое решение - делать этим клиентам персональные спецпредложения;\n",
    " - среднее количество маркетинговых коммуникаций компании, которое приходилось на покупателя за последние 6 месяцев у пользователей, у которых ожидается падение покупательской активности ниже среднего значения пользователей, у которых прогнозируется сохранение уровня покупательской активности. Предлагаемое решение -  увеличить количество рекламных рассылок для данной группы пользователей"
   ]
  }
 ],
 "metadata": {
  "ExecuteTimeLog": [
   {
    "duration": 1734,
    "start_time": "2024-05-14T18:50:34.583Z"
   },
   {
    "duration": 6,
    "start_time": "2024-05-14T18:50:50.784Z"
   },
   {
    "duration": 5,
    "start_time": "2024-05-14T18:51:26.348Z"
   },
   {
    "duration": 145,
    "start_time": "2024-05-14T18:52:23.632Z"
   },
   {
    "duration": 122,
    "start_time": "2024-05-14T18:52:49.041Z"
   },
   {
    "duration": 33,
    "start_time": "2024-05-14T18:53:02.756Z"
   },
   {
    "duration": 9,
    "start_time": "2024-05-14T18:54:05.303Z"
   },
   {
    "duration": 31,
    "start_time": "2024-05-14T18:54:13.670Z"
   },
   {
    "duration": 121,
    "start_time": "2024-05-14T18:58:34.495Z"
   },
   {
    "duration": 21,
    "start_time": "2024-05-14T18:59:02.904Z"
   },
   {
    "duration": 30,
    "start_time": "2024-05-14T18:59:32.514Z"
   },
   {
    "duration": 23,
    "start_time": "2024-05-14T18:59:33.900Z"
   },
   {
    "duration": 99,
    "start_time": "2024-05-14T18:59:54.519Z"
   },
   {
    "duration": 20,
    "start_time": "2024-05-14T19:00:14.507Z"
   },
   {
    "duration": 29,
    "start_time": "2024-05-14T19:00:41.260Z"
   },
   {
    "duration": 20,
    "start_time": "2024-05-14T19:00:42.803Z"
   },
   {
    "duration": 28,
    "start_time": "2024-05-14T19:01:00.837Z"
   },
   {
    "duration": 20,
    "start_time": "2024-05-14T19:01:02.108Z"
   },
   {
    "duration": 28,
    "start_time": "2024-05-14T19:01:17.470Z"
   },
   {
    "duration": 21,
    "start_time": "2024-05-14T19:01:18.824Z"
   },
   {
    "duration": 29,
    "start_time": "2024-05-14T19:01:26.802Z"
   },
   {
    "duration": 87,
    "start_time": "2024-05-14T19:01:50.224Z"
   },
   {
    "duration": 23,
    "start_time": "2024-05-14T19:01:58.853Z"
   },
   {
    "duration": 36,
    "start_time": "2024-05-14T19:02:17.354Z"
   },
   {
    "duration": 19,
    "start_time": "2024-05-14T19:02:18.716Z"
   },
   {
    "duration": 36,
    "start_time": "2024-05-14T19:02:31.987Z"
   },
   {
    "duration": 22,
    "start_time": "2024-05-14T19:02:34.240Z"
   },
   {
    "duration": 1689,
    "start_time": "2024-05-20T17:57:03.825Z"
   },
   {
    "duration": 5,
    "start_time": "2024-05-20T17:57:05.517Z"
   },
   {
    "duration": 114,
    "start_time": "2024-05-20T17:57:05.524Z"
   },
   {
    "duration": 34,
    "start_time": "2024-05-20T17:57:05.640Z"
   },
   {
    "duration": 65,
    "start_time": "2024-05-20T17:57:05.676Z"
   },
   {
    "duration": 23,
    "start_time": "2024-05-20T17:57:05.743Z"
   },
   {
    "duration": 92,
    "start_time": "2024-05-20T17:57:05.768Z"
   },
   {
    "duration": 22,
    "start_time": "2024-05-20T17:57:05.861Z"
   },
   {
    "duration": 69,
    "start_time": "2024-05-20T17:57:05.885Z"
   },
   {
    "duration": 21,
    "start_time": "2024-05-20T17:57:05.955Z"
   },
   {
    "duration": 4,
    "start_time": "2024-05-20T18:03:28.216Z"
   },
   {
    "duration": 1008,
    "start_time": "2024-05-20T18:03:56.607Z"
   },
   {
    "duration": 5,
    "start_time": "2024-05-20T18:04:00.559Z"
   },
   {
    "duration": 5,
    "start_time": "2024-05-20T18:04:33.193Z"
   },
   {
    "duration": 4,
    "start_time": "2024-05-20T18:04:34.916Z"
   },
   {
    "duration": 4,
    "start_time": "2024-05-20T18:06:21.133Z"
   },
   {
    "duration": 13,
    "start_time": "2024-05-20T18:07:14.521Z"
   },
   {
    "duration": 12,
    "start_time": "2024-05-20T18:07:28.660Z"
   },
   {
    "duration": 13,
    "start_time": "2024-05-20T18:10:22.460Z"
   },
   {
    "duration": 5,
    "start_time": "2024-05-20T18:11:09.883Z"
   },
   {
    "duration": 13,
    "start_time": "2024-05-20T18:11:15.213Z"
   },
   {
    "duration": 4,
    "start_time": "2024-05-20T18:11:19.427Z"
   },
   {
    "duration": 30,
    "start_time": "2024-05-20T18:11:37.694Z"
   },
   {
    "duration": 5,
    "start_time": "2024-05-20T19:08:09.368Z"
   },
   {
    "duration": 14,
    "start_time": "2024-05-20T19:08:21.606Z"
   },
   {
    "duration": 5,
    "start_time": "2024-05-20T19:08:25.036Z"
   },
   {
    "duration": 319,
    "start_time": "2024-05-20T19:09:10.032Z"
   },
   {
    "duration": 4,
    "start_time": "2024-05-20T19:09:19.137Z"
   },
   {
    "duration": 97,
    "start_time": "2024-05-20T19:11:01.273Z"
   },
   {
    "duration": 3,
    "start_time": "2024-05-20T19:11:31.643Z"
   },
   {
    "duration": 5,
    "start_time": "2024-05-20T19:11:43.359Z"
   },
   {
    "duration": 5,
    "start_time": "2024-05-20T19:11:51.018Z"
   },
   {
    "duration": 881,
    "start_time": "2024-05-20T19:12:03.981Z"
   },
   {
    "duration": 4,
    "start_time": "2024-05-20T19:12:07.200Z"
   },
   {
    "duration": 882,
    "start_time": "2024-05-20T19:12:12.814Z"
   },
   {
    "duration": 3,
    "start_time": "2024-05-20T19:12:26.280Z"
   },
   {
    "duration": 3,
    "start_time": "2024-05-20T19:14:21.197Z"
   },
   {
    "duration": 4,
    "start_time": "2024-05-20T19:14:49.937Z"
   },
   {
    "duration": 4,
    "start_time": "2024-05-20T19:14:58.719Z"
   },
   {
    "duration": 4,
    "start_time": "2024-05-20T19:15:18.519Z"
   },
   {
    "duration": 5,
    "start_time": "2024-05-20T19:15:55.407Z"
   },
   {
    "duration": 2,
    "start_time": "2024-05-20T19:16:10.966Z"
   },
   {
    "duration": 5,
    "start_time": "2024-05-20T19:17:14.890Z"
   },
   {
    "duration": 3,
    "start_time": "2024-05-20T19:17:25.384Z"
   },
   {
    "duration": 1419,
    "start_time": "2024-05-20T19:22:11.895Z"
   },
   {
    "duration": 4,
    "start_time": "2024-05-20T19:22:13.316Z"
   },
   {
    "duration": 45,
    "start_time": "2024-05-20T19:22:13.321Z"
   },
   {
    "duration": 35,
    "start_time": "2024-05-20T19:22:13.368Z"
   },
   {
    "duration": 19,
    "start_time": "2024-05-20T19:22:13.405Z"
   },
   {
    "duration": 23,
    "start_time": "2024-05-20T19:22:13.426Z"
   },
   {
    "duration": 18,
    "start_time": "2024-05-20T19:22:13.450Z"
   },
   {
    "duration": 21,
    "start_time": "2024-05-20T19:22:13.470Z"
   },
   {
    "duration": 39,
    "start_time": "2024-05-20T19:22:13.493Z"
   },
   {
    "duration": 21,
    "start_time": "2024-05-20T19:22:13.534Z"
   },
   {
    "duration": 4,
    "start_time": "2024-05-20T19:22:13.557Z"
   },
   {
    "duration": 32,
    "start_time": "2024-05-20T19:22:13.563Z"
   },
   {
    "duration": 16,
    "start_time": "2024-05-20T19:22:13.597Z"
   },
   {
    "duration": 24,
    "start_time": "2024-05-20T19:22:13.615Z"
   },
   {
    "duration": 7,
    "start_time": "2024-05-20T19:22:13.641Z"
   },
   {
    "duration": 8,
    "start_time": "2024-05-20T19:22:13.650Z"
   },
   {
    "duration": 18,
    "start_time": "2024-05-20T19:22:13.660Z"
   },
   {
    "duration": 7,
    "start_time": "2024-05-20T19:22:13.679Z"
   },
   {
    "duration": 3,
    "start_time": "2024-05-20T19:23:07.455Z"
   },
   {
    "duration": 7,
    "start_time": "2024-05-20T19:23:55.853Z"
   },
   {
    "duration": 5,
    "start_time": "2024-05-20T19:24:02.045Z"
   },
   {
    "duration": 117,
    "start_time": "2024-05-20T19:25:00.178Z"
   },
   {
    "duration": 10,
    "start_time": "2024-05-20T19:25:03.775Z"
   },
   {
    "duration": 5,
    "start_time": "2024-05-20T19:27:55.782Z"
   },
   {
    "duration": 1596,
    "start_time": "2024-05-21T16:25:54.499Z"
   },
   {
    "duration": 3,
    "start_time": "2024-05-21T16:25:56.097Z"
   },
   {
    "duration": 245,
    "start_time": "2024-05-21T16:25:56.102Z"
   },
   {
    "duration": 39,
    "start_time": "2024-05-21T16:25:56.349Z"
   },
   {
    "duration": 147,
    "start_time": "2024-05-21T16:25:56.390Z"
   },
   {
    "duration": 21,
    "start_time": "2024-05-21T16:25:56.539Z"
   },
   {
    "duration": 70,
    "start_time": "2024-05-21T16:25:56.562Z"
   },
   {
    "duration": 18,
    "start_time": "2024-05-21T16:25:56.634Z"
   },
   {
    "duration": 85,
    "start_time": "2024-05-21T16:25:56.653Z"
   },
   {
    "duration": 19,
    "start_time": "2024-05-21T16:25:56.740Z"
   },
   {
    "duration": 3,
    "start_time": "2024-05-21T16:25:56.760Z"
   },
   {
    "duration": 9,
    "start_time": "2024-05-21T16:25:56.765Z"
   },
   {
    "duration": 11,
    "start_time": "2024-05-21T16:25:56.776Z"
   },
   {
    "duration": 75,
    "start_time": "2024-05-21T16:25:56.788Z"
   },
   {
    "duration": 6,
    "start_time": "2024-05-21T16:25:56.865Z"
   },
   {
    "duration": 10,
    "start_time": "2024-05-21T16:25:56.872Z"
   },
   {
    "duration": 8,
    "start_time": "2024-05-21T16:25:56.883Z"
   },
   {
    "duration": 11,
    "start_time": "2024-05-21T16:25:56.893Z"
   },
   {
    "duration": 24,
    "start_time": "2024-05-21T16:25:56.906Z"
   },
   {
    "duration": 20,
    "start_time": "2024-05-21T16:25:56.932Z"
   },
   {
    "duration": 5,
    "start_time": "2024-05-21T16:26:51.429Z"
   },
   {
    "duration": 4,
    "start_time": "2024-05-21T16:31:05.366Z"
   },
   {
    "duration": 4,
    "start_time": "2024-05-21T16:31:06.882Z"
   },
   {
    "duration": 4,
    "start_time": "2024-05-21T16:32:37.593Z"
   },
   {
    "duration": 5,
    "start_time": "2024-05-21T16:32:42.796Z"
   },
   {
    "duration": 28,
    "start_time": "2024-05-21T16:36:16.131Z"
   },
   {
    "duration": 24,
    "start_time": "2024-05-21T16:37:10.652Z"
   },
   {
    "duration": 5,
    "start_time": "2024-05-21T16:38:11.514Z"
   },
   {
    "duration": 812,
    "start_time": "2024-05-21T16:38:51.855Z"
   },
   {
    "duration": 717,
    "start_time": "2024-05-21T16:39:22.036Z"
   },
   {
    "duration": 9,
    "start_time": "2024-05-21T16:39:35.640Z"
   },
   {
    "duration": 8,
    "start_time": "2024-05-21T16:42:16.852Z"
   },
   {
    "duration": 1292,
    "start_time": "2024-05-21T16:44:32.422Z"
   },
   {
    "duration": 3,
    "start_time": "2024-05-21T16:44:33.716Z"
   },
   {
    "duration": 38,
    "start_time": "2024-05-21T16:44:33.721Z"
   },
   {
    "duration": 35,
    "start_time": "2024-05-21T16:44:33.760Z"
   },
   {
    "duration": 77,
    "start_time": "2024-05-21T16:44:33.798Z"
   },
   {
    "duration": 98,
    "start_time": "2024-05-21T16:44:33.876Z"
   },
   {
    "duration": 18,
    "start_time": "2024-05-21T16:44:33.975Z"
   },
   {
    "duration": 21,
    "start_time": "2024-05-21T16:44:33.995Z"
   },
   {
    "duration": 26,
    "start_time": "2024-05-21T16:44:34.018Z"
   },
   {
    "duration": 26,
    "start_time": "2024-05-21T16:44:34.045Z"
   },
   {
    "duration": 3,
    "start_time": "2024-05-21T16:44:34.073Z"
   },
   {
    "duration": 18,
    "start_time": "2024-05-21T16:44:34.078Z"
   },
   {
    "duration": 13,
    "start_time": "2024-05-21T16:44:34.098Z"
   },
   {
    "duration": 39,
    "start_time": "2024-05-21T16:44:34.114Z"
   },
   {
    "duration": 10,
    "start_time": "2024-05-21T16:44:34.154Z"
   },
   {
    "duration": 30,
    "start_time": "2024-05-21T16:44:34.165Z"
   },
   {
    "duration": 25,
    "start_time": "2024-05-21T16:44:34.197Z"
   },
   {
    "duration": 103,
    "start_time": "2024-05-21T16:44:34.224Z"
   },
   {
    "duration": 32,
    "start_time": "2024-05-21T16:44:34.328Z"
   },
   {
    "duration": 37,
    "start_time": "2024-05-21T16:44:34.362Z"
   },
   {
    "duration": 16,
    "start_time": "2024-05-21T16:44:34.401Z"
   },
   {
    "duration": 6,
    "start_time": "2024-05-21T16:44:34.419Z"
   },
   {
    "duration": 165,
    "start_time": "2024-05-21T16:44:34.427Z"
   },
   {
    "duration": 23,
    "start_time": "2024-05-21T16:44:34.593Z"
   },
   {
    "duration": 20,
    "start_time": "2024-05-21T16:45:27.617Z"
   },
   {
    "duration": 21,
    "start_time": "2024-05-21T16:45:46.230Z"
   },
   {
    "duration": 6,
    "start_time": "2024-05-21T16:59:12.552Z"
   },
   {
    "duration": 13,
    "start_time": "2024-05-21T17:05:02.842Z"
   },
   {
    "duration": 5,
    "start_time": "2024-05-21T17:08:06.080Z"
   },
   {
    "duration": 4,
    "start_time": "2024-05-21T17:09:07.077Z"
   },
   {
    "duration": 1388,
    "start_time": "2024-05-21T17:54:40.418Z"
   },
   {
    "duration": 4,
    "start_time": "2024-05-21T17:54:41.808Z"
   },
   {
    "duration": 39,
    "start_time": "2024-05-21T17:54:41.814Z"
   },
   {
    "duration": 34,
    "start_time": "2024-05-21T17:54:41.854Z"
   },
   {
    "duration": 19,
    "start_time": "2024-05-21T17:54:41.890Z"
   },
   {
    "duration": 22,
    "start_time": "2024-05-21T17:54:41.911Z"
   },
   {
    "duration": 18,
    "start_time": "2024-05-21T17:54:41.935Z"
   },
   {
    "duration": 24,
    "start_time": "2024-05-21T17:54:41.955Z"
   },
   {
    "duration": 25,
    "start_time": "2024-05-21T17:54:41.980Z"
   },
   {
    "duration": 17,
    "start_time": "2024-05-21T17:54:42.007Z"
   },
   {
    "duration": 3,
    "start_time": "2024-05-21T17:54:42.025Z"
   },
   {
    "duration": 5,
    "start_time": "2024-05-21T17:54:42.029Z"
   },
   {
    "duration": 7,
    "start_time": "2024-05-21T17:54:42.035Z"
   },
   {
    "duration": 24,
    "start_time": "2024-05-21T17:54:42.045Z"
   },
   {
    "duration": 51,
    "start_time": "2024-05-21T17:54:42.071Z"
   },
   {
    "duration": 8,
    "start_time": "2024-05-21T17:54:42.123Z"
   },
   {
    "duration": 10,
    "start_time": "2024-05-21T17:54:42.133Z"
   },
   {
    "duration": 165,
    "start_time": "2024-05-21T17:54:42.145Z"
   },
   {
    "duration": 5,
    "start_time": "2024-05-21T17:54:42.312Z"
   },
   {
    "duration": 940,
    "start_time": "2024-05-21T17:54:42.319Z"
   },
   {
    "duration": 0,
    "start_time": "2024-05-21T17:54:43.261Z"
   },
   {
    "duration": 0,
    "start_time": "2024-05-21T17:54:43.262Z"
   },
   {
    "duration": 0,
    "start_time": "2024-05-21T17:54:43.263Z"
   },
   {
    "duration": 0,
    "start_time": "2024-05-21T17:54:43.264Z"
   },
   {
    "duration": 0,
    "start_time": "2024-05-21T17:54:43.265Z"
   },
   {
    "duration": 0,
    "start_time": "2024-05-21T17:54:43.266Z"
   },
   {
    "duration": 0,
    "start_time": "2024-05-21T17:54:43.267Z"
   },
   {
    "duration": 0,
    "start_time": "2024-05-21T17:54:43.269Z"
   },
   {
    "duration": 1,
    "start_time": "2024-05-21T17:54:43.269Z"
   },
   {
    "duration": 1415,
    "start_time": "2024-05-21T17:55:31.910Z"
   },
   {
    "duration": 4,
    "start_time": "2024-05-21T17:55:33.327Z"
   },
   {
    "duration": 37,
    "start_time": "2024-05-21T17:55:33.332Z"
   },
   {
    "duration": 32,
    "start_time": "2024-05-21T17:55:33.371Z"
   },
   {
    "duration": 75,
    "start_time": "2024-05-21T17:55:33.404Z"
   },
   {
    "duration": 23,
    "start_time": "2024-05-21T17:55:33.480Z"
   },
   {
    "duration": 17,
    "start_time": "2024-05-21T17:55:33.505Z"
   },
   {
    "duration": 19,
    "start_time": "2024-05-21T17:55:33.524Z"
   },
   {
    "duration": 25,
    "start_time": "2024-05-21T17:55:33.545Z"
   },
   {
    "duration": 19,
    "start_time": "2024-05-21T17:55:33.573Z"
   },
   {
    "duration": 3,
    "start_time": "2024-05-21T17:55:33.594Z"
   },
   {
    "duration": 57,
    "start_time": "2024-05-21T17:55:33.598Z"
   },
   {
    "duration": 4,
    "start_time": "2024-05-21T17:55:33.657Z"
   },
   {
    "duration": 6,
    "start_time": "2024-05-21T17:55:33.662Z"
   },
   {
    "duration": 10,
    "start_time": "2024-05-21T17:55:33.669Z"
   },
   {
    "duration": 80,
    "start_time": "2024-05-21T17:55:33.680Z"
   },
   {
    "duration": 5,
    "start_time": "2024-05-21T17:55:33.761Z"
   },
   {
    "duration": 12,
    "start_time": "2024-05-21T17:55:33.767Z"
   },
   {
    "duration": 15,
    "start_time": "2024-05-21T17:55:33.780Z"
   },
   {
    "duration": 5,
    "start_time": "2024-05-21T17:55:33.796Z"
   },
   {
    "duration": 14,
    "start_time": "2024-05-21T17:55:33.802Z"
   },
   {
    "duration": 17,
    "start_time": "2024-05-21T17:55:33.817Z"
   },
   {
    "duration": 41,
    "start_time": "2024-05-21T17:55:33.836Z"
   },
   {
    "duration": 22,
    "start_time": "2024-05-21T17:55:33.879Z"
   },
   {
    "duration": 21,
    "start_time": "2024-05-21T17:55:33.902Z"
   },
   {
    "duration": 56,
    "start_time": "2024-05-21T17:55:33.925Z"
   },
   {
    "duration": 5,
    "start_time": "2024-05-21T17:55:33.982Z"
   },
   {
    "duration": 12,
    "start_time": "2024-05-21T17:55:33.990Z"
   },
   {
    "duration": 13,
    "start_time": "2024-05-21T17:55:34.004Z"
   },
   {
    "duration": 1633,
    "start_time": "2024-05-25T14:30:28.937Z"
   },
   {
    "duration": 4,
    "start_time": "2024-05-25T14:30:30.572Z"
   },
   {
    "duration": 205,
    "start_time": "2024-05-25T14:30:30.578Z"
   },
   {
    "duration": 37,
    "start_time": "2024-05-25T14:30:30.784Z"
   },
   {
    "duration": 132,
    "start_time": "2024-05-25T14:30:30.824Z"
   },
   {
    "duration": 143,
    "start_time": "2024-05-25T14:30:30.958Z"
   },
   {
    "duration": 122,
    "start_time": "2024-05-25T14:30:31.103Z"
   },
   {
    "duration": 21,
    "start_time": "2024-05-25T14:30:31.227Z"
   },
   {
    "duration": 124,
    "start_time": "2024-05-25T14:30:31.250Z"
   },
   {
    "duration": 80,
    "start_time": "2024-05-25T14:30:31.377Z"
   },
   {
    "duration": 76,
    "start_time": "2024-05-25T14:30:31.459Z"
   },
   {
    "duration": 62,
    "start_time": "2024-05-25T14:30:31.537Z"
   },
   {
    "duration": 54,
    "start_time": "2024-05-25T14:30:31.601Z"
   },
   {
    "duration": 36,
    "start_time": "2024-05-25T14:30:31.659Z"
   },
   {
    "duration": 66,
    "start_time": "2024-05-25T14:30:31.697Z"
   },
   {
    "duration": 47,
    "start_time": "2024-05-25T14:30:31.765Z"
   },
   {
    "duration": 47,
    "start_time": "2024-05-25T14:30:31.814Z"
   },
   {
    "duration": 36,
    "start_time": "2024-05-25T14:30:31.863Z"
   },
   {
    "duration": 15,
    "start_time": "2024-05-25T14:30:31.901Z"
   },
   {
    "duration": 6,
    "start_time": "2024-05-25T14:30:31.918Z"
   },
   {
    "duration": 9,
    "start_time": "2024-05-25T14:30:31.925Z"
   },
   {
    "duration": 9,
    "start_time": "2024-05-25T14:30:31.935Z"
   },
   {
    "duration": 41,
    "start_time": "2024-05-25T14:30:31.946Z"
   },
   {
    "duration": 23,
    "start_time": "2024-05-25T14:30:31.988Z"
   },
   {
    "duration": 20,
    "start_time": "2024-05-25T14:30:32.013Z"
   },
   {
    "duration": 59,
    "start_time": "2024-05-25T14:30:32.035Z"
   },
   {
    "duration": 7,
    "start_time": "2024-05-25T14:30:32.095Z"
   },
   {
    "duration": 12,
    "start_time": "2024-05-25T14:30:32.103Z"
   },
   {
    "duration": 6,
    "start_time": "2024-05-25T14:30:32.117Z"
   },
   {
    "duration": 40,
    "start_time": "2024-05-25T14:30:32.124Z"
   },
   {
    "duration": 3,
    "start_time": "2024-05-25T14:37:27.747Z"
   },
   {
    "duration": 3,
    "start_time": "2024-05-25T14:37:32.340Z"
   },
   {
    "duration": 129,
    "start_time": "2024-05-25T14:46:46.046Z"
   },
   {
    "duration": 119,
    "start_time": "2024-05-25T14:47:12.954Z"
   },
   {
    "duration": 28,
    "start_time": "2024-05-25T14:47:42.678Z"
   },
   {
    "duration": 1621,
    "start_time": "2024-05-26T17:05:29.074Z"
   },
   {
    "duration": 4,
    "start_time": "2024-05-26T17:05:30.697Z"
   },
   {
    "duration": 309,
    "start_time": "2024-05-26T17:05:30.702Z"
   },
   {
    "duration": 33,
    "start_time": "2024-05-26T17:05:31.013Z"
   },
   {
    "duration": 238,
    "start_time": "2024-05-26T17:05:31.048Z"
   },
   {
    "duration": 22,
    "start_time": "2024-05-26T17:05:31.288Z"
   },
   {
    "duration": 119,
    "start_time": "2024-05-26T17:05:31.312Z"
   },
   {
    "duration": 20,
    "start_time": "2024-05-26T17:05:31.432Z"
   },
   {
    "duration": 103,
    "start_time": "2024-05-26T17:05:31.454Z"
   },
   {
    "duration": 20,
    "start_time": "2024-05-26T17:05:31.560Z"
   },
   {
    "duration": 28,
    "start_time": "2024-05-26T17:05:31.582Z"
   },
   {
    "duration": 24,
    "start_time": "2024-05-26T17:05:31.612Z"
   },
   {
    "duration": 9,
    "start_time": "2024-05-26T17:05:31.637Z"
   },
   {
    "duration": 12,
    "start_time": "2024-05-26T17:05:31.647Z"
   },
   {
    "duration": 12,
    "start_time": "2024-05-26T17:05:31.661Z"
   },
   {
    "duration": 18,
    "start_time": "2024-05-26T17:05:31.674Z"
   },
   {
    "duration": 21,
    "start_time": "2024-05-26T17:05:31.693Z"
   },
   {
    "duration": 8,
    "start_time": "2024-05-26T17:05:31.715Z"
   },
   {
    "duration": 106,
    "start_time": "2024-05-26T17:05:31.724Z"
   },
   {
    "duration": 9,
    "start_time": "2024-05-26T17:05:31.832Z"
   },
   {
    "duration": 8,
    "start_time": "2024-05-26T17:05:31.842Z"
   },
   {
    "duration": 15,
    "start_time": "2024-05-26T17:05:31.851Z"
   },
   {
    "duration": 40,
    "start_time": "2024-05-26T17:05:31.867Z"
   },
   {
    "duration": 24,
    "start_time": "2024-05-26T17:05:31.909Z"
   },
   {
    "duration": 55,
    "start_time": "2024-05-26T17:05:31.934Z"
   },
   {
    "duration": 68,
    "start_time": "2024-05-26T17:05:31.990Z"
   },
   {
    "duration": 53,
    "start_time": "2024-05-26T17:05:32.059Z"
   },
   {
    "duration": 25,
    "start_time": "2024-05-26T17:05:32.117Z"
   },
   {
    "duration": 6,
    "start_time": "2024-05-26T17:05:32.143Z"
   },
   {
    "duration": 5,
    "start_time": "2024-05-26T17:05:32.150Z"
   },
   {
    "duration": 31,
    "start_time": "2024-05-26T17:05:32.157Z"
   },
   {
    "duration": 128,
    "start_time": "2024-05-26T17:05:32.190Z"
   },
   {
    "duration": 3,
    "start_time": "2024-05-26T17:06:25.724Z"
   },
   {
    "duration": 296,
    "start_time": "2024-05-26T17:06:28.084Z"
   },
   {
    "duration": 3,
    "start_time": "2024-05-26T17:06:36.435Z"
   },
   {
    "duration": 127,
    "start_time": "2024-05-26T17:06:38.566Z"
   },
   {
    "duration": 790,
    "start_time": "2024-05-26T17:16:57.956Z"
   },
   {
    "duration": 318,
    "start_time": "2024-05-26T17:17:04.141Z"
   },
   {
    "duration": 237,
    "start_time": "2024-05-26T17:17:43.827Z"
   },
   {
    "duration": 280,
    "start_time": "2024-05-26T17:19:05.138Z"
   },
   {
    "duration": 280,
    "start_time": "2024-05-26T17:21:10.568Z"
   },
   {
    "duration": 243,
    "start_time": "2024-05-26T17:21:21.584Z"
   },
   {
    "duration": 222,
    "start_time": "2024-05-26T17:21:49.568Z"
   },
   {
    "duration": 229,
    "start_time": "2024-05-26T17:23:27.872Z"
   },
   {
    "duration": 379,
    "start_time": "2024-05-26T17:25:21.750Z"
   },
   {
    "duration": 231,
    "start_time": "2024-05-26T17:25:41.666Z"
   },
   {
    "duration": 235,
    "start_time": "2024-05-26T17:27:39.773Z"
   },
   {
    "duration": 249,
    "start_time": "2024-05-26T17:29:24.577Z"
   },
   {
    "duration": 235,
    "start_time": "2024-05-26T17:30:55.586Z"
   },
   {
    "duration": 252,
    "start_time": "2024-05-26T17:31:03.703Z"
   },
   {
    "duration": 102,
    "start_time": "2024-05-26T17:32:09.878Z"
   },
   {
    "duration": 195,
    "start_time": "2024-05-26T17:33:12.745Z"
   },
   {
    "duration": 104,
    "start_time": "2024-05-26T17:33:23.014Z"
   },
   {
    "duration": 1522,
    "start_time": "2024-05-26T17:57:00.501Z"
   },
   {
    "duration": 4,
    "start_time": "2024-05-26T17:57:02.025Z"
   },
   {
    "duration": 132,
    "start_time": "2024-05-26T17:57:02.031Z"
   },
   {
    "duration": 32,
    "start_time": "2024-05-26T17:57:02.164Z"
   },
   {
    "duration": 35,
    "start_time": "2024-05-26T17:57:02.198Z"
   },
   {
    "duration": 44,
    "start_time": "2024-05-26T17:57:02.235Z"
   },
   {
    "duration": 17,
    "start_time": "2024-05-26T17:57:02.281Z"
   },
   {
    "duration": 19,
    "start_time": "2024-05-26T17:57:02.300Z"
   },
   {
    "duration": 99,
    "start_time": "2024-05-26T17:57:02.321Z"
   },
   {
    "duration": 19,
    "start_time": "2024-05-26T17:57:02.422Z"
   },
   {
    "duration": 14,
    "start_time": "2024-05-26T17:57:02.442Z"
   },
   {
    "duration": 46,
    "start_time": "2024-05-26T17:57:02.458Z"
   },
   {
    "duration": 72,
    "start_time": "2024-05-26T17:57:02.506Z"
   },
   {
    "duration": 19,
    "start_time": "2024-05-26T17:57:02.581Z"
   },
   {
    "duration": 55,
    "start_time": "2024-05-26T17:57:02.603Z"
   },
   {
    "duration": 22,
    "start_time": "2024-05-26T17:57:02.660Z"
   },
   {
    "duration": 36,
    "start_time": "2024-05-26T17:57:02.684Z"
   },
   {
    "duration": 26,
    "start_time": "2024-05-26T17:57:02.722Z"
   },
   {
    "duration": 15,
    "start_time": "2024-05-26T17:57:02.750Z"
   },
   {
    "duration": 30,
    "start_time": "2024-05-26T17:57:02.766Z"
   },
   {
    "duration": 19,
    "start_time": "2024-05-26T17:57:02.798Z"
   },
   {
    "duration": 15,
    "start_time": "2024-05-26T17:57:02.819Z"
   },
   {
    "duration": 36,
    "start_time": "2024-05-26T17:57:02.835Z"
   },
   {
    "duration": 22,
    "start_time": "2024-05-26T17:57:02.872Z"
   },
   {
    "duration": 20,
    "start_time": "2024-05-26T17:57:02.896Z"
   },
   {
    "duration": 26,
    "start_time": "2024-05-26T17:57:02.917Z"
   },
   {
    "duration": 7,
    "start_time": "2024-05-26T17:57:02.980Z"
   },
   {
    "duration": 16,
    "start_time": "2024-05-26T17:57:02.989Z"
   },
   {
    "duration": 7,
    "start_time": "2024-05-26T17:57:03.006Z"
   },
   {
    "duration": 25,
    "start_time": "2024-05-26T17:57:03.014Z"
   },
   {
    "duration": 41,
    "start_time": "2024-05-26T17:57:03.041Z"
   },
   {
    "duration": 282,
    "start_time": "2024-05-26T17:57:03.084Z"
   },
   {
    "duration": 267,
    "start_time": "2024-05-26T17:57:03.368Z"
   },
   {
    "duration": 231,
    "start_time": "2024-05-26T17:57:03.637Z"
   },
   {
    "duration": 315,
    "start_time": "2024-05-26T17:57:03.870Z"
   },
   {
    "duration": 253,
    "start_time": "2024-05-26T17:57:04.186Z"
   },
   {
    "duration": 251,
    "start_time": "2024-05-26T17:57:04.441Z"
   },
   {
    "duration": 235,
    "start_time": "2024-05-26T17:57:04.694Z"
   },
   {
    "duration": 268,
    "start_time": "2024-05-26T17:57:04.930Z"
   },
   {
    "duration": 126,
    "start_time": "2024-05-26T17:57:05.200Z"
   },
   {
    "duration": 107,
    "start_time": "2024-05-26T17:57:05.330Z"
   },
   {
    "duration": 109,
    "start_time": "2024-05-26T17:57:05.438Z"
   },
   {
    "duration": 250,
    "start_time": "2024-05-26T17:57:05.549Z"
   },
   {
    "duration": 4,
    "start_time": "2024-05-26T17:58:14.566Z"
   },
   {
    "duration": 120,
    "start_time": "2024-05-26T17:58:21.662Z"
   },
   {
    "duration": 112,
    "start_time": "2024-05-26T17:58:24.205Z"
   },
   {
    "duration": 110,
    "start_time": "2024-05-26T17:58:27.230Z"
   },
   {
    "duration": 171,
    "start_time": "2024-05-26T17:58:29.439Z"
   },
   {
    "duration": 13,
    "start_time": "2024-05-26T17:59:33.622Z"
   },
   {
    "duration": 131,
    "start_time": "2024-05-26T18:01:58.540Z"
   },
   {
    "duration": 214,
    "start_time": "2024-05-26T18:03:15.019Z"
   },
   {
    "duration": 17,
    "start_time": "2024-05-26T18:04:00.894Z"
   },
   {
    "duration": 105,
    "start_time": "2024-05-26T18:04:53.073Z"
   },
   {
    "duration": 225,
    "start_time": "2024-05-26T18:06:22.464Z"
   },
   {
    "duration": 245,
    "start_time": "2024-05-26T18:07:46.747Z"
   },
   {
    "duration": 1367,
    "start_time": "2024-05-26T19:15:47.732Z"
   },
   {
    "duration": 3,
    "start_time": "2024-05-26T19:15:49.101Z"
   },
   {
    "duration": 38,
    "start_time": "2024-05-26T19:15:49.106Z"
   },
   {
    "duration": 29,
    "start_time": "2024-05-26T19:15:49.145Z"
   },
   {
    "duration": 19,
    "start_time": "2024-05-26T19:15:49.176Z"
   },
   {
    "duration": 20,
    "start_time": "2024-05-26T19:15:49.196Z"
   },
   {
    "duration": 18,
    "start_time": "2024-05-26T19:15:49.217Z"
   },
   {
    "duration": 25,
    "start_time": "2024-05-26T19:15:49.237Z"
   },
   {
    "duration": 25,
    "start_time": "2024-05-26T19:15:49.263Z"
   },
   {
    "duration": 18,
    "start_time": "2024-05-26T19:15:49.289Z"
   },
   {
    "duration": 5,
    "start_time": "2024-05-26T19:15:49.308Z"
   },
   {
    "duration": 7,
    "start_time": "2024-05-26T19:15:49.314Z"
   },
   {
    "duration": 3,
    "start_time": "2024-05-26T19:15:49.323Z"
   },
   {
    "duration": 7,
    "start_time": "2024-05-26T19:15:49.329Z"
   },
   {
    "duration": 4,
    "start_time": "2024-05-26T19:15:49.337Z"
   },
   {
    "duration": 4,
    "start_time": "2024-05-26T19:15:49.343Z"
   },
   {
    "duration": 5,
    "start_time": "2024-05-26T19:15:49.348Z"
   },
   {
    "duration": 27,
    "start_time": "2024-05-26T19:15:49.354Z"
   },
   {
    "duration": 13,
    "start_time": "2024-05-26T19:15:49.382Z"
   },
   {
    "duration": 5,
    "start_time": "2024-05-26T19:15:49.397Z"
   },
   {
    "duration": 14,
    "start_time": "2024-05-26T19:15:49.403Z"
   },
   {
    "duration": 45,
    "start_time": "2024-05-26T19:15:49.419Z"
   },
   {
    "duration": 31,
    "start_time": "2024-05-26T19:15:49.465Z"
   },
   {
    "duration": 22,
    "start_time": "2024-05-26T19:15:49.498Z"
   },
   {
    "duration": 61,
    "start_time": "2024-05-26T19:15:49.522Z"
   },
   {
    "duration": 59,
    "start_time": "2024-05-26T19:15:49.585Z"
   },
   {
    "duration": 5,
    "start_time": "2024-05-26T19:15:49.645Z"
   },
   {
    "duration": 11,
    "start_time": "2024-05-26T19:15:49.652Z"
   },
   {
    "duration": 4,
    "start_time": "2024-05-26T19:15:49.664Z"
   },
   {
    "duration": 4,
    "start_time": "2024-05-26T19:15:49.669Z"
   },
   {
    "duration": 33,
    "start_time": "2024-05-26T19:15:49.674Z"
   },
   {
    "duration": 246,
    "start_time": "2024-05-26T19:15:49.708Z"
   },
   {
    "duration": 250,
    "start_time": "2024-05-26T19:15:49.955Z"
   },
   {
    "duration": 222,
    "start_time": "2024-05-26T19:15:50.207Z"
   },
   {
    "duration": 318,
    "start_time": "2024-05-26T19:15:50.431Z"
   },
   {
    "duration": 239,
    "start_time": "2024-05-26T19:15:50.750Z"
   },
   {
    "duration": 227,
    "start_time": "2024-05-26T19:15:50.991Z"
   },
   {
    "duration": 212,
    "start_time": "2024-05-26T19:15:51.219Z"
   },
   {
    "duration": 243,
    "start_time": "2024-05-26T19:15:51.432Z"
   },
   {
    "duration": 119,
    "start_time": "2024-05-26T19:15:51.679Z"
   },
   {
    "duration": 107,
    "start_time": "2024-05-26T19:15:51.801Z"
   },
   {
    "duration": 102,
    "start_time": "2024-05-26T19:15:51.910Z"
   },
   {
    "duration": 269,
    "start_time": "2024-05-26T19:15:52.014Z"
   },
   {
    "duration": 11,
    "start_time": "2024-05-26T19:15:52.285Z"
   },
   {
    "duration": 133,
    "start_time": "2024-05-26T19:15:52.297Z"
   },
   {
    "duration": 237,
    "start_time": "2024-05-26T19:15:52.431Z"
   },
   {
    "duration": 17,
    "start_time": "2024-05-26T19:15:52.670Z"
   },
   {
    "duration": 109,
    "start_time": "2024-05-26T19:15:52.689Z"
   },
   {
    "duration": 228,
    "start_time": "2024-05-26T19:15:52.800Z"
   },
   {
    "duration": 231,
    "start_time": "2024-05-26T19:15:53.029Z"
   },
   {
    "duration": 242,
    "start_time": "2024-05-26T19:23:13.439Z"
   },
   {
    "duration": 232,
    "start_time": "2024-05-26T19:23:19.401Z"
   },
   {
    "duration": 327,
    "start_time": "2024-05-26T19:23:26.814Z"
   },
   {
    "duration": 6,
    "start_time": "2024-05-26T19:28:16.981Z"
   },
   {
    "duration": 221,
    "start_time": "2024-05-26T19:28:29.618Z"
   },
   {
    "duration": 4,
    "start_time": "2024-05-26T19:29:24.433Z"
   },
   {
    "duration": 220,
    "start_time": "2024-05-26T19:29:33.284Z"
   },
   {
    "duration": 43,
    "start_time": "2024-05-26T19:33:14.491Z"
   },
   {
    "duration": 12,
    "start_time": "2024-05-26T19:37:07.958Z"
   },
   {
    "duration": 39,
    "start_time": "2024-05-26T19:37:38.000Z"
   },
   {
    "duration": 6997,
    "start_time": "2024-05-26T19:43:28.698Z"
   },
   {
    "duration": 49202,
    "start_time": "2024-05-26T19:43:39.728Z"
   },
   {
    "duration": 10,
    "start_time": "2024-05-26T19:45:57.973Z"
   },
   {
    "duration": 988,
    "start_time": "2024-05-26T19:46:07.655Z"
   },
   {
    "duration": 966,
    "start_time": "2024-05-26T19:46:23.403Z"
   },
   {
    "duration": 15,
    "start_time": "2024-05-26T19:51:42.489Z"
   },
   {
    "duration": 4,
    "start_time": "2024-05-26T19:51:55.788Z"
   },
   {
    "duration": 11,
    "start_time": "2024-05-26T19:52:45.043Z"
   },
   {
    "duration": 3,
    "start_time": "2024-05-26T19:53:37.538Z"
   },
   {
    "duration": 16,
    "start_time": "2024-05-26T19:55:25.543Z"
   },
   {
    "duration": 38,
    "start_time": "2024-05-26T19:58:19.075Z"
   },
   {
    "duration": 18795,
    "start_time": "2024-05-26T19:58:24.004Z"
   },
   {
    "duration": 18788,
    "start_time": "2024-05-26T20:01:54.402Z"
   },
   {
    "duration": 18875,
    "start_time": "2024-05-26T20:06:12.897Z"
   },
   {
    "duration": 1734,
    "start_time": "2024-05-28T17:37:05.525Z"
   },
   {
    "duration": 4,
    "start_time": "2024-05-28T17:37:07.261Z"
   },
   {
    "duration": 148,
    "start_time": "2024-05-28T17:37:07.266Z"
   },
   {
    "duration": 35,
    "start_time": "2024-05-28T17:37:07.416Z"
   },
   {
    "duration": 85,
    "start_time": "2024-05-28T17:37:07.452Z"
   },
   {
    "duration": 25,
    "start_time": "2024-05-28T17:37:07.539Z"
   },
   {
    "duration": 73,
    "start_time": "2024-05-28T17:37:07.566Z"
   },
   {
    "duration": 23,
    "start_time": "2024-05-28T17:37:07.641Z"
   },
   {
    "duration": 75,
    "start_time": "2024-05-28T17:37:07.666Z"
   },
   {
    "duration": 19,
    "start_time": "2024-05-28T17:37:07.744Z"
   },
   {
    "duration": 3,
    "start_time": "2024-05-28T17:37:07.765Z"
   },
   {
    "duration": 13,
    "start_time": "2024-05-28T17:37:07.770Z"
   },
   {
    "duration": 3,
    "start_time": "2024-05-28T17:37:07.785Z"
   },
   {
    "duration": 3,
    "start_time": "2024-05-28T17:37:07.790Z"
   },
   {
    "duration": 7,
    "start_time": "2024-05-28T17:37:07.794Z"
   },
   {
    "duration": 9,
    "start_time": "2024-05-28T17:37:07.803Z"
   },
   {
    "duration": 4,
    "start_time": "2024-05-28T17:37:07.814Z"
   },
   {
    "duration": 5,
    "start_time": "2024-05-28T17:37:07.820Z"
   },
   {
    "duration": 6,
    "start_time": "2024-05-28T17:37:07.856Z"
   },
   {
    "duration": 18,
    "start_time": "2024-05-28T17:37:07.863Z"
   },
   {
    "duration": 5,
    "start_time": "2024-05-28T17:37:07.883Z"
   },
   {
    "duration": 14,
    "start_time": "2024-05-28T17:37:07.890Z"
   },
   {
    "duration": 52,
    "start_time": "2024-05-28T17:37:07.905Z"
   },
   {
    "duration": 24,
    "start_time": "2024-05-28T17:37:07.959Z"
   },
   {
    "duration": 22,
    "start_time": "2024-05-28T17:37:07.985Z"
   },
   {
    "duration": 60,
    "start_time": "2024-05-28T17:37:08.008Z"
   },
   {
    "duration": 7,
    "start_time": "2024-05-28T17:37:08.070Z"
   },
   {
    "duration": 24,
    "start_time": "2024-05-28T17:37:08.081Z"
   },
   {
    "duration": 7,
    "start_time": "2024-05-28T17:37:08.107Z"
   },
   {
    "duration": 27,
    "start_time": "2024-05-28T17:37:08.115Z"
   },
   {
    "duration": 43,
    "start_time": "2024-05-28T17:37:08.143Z"
   },
   {
    "duration": 268,
    "start_time": "2024-05-28T17:37:08.189Z"
   },
   {
    "duration": 284,
    "start_time": "2024-05-28T17:37:08.459Z"
   },
   {
    "duration": 320,
    "start_time": "2024-05-28T17:37:08.745Z"
   },
   {
    "duration": 242,
    "start_time": "2024-05-28T17:37:09.066Z"
   },
   {
    "duration": 255,
    "start_time": "2024-05-28T17:37:09.310Z"
   },
   {
    "duration": 246,
    "start_time": "2024-05-28T17:37:09.567Z"
   },
   {
    "duration": 225,
    "start_time": "2024-05-28T17:37:09.815Z"
   },
   {
    "duration": 262,
    "start_time": "2024-05-28T17:37:10.043Z"
   },
   {
    "duration": 142,
    "start_time": "2024-05-28T17:37:10.307Z"
   },
   {
    "duration": 196,
    "start_time": "2024-05-28T17:37:10.451Z"
   },
   {
    "duration": 109,
    "start_time": "2024-05-28T17:37:10.649Z"
   },
   {
    "duration": 162,
    "start_time": "2024-05-28T17:37:10.759Z"
   },
   {
    "duration": 11,
    "start_time": "2024-05-28T17:37:10.923Z"
   },
   {
    "duration": 142,
    "start_time": "2024-05-28T17:37:10.935Z"
   },
   {
    "duration": 235,
    "start_time": "2024-05-28T17:37:11.079Z"
   },
   {
    "duration": 6,
    "start_time": "2024-05-28T17:37:11.315Z"
   },
   {
    "duration": 239,
    "start_time": "2024-05-28T17:37:11.323Z"
   },
   {
    "duration": 4,
    "start_time": "2024-05-28T17:37:11.563Z"
   },
   {
    "duration": 268,
    "start_time": "2024-05-28T17:37:11.569Z"
   },
   {
    "duration": 22,
    "start_time": "2024-05-28T17:37:11.838Z"
   },
   {
    "duration": 115,
    "start_time": "2024-05-28T17:37:11.861Z"
   },
   {
    "duration": 246,
    "start_time": "2024-05-28T17:37:11.978Z"
   },
   {
    "duration": 329,
    "start_time": "2024-05-28T17:37:12.226Z"
   },
   {
    "duration": 12,
    "start_time": "2024-05-28T17:37:12.557Z"
   },
   {
    "duration": 42,
    "start_time": "2024-05-28T17:37:12.571Z"
   },
   {
    "duration": 50345,
    "start_time": "2024-05-28T17:37:12.615Z"
   },
   {
    "duration": 1034,
    "start_time": "2024-05-28T17:38:02.962Z"
   },
   {
    "duration": 4,
    "start_time": "2024-05-28T17:38:03.998Z"
   },
   {
    "duration": 14,
    "start_time": "2024-05-28T17:38:04.003Z"
   },
   {
    "duration": 12,
    "start_time": "2024-05-28T17:38:04.019Z"
   },
   {
    "duration": 18943,
    "start_time": "2024-05-28T17:38:04.033Z"
   },
   {
    "duration": 130,
    "start_time": "2024-05-28T18:46:30.315Z"
   },
   {
    "duration": 5,
    "start_time": "2024-05-28T18:46:55.205Z"
   },
   {
    "duration": 32661,
    "start_time": "2024-05-28T18:47:01.114Z"
   },
   {
    "duration": 21127,
    "start_time": "2024-05-28T18:54:56.639Z"
   },
   {
    "duration": 21390,
    "start_time": "2024-05-28T18:55:41.184Z"
   },
   {
    "duration": 36,
    "start_time": "2024-05-28T19:03:19.863Z"
   },
   {
    "duration": 48,
    "start_time": "2024-05-28T19:17:19.743Z"
   },
   {
    "duration": 12,
    "start_time": "2024-05-28T19:17:52.379Z"
   },
   {
    "duration": 4374,
    "start_time": "2024-05-28T19:19:17.778Z"
   },
   {
    "duration": 759,
    "start_time": "2024-05-28T19:19:47.959Z"
   },
   {
    "duration": 6,
    "start_time": "2024-05-28T19:19:53.152Z"
   },
   {
    "duration": 50506,
    "start_time": "2024-05-28T19:19:58.569Z"
   },
   {
    "duration": 48,
    "start_time": "2024-05-28T19:23:12.776Z"
   },
   {
    "duration": 60,
    "start_time": "2024-05-28T19:23:47.216Z"
   },
   {
    "duration": 35044,
    "start_time": "2024-05-28T19:24:19.133Z"
   },
   {
    "duration": 50778,
    "start_time": "2024-05-28T19:25:01.308Z"
   },
   {
    "duration": 48,
    "start_time": "2024-05-28T19:27:45.622Z"
   },
   {
    "duration": 21167,
    "start_time": "2024-05-28T19:28:26.408Z"
   },
   {
    "duration": 50193,
    "start_time": "2024-05-28T19:28:54.782Z"
   },
   {
    "duration": 64,
    "start_time": "2024-05-28T19:30:17.745Z"
   },
   {
    "duration": 45,
    "start_time": "2024-06-10T07:21:17.291Z"
   },
   {
    "duration": 1592,
    "start_time": "2024-06-10T07:21:27.448Z"
   },
   {
    "duration": 0,
    "start_time": "2024-06-10T07:21:29.043Z"
   },
   {
    "duration": 0,
    "start_time": "2024-06-10T07:21:29.044Z"
   },
   {
    "duration": 0,
    "start_time": "2024-06-10T07:21:29.045Z"
   },
   {
    "duration": 0,
    "start_time": "2024-06-10T07:21:29.046Z"
   },
   {
    "duration": 0,
    "start_time": "2024-06-10T07:21:29.046Z"
   },
   {
    "duration": 0,
    "start_time": "2024-06-10T07:21:29.047Z"
   },
   {
    "duration": 0,
    "start_time": "2024-06-10T07:21:29.048Z"
   },
   {
    "duration": 0,
    "start_time": "2024-06-10T07:21:29.049Z"
   },
   {
    "duration": 0,
    "start_time": "2024-06-10T07:21:29.050Z"
   },
   {
    "duration": 0,
    "start_time": "2024-06-10T07:21:29.051Z"
   },
   {
    "duration": 0,
    "start_time": "2024-06-10T07:21:29.052Z"
   },
   {
    "duration": 0,
    "start_time": "2024-06-10T07:21:29.052Z"
   },
   {
    "duration": 0,
    "start_time": "2024-06-10T07:21:29.053Z"
   },
   {
    "duration": 0,
    "start_time": "2024-06-10T07:21:29.054Z"
   },
   {
    "duration": 0,
    "start_time": "2024-06-10T07:21:29.054Z"
   },
   {
    "duration": 0,
    "start_time": "2024-06-10T07:21:29.055Z"
   },
   {
    "duration": 0,
    "start_time": "2024-06-10T07:21:29.056Z"
   },
   {
    "duration": 0,
    "start_time": "2024-06-10T07:21:29.056Z"
   },
   {
    "duration": 0,
    "start_time": "2024-06-10T07:21:29.057Z"
   },
   {
    "duration": 0,
    "start_time": "2024-06-10T07:21:29.058Z"
   },
   {
    "duration": 0,
    "start_time": "2024-06-10T07:21:29.058Z"
   },
   {
    "duration": 0,
    "start_time": "2024-06-10T07:21:29.059Z"
   },
   {
    "duration": 0,
    "start_time": "2024-06-10T07:21:29.060Z"
   },
   {
    "duration": 0,
    "start_time": "2024-06-10T07:21:29.061Z"
   },
   {
    "duration": 0,
    "start_time": "2024-06-10T07:21:29.062Z"
   },
   {
    "duration": 0,
    "start_time": "2024-06-10T07:21:29.063Z"
   },
   {
    "duration": 0,
    "start_time": "2024-06-10T07:21:29.064Z"
   },
   {
    "duration": 1,
    "start_time": "2024-06-10T07:21:29.064Z"
   },
   {
    "duration": 0,
    "start_time": "2024-06-10T07:21:29.065Z"
   },
   {
    "duration": 0,
    "start_time": "2024-06-10T07:21:29.066Z"
   },
   {
    "duration": 0,
    "start_time": "2024-06-10T07:21:29.067Z"
   },
   {
    "duration": 0,
    "start_time": "2024-06-10T07:21:29.067Z"
   },
   {
    "duration": 0,
    "start_time": "2024-06-10T07:21:29.068Z"
   },
   {
    "duration": 0,
    "start_time": "2024-06-10T07:21:29.069Z"
   },
   {
    "duration": 0,
    "start_time": "2024-06-10T07:21:29.070Z"
   },
   {
    "duration": 0,
    "start_time": "2024-06-10T07:21:29.070Z"
   },
   {
    "duration": 0,
    "start_time": "2024-06-10T07:21:29.089Z"
   },
   {
    "duration": 0,
    "start_time": "2024-06-10T07:21:29.090Z"
   },
   {
    "duration": 0,
    "start_time": "2024-06-10T07:21:29.091Z"
   },
   {
    "duration": 0,
    "start_time": "2024-06-10T07:21:29.091Z"
   },
   {
    "duration": 0,
    "start_time": "2024-06-10T07:21:29.092Z"
   },
   {
    "duration": 0,
    "start_time": "2024-06-10T07:21:29.093Z"
   },
   {
    "duration": 0,
    "start_time": "2024-06-10T07:21:29.094Z"
   },
   {
    "duration": 0,
    "start_time": "2024-06-10T07:21:29.095Z"
   },
   {
    "duration": 0,
    "start_time": "2024-06-10T07:21:29.095Z"
   },
   {
    "duration": 0,
    "start_time": "2024-06-10T07:21:29.096Z"
   },
   {
    "duration": 0,
    "start_time": "2024-06-10T07:21:29.097Z"
   },
   {
    "duration": 0,
    "start_time": "2024-06-10T07:21:29.097Z"
   },
   {
    "duration": 0,
    "start_time": "2024-06-10T07:21:29.098Z"
   },
   {
    "duration": 0,
    "start_time": "2024-06-10T07:21:29.099Z"
   },
   {
    "duration": 0,
    "start_time": "2024-06-10T07:21:29.099Z"
   },
   {
    "duration": 0,
    "start_time": "2024-06-10T07:21:29.100Z"
   },
   {
    "duration": 0,
    "start_time": "2024-06-10T07:21:29.101Z"
   },
   {
    "duration": 0,
    "start_time": "2024-06-10T07:21:29.101Z"
   },
   {
    "duration": 0,
    "start_time": "2024-06-10T07:21:29.103Z"
   },
   {
    "duration": 0,
    "start_time": "2024-06-10T07:21:29.104Z"
   },
   {
    "duration": 0,
    "start_time": "2024-06-10T07:21:29.104Z"
   },
   {
    "duration": 0,
    "start_time": "2024-06-10T07:21:29.105Z"
   },
   {
    "duration": 0,
    "start_time": "2024-06-10T07:21:29.106Z"
   },
   {
    "duration": 0,
    "start_time": "2024-06-10T07:21:29.107Z"
   },
   {
    "duration": 0,
    "start_time": "2024-06-10T07:21:29.107Z"
   },
   {
    "duration": 1414,
    "start_time": "2024-06-10T07:23:18.565Z"
   },
   {
    "duration": 0,
    "start_time": "2024-06-10T07:23:19.982Z"
   },
   {
    "duration": 0,
    "start_time": "2024-06-10T07:23:19.983Z"
   },
   {
    "duration": 0,
    "start_time": "2024-06-10T07:23:19.984Z"
   },
   {
    "duration": 0,
    "start_time": "2024-06-10T07:23:19.985Z"
   },
   {
    "duration": 0,
    "start_time": "2024-06-10T07:23:19.985Z"
   },
   {
    "duration": 0,
    "start_time": "2024-06-10T07:23:19.986Z"
   },
   {
    "duration": 0,
    "start_time": "2024-06-10T07:23:19.986Z"
   },
   {
    "duration": 0,
    "start_time": "2024-06-10T07:23:19.987Z"
   },
   {
    "duration": 0,
    "start_time": "2024-06-10T07:23:19.987Z"
   },
   {
    "duration": 0,
    "start_time": "2024-06-10T07:23:19.988Z"
   },
   {
    "duration": 0,
    "start_time": "2024-06-10T07:23:19.988Z"
   },
   {
    "duration": 0,
    "start_time": "2024-06-10T07:23:19.989Z"
   },
   {
    "duration": 0,
    "start_time": "2024-06-10T07:23:19.990Z"
   },
   {
    "duration": 0,
    "start_time": "2024-06-10T07:23:19.991Z"
   },
   {
    "duration": 0,
    "start_time": "2024-06-10T07:23:19.992Z"
   },
   {
    "duration": 0,
    "start_time": "2024-06-10T07:23:19.993Z"
   },
   {
    "duration": 0,
    "start_time": "2024-06-10T07:23:19.993Z"
   },
   {
    "duration": 0,
    "start_time": "2024-06-10T07:23:19.994Z"
   },
   {
    "duration": 0,
    "start_time": "2024-06-10T07:23:19.995Z"
   },
   {
    "duration": 0,
    "start_time": "2024-06-10T07:23:19.996Z"
   },
   {
    "duration": 0,
    "start_time": "2024-06-10T07:23:19.997Z"
   },
   {
    "duration": 0,
    "start_time": "2024-06-10T07:23:19.997Z"
   },
   {
    "duration": 0,
    "start_time": "2024-06-10T07:23:19.998Z"
   },
   {
    "duration": 0,
    "start_time": "2024-06-10T07:23:19.999Z"
   },
   {
    "duration": 0,
    "start_time": "2024-06-10T07:23:20.000Z"
   },
   {
    "duration": 0,
    "start_time": "2024-06-10T07:23:20.000Z"
   },
   {
    "duration": 0,
    "start_time": "2024-06-10T07:23:20.001Z"
   },
   {
    "duration": 0,
    "start_time": "2024-06-10T07:23:20.002Z"
   },
   {
    "duration": 0,
    "start_time": "2024-06-10T07:23:20.002Z"
   },
   {
    "duration": 0,
    "start_time": "2024-06-10T07:23:20.003Z"
   },
   {
    "duration": 0,
    "start_time": "2024-06-10T07:23:20.004Z"
   },
   {
    "duration": 0,
    "start_time": "2024-06-10T07:23:20.005Z"
   },
   {
    "duration": 0,
    "start_time": "2024-06-10T07:23:20.005Z"
   },
   {
    "duration": 0,
    "start_time": "2024-06-10T07:23:20.006Z"
   },
   {
    "duration": 0,
    "start_time": "2024-06-10T07:23:20.007Z"
   },
   {
    "duration": 0,
    "start_time": "2024-06-10T07:23:20.008Z"
   },
   {
    "duration": 0,
    "start_time": "2024-06-10T07:23:20.008Z"
   },
   {
    "duration": 0,
    "start_time": "2024-06-10T07:23:20.009Z"
   },
   {
    "duration": 0,
    "start_time": "2024-06-10T07:23:20.010Z"
   },
   {
    "duration": 0,
    "start_time": "2024-06-10T07:23:20.011Z"
   },
   {
    "duration": 0,
    "start_time": "2024-06-10T07:23:20.011Z"
   },
   {
    "duration": 1,
    "start_time": "2024-06-10T07:23:20.012Z"
   },
   {
    "duration": 0,
    "start_time": "2024-06-10T07:23:20.013Z"
   },
   {
    "duration": 0,
    "start_time": "2024-06-10T07:23:20.014Z"
   },
   {
    "duration": 0,
    "start_time": "2024-06-10T07:23:20.015Z"
   },
   {
    "duration": 0,
    "start_time": "2024-06-10T07:23:20.015Z"
   },
   {
    "duration": 0,
    "start_time": "2024-06-10T07:23:20.016Z"
   },
   {
    "duration": 0,
    "start_time": "2024-06-10T07:23:20.017Z"
   },
   {
    "duration": 0,
    "start_time": "2024-06-10T07:23:20.018Z"
   },
   {
    "duration": 0,
    "start_time": "2024-06-10T07:23:20.019Z"
   },
   {
    "duration": 0,
    "start_time": "2024-06-10T07:23:20.020Z"
   },
   {
    "duration": 0,
    "start_time": "2024-06-10T07:23:20.021Z"
   },
   {
    "duration": 0,
    "start_time": "2024-06-10T07:23:20.022Z"
   },
   {
    "duration": 0,
    "start_time": "2024-06-10T07:23:20.022Z"
   },
   {
    "duration": 0,
    "start_time": "2024-06-10T07:23:20.023Z"
   },
   {
    "duration": 0,
    "start_time": "2024-06-10T07:23:20.024Z"
   },
   {
    "duration": 0,
    "start_time": "2024-06-10T07:23:20.025Z"
   },
   {
    "duration": 0,
    "start_time": "2024-06-10T07:23:20.089Z"
   },
   {
    "duration": 0,
    "start_time": "2024-06-10T07:23:20.090Z"
   },
   {
    "duration": 0,
    "start_time": "2024-06-10T07:23:20.091Z"
   },
   {
    "duration": 0,
    "start_time": "2024-06-10T07:23:20.092Z"
   },
   {
    "duration": 0,
    "start_time": "2024-06-10T07:23:20.092Z"
   },
   {
    "duration": 0,
    "start_time": "2024-06-10T07:23:20.093Z"
   },
   {
    "duration": 78,
    "start_time": "2024-06-10T07:23:52.356Z"
   },
   {
    "duration": 65,
    "start_time": "2024-06-10T07:23:57.958Z"
   },
   {
    "duration": 60,
    "start_time": "2024-06-10T07:24:03.426Z"
   },
   {
    "duration": 4187,
    "start_time": "2024-06-10T07:24:26.511Z"
   },
   {
    "duration": 382,
    "start_time": "2024-06-10T07:24:38.508Z"
   },
   {
    "duration": 2579,
    "start_time": "2024-06-10T07:24:43.487Z"
   },
   {
    "duration": 1650,
    "start_time": "2024-06-10T07:24:46.068Z"
   },
   {
    "duration": 3,
    "start_time": "2024-06-10T07:24:47.719Z"
   },
   {
    "duration": 138,
    "start_time": "2024-06-10T07:24:47.724Z"
   },
   {
    "duration": 26,
    "start_time": "2024-06-10T07:24:47.863Z"
   },
   {
    "duration": 87,
    "start_time": "2024-06-10T07:24:47.891Z"
   },
   {
    "duration": 17,
    "start_time": "2024-06-10T07:24:47.980Z"
   },
   {
    "duration": 66,
    "start_time": "2024-06-10T07:24:47.998Z"
   },
   {
    "duration": 16,
    "start_time": "2024-06-10T07:24:48.066Z"
   },
   {
    "duration": 72,
    "start_time": "2024-06-10T07:24:48.084Z"
   },
   {
    "duration": 22,
    "start_time": "2024-06-10T07:24:48.158Z"
   },
   {
    "duration": 3,
    "start_time": "2024-06-10T07:24:48.183Z"
   },
   {
    "duration": 34,
    "start_time": "2024-06-10T07:24:48.187Z"
   },
   {
    "duration": 4,
    "start_time": "2024-06-10T07:24:48.222Z"
   },
   {
    "duration": 3,
    "start_time": "2024-06-10T07:24:48.227Z"
   },
   {
    "duration": 6,
    "start_time": "2024-06-10T07:24:48.232Z"
   },
   {
    "duration": 4,
    "start_time": "2024-06-10T07:24:48.239Z"
   },
   {
    "duration": 5,
    "start_time": "2024-06-10T07:24:48.244Z"
   },
   {
    "duration": 5,
    "start_time": "2024-06-10T07:24:48.250Z"
   },
   {
    "duration": 8,
    "start_time": "2024-06-10T07:24:48.256Z"
   },
   {
    "duration": 19,
    "start_time": "2024-06-10T07:24:48.265Z"
   },
   {
    "duration": 7,
    "start_time": "2024-06-10T07:24:48.285Z"
   },
   {
    "duration": 11,
    "start_time": "2024-06-10T07:24:48.294Z"
   },
   {
    "duration": 24,
    "start_time": "2024-06-10T07:24:48.306Z"
   },
   {
    "duration": 16,
    "start_time": "2024-06-10T07:24:48.331Z"
   },
   {
    "duration": 44,
    "start_time": "2024-06-10T07:24:48.348Z"
   },
   {
    "duration": 18,
    "start_time": "2024-06-10T07:24:48.393Z"
   },
   {
    "duration": 8,
    "start_time": "2024-06-10T07:24:48.415Z"
   },
   {
    "duration": 16,
    "start_time": "2024-06-10T07:24:48.424Z"
   },
   {
    "duration": 4,
    "start_time": "2024-06-10T07:24:48.441Z"
   },
   {
    "duration": 19,
    "start_time": "2024-06-10T07:24:48.447Z"
   },
   {
    "duration": 36,
    "start_time": "2024-06-10T07:24:48.467Z"
   },
   {
    "duration": 216,
    "start_time": "2024-06-10T07:24:48.504Z"
   },
   {
    "duration": 214,
    "start_time": "2024-06-10T07:24:48.721Z"
   },
   {
    "duration": 180,
    "start_time": "2024-06-10T07:24:48.936Z"
   },
   {
    "duration": 195,
    "start_time": "2024-06-10T07:24:49.117Z"
   },
   {
    "duration": 266,
    "start_time": "2024-06-10T07:24:49.313Z"
   },
   {
    "duration": 191,
    "start_time": "2024-06-10T07:24:49.580Z"
   },
   {
    "duration": 196,
    "start_time": "2024-06-10T07:24:49.772Z"
   },
   {
    "duration": 207,
    "start_time": "2024-06-10T07:24:49.970Z"
   },
   {
    "duration": 111,
    "start_time": "2024-06-10T07:24:50.178Z"
   },
   {
    "duration": 79,
    "start_time": "2024-06-10T07:24:50.291Z"
   },
   {
    "duration": 97,
    "start_time": "2024-06-10T07:24:50.372Z"
   },
   {
    "duration": 139,
    "start_time": "2024-06-10T07:24:50.471Z"
   },
   {
    "duration": 9,
    "start_time": "2024-06-10T07:24:50.612Z"
   },
   {
    "duration": 116,
    "start_time": "2024-06-10T07:24:50.622Z"
   },
   {
    "duration": 192,
    "start_time": "2024-06-10T07:24:50.739Z"
   },
   {
    "duration": 4,
    "start_time": "2024-06-10T07:24:50.933Z"
   },
   {
    "duration": 218,
    "start_time": "2024-06-10T07:24:50.938Z"
   },
   {
    "duration": 4,
    "start_time": "2024-06-10T07:24:51.157Z"
   },
   {
    "duration": 291,
    "start_time": "2024-06-10T07:24:51.162Z"
   },
   {
    "duration": 9,
    "start_time": "2024-06-10T07:24:51.454Z"
   },
   {
    "duration": 98,
    "start_time": "2024-06-10T07:24:51.464Z"
   },
   {
    "duration": 192,
    "start_time": "2024-06-10T07:24:51.563Z"
   },
   {
    "duration": 192,
    "start_time": "2024-06-10T07:24:51.757Z"
   },
   {
    "duration": 9,
    "start_time": "2024-06-10T07:24:51.950Z"
   },
   {
    "duration": 49,
    "start_time": "2024-06-10T07:24:51.960Z"
   },
   {
    "duration": 40988,
    "start_time": "2024-06-10T07:24:52.010Z"
   },
   {
    "duration": 812,
    "start_time": "2024-06-10T07:25:32.999Z"
   },
   {
    "duration": 3,
    "start_time": "2024-06-10T07:25:33.813Z"
   },
   {
    "duration": 12,
    "start_time": "2024-06-10T07:25:33.818Z"
   },
   {
    "duration": 2,
    "start_time": "2024-06-10T07:25:33.832Z"
   },
   {
    "duration": 17157,
    "start_time": "2024-06-10T07:25:33.836Z"
   },
   {
    "duration": 159,
    "start_time": "2024-06-10T07:25:50.994Z"
   },
   {
    "duration": 0,
    "start_time": "2024-06-10T07:25:51.154Z"
   },
   {
    "duration": 38,
    "start_time": "2024-06-10T07:26:42.654Z"
   },
   {
    "duration": 41,
    "start_time": "2024-06-10T07:26:52.134Z"
   },
   {
    "duration": 37,
    "start_time": "2024-06-10T07:29:55.407Z"
   },
   {
    "duration": 37,
    "start_time": "2024-06-10T07:30:05.043Z"
   },
   {
    "duration": 8195,
    "start_time": "2024-06-10T07:32:26.001Z"
   },
   {
    "duration": 55,
    "start_time": "2024-06-10T07:32:42.294Z"
   },
   {
    "duration": 9442,
    "start_time": "2024-06-10T07:32:59.644Z"
   },
   {
    "duration": 47,
    "start_time": "2024-06-10T07:33:18.792Z"
   },
   {
    "duration": 5112,
    "start_time": "2024-06-10T07:34:48.619Z"
   },
   {
    "duration": 48,
    "start_time": "2024-06-10T07:35:03.695Z"
   },
   {
    "duration": 38,
    "start_time": "2024-06-10T07:37:05.590Z"
   },
   {
    "duration": 47,
    "start_time": "2024-06-10T07:40:21.748Z"
   },
   {
    "duration": 29,
    "start_time": "2024-06-10T07:40:37.799Z"
   },
   {
    "duration": 41042,
    "start_time": "2024-06-10T07:40:49.729Z"
   },
   {
    "duration": 37,
    "start_time": "2024-06-10T07:41:55.577Z"
   },
   {
    "duration": 47,
    "start_time": "2024-06-10T07:45:57.181Z"
   },
   {
    "duration": 3,
    "start_time": "2024-06-10T07:46:49.598Z"
   },
   {
    "duration": 37,
    "start_time": "2024-06-10T07:47:02.173Z"
   },
   {
    "duration": 34,
    "start_time": "2024-06-10T07:47:12.499Z"
   },
   {
    "duration": 275,
    "start_time": "2024-06-10T07:48:30.773Z"
   },
   {
    "duration": 22,
    "start_time": "2024-06-10T07:48:52.144Z"
   },
   {
    "duration": 4,
    "start_time": "2024-06-10T07:50:28.044Z"
   },
   {
    "duration": 17026,
    "start_time": "2024-06-10T07:50:44.840Z"
   },
   {
    "duration": 40,
    "start_time": "2024-06-10T07:51:22.954Z"
   },
   {
    "duration": 5653,
    "start_time": "2024-06-10T07:51:27.663Z"
   },
   {
    "duration": 13152,
    "start_time": "2024-06-10T07:54:21.862Z"
   },
   {
    "duration": 12504,
    "start_time": "2024-06-10T07:54:53.315Z"
   },
   {
    "duration": 16585,
    "start_time": "2024-06-10T07:55:30.676Z"
   },
   {
    "duration": 123,
    "start_time": "2024-06-10T08:03:07.354Z"
   },
   {
    "duration": 83,
    "start_time": "2024-06-10T08:04:44.664Z"
   },
   {
    "duration": 101,
    "start_time": "2024-06-10T08:05:16.812Z"
   },
   {
    "duration": 4,
    "start_time": "2024-06-10T08:05:29.712Z"
   },
   {
    "duration": 10,
    "start_time": "2024-06-10T08:05:30.849Z"
   },
   {
    "duration": 3,
    "start_time": "2024-06-10T08:05:32.224Z"
   },
   {
    "duration": 17584,
    "start_time": "2024-06-10T08:05:33.792Z"
   },
   {
    "duration": 33,
    "start_time": "2024-06-10T08:06:01.144Z"
   },
   {
    "duration": 36,
    "start_time": "2024-06-10T08:06:08.814Z"
   },
   {
    "duration": 37,
    "start_time": "2024-06-10T08:06:21.284Z"
   },
   {
    "duration": 31,
    "start_time": "2024-06-10T08:07:13.898Z"
   },
   {
    "duration": 31,
    "start_time": "2024-06-10T08:09:56.938Z"
   },
   {
    "duration": 39177,
    "start_time": "2024-06-10T08:15:56.489Z"
   },
   {
    "duration": 38339,
    "start_time": "2024-06-10T08:17:13.932Z"
   },
   {
    "duration": 116560,
    "start_time": "2024-06-10T08:19:08.840Z"
   },
   {
    "duration": 116575,
    "start_time": "2024-06-10T08:21:16.077Z"
   },
   {
    "duration": 2,
    "start_time": "2024-06-10T08:26:43.179Z"
   },
   {
    "duration": 12,
    "start_time": "2024-06-10T08:26:45.599Z"
   },
   {
    "duration": 80336,
    "start_time": "2024-06-10T08:28:09.298Z"
   },
   {
    "duration": 9,
    "start_time": "2024-06-10T08:29:29.636Z"
   },
   {
    "duration": 9,
    "start_time": "2024-06-10T08:32:11.850Z"
   },
   {
    "duration": 1080,
    "start_time": "2024-06-10T08:33:36.555Z"
   },
   {
    "duration": 2555,
    "start_time": "2024-06-10T08:36:48.045Z"
   },
   {
    "duration": 2394,
    "start_time": "2024-06-10T08:36:50.602Z"
   },
   {
    "duration": 3,
    "start_time": "2024-06-10T08:36:52.998Z"
   },
   {
    "duration": 130,
    "start_time": "2024-06-10T08:36:53.003Z"
   },
   {
    "duration": 35,
    "start_time": "2024-06-10T08:36:53.136Z"
   },
   {
    "duration": 78,
    "start_time": "2024-06-10T08:36:53.172Z"
   },
   {
    "duration": 19,
    "start_time": "2024-06-10T08:36:53.251Z"
   },
   {
    "duration": 67,
    "start_time": "2024-06-10T08:36:53.271Z"
   },
   {
    "duration": 17,
    "start_time": "2024-06-10T08:36:53.340Z"
   },
   {
    "duration": 72,
    "start_time": "2024-06-10T08:36:53.359Z"
   },
   {
    "duration": 16,
    "start_time": "2024-06-10T08:36:53.432Z"
   },
   {
    "duration": 2,
    "start_time": "2024-06-10T08:36:53.449Z"
   },
   {
    "duration": 4,
    "start_time": "2024-06-10T08:36:53.453Z"
   },
   {
    "duration": 3,
    "start_time": "2024-06-10T08:36:53.459Z"
   },
   {
    "duration": 4,
    "start_time": "2024-06-10T08:36:53.463Z"
   },
   {
    "duration": 5,
    "start_time": "2024-06-10T08:36:53.468Z"
   },
   {
    "duration": 4,
    "start_time": "2024-06-10T08:36:53.474Z"
   },
   {
    "duration": 5,
    "start_time": "2024-06-10T08:36:53.479Z"
   },
   {
    "duration": 16,
    "start_time": "2024-06-10T08:36:53.485Z"
   },
   {
    "duration": 23,
    "start_time": "2024-06-10T08:36:53.502Z"
   },
   {
    "duration": 8,
    "start_time": "2024-06-10T08:36:53.526Z"
   },
   {
    "duration": 11,
    "start_time": "2024-06-10T08:36:53.536Z"
   },
   {
    "duration": 5,
    "start_time": "2024-06-10T08:36:53.549Z"
   },
   {
    "duration": 41,
    "start_time": "2024-06-10T08:36:53.555Z"
   },
   {
    "duration": 17,
    "start_time": "2024-06-10T08:36:53.597Z"
   },
   {
    "duration": 16,
    "start_time": "2024-06-10T08:36:53.615Z"
   },
   {
    "duration": 16,
    "start_time": "2024-06-10T08:36:53.632Z"
   },
   {
    "duration": 5,
    "start_time": "2024-06-10T08:36:53.649Z"
   },
   {
    "duration": 43,
    "start_time": "2024-06-10T08:36:53.655Z"
   },
   {
    "duration": 4,
    "start_time": "2024-06-10T08:36:53.699Z"
   },
   {
    "duration": 7,
    "start_time": "2024-06-10T08:36:53.704Z"
   },
   {
    "duration": 25,
    "start_time": "2024-06-10T08:36:53.712Z"
   },
   {
    "duration": 215,
    "start_time": "2024-06-10T08:36:53.739Z"
   },
   {
    "duration": 204,
    "start_time": "2024-06-10T08:36:53.956Z"
   },
   {
    "duration": 175,
    "start_time": "2024-06-10T08:36:54.161Z"
   },
   {
    "duration": 196,
    "start_time": "2024-06-10T08:36:54.337Z"
   },
   {
    "duration": 277,
    "start_time": "2024-06-10T08:36:54.534Z"
   },
   {
    "duration": 193,
    "start_time": "2024-06-10T08:36:54.812Z"
   },
   {
    "duration": 174,
    "start_time": "2024-06-10T08:36:55.006Z"
   },
   {
    "duration": 184,
    "start_time": "2024-06-10T08:36:55.189Z"
   },
   {
    "duration": 103,
    "start_time": "2024-06-10T08:36:55.377Z"
   },
   {
    "duration": 84,
    "start_time": "2024-06-10T08:36:55.482Z"
   },
   {
    "duration": 89,
    "start_time": "2024-06-10T08:36:55.567Z"
   },
   {
    "duration": 139,
    "start_time": "2024-06-10T08:36:55.658Z"
   },
   {
    "duration": 9,
    "start_time": "2024-06-10T08:36:55.799Z"
   },
   {
    "duration": 121,
    "start_time": "2024-06-10T08:36:55.809Z"
   },
   {
    "duration": 201,
    "start_time": "2024-06-10T08:36:55.931Z"
   },
   {
    "duration": 3,
    "start_time": "2024-06-10T08:36:56.134Z"
   },
   {
    "duration": 198,
    "start_time": "2024-06-10T08:36:56.138Z"
   },
   {
    "duration": 3,
    "start_time": "2024-06-10T08:36:56.337Z"
   },
   {
    "duration": 267,
    "start_time": "2024-06-10T08:36:56.341Z"
   },
   {
    "duration": 9,
    "start_time": "2024-06-10T08:36:56.609Z"
   },
   {
    "duration": 109,
    "start_time": "2024-06-10T08:36:56.620Z"
   },
   {
    "duration": 180,
    "start_time": "2024-06-10T08:36:56.731Z"
   },
   {
    "duration": 200,
    "start_time": "2024-06-10T08:36:56.912Z"
   },
   {
    "duration": 9,
    "start_time": "2024-06-10T08:36:57.113Z"
   },
   {
    "duration": 30,
    "start_time": "2024-06-10T08:36:57.123Z"
   },
   {
    "duration": 41116,
    "start_time": "2024-06-10T08:36:57.154Z"
   },
   {
    "duration": 849,
    "start_time": "2024-06-10T08:37:38.271Z"
   },
   {
    "duration": 4,
    "start_time": "2024-06-10T08:37:39.122Z"
   },
   {
    "duration": 17,
    "start_time": "2024-06-10T08:37:39.127Z"
   },
   {
    "duration": 12,
    "start_time": "2024-06-10T08:37:39.146Z"
   },
   {
    "duration": 5032,
    "start_time": "2024-06-10T08:37:39.159Z"
   },
   {
    "duration": 2,
    "start_time": "2024-06-10T08:37:44.193Z"
   },
   {
    "duration": 147,
    "start_time": "2024-06-10T08:37:50.162Z"
   },
   {
    "duration": 22975,
    "start_time": "2024-06-10T08:38:30.117Z"
   },
   {
    "duration": 10,
    "start_time": "2024-06-10T08:39:24.296Z"
   },
   {
    "duration": 24862,
    "start_time": "2024-06-10T08:43:10.578Z"
   },
   {
    "duration": 11,
    "start_time": "2024-06-10T08:44:26.257Z"
   },
   {
    "duration": 4,
    "start_time": "2024-06-10T08:49:09.894Z"
   },
   {
    "duration": 9,
    "start_time": "2024-06-10T08:49:11.332Z"
   },
   {
    "duration": 2,
    "start_time": "2024-06-10T08:49:18.388Z"
   },
   {
    "duration": 8293,
    "start_time": "2024-06-10T08:49:25.849Z"
   },
   {
    "duration": 20,
    "start_time": "2024-06-10T08:51:36.354Z"
   },
   {
    "duration": 42244,
    "start_time": "2024-06-10T08:52:38.045Z"
   },
   {
    "duration": 42862,
    "start_time": "2024-06-10T08:53:41.725Z"
   },
   {
    "duration": 2556,
    "start_time": "2024-06-10T10:22:53.802Z"
   },
   {
    "duration": 4,
    "start_time": "2024-06-10T10:23:03.864Z"
   },
   {
    "duration": 2,
    "start_time": "2024-06-10T10:23:07.062Z"
   },
   {
    "duration": 2533,
    "start_time": "2024-06-10T10:23:14.060Z"
   },
   {
    "duration": 1564,
    "start_time": "2024-06-10T10:23:16.595Z"
   },
   {
    "duration": 3,
    "start_time": "2024-06-10T10:23:18.160Z"
   },
   {
    "duration": 40,
    "start_time": "2024-06-10T10:23:18.164Z"
   },
   {
    "duration": 29,
    "start_time": "2024-06-10T10:23:18.206Z"
   },
   {
    "duration": 15,
    "start_time": "2024-06-10T10:23:18.237Z"
   },
   {
    "duration": 17,
    "start_time": "2024-06-10T10:23:18.253Z"
   },
   {
    "duration": 16,
    "start_time": "2024-06-10T10:23:18.270Z"
   },
   {
    "duration": 16,
    "start_time": "2024-06-10T10:23:18.287Z"
   },
   {
    "duration": 24,
    "start_time": "2024-06-10T10:23:18.304Z"
   },
   {
    "duration": 15,
    "start_time": "2024-06-10T10:23:18.330Z"
   },
   {
    "duration": 3,
    "start_time": "2024-06-10T10:23:18.346Z"
   },
   {
    "duration": 4,
    "start_time": "2024-06-10T10:23:18.350Z"
   },
   {
    "duration": 8,
    "start_time": "2024-06-10T10:23:18.356Z"
   },
   {
    "duration": 5,
    "start_time": "2024-06-10T10:23:18.365Z"
   },
   {
    "duration": 6,
    "start_time": "2024-06-10T10:23:18.371Z"
   },
   {
    "duration": 12,
    "start_time": "2024-06-10T10:23:18.378Z"
   },
   {
    "duration": 3,
    "start_time": "2024-06-10T10:23:18.391Z"
   },
   {
    "duration": 8,
    "start_time": "2024-06-10T10:23:18.395Z"
   },
   {
    "duration": 8,
    "start_time": "2024-06-10T10:23:18.405Z"
   },
   {
    "duration": 8,
    "start_time": "2024-06-10T10:23:18.414Z"
   },
   {
    "duration": 4,
    "start_time": "2024-06-10T10:23:18.424Z"
   },
   {
    "duration": 5,
    "start_time": "2024-06-10T10:23:18.429Z"
   },
   {
    "duration": 27,
    "start_time": "2024-06-10T10:23:18.435Z"
   },
   {
    "duration": 38,
    "start_time": "2024-06-10T10:23:18.463Z"
   },
   {
    "duration": 16,
    "start_time": "2024-06-10T10:23:18.502Z"
   },
   {
    "duration": 16,
    "start_time": "2024-06-10T10:23:18.520Z"
   },
   {
    "duration": 5,
    "start_time": "2024-06-10T10:23:18.537Z"
   },
   {
    "duration": 26,
    "start_time": "2024-06-10T10:23:18.543Z"
   },
   {
    "duration": 20,
    "start_time": "2024-06-10T10:23:18.570Z"
   },
   {
    "duration": 30,
    "start_time": "2024-06-10T10:23:18.591Z"
   },
   {
    "duration": 31,
    "start_time": "2024-06-10T10:23:18.623Z"
   },
   {
    "duration": 203,
    "start_time": "2024-06-10T10:23:18.656Z"
   },
   {
    "duration": 212,
    "start_time": "2024-06-10T10:23:18.860Z"
   },
   {
    "duration": 190,
    "start_time": "2024-06-10T10:23:19.074Z"
   },
   {
    "duration": 199,
    "start_time": "2024-06-10T10:23:19.266Z"
   },
   {
    "duration": 270,
    "start_time": "2024-06-10T10:23:19.466Z"
   },
   {
    "duration": 196,
    "start_time": "2024-06-10T10:23:19.738Z"
   },
   {
    "duration": 192,
    "start_time": "2024-06-10T10:23:19.936Z"
   },
   {
    "duration": 207,
    "start_time": "2024-06-10T10:23:20.129Z"
   },
   {
    "duration": 121,
    "start_time": "2024-06-10T10:23:20.339Z"
   },
   {
    "duration": 94,
    "start_time": "2024-06-10T10:23:20.462Z"
   },
   {
    "duration": 92,
    "start_time": "2024-06-10T10:23:20.557Z"
   },
   {
    "duration": 142,
    "start_time": "2024-06-10T10:23:20.650Z"
   },
   {
    "duration": 9,
    "start_time": "2024-06-10T10:23:20.793Z"
   },
   {
    "duration": 117,
    "start_time": "2024-06-10T10:23:20.804Z"
   },
   {
    "duration": 191,
    "start_time": "2024-06-10T10:23:20.922Z"
   },
   {
    "duration": 3,
    "start_time": "2024-06-10T10:23:21.115Z"
   },
   {
    "duration": 198,
    "start_time": "2024-06-10T10:23:21.120Z"
   },
   {
    "duration": 2,
    "start_time": "2024-06-10T10:23:21.320Z"
   },
   {
    "duration": 281,
    "start_time": "2024-06-10T10:23:21.324Z"
   },
   {
    "duration": 10,
    "start_time": "2024-06-10T10:23:21.606Z"
   },
   {
    "duration": 99,
    "start_time": "2024-06-10T10:23:21.617Z"
   },
   {
    "duration": 206,
    "start_time": "2024-06-10T10:23:21.718Z"
   },
   {
    "duration": 196,
    "start_time": "2024-06-10T10:23:21.925Z"
   },
   {
    "duration": 9,
    "start_time": "2024-06-10T10:23:22.122Z"
   },
   {
    "duration": 34,
    "start_time": "2024-06-10T10:23:22.133Z"
   },
   {
    "duration": 40693,
    "start_time": "2024-06-10T10:23:22.189Z"
   },
   {
    "duration": 832,
    "start_time": "2024-06-10T10:24:02.883Z"
   },
   {
    "duration": 12,
    "start_time": "2024-06-10T10:24:03.716Z"
   },
   {
    "duration": 9,
    "start_time": "2024-06-10T10:24:03.730Z"
   },
   {
    "duration": 10,
    "start_time": "2024-06-10T10:24:03.740Z"
   },
   {
    "duration": 4,
    "start_time": "2024-06-10T10:24:03.751Z"
   },
   {
    "duration": 4566,
    "start_time": "2024-06-10T10:24:03.756Z"
   },
   {
    "duration": 22788,
    "start_time": "2024-06-10T10:24:08.323Z"
   },
   {
    "duration": 22714,
    "start_time": "2024-06-10T10:30:07.833Z"
   },
   {
    "duration": 129,
    "start_time": "2024-06-10T10:30:53.828Z"
   },
   {
    "duration": 2590,
    "start_time": "2024-06-10T10:31:10.182Z"
   },
   {
    "duration": 4,
    "start_time": "2024-06-10T10:31:12.775Z"
   },
   {
    "duration": 17,
    "start_time": "2024-06-10T10:31:12.781Z"
   },
   {
    "duration": 46,
    "start_time": "2024-06-10T10:31:12.800Z"
   },
   {
    "duration": 24,
    "start_time": "2024-06-10T10:31:12.848Z"
   },
   {
    "duration": 15,
    "start_time": "2024-06-10T10:31:12.874Z"
   },
   {
    "duration": 18,
    "start_time": "2024-06-10T10:31:12.891Z"
   },
   {
    "duration": 15,
    "start_time": "2024-06-10T10:31:12.911Z"
   },
   {
    "duration": 17,
    "start_time": "2024-06-10T10:31:12.927Z"
   },
   {
    "duration": 24,
    "start_time": "2024-06-10T10:31:12.945Z"
   },
   {
    "duration": 20,
    "start_time": "2024-06-10T10:31:12.971Z"
   },
   {
    "duration": 2,
    "start_time": "2024-06-10T10:31:12.993Z"
   },
   {
    "duration": 6,
    "start_time": "2024-06-10T10:31:12.996Z"
   },
   {
    "duration": 4,
    "start_time": "2024-06-10T10:31:13.004Z"
   },
   {
    "duration": 14,
    "start_time": "2024-06-10T10:31:13.009Z"
   },
   {
    "duration": 12,
    "start_time": "2024-06-10T10:31:13.024Z"
   },
   {
    "duration": 5,
    "start_time": "2024-06-10T10:31:13.037Z"
   },
   {
    "duration": 4,
    "start_time": "2024-06-10T10:31:13.044Z"
   },
   {
    "duration": 8,
    "start_time": "2024-06-10T10:31:13.049Z"
   },
   {
    "duration": 22,
    "start_time": "2024-06-10T10:31:13.059Z"
   },
   {
    "duration": 16,
    "start_time": "2024-06-10T10:31:13.083Z"
   },
   {
    "duration": 8,
    "start_time": "2024-06-10T10:31:13.100Z"
   },
   {
    "duration": 8,
    "start_time": "2024-06-10T10:31:13.110Z"
   },
   {
    "duration": 25,
    "start_time": "2024-06-10T10:31:13.120Z"
   },
   {
    "duration": 19,
    "start_time": "2024-06-10T10:31:13.146Z"
   },
   {
    "duration": 35,
    "start_time": "2024-06-10T10:31:13.167Z"
   },
   {
    "duration": 17,
    "start_time": "2024-06-10T10:31:13.203Z"
   },
   {
    "duration": 4,
    "start_time": "2024-06-10T10:31:13.222Z"
   },
   {
    "duration": 13,
    "start_time": "2024-06-10T10:31:13.227Z"
   },
   {
    "duration": 4,
    "start_time": "2024-06-10T10:31:13.241Z"
   },
   {
    "duration": 9,
    "start_time": "2024-06-10T10:31:13.246Z"
   },
   {
    "duration": 51,
    "start_time": "2024-06-10T10:31:13.256Z"
   },
   {
    "duration": 208,
    "start_time": "2024-06-10T10:31:13.308Z"
   },
   {
    "duration": 216,
    "start_time": "2024-06-10T10:31:13.518Z"
   },
   {
    "duration": 207,
    "start_time": "2024-06-10T10:31:13.736Z"
   },
   {
    "duration": 205,
    "start_time": "2024-06-10T10:31:13.944Z"
   },
   {
    "duration": 216,
    "start_time": "2024-06-10T10:31:14.150Z"
   },
   {
    "duration": 198,
    "start_time": "2024-06-10T10:31:14.368Z"
   },
   {
    "duration": 283,
    "start_time": "2024-06-10T10:31:14.567Z"
   },
   {
    "duration": 204,
    "start_time": "2024-06-10T10:31:14.852Z"
   },
   {
    "duration": 109,
    "start_time": "2024-06-10T10:31:15.061Z"
   },
   {
    "duration": 93,
    "start_time": "2024-06-10T10:31:15.172Z"
   },
   {
    "duration": 96,
    "start_time": "2024-06-10T10:31:15.267Z"
   },
   {
    "duration": 139,
    "start_time": "2024-06-10T10:31:15.364Z"
   },
   {
    "duration": 9,
    "start_time": "2024-06-10T10:31:15.505Z"
   },
   {
    "duration": 125,
    "start_time": "2024-06-10T10:31:15.515Z"
   },
   {
    "duration": 193,
    "start_time": "2024-06-10T10:31:15.642Z"
   },
   {
    "duration": 3,
    "start_time": "2024-06-10T10:31:15.837Z"
   },
   {
    "duration": 201,
    "start_time": "2024-06-10T10:31:15.841Z"
   },
   {
    "duration": 4,
    "start_time": "2024-06-10T10:31:16.043Z"
   },
   {
    "duration": 192,
    "start_time": "2024-06-10T10:31:16.048Z"
   },
   {
    "duration": 9,
    "start_time": "2024-06-10T10:31:16.242Z"
   },
   {
    "duration": 180,
    "start_time": "2024-06-10T10:31:16.252Z"
   },
   {
    "duration": 200,
    "start_time": "2024-06-10T10:31:16.433Z"
   },
   {
    "duration": 195,
    "start_time": "2024-06-10T10:31:16.634Z"
   },
   {
    "duration": 9,
    "start_time": "2024-06-10T10:31:16.830Z"
   },
   {
    "duration": 41,
    "start_time": "2024-06-10T10:31:16.841Z"
   },
   {
    "duration": 4687,
    "start_time": "2024-06-10T10:31:58.750Z"
   },
   {
    "duration": 2578,
    "start_time": "2024-06-10T10:33:28.853Z"
   },
   {
    "duration": 1614,
    "start_time": "2024-06-10T10:33:31.432Z"
   },
   {
    "duration": 3,
    "start_time": "2024-06-10T10:33:33.047Z"
   },
   {
    "duration": 34,
    "start_time": "2024-06-10T10:33:33.052Z"
   },
   {
    "duration": 28,
    "start_time": "2024-06-10T10:33:33.088Z"
   },
   {
    "duration": 17,
    "start_time": "2024-06-10T10:33:33.117Z"
   },
   {
    "duration": 19,
    "start_time": "2024-06-10T10:33:33.135Z"
   },
   {
    "duration": 15,
    "start_time": "2024-06-10T10:33:33.155Z"
   },
   {
    "duration": 21,
    "start_time": "2024-06-10T10:33:33.171Z"
   },
   {
    "duration": 23,
    "start_time": "2024-06-10T10:33:33.193Z"
   },
   {
    "duration": 18,
    "start_time": "2024-06-10T10:33:33.218Z"
   },
   {
    "duration": 3,
    "start_time": "2024-06-10T10:33:33.237Z"
   },
   {
    "duration": 4,
    "start_time": "2024-06-10T10:33:33.242Z"
   },
   {
    "duration": 2,
    "start_time": "2024-06-10T10:33:33.250Z"
   },
   {
    "duration": 4,
    "start_time": "2024-06-10T10:33:33.253Z"
   },
   {
    "duration": 10,
    "start_time": "2024-06-10T10:33:33.258Z"
   },
   {
    "duration": 33,
    "start_time": "2024-06-10T10:33:33.269Z"
   },
   {
    "duration": 7,
    "start_time": "2024-06-10T10:33:33.303Z"
   },
   {
    "duration": 7,
    "start_time": "2024-06-10T10:33:33.312Z"
   },
   {
    "duration": 18,
    "start_time": "2024-06-10T10:33:33.321Z"
   },
   {
    "duration": 7,
    "start_time": "2024-06-10T10:33:33.341Z"
   },
   {
    "duration": 4,
    "start_time": "2024-06-10T10:33:33.350Z"
   },
   {
    "duration": 4,
    "start_time": "2024-06-10T10:33:33.355Z"
   },
   {
    "duration": 32,
    "start_time": "2024-06-10T10:33:33.361Z"
   },
   {
    "duration": 19,
    "start_time": "2024-06-10T10:33:33.395Z"
   },
   {
    "duration": 18,
    "start_time": "2024-06-10T10:33:33.415Z"
   },
   {
    "duration": 16,
    "start_time": "2024-06-10T10:33:33.435Z"
   },
   {
    "duration": 4,
    "start_time": "2024-06-10T10:33:33.490Z"
   },
   {
    "duration": 10,
    "start_time": "2024-06-10T10:33:33.495Z"
   },
   {
    "duration": 4,
    "start_time": "2024-06-10T10:33:33.506Z"
   },
   {
    "duration": 16,
    "start_time": "2024-06-10T10:33:33.511Z"
   },
   {
    "duration": 27,
    "start_time": "2024-06-10T10:33:33.528Z"
   },
   {
    "duration": 216,
    "start_time": "2024-06-10T10:33:33.556Z"
   },
   {
    "duration": 217,
    "start_time": "2024-06-10T10:33:33.774Z"
   },
   {
    "duration": 189,
    "start_time": "2024-06-10T10:33:33.992Z"
   },
   {
    "duration": 205,
    "start_time": "2024-06-10T10:33:34.182Z"
   },
   {
    "duration": 268,
    "start_time": "2024-06-10T10:33:34.391Z"
   },
   {
    "duration": 196,
    "start_time": "2024-06-10T10:33:34.660Z"
   },
   {
    "duration": 175,
    "start_time": "2024-06-10T10:33:34.857Z"
   },
   {
    "duration": 207,
    "start_time": "2024-06-10T10:33:35.033Z"
   },
   {
    "duration": 102,
    "start_time": "2024-06-10T10:33:35.243Z"
   },
   {
    "duration": 93,
    "start_time": "2024-06-10T10:33:35.347Z"
   },
   {
    "duration": 94,
    "start_time": "2024-06-10T10:33:35.441Z"
   },
   {
    "duration": 136,
    "start_time": "2024-06-10T10:33:35.536Z"
   },
   {
    "duration": 18,
    "start_time": "2024-06-10T10:33:35.673Z"
   },
   {
    "duration": 147,
    "start_time": "2024-06-10T10:33:35.692Z"
   },
   {
    "duration": 218,
    "start_time": "2024-06-10T10:33:35.840Z"
   },
   {
    "duration": 4,
    "start_time": "2024-06-10T10:33:36.059Z"
   },
   {
    "duration": 198,
    "start_time": "2024-06-10T10:33:36.064Z"
   },
   {
    "duration": 3,
    "start_time": "2024-06-10T10:33:36.264Z"
   },
   {
    "duration": 309,
    "start_time": "2024-06-10T10:33:36.268Z"
   },
   {
    "duration": 17,
    "start_time": "2024-06-10T10:33:36.579Z"
   },
   {
    "duration": 137,
    "start_time": "2024-06-10T10:33:36.598Z"
   },
   {
    "duration": 211,
    "start_time": "2024-06-10T10:33:36.736Z"
   },
   {
    "duration": 201,
    "start_time": "2024-06-10T10:33:36.949Z"
   },
   {
    "duration": 8,
    "start_time": "2024-06-10T10:33:37.152Z"
   },
   {
    "duration": 44,
    "start_time": "2024-06-10T10:33:37.161Z"
   },
   {
    "duration": 40856,
    "start_time": "2024-06-10T10:33:37.206Z"
   },
   {
    "duration": 829,
    "start_time": "2024-06-10T10:34:18.063Z"
   },
   {
    "duration": 13,
    "start_time": "2024-06-10T10:34:18.893Z"
   },
   {
    "duration": 7,
    "start_time": "2024-06-10T10:34:18.908Z"
   },
   {
    "duration": 36,
    "start_time": "2024-06-10T10:34:18.917Z"
   },
   {
    "duration": 28,
    "start_time": "2024-06-10T10:34:18.954Z"
   },
   {
    "duration": 23558,
    "start_time": "2024-06-10T10:34:18.983Z"
   },
   {
    "duration": 133,
    "start_time": "2024-06-10T10:34:42.542Z"
   },
   {
    "duration": 0,
    "start_time": "2024-06-10T10:34:42.676Z"
   },
   {
    "duration": 0,
    "start_time": "2024-06-10T10:34:42.677Z"
   },
   {
    "duration": 63,
    "start_time": "2024-06-10T10:35:17.686Z"
   },
   {
    "duration": 13265,
    "start_time": "2024-06-10T10:35:58.025Z"
   },
   {
    "duration": 56,
    "start_time": "2024-06-10T10:37:04.829Z"
   },
   {
    "duration": 55,
    "start_time": "2024-06-10T10:38:16.704Z"
   },
   {
    "duration": 63,
    "start_time": "2024-06-10T10:39:53.749Z"
   },
   {
    "duration": 13548,
    "start_time": "2024-06-10T10:40:28.441Z"
   },
   {
    "duration": 2239,
    "start_time": "2024-06-10T10:41:23.307Z"
   },
   {
    "duration": 4044,
    "start_time": "2024-06-10T10:41:36.320Z"
   },
   {
    "duration": 4086,
    "start_time": "2024-06-10T10:43:39.784Z"
   },
   {
    "duration": 4056,
    "start_time": "2024-06-10T10:45:55.996Z"
   },
   {
    "duration": 3536,
    "start_time": "2024-06-10T10:48:43.523Z"
   },
   {
    "duration": 2585,
    "start_time": "2024-06-10T10:52:31.863Z"
   },
   {
    "duration": 1545,
    "start_time": "2024-06-10T10:52:34.450Z"
   },
   {
    "duration": 3,
    "start_time": "2024-06-10T10:52:35.997Z"
   },
   {
    "duration": 33,
    "start_time": "2024-06-10T10:52:36.002Z"
   },
   {
    "duration": 28,
    "start_time": "2024-06-10T10:52:36.036Z"
   },
   {
    "duration": 15,
    "start_time": "2024-06-10T10:52:36.065Z"
   },
   {
    "duration": 16,
    "start_time": "2024-06-10T10:52:36.081Z"
   },
   {
    "duration": 19,
    "start_time": "2024-06-10T10:52:36.098Z"
   },
   {
    "duration": 15,
    "start_time": "2024-06-10T10:52:36.119Z"
   },
   {
    "duration": 24,
    "start_time": "2024-06-10T10:52:36.136Z"
   },
   {
    "duration": 20,
    "start_time": "2024-06-10T10:52:36.161Z"
   },
   {
    "duration": 13,
    "start_time": "2024-06-10T10:52:36.183Z"
   },
   {
    "duration": 10,
    "start_time": "2024-06-10T10:52:36.198Z"
   },
   {
    "duration": 15,
    "start_time": "2024-06-10T10:52:36.210Z"
   },
   {
    "duration": 3,
    "start_time": "2024-06-10T10:52:36.227Z"
   },
   {
    "duration": 15,
    "start_time": "2024-06-10T10:52:36.232Z"
   },
   {
    "duration": 13,
    "start_time": "2024-06-10T10:52:36.249Z"
   },
   {
    "duration": 13,
    "start_time": "2024-06-10T10:52:36.264Z"
   },
   {
    "duration": 18,
    "start_time": "2024-06-10T10:52:36.278Z"
   },
   {
    "duration": 7,
    "start_time": "2024-06-10T10:52:36.298Z"
   },
   {
    "duration": 17,
    "start_time": "2024-06-10T10:52:36.307Z"
   },
   {
    "duration": 4,
    "start_time": "2024-06-10T10:52:36.326Z"
   },
   {
    "duration": 4,
    "start_time": "2024-06-10T10:52:36.332Z"
   },
   {
    "duration": 26,
    "start_time": "2024-06-10T10:52:36.337Z"
   },
   {
    "duration": 16,
    "start_time": "2024-06-10T10:52:36.364Z"
   },
   {
    "duration": 26,
    "start_time": "2024-06-10T10:52:36.381Z"
   },
   {
    "duration": 41,
    "start_time": "2024-06-10T10:52:36.408Z"
   },
   {
    "duration": 28,
    "start_time": "2024-06-10T10:52:36.454Z"
   },
   {
    "duration": 11,
    "start_time": "2024-06-10T10:52:36.483Z"
   },
   {
    "duration": 3,
    "start_time": "2024-06-10T10:52:36.496Z"
   },
   {
    "duration": 45,
    "start_time": "2024-06-10T10:52:36.500Z"
   },
   {
    "duration": 34,
    "start_time": "2024-06-10T10:52:36.546Z"
   },
   {
    "duration": 214,
    "start_time": "2024-06-10T10:52:36.581Z"
   },
   {
    "duration": 208,
    "start_time": "2024-06-10T10:52:36.797Z"
   },
   {
    "duration": 184,
    "start_time": "2024-06-10T10:52:37.007Z"
   },
   {
    "duration": 193,
    "start_time": "2024-06-10T10:52:37.193Z"
   },
   {
    "duration": 262,
    "start_time": "2024-06-10T10:52:37.389Z"
   },
   {
    "duration": 196,
    "start_time": "2024-06-10T10:52:37.652Z"
   },
   {
    "duration": 187,
    "start_time": "2024-06-10T10:52:37.849Z"
   },
   {
    "duration": 198,
    "start_time": "2024-06-10T10:52:38.037Z"
   },
   {
    "duration": 100,
    "start_time": "2024-06-10T10:52:38.236Z"
   },
   {
    "duration": 92,
    "start_time": "2024-06-10T10:52:38.337Z"
   },
   {
    "duration": 87,
    "start_time": "2024-06-10T10:52:38.430Z"
   },
   {
    "duration": 139,
    "start_time": "2024-06-10T10:52:38.519Z"
   },
   {
    "duration": 9,
    "start_time": "2024-06-10T10:52:38.660Z"
   },
   {
    "duration": 119,
    "start_time": "2024-06-10T10:52:38.670Z"
   },
   {
    "duration": 193,
    "start_time": "2024-06-10T10:52:38.790Z"
   },
   {
    "duration": 7,
    "start_time": "2024-06-10T10:52:38.984Z"
   },
   {
    "duration": 197,
    "start_time": "2024-06-10T10:52:38.992Z"
   },
   {
    "duration": 3,
    "start_time": "2024-06-10T10:52:39.190Z"
   },
   {
    "duration": 272,
    "start_time": "2024-06-10T10:52:39.195Z"
   },
   {
    "duration": 10,
    "start_time": "2024-06-10T10:52:39.468Z"
   },
   {
    "duration": 104,
    "start_time": "2024-06-10T10:52:39.479Z"
   },
   {
    "duration": 185,
    "start_time": "2024-06-10T10:52:39.584Z"
   },
   {
    "duration": 192,
    "start_time": "2024-06-10T10:52:39.770Z"
   },
   {
    "duration": 10,
    "start_time": "2024-06-10T10:52:39.963Z"
   },
   {
    "duration": 43,
    "start_time": "2024-06-10T10:52:39.974Z"
   },
   {
    "duration": 40667,
    "start_time": "2024-06-10T10:52:40.019Z"
   },
   {
    "duration": 808,
    "start_time": "2024-06-10T10:53:20.687Z"
   },
   {
    "duration": 18,
    "start_time": "2024-06-10T10:53:21.496Z"
   },
   {
    "duration": 4,
    "start_time": "2024-06-10T10:53:21.516Z"
   },
   {
    "duration": 15,
    "start_time": "2024-06-10T10:53:21.522Z"
   },
   {
    "duration": 3,
    "start_time": "2024-06-10T10:53:21.539Z"
   },
   {
    "duration": 2273,
    "start_time": "2024-06-10T10:53:21.543Z"
   },
   {
    "duration": 3259,
    "start_time": "2024-06-10T10:53:23.817Z"
   },
   {
    "duration": 19,
    "start_time": "2024-06-10T10:58:58.367Z"
   },
   {
    "duration": 14,
    "start_time": "2024-06-10T10:59:28.952Z"
   },
   {
    "duration": 985,
    "start_time": "2024-06-10T11:05:16.651Z"
   },
   {
    "duration": 2590,
    "start_time": "2024-06-10T13:31:39.795Z"
   },
   {
    "duration": 1630,
    "start_time": "2024-06-10T13:31:42.387Z"
   },
   {
    "duration": 3,
    "start_time": "2024-06-10T13:31:44.019Z"
   },
   {
    "duration": 66,
    "start_time": "2024-06-10T13:31:44.023Z"
   },
   {
    "duration": 30,
    "start_time": "2024-06-10T13:31:44.090Z"
   },
   {
    "duration": 16,
    "start_time": "2024-06-10T13:31:44.121Z"
   },
   {
    "duration": 18,
    "start_time": "2024-06-10T13:31:44.138Z"
   },
   {
    "duration": 15,
    "start_time": "2024-06-10T13:31:44.157Z"
   },
   {
    "duration": 25,
    "start_time": "2024-06-10T13:31:44.174Z"
   },
   {
    "duration": 25,
    "start_time": "2024-06-10T13:31:44.201Z"
   },
   {
    "duration": 16,
    "start_time": "2024-06-10T13:31:44.227Z"
   },
   {
    "duration": 3,
    "start_time": "2024-06-10T13:31:44.244Z"
   },
   {
    "duration": 9,
    "start_time": "2024-06-10T13:31:44.248Z"
   },
   {
    "duration": 5,
    "start_time": "2024-06-10T13:31:44.258Z"
   },
   {
    "duration": 3,
    "start_time": "2024-06-10T13:31:44.264Z"
   },
   {
    "duration": 5,
    "start_time": "2024-06-10T13:31:44.268Z"
   },
   {
    "duration": 10,
    "start_time": "2024-06-10T13:31:44.274Z"
   },
   {
    "duration": 5,
    "start_time": "2024-06-10T13:31:44.285Z"
   },
   {
    "duration": 9,
    "start_time": "2024-06-10T13:31:44.291Z"
   },
   {
    "duration": 14,
    "start_time": "2024-06-10T13:31:44.302Z"
   },
   {
    "duration": 6,
    "start_time": "2024-06-10T13:31:44.317Z"
   },
   {
    "duration": 6,
    "start_time": "2024-06-10T13:31:44.324Z"
   },
   {
    "duration": 5,
    "start_time": "2024-06-10T13:31:44.332Z"
   },
   {
    "duration": 36,
    "start_time": "2024-06-10T13:31:44.339Z"
   },
   {
    "duration": 33,
    "start_time": "2024-06-10T13:31:44.377Z"
   },
   {
    "duration": 23,
    "start_time": "2024-06-10T13:31:44.411Z"
   },
   {
    "duration": 54,
    "start_time": "2024-06-10T13:31:44.436Z"
   },
   {
    "duration": 6,
    "start_time": "2024-06-10T13:31:44.495Z"
   },
   {
    "duration": 14,
    "start_time": "2024-06-10T13:31:44.503Z"
   },
   {
    "duration": 4,
    "start_time": "2024-06-10T13:31:44.519Z"
   },
   {
    "duration": 4,
    "start_time": "2024-06-10T13:31:44.525Z"
   },
   {
    "duration": 28,
    "start_time": "2024-06-10T13:31:44.531Z"
   },
   {
    "duration": 229,
    "start_time": "2024-06-10T13:31:44.560Z"
   },
   {
    "duration": 205,
    "start_time": "2024-06-10T13:31:44.791Z"
   },
   {
    "duration": 183,
    "start_time": "2024-06-10T13:31:44.997Z"
   },
   {
    "duration": 203,
    "start_time": "2024-06-10T13:31:45.181Z"
   },
   {
    "duration": 273,
    "start_time": "2024-06-10T13:31:45.389Z"
   },
   {
    "duration": 194,
    "start_time": "2024-06-10T13:31:45.663Z"
   },
   {
    "duration": 179,
    "start_time": "2024-06-10T13:31:45.858Z"
   },
   {
    "duration": 201,
    "start_time": "2024-06-10T13:31:46.038Z"
   },
   {
    "duration": 108,
    "start_time": "2024-06-10T13:31:46.240Z"
   },
   {
    "duration": 91,
    "start_time": "2024-06-10T13:31:46.349Z"
   },
   {
    "duration": 105,
    "start_time": "2024-06-10T13:31:46.441Z"
   },
   {
    "duration": 136,
    "start_time": "2024-06-10T13:31:46.548Z"
   },
   {
    "duration": 10,
    "start_time": "2024-06-10T13:31:46.689Z"
   },
   {
    "duration": 121,
    "start_time": "2024-06-10T13:31:46.700Z"
   },
   {
    "duration": 206,
    "start_time": "2024-06-10T13:31:46.822Z"
   },
   {
    "duration": 5,
    "start_time": "2024-06-10T13:31:47.029Z"
   },
   {
    "duration": 198,
    "start_time": "2024-06-10T13:31:47.035Z"
   },
   {
    "duration": 2,
    "start_time": "2024-06-10T13:31:47.235Z"
   },
   {
    "duration": 274,
    "start_time": "2024-06-10T13:31:47.239Z"
   },
   {
    "duration": 10,
    "start_time": "2024-06-10T13:31:47.514Z"
   },
   {
    "duration": 102,
    "start_time": "2024-06-10T13:31:47.526Z"
   },
   {
    "duration": 182,
    "start_time": "2024-06-10T13:31:47.629Z"
   },
   {
    "duration": 203,
    "start_time": "2024-06-10T13:31:47.812Z"
   },
   {
    "duration": 10,
    "start_time": "2024-06-10T13:31:48.017Z"
   },
   {
    "duration": 33,
    "start_time": "2024-06-10T13:31:48.028Z"
   },
   {
    "duration": 40940,
    "start_time": "2024-06-10T13:31:48.062Z"
   },
   {
    "duration": 833,
    "start_time": "2024-06-10T13:32:29.003Z"
   },
   {
    "duration": 12,
    "start_time": "2024-06-10T13:32:29.837Z"
   },
   {
    "duration": 18,
    "start_time": "2024-06-10T13:32:29.850Z"
   },
   {
    "duration": 36,
    "start_time": "2024-06-10T13:32:29.869Z"
   },
   {
    "duration": 19,
    "start_time": "2024-06-10T13:32:29.906Z"
   },
   {
    "duration": 2256,
    "start_time": "2024-06-10T13:32:29.926Z"
   },
   {
    "duration": 3307,
    "start_time": "2024-06-10T13:32:32.183Z"
   },
   {
    "duration": 26,
    "start_time": "2024-06-10T13:32:35.492Z"
   },
   {
    "duration": 14,
    "start_time": "2024-06-10T13:32:35.520Z"
   },
   {
    "duration": 968,
    "start_time": "2024-06-10T13:32:35.535Z"
   },
   {
    "duration": 2194,
    "start_time": "2024-06-10T13:33:13.763Z"
   },
   {
    "duration": 19,
    "start_time": "2024-06-10T13:44:22.630Z"
   },
   {
    "duration": 135,
    "start_time": "2024-06-10T13:44:39.386Z"
   },
   {
    "duration": 3,
    "start_time": "2024-06-10T13:44:43.559Z"
   },
   {
    "duration": 12,
    "start_time": "2024-06-10T13:44:45.271Z"
   },
   {
    "duration": 964,
    "start_time": "2024-06-10T13:49:01.024Z"
   },
   {
    "duration": 1052,
    "start_time": "2024-06-10T13:49:50.946Z"
   },
   {
    "duration": 993,
    "start_time": "2024-06-10T13:50:10.784Z"
   },
   {
    "duration": 957,
    "start_time": "2024-06-10T13:50:24.616Z"
   },
   {
    "duration": 1079,
    "start_time": "2024-06-10T13:52:30.263Z"
   },
   {
    "duration": 390,
    "start_time": "2024-06-10T13:53:39.315Z"
   },
   {
    "duration": 1013,
    "start_time": "2024-06-10T13:54:16.547Z"
   },
   {
    "duration": 28,
    "start_time": "2024-06-10T13:54:31.555Z"
   },
   {
    "duration": 13,
    "start_time": "2024-06-10T13:55:55.583Z"
   },
   {
    "duration": 6,
    "start_time": "2024-06-10T13:56:26.228Z"
   },
   {
    "duration": 6,
    "start_time": "2024-06-10T13:56:28.144Z"
   },
   {
    "duration": 6,
    "start_time": "2024-06-10T13:56:31.277Z"
   },
   {
    "duration": 6,
    "start_time": "2024-06-10T13:56:33.535Z"
   },
   {
    "duration": 8,
    "start_time": "2024-06-10T13:56:35.382Z"
   },
   {
    "duration": 3769,
    "start_time": "2024-06-10T19:08:43.975Z"
   },
   {
    "duration": 2002,
    "start_time": "2024-06-10T19:08:47.746Z"
   },
   {
    "duration": 4,
    "start_time": "2024-06-10T19:08:49.750Z"
   },
   {
    "duration": 111,
    "start_time": "2024-06-10T19:08:49.756Z"
   },
   {
    "duration": 30,
    "start_time": "2024-06-10T19:08:49.869Z"
   },
   {
    "duration": 64,
    "start_time": "2024-06-10T19:08:49.900Z"
   },
   {
    "duration": 19,
    "start_time": "2024-06-10T19:08:49.965Z"
   },
   {
    "duration": 62,
    "start_time": "2024-06-10T19:08:49.985Z"
   },
   {
    "duration": 18,
    "start_time": "2024-06-10T19:08:50.049Z"
   },
   {
    "duration": 108,
    "start_time": "2024-06-10T19:08:50.068Z"
   },
   {
    "duration": 18,
    "start_time": "2024-06-10T19:08:50.178Z"
   },
   {
    "duration": 3,
    "start_time": "2024-06-10T19:08:50.197Z"
   },
   {
    "duration": 9,
    "start_time": "2024-06-10T19:08:50.201Z"
   },
   {
    "duration": 29,
    "start_time": "2024-06-10T19:08:50.213Z"
   },
   {
    "duration": 4,
    "start_time": "2024-06-10T19:08:50.244Z"
   },
   {
    "duration": 16,
    "start_time": "2024-06-10T19:08:50.250Z"
   },
   {
    "duration": 8,
    "start_time": "2024-06-10T19:08:50.268Z"
   },
   {
    "duration": 12,
    "start_time": "2024-06-10T19:08:50.277Z"
   },
   {
    "duration": 14,
    "start_time": "2024-06-10T19:08:50.290Z"
   },
   {
    "duration": 4,
    "start_time": "2024-06-10T19:08:50.306Z"
   },
   {
    "duration": 25,
    "start_time": "2024-06-10T19:08:50.311Z"
   },
   {
    "duration": 11,
    "start_time": "2024-06-10T19:08:50.337Z"
   },
   {
    "duration": 4,
    "start_time": "2024-06-10T19:08:50.349Z"
   },
   {
    "duration": 36,
    "start_time": "2024-06-10T19:08:50.355Z"
   },
   {
    "duration": 20,
    "start_time": "2024-06-10T19:08:50.392Z"
   },
   {
    "duration": 21,
    "start_time": "2024-06-10T19:08:50.414Z"
   },
   {
    "duration": 20,
    "start_time": "2024-06-10T19:08:50.465Z"
   },
   {
    "duration": 53,
    "start_time": "2024-06-10T19:08:50.487Z"
   },
   {
    "duration": 13,
    "start_time": "2024-06-10T19:08:50.542Z"
   },
   {
    "duration": 4,
    "start_time": "2024-06-10T19:08:50.557Z"
   },
   {
    "duration": 8,
    "start_time": "2024-06-10T19:08:50.563Z"
   },
   {
    "duration": 45,
    "start_time": "2024-06-10T19:08:50.573Z"
   },
   {
    "duration": 223,
    "start_time": "2024-06-10T19:08:50.620Z"
   },
   {
    "duration": 233,
    "start_time": "2024-06-10T19:08:50.845Z"
   },
   {
    "duration": 213,
    "start_time": "2024-06-10T19:08:51.080Z"
   },
   {
    "duration": 233,
    "start_time": "2024-06-10T19:08:51.295Z"
   },
   {
    "duration": 310,
    "start_time": "2024-06-10T19:08:51.530Z"
   },
   {
    "duration": 212,
    "start_time": "2024-06-10T19:08:51.842Z"
   },
   {
    "duration": 188,
    "start_time": "2024-06-10T19:08:52.056Z"
   },
   {
    "duration": 223,
    "start_time": "2024-06-10T19:08:52.246Z"
   },
   {
    "duration": 112,
    "start_time": "2024-06-10T19:08:52.474Z"
   },
   {
    "duration": 95,
    "start_time": "2024-06-10T19:08:52.587Z"
   },
   {
    "duration": 98,
    "start_time": "2024-06-10T19:08:52.684Z"
   },
   {
    "duration": 184,
    "start_time": "2024-06-10T19:08:52.783Z"
   },
   {
    "duration": 13,
    "start_time": "2024-06-10T19:08:52.969Z"
   },
   {
    "duration": 154,
    "start_time": "2024-06-10T19:08:52.984Z"
   },
   {
    "duration": 197,
    "start_time": "2024-06-10T19:08:53.139Z"
   },
   {
    "duration": 5,
    "start_time": "2024-06-10T19:08:53.337Z"
   },
   {
    "duration": 297,
    "start_time": "2024-06-10T19:08:53.343Z"
   },
   {
    "duration": 4,
    "start_time": "2024-06-10T19:08:53.641Z"
   },
   {
    "duration": 227,
    "start_time": "2024-06-10T19:08:53.646Z"
   },
   {
    "duration": 11,
    "start_time": "2024-06-10T19:08:53.874Z"
   },
   {
    "duration": 110,
    "start_time": "2024-06-10T19:08:53.887Z"
   },
   {
    "duration": 223,
    "start_time": "2024-06-10T19:08:53.999Z"
   },
   {
    "duration": 211,
    "start_time": "2024-06-10T19:08:54.224Z"
   },
   {
    "duration": 10,
    "start_time": "2024-06-10T19:08:54.436Z"
   },
   {
    "duration": 128,
    "start_time": "2024-06-10T19:08:54.447Z"
   },
   {
    "duration": 44791,
    "start_time": "2024-06-10T19:08:54.577Z"
   },
   {
    "duration": 1256,
    "start_time": "2024-06-10T19:09:39.369Z"
   },
   {
    "duration": 14,
    "start_time": "2024-06-10T19:09:40.626Z"
   },
   {
    "duration": 13,
    "start_time": "2024-06-10T19:09:40.642Z"
   },
   {
    "duration": 15,
    "start_time": "2024-06-10T19:09:40.657Z"
   },
   {
    "duration": 3,
    "start_time": "2024-06-10T19:09:40.673Z"
   },
   {
    "duration": 2370,
    "start_time": "2024-06-10T19:09:40.677Z"
   },
   {
    "duration": 159,
    "start_time": "2024-06-10T19:09:43.049Z"
   },
   {
    "duration": 0,
    "start_time": "2024-06-10T19:09:43.209Z"
   },
   {
    "duration": 0,
    "start_time": "2024-06-10T19:09:43.210Z"
   },
   {
    "duration": 0,
    "start_time": "2024-06-10T19:09:43.211Z"
   },
   {
    "duration": 0,
    "start_time": "2024-06-10T19:09:43.212Z"
   },
   {
    "duration": 0,
    "start_time": "2024-06-10T19:09:43.213Z"
   },
   {
    "duration": 0,
    "start_time": "2024-06-10T19:09:43.214Z"
   },
   {
    "duration": 0,
    "start_time": "2024-06-10T19:09:43.215Z"
   },
   {
    "duration": 0,
    "start_time": "2024-06-10T19:09:43.216Z"
   },
   {
    "duration": 0,
    "start_time": "2024-06-10T19:09:43.217Z"
   },
   {
    "duration": 58,
    "start_time": "2024-06-10T19:10:01.924Z"
   },
   {
    "duration": 48,
    "start_time": "2024-06-10T19:10:12.519Z"
   },
   {
    "duration": 47,
    "start_time": "2024-06-10T19:10:43.578Z"
   },
   {
    "duration": 48,
    "start_time": "2024-06-10T19:10:44.155Z"
   },
   {
    "duration": 49,
    "start_time": "2024-06-10T19:10:44.445Z"
   },
   {
    "duration": 49,
    "start_time": "2024-06-10T19:10:44.680Z"
   },
   {
    "duration": 47,
    "start_time": "2024-06-10T19:10:44.885Z"
   },
   {
    "duration": 2353,
    "start_time": "2024-06-10T19:10:58.375Z"
   },
   {
    "duration": 60,
    "start_time": "2024-06-10T19:11:14.280Z"
   },
   {
    "duration": 45,
    "start_time": "2024-06-10T19:11:28.228Z"
   },
   {
    "duration": 2331,
    "start_time": "2024-06-10T19:11:36.467Z"
   },
   {
    "duration": 1693,
    "start_time": "2024-06-10T19:11:38.800Z"
   },
   {
    "duration": 3,
    "start_time": "2024-06-10T19:11:40.495Z"
   },
   {
    "duration": 33,
    "start_time": "2024-06-10T19:11:40.499Z"
   },
   {
    "duration": 27,
    "start_time": "2024-06-10T19:11:40.534Z"
   },
   {
    "duration": 17,
    "start_time": "2024-06-10T19:11:40.562Z"
   },
   {
    "duration": 21,
    "start_time": "2024-06-10T19:11:40.581Z"
   },
   {
    "duration": 16,
    "start_time": "2024-06-10T19:11:40.604Z"
   },
   {
    "duration": 17,
    "start_time": "2024-06-10T19:11:40.622Z"
   },
   {
    "duration": 26,
    "start_time": "2024-06-10T19:11:40.640Z"
   },
   {
    "duration": 18,
    "start_time": "2024-06-10T19:11:40.668Z"
   },
   {
    "duration": 2,
    "start_time": "2024-06-10T19:11:40.688Z"
   },
   {
    "duration": 5,
    "start_time": "2024-06-10T19:11:40.692Z"
   },
   {
    "duration": 5,
    "start_time": "2024-06-10T19:11:40.700Z"
   },
   {
    "duration": 16,
    "start_time": "2024-06-10T19:11:40.706Z"
   },
   {
    "duration": 14,
    "start_time": "2024-06-10T19:11:40.723Z"
   },
   {
    "duration": 4,
    "start_time": "2024-06-10T19:11:40.739Z"
   },
   {
    "duration": 5,
    "start_time": "2024-06-10T19:11:40.744Z"
   },
   {
    "duration": 16,
    "start_time": "2024-06-10T19:11:40.750Z"
   },
   {
    "duration": 5,
    "start_time": "2024-06-10T19:11:40.768Z"
   },
   {
    "duration": 5,
    "start_time": "2024-06-10T19:11:40.775Z"
   },
   {
    "duration": 6,
    "start_time": "2024-06-10T19:11:40.781Z"
   },
   {
    "duration": 4,
    "start_time": "2024-06-10T19:11:40.788Z"
   },
   {
    "duration": 25,
    "start_time": "2024-06-10T19:11:40.793Z"
   },
   {
    "duration": 54,
    "start_time": "2024-06-10T19:11:40.819Z"
   },
   {
    "duration": 19,
    "start_time": "2024-06-10T19:11:40.874Z"
   },
   {
    "duration": 19,
    "start_time": "2024-06-10T19:11:40.894Z"
   },
   {
    "duration": 6,
    "start_time": "2024-06-10T19:11:40.914Z"
   },
   {
    "duration": 50,
    "start_time": "2024-06-10T19:11:40.922Z"
   },
   {
    "duration": 57,
    "start_time": "2024-06-10T19:11:40.974Z"
   },
   {
    "duration": 56,
    "start_time": "2024-06-10T19:11:41.033Z"
   },
   {
    "duration": 39,
    "start_time": "2024-06-10T19:11:41.091Z"
   },
   {
    "duration": 242,
    "start_time": "2024-06-10T19:11:41.132Z"
   },
   {
    "duration": 255,
    "start_time": "2024-06-10T19:11:41.376Z"
   },
   {
    "duration": 201,
    "start_time": "2024-06-10T19:11:41.632Z"
   },
   {
    "duration": 217,
    "start_time": "2024-06-10T19:11:41.835Z"
   },
   {
    "duration": 313,
    "start_time": "2024-06-10T19:11:42.054Z"
   },
   {
    "duration": 219,
    "start_time": "2024-06-10T19:11:42.368Z"
   },
   {
    "duration": 189,
    "start_time": "2024-06-10T19:11:42.588Z"
   },
   {
    "duration": 222,
    "start_time": "2024-06-10T19:11:42.779Z"
   },
   {
    "duration": 119,
    "start_time": "2024-06-10T19:11:43.005Z"
   },
   {
    "duration": 102,
    "start_time": "2024-06-10T19:11:43.126Z"
   },
   {
    "duration": 114,
    "start_time": "2024-06-10T19:11:43.229Z"
   },
   {
    "duration": 149,
    "start_time": "2024-06-10T19:11:43.344Z"
   },
   {
    "duration": 10,
    "start_time": "2024-06-10T19:11:43.495Z"
   },
   {
    "duration": 122,
    "start_time": "2024-06-10T19:11:43.507Z"
   },
   {
    "duration": 207,
    "start_time": "2024-06-10T19:11:43.630Z"
   },
   {
    "duration": 5,
    "start_time": "2024-06-10T19:11:43.839Z"
   },
   {
    "duration": 214,
    "start_time": "2024-06-10T19:11:43.846Z"
   },
   {
    "duration": 6,
    "start_time": "2024-06-10T19:11:44.061Z"
   },
   {
    "duration": 354,
    "start_time": "2024-06-10T19:11:44.068Z"
   },
   {
    "duration": 10,
    "start_time": "2024-06-10T19:11:44.424Z"
   },
   {
    "duration": 101,
    "start_time": "2024-06-10T19:11:44.435Z"
   },
   {
    "duration": 198,
    "start_time": "2024-06-10T19:11:44.538Z"
   },
   {
    "duration": 239,
    "start_time": "2024-06-10T19:11:44.737Z"
   },
   {
    "duration": 11,
    "start_time": "2024-06-10T19:11:44.977Z"
   },
   {
    "duration": 89,
    "start_time": "2024-06-10T19:11:44.989Z"
   },
   {
    "duration": 44241,
    "start_time": "2024-06-10T19:11:45.079Z"
   },
   {
    "duration": 991,
    "start_time": "2024-06-10T19:12:29.324Z"
   },
   {
    "duration": 14,
    "start_time": "2024-06-10T19:12:30.316Z"
   },
   {
    "duration": 82,
    "start_time": "2024-06-10T19:12:30.332Z"
   },
   {
    "duration": 80,
    "start_time": "2024-06-10T19:12:30.415Z"
   },
   {
    "duration": 34,
    "start_time": "2024-06-10T19:12:30.497Z"
   },
   {
    "duration": 2375,
    "start_time": "2024-06-10T19:12:30.533Z"
   },
   {
    "duration": 130,
    "start_time": "2024-06-10T19:12:41.773Z"
   },
   {
    "duration": 6439,
    "start_time": "2024-06-10T19:13:53.486Z"
   },
   {
    "duration": 66,
    "start_time": "2024-06-10T19:14:52.353Z"
   },
   {
    "duration": 2434,
    "start_time": "2024-06-10T19:15:00.609Z"
   },
   {
    "duration": 2748,
    "start_time": "2024-06-10T19:15:03.045Z"
   },
   {
    "duration": 1728,
    "start_time": "2024-06-10T19:15:05.795Z"
   },
   {
    "duration": 4,
    "start_time": "2024-06-10T19:15:07.525Z"
   },
   {
    "duration": 43,
    "start_time": "2024-06-10T19:15:07.531Z"
   },
   {
    "duration": 44,
    "start_time": "2024-06-10T19:15:07.575Z"
   },
   {
    "duration": 17,
    "start_time": "2024-06-10T19:15:07.621Z"
   },
   {
    "duration": 39,
    "start_time": "2024-06-10T19:15:07.640Z"
   },
   {
    "duration": 18,
    "start_time": "2024-06-10T19:15:07.681Z"
   },
   {
    "duration": 22,
    "start_time": "2024-06-10T19:15:07.703Z"
   },
   {
    "duration": 26,
    "start_time": "2024-06-10T19:15:07.727Z"
   },
   {
    "duration": 21,
    "start_time": "2024-06-10T19:15:07.754Z"
   },
   {
    "duration": 12,
    "start_time": "2024-06-10T19:15:07.776Z"
   },
   {
    "duration": 14,
    "start_time": "2024-06-10T19:15:07.790Z"
   },
   {
    "duration": 40,
    "start_time": "2024-06-10T19:15:07.806Z"
   },
   {
    "duration": 8,
    "start_time": "2024-06-10T19:15:07.848Z"
   },
   {
    "duration": 8,
    "start_time": "2024-06-10T19:15:07.857Z"
   },
   {
    "duration": 12,
    "start_time": "2024-06-10T19:15:07.867Z"
   },
   {
    "duration": 5,
    "start_time": "2024-06-10T19:15:07.880Z"
   },
   {
    "duration": 5,
    "start_time": "2024-06-10T19:15:07.887Z"
   },
   {
    "duration": 12,
    "start_time": "2024-06-10T19:15:07.894Z"
   },
   {
    "duration": 12,
    "start_time": "2024-06-10T19:15:07.908Z"
   },
   {
    "duration": 12,
    "start_time": "2024-06-10T19:15:07.921Z"
   },
   {
    "duration": 9,
    "start_time": "2024-06-10T19:15:07.934Z"
   },
   {
    "duration": 37,
    "start_time": "2024-06-10T19:15:07.945Z"
   },
   {
    "duration": 18,
    "start_time": "2024-06-10T19:15:07.984Z"
   },
   {
    "duration": 19,
    "start_time": "2024-06-10T19:15:08.004Z"
   },
   {
    "duration": 50,
    "start_time": "2024-06-10T19:15:08.026Z"
   },
   {
    "duration": 6,
    "start_time": "2024-06-10T19:15:08.077Z"
   },
   {
    "duration": 52,
    "start_time": "2024-06-10T19:15:08.084Z"
   },
   {
    "duration": 18,
    "start_time": "2024-06-10T19:15:08.137Z"
   },
   {
    "duration": 21,
    "start_time": "2024-06-10T19:15:08.156Z"
   },
   {
    "duration": 32,
    "start_time": "2024-06-10T19:15:08.178Z"
   },
   {
    "duration": 224,
    "start_time": "2024-06-10T19:15:08.212Z"
   },
   {
    "duration": 233,
    "start_time": "2024-06-10T19:15:08.437Z"
   },
   {
    "duration": 215,
    "start_time": "2024-06-10T19:15:08.672Z"
   },
   {
    "duration": 247,
    "start_time": "2024-06-10T19:15:08.889Z"
   },
   {
    "duration": 313,
    "start_time": "2024-06-10T19:15:09.138Z"
   },
   {
    "duration": 232,
    "start_time": "2024-06-10T19:15:09.453Z"
   },
   {
    "duration": 212,
    "start_time": "2024-06-10T19:15:09.687Z"
   },
   {
    "duration": 226,
    "start_time": "2024-06-10T19:15:09.901Z"
   },
   {
    "duration": 112,
    "start_time": "2024-06-10T19:15:10.129Z"
   },
   {
    "duration": 101,
    "start_time": "2024-06-10T19:15:10.243Z"
   },
   {
    "duration": 102,
    "start_time": "2024-06-10T19:15:10.346Z"
   },
   {
    "duration": 147,
    "start_time": "2024-06-10T19:15:10.449Z"
   },
   {
    "duration": 10,
    "start_time": "2024-06-10T19:15:10.598Z"
   },
   {
    "duration": 123,
    "start_time": "2024-06-10T19:15:10.609Z"
   },
   {
    "duration": 218,
    "start_time": "2024-06-10T19:15:10.734Z"
   },
   {
    "duration": 11,
    "start_time": "2024-06-10T19:15:10.954Z"
   },
   {
    "duration": 232,
    "start_time": "2024-06-10T19:15:10.966Z"
   },
   {
    "duration": 4,
    "start_time": "2024-06-10T19:15:11.200Z"
   },
   {
    "duration": 314,
    "start_time": "2024-06-10T19:15:11.206Z"
   },
   {
    "duration": 10,
    "start_time": "2024-06-10T19:15:11.521Z"
   },
   {
    "duration": 108,
    "start_time": "2024-06-10T19:15:11.533Z"
   },
   {
    "duration": 205,
    "start_time": "2024-06-10T19:15:11.642Z"
   },
   {
    "duration": 218,
    "start_time": "2024-06-10T19:15:11.848Z"
   },
   {
    "duration": 10,
    "start_time": "2024-06-10T19:15:12.068Z"
   },
   {
    "duration": 88,
    "start_time": "2024-06-10T19:15:12.079Z"
   },
   {
    "duration": 44764,
    "start_time": "2024-06-10T19:15:12.168Z"
   },
   {
    "duration": 981,
    "start_time": "2024-06-10T19:15:56.934Z"
   },
   {
    "duration": 14,
    "start_time": "2024-06-10T19:15:57.916Z"
   },
   {
    "duration": 11,
    "start_time": "2024-06-10T19:15:57.932Z"
   },
   {
    "duration": 21,
    "start_time": "2024-06-10T19:15:57.944Z"
   },
   {
    "duration": 5,
    "start_time": "2024-06-10T19:15:57.967Z"
   },
   {
    "duration": 2547,
    "start_time": "2024-06-10T19:15:57.974Z"
   },
   {
    "duration": 3806,
    "start_time": "2024-06-10T19:16:00.523Z"
   },
   {
    "duration": 21,
    "start_time": "2024-06-10T19:16:04.331Z"
   },
   {
    "duration": 14,
    "start_time": "2024-06-10T19:16:04.353Z"
   },
   {
    "duration": 15,
    "start_time": "2024-06-10T19:16:04.368Z"
   },
   {
    "duration": 989,
    "start_time": "2024-06-10T19:16:04.384Z"
   },
   {
    "duration": 8,
    "start_time": "2024-06-10T19:16:05.375Z"
   },
   {
    "duration": 8,
    "start_time": "2024-06-10T19:16:05.385Z"
   },
   {
    "duration": 8,
    "start_time": "2024-06-10T19:16:05.395Z"
   },
   {
    "duration": 8,
    "start_time": "2024-06-10T19:16:05.404Z"
   },
   {
    "duration": 8,
    "start_time": "2024-06-10T19:16:05.413Z"
   },
   {
    "duration": 2429,
    "start_time": "2024-06-10T19:37:07.378Z"
   },
   {
    "duration": 2789,
    "start_time": "2024-06-10T19:37:09.810Z"
   },
   {
    "duration": 1704,
    "start_time": "2024-06-10T19:37:12.600Z"
   },
   {
    "duration": 3,
    "start_time": "2024-06-10T19:37:14.306Z"
   },
   {
    "duration": 32,
    "start_time": "2024-06-10T19:37:14.311Z"
   },
   {
    "duration": 33,
    "start_time": "2024-06-10T19:37:14.344Z"
   },
   {
    "duration": 18,
    "start_time": "2024-06-10T19:37:14.378Z"
   },
   {
    "duration": 20,
    "start_time": "2024-06-10T19:37:14.397Z"
   },
   {
    "duration": 17,
    "start_time": "2024-06-10T19:37:14.418Z"
   },
   {
    "duration": 31,
    "start_time": "2024-06-10T19:37:14.436Z"
   },
   {
    "duration": 26,
    "start_time": "2024-06-10T19:37:14.468Z"
   },
   {
    "duration": 18,
    "start_time": "2024-06-10T19:37:14.495Z"
   },
   {
    "duration": 3,
    "start_time": "2024-06-10T19:37:14.514Z"
   },
   {
    "duration": 4,
    "start_time": "2024-06-10T19:37:14.519Z"
   },
   {
    "duration": 4,
    "start_time": "2024-06-10T19:37:14.525Z"
   },
   {
    "duration": 5,
    "start_time": "2024-06-10T19:37:14.530Z"
   },
   {
    "duration": 6,
    "start_time": "2024-06-10T19:37:14.537Z"
   },
   {
    "duration": 93,
    "start_time": "2024-06-10T19:37:14.545Z"
   },
   {
    "duration": 4,
    "start_time": "2024-06-10T19:37:14.640Z"
   },
   {
    "duration": 4,
    "start_time": "2024-06-10T19:37:14.645Z"
   },
   {
    "duration": 6,
    "start_time": "2024-06-10T19:37:14.650Z"
   },
   {
    "duration": 4,
    "start_time": "2024-06-10T19:37:14.657Z"
   },
   {
    "duration": 8,
    "start_time": "2024-06-10T19:37:14.663Z"
   },
   {
    "duration": 4,
    "start_time": "2024-06-10T19:37:14.672Z"
   },
   {
    "duration": 28,
    "start_time": "2024-06-10T19:37:14.677Z"
   },
   {
    "duration": 19,
    "start_time": "2024-06-10T19:37:14.706Z"
   },
   {
    "duration": 47,
    "start_time": "2024-06-10T19:37:14.726Z"
   },
   {
    "duration": 21,
    "start_time": "2024-06-10T19:37:14.775Z"
   },
   {
    "duration": 6,
    "start_time": "2024-06-10T19:37:14.798Z"
   },
   {
    "duration": 31,
    "start_time": "2024-06-10T19:37:14.805Z"
   },
   {
    "duration": 5,
    "start_time": "2024-06-10T19:37:14.838Z"
   },
   {
    "duration": 5,
    "start_time": "2024-06-10T19:37:14.844Z"
   },
   {
    "duration": 34,
    "start_time": "2024-06-10T19:37:14.865Z"
   },
   {
    "duration": 250,
    "start_time": "2024-06-10T19:37:14.900Z"
   },
   {
    "duration": 243,
    "start_time": "2024-06-10T19:37:15.152Z"
   },
   {
    "duration": 229,
    "start_time": "2024-06-10T19:37:15.396Z"
   },
   {
    "duration": 255,
    "start_time": "2024-06-10T19:37:15.627Z"
   },
   {
    "duration": 315,
    "start_time": "2024-06-10T19:37:15.883Z"
   },
   {
    "duration": 206,
    "start_time": "2024-06-10T19:37:16.200Z"
   },
   {
    "duration": 186,
    "start_time": "2024-06-10T19:37:16.407Z"
   },
   {
    "duration": 215,
    "start_time": "2024-06-10T19:37:16.597Z"
   },
   {
    "duration": 116,
    "start_time": "2024-06-10T19:37:16.814Z"
   },
   {
    "duration": 102,
    "start_time": "2024-06-10T19:37:16.931Z"
   },
   {
    "duration": 90,
    "start_time": "2024-06-10T19:37:17.035Z"
   },
   {
    "duration": 151,
    "start_time": "2024-06-10T19:37:17.127Z"
   },
   {
    "duration": 12,
    "start_time": "2024-06-10T19:37:17.279Z"
   },
   {
    "duration": 142,
    "start_time": "2024-06-10T19:37:17.292Z"
   },
   {
    "duration": 211,
    "start_time": "2024-06-10T19:37:17.436Z"
   },
   {
    "duration": 5,
    "start_time": "2024-06-10T19:37:17.648Z"
   },
   {
    "duration": 306,
    "start_time": "2024-06-10T19:37:17.654Z"
   },
   {
    "duration": 3,
    "start_time": "2024-06-10T19:37:17.964Z"
   },
   {
    "duration": 213,
    "start_time": "2024-06-10T19:37:17.969Z"
   },
   {
    "duration": 11,
    "start_time": "2024-06-10T19:37:18.183Z"
   },
   {
    "duration": 119,
    "start_time": "2024-06-10T19:37:18.195Z"
   },
   {
    "duration": 209,
    "start_time": "2024-06-10T19:37:18.316Z"
   },
   {
    "duration": 208,
    "start_time": "2024-06-10T19:37:18.526Z"
   },
   {
    "duration": 12,
    "start_time": "2024-06-10T19:37:18.736Z"
   },
   {
    "duration": 51,
    "start_time": "2024-06-10T19:37:18.750Z"
   },
   {
    "duration": 44473,
    "start_time": "2024-06-10T19:37:18.803Z"
   },
   {
    "duration": 1235,
    "start_time": "2024-06-10T19:38:03.278Z"
   },
   {
    "duration": 13,
    "start_time": "2024-06-10T19:38:04.515Z"
   },
   {
    "duration": 4,
    "start_time": "2024-06-10T19:38:04.530Z"
   },
   {
    "duration": 12,
    "start_time": "2024-06-10T19:38:04.536Z"
   },
   {
    "duration": 17,
    "start_time": "2024-06-10T19:38:04.549Z"
   },
   {
    "duration": 2463,
    "start_time": "2024-06-10T19:38:04.567Z"
   },
   {
    "duration": 3480,
    "start_time": "2024-06-10T19:38:07.031Z"
   },
   {
    "duration": 22,
    "start_time": "2024-06-10T19:38:10.513Z"
   },
   {
    "duration": 4,
    "start_time": "2024-06-10T19:38:10.536Z"
   },
   {
    "duration": 34,
    "start_time": "2024-06-10T19:38:10.541Z"
   },
   {
    "duration": 1031,
    "start_time": "2024-06-10T19:38:10.576Z"
   },
   {
    "duration": 8,
    "start_time": "2024-06-10T19:38:11.608Z"
   },
   {
    "duration": 8,
    "start_time": "2024-06-10T19:38:11.618Z"
   },
   {
    "duration": 25,
    "start_time": "2024-06-10T19:38:11.627Z"
   },
   {
    "duration": 15,
    "start_time": "2024-06-10T19:38:11.654Z"
   },
   {
    "duration": 7,
    "start_time": "2024-06-10T19:38:11.670Z"
   },
   {
    "duration": 10750,
    "start_time": "2024-06-11T04:31:39.829Z"
   },
   {
    "duration": 3224,
    "start_time": "2024-06-11T04:31:50.582Z"
   },
   {
    "duration": 675,
    "start_time": "2024-06-11T04:31:53.807Z"
   },
   {
    "duration": 0,
    "start_time": "2024-06-11T04:31:54.485Z"
   },
   {
    "duration": 0,
    "start_time": "2024-06-11T04:31:54.486Z"
   },
   {
    "duration": 0,
    "start_time": "2024-06-11T04:31:54.487Z"
   },
   {
    "duration": 0,
    "start_time": "2024-06-11T04:31:54.488Z"
   },
   {
    "duration": 0,
    "start_time": "2024-06-11T04:31:54.489Z"
   },
   {
    "duration": 0,
    "start_time": "2024-06-11T04:31:54.490Z"
   },
   {
    "duration": 0,
    "start_time": "2024-06-11T04:31:54.491Z"
   },
   {
    "duration": 0,
    "start_time": "2024-06-11T04:31:54.492Z"
   },
   {
    "duration": 1,
    "start_time": "2024-06-11T04:31:54.492Z"
   },
   {
    "duration": 0,
    "start_time": "2024-06-11T04:31:54.493Z"
   },
   {
    "duration": 0,
    "start_time": "2024-06-11T04:31:54.494Z"
   },
   {
    "duration": 0,
    "start_time": "2024-06-11T04:31:54.495Z"
   },
   {
    "duration": 0,
    "start_time": "2024-06-11T04:31:54.496Z"
   },
   {
    "duration": 0,
    "start_time": "2024-06-11T04:31:54.497Z"
   },
   {
    "duration": 0,
    "start_time": "2024-06-11T04:31:54.498Z"
   },
   {
    "duration": 0,
    "start_time": "2024-06-11T04:31:54.501Z"
   },
   {
    "duration": 0,
    "start_time": "2024-06-11T04:31:54.502Z"
   },
   {
    "duration": 0,
    "start_time": "2024-06-11T04:31:54.503Z"
   },
   {
    "duration": 0,
    "start_time": "2024-06-11T04:31:54.504Z"
   },
   {
    "duration": 0,
    "start_time": "2024-06-11T04:31:54.505Z"
   },
   {
    "duration": 0,
    "start_time": "2024-06-11T04:31:54.506Z"
   },
   {
    "duration": 0,
    "start_time": "2024-06-11T04:31:54.507Z"
   },
   {
    "duration": 0,
    "start_time": "2024-06-11T04:31:54.546Z"
   },
   {
    "duration": 0,
    "start_time": "2024-06-11T04:31:54.547Z"
   },
   {
    "duration": 0,
    "start_time": "2024-06-11T04:31:54.548Z"
   },
   {
    "duration": 0,
    "start_time": "2024-06-11T04:31:54.549Z"
   },
   {
    "duration": 0,
    "start_time": "2024-06-11T04:31:54.550Z"
   },
   {
    "duration": 0,
    "start_time": "2024-06-11T04:31:54.551Z"
   },
   {
    "duration": 0,
    "start_time": "2024-06-11T04:31:54.552Z"
   },
   {
    "duration": 0,
    "start_time": "2024-06-11T04:31:54.552Z"
   },
   {
    "duration": 0,
    "start_time": "2024-06-11T04:31:54.554Z"
   },
   {
    "duration": 0,
    "start_time": "2024-06-11T04:31:54.555Z"
   },
   {
    "duration": 0,
    "start_time": "2024-06-11T04:31:54.556Z"
   },
   {
    "duration": 0,
    "start_time": "2024-06-11T04:31:54.558Z"
   },
   {
    "duration": 0,
    "start_time": "2024-06-11T04:31:54.559Z"
   },
   {
    "duration": 0,
    "start_time": "2024-06-11T04:31:54.560Z"
   },
   {
    "duration": 1,
    "start_time": "2024-06-11T04:31:54.561Z"
   },
   {
    "duration": 0,
    "start_time": "2024-06-11T04:31:54.563Z"
   },
   {
    "duration": 0,
    "start_time": "2024-06-11T04:31:54.564Z"
   },
   {
    "duration": 0,
    "start_time": "2024-06-11T04:31:54.565Z"
   },
   {
    "duration": 0,
    "start_time": "2024-06-11T04:31:54.566Z"
   },
   {
    "duration": 0,
    "start_time": "2024-06-11T04:31:54.568Z"
   },
   {
    "duration": 0,
    "start_time": "2024-06-11T04:31:54.569Z"
   },
   {
    "duration": 0,
    "start_time": "2024-06-11T04:31:54.570Z"
   },
   {
    "duration": 0,
    "start_time": "2024-06-11T04:31:54.571Z"
   },
   {
    "duration": 0,
    "start_time": "2024-06-11T04:31:54.573Z"
   },
   {
    "duration": 0,
    "start_time": "2024-06-11T04:31:54.574Z"
   },
   {
    "duration": 0,
    "start_time": "2024-06-11T04:31:54.575Z"
   },
   {
    "duration": 0,
    "start_time": "2024-06-11T04:31:54.576Z"
   },
   {
    "duration": 0,
    "start_time": "2024-06-11T04:31:54.577Z"
   },
   {
    "duration": 0,
    "start_time": "2024-06-11T04:31:54.578Z"
   },
   {
    "duration": 0,
    "start_time": "2024-06-11T04:31:54.579Z"
   },
   {
    "duration": 0,
    "start_time": "2024-06-11T04:31:54.580Z"
   },
   {
    "duration": 0,
    "start_time": "2024-06-11T04:31:54.581Z"
   },
   {
    "duration": 2848,
    "start_time": "2024-06-11T04:43:58.159Z"
   },
   {
    "duration": 3486,
    "start_time": "2024-06-11T04:44:01.009Z"
   },
   {
    "duration": 613,
    "start_time": "2024-06-11T04:44:04.497Z"
   },
   {
    "duration": 0,
    "start_time": "2024-06-11T04:44:05.113Z"
   },
   {
    "duration": 0,
    "start_time": "2024-06-11T04:44:05.114Z"
   },
   {
    "duration": 0,
    "start_time": "2024-06-11T04:44:05.115Z"
   },
   {
    "duration": 0,
    "start_time": "2024-06-11T04:44:05.116Z"
   },
   {
    "duration": 0,
    "start_time": "2024-06-11T04:44:05.117Z"
   },
   {
    "duration": 0,
    "start_time": "2024-06-11T04:44:05.118Z"
   },
   {
    "duration": 0,
    "start_time": "2024-06-11T04:44:05.120Z"
   },
   {
    "duration": 0,
    "start_time": "2024-06-11T04:44:05.121Z"
   },
   {
    "duration": 0,
    "start_time": "2024-06-11T04:44:05.122Z"
   },
   {
    "duration": 0,
    "start_time": "2024-06-11T04:44:05.123Z"
   },
   {
    "duration": 0,
    "start_time": "2024-06-11T04:44:05.124Z"
   },
   {
    "duration": 0,
    "start_time": "2024-06-11T04:44:05.125Z"
   },
   {
    "duration": 0,
    "start_time": "2024-06-11T04:44:05.145Z"
   },
   {
    "duration": 0,
    "start_time": "2024-06-11T04:44:05.146Z"
   },
   {
    "duration": 0,
    "start_time": "2024-06-11T04:44:05.147Z"
   },
   {
    "duration": 0,
    "start_time": "2024-06-11T04:44:05.148Z"
   },
   {
    "duration": 0,
    "start_time": "2024-06-11T04:44:05.149Z"
   },
   {
    "duration": 0,
    "start_time": "2024-06-11T04:44:05.150Z"
   },
   {
    "duration": 0,
    "start_time": "2024-06-11T04:44:05.151Z"
   },
   {
    "duration": 0,
    "start_time": "2024-06-11T04:44:05.152Z"
   },
   {
    "duration": 0,
    "start_time": "2024-06-11T04:44:05.153Z"
   },
   {
    "duration": 0,
    "start_time": "2024-06-11T04:44:05.154Z"
   },
   {
    "duration": 0,
    "start_time": "2024-06-11T04:44:05.155Z"
   },
   {
    "duration": 0,
    "start_time": "2024-06-11T04:44:05.156Z"
   },
   {
    "duration": 0,
    "start_time": "2024-06-11T04:44:05.157Z"
   },
   {
    "duration": 0,
    "start_time": "2024-06-11T04:44:05.158Z"
   },
   {
    "duration": 0,
    "start_time": "2024-06-11T04:44:05.159Z"
   },
   {
    "duration": 0,
    "start_time": "2024-06-11T04:44:05.160Z"
   },
   {
    "duration": 0,
    "start_time": "2024-06-11T04:44:05.161Z"
   },
   {
    "duration": 0,
    "start_time": "2024-06-11T04:44:05.162Z"
   },
   {
    "duration": 0,
    "start_time": "2024-06-11T04:44:05.163Z"
   },
   {
    "duration": 0,
    "start_time": "2024-06-11T04:44:05.164Z"
   },
   {
    "duration": 0,
    "start_time": "2024-06-11T04:44:05.165Z"
   },
   {
    "duration": 0,
    "start_time": "2024-06-11T04:44:05.166Z"
   },
   {
    "duration": 0,
    "start_time": "2024-06-11T04:44:05.167Z"
   },
   {
    "duration": 0,
    "start_time": "2024-06-11T04:44:05.168Z"
   },
   {
    "duration": 0,
    "start_time": "2024-06-11T04:44:05.169Z"
   },
   {
    "duration": 0,
    "start_time": "2024-06-11T04:44:05.170Z"
   },
   {
    "duration": 0,
    "start_time": "2024-06-11T04:44:05.171Z"
   },
   {
    "duration": 0,
    "start_time": "2024-06-11T04:44:05.172Z"
   },
   {
    "duration": 0,
    "start_time": "2024-06-11T04:44:05.173Z"
   },
   {
    "duration": 0,
    "start_time": "2024-06-11T04:44:05.174Z"
   },
   {
    "duration": 0,
    "start_time": "2024-06-11T04:44:05.175Z"
   },
   {
    "duration": 0,
    "start_time": "2024-06-11T04:44:05.176Z"
   },
   {
    "duration": 0,
    "start_time": "2024-06-11T04:44:05.177Z"
   },
   {
    "duration": 0,
    "start_time": "2024-06-11T04:44:05.178Z"
   },
   {
    "duration": 0,
    "start_time": "2024-06-11T04:44:05.179Z"
   },
   {
    "duration": 0,
    "start_time": "2024-06-11T04:44:05.180Z"
   },
   {
    "duration": 0,
    "start_time": "2024-06-11T04:44:05.181Z"
   },
   {
    "duration": 0,
    "start_time": "2024-06-11T04:44:05.182Z"
   },
   {
    "duration": 0,
    "start_time": "2024-06-11T04:44:05.183Z"
   },
   {
    "duration": 0,
    "start_time": "2024-06-11T04:44:05.183Z"
   },
   {
    "duration": 0,
    "start_time": "2024-06-11T04:44:05.246Z"
   },
   {
    "duration": 0,
    "start_time": "2024-06-11T04:44:05.247Z"
   },
   {
    "duration": 0,
    "start_time": "2024-06-11T04:44:05.248Z"
   },
   {
    "duration": 0,
    "start_time": "2024-06-11T04:44:05.249Z"
   },
   {
    "duration": 0,
    "start_time": "2024-06-11T04:44:05.250Z"
   },
   {
    "duration": 0,
    "start_time": "2024-06-11T04:44:05.251Z"
   },
   {
    "duration": 0,
    "start_time": "2024-06-11T04:44:05.252Z"
   },
   {
    "duration": 0,
    "start_time": "2024-06-11T04:44:05.253Z"
   },
   {
    "duration": 0,
    "start_time": "2024-06-11T04:44:05.254Z"
   },
   {
    "duration": 0,
    "start_time": "2024-06-11T04:44:05.255Z"
   },
   {
    "duration": 0,
    "start_time": "2024-06-11T04:44:05.256Z"
   },
   {
    "duration": 1,
    "start_time": "2024-06-11T04:44:05.256Z"
   },
   {
    "duration": 0,
    "start_time": "2024-06-11T04:44:05.258Z"
   },
   {
    "duration": 0,
    "start_time": "2024-06-11T04:44:05.258Z"
   },
   {
    "duration": 0,
    "start_time": "2024-06-11T04:44:05.259Z"
   },
   {
    "duration": 0,
    "start_time": "2024-06-11T04:44:05.260Z"
   },
   {
    "duration": 0,
    "start_time": "2024-06-11T04:44:05.261Z"
   },
   {
    "duration": 0,
    "start_time": "2024-06-11T04:44:05.262Z"
   },
   {
    "duration": 0,
    "start_time": "2024-06-11T04:44:05.263Z"
   },
   {
    "duration": 0,
    "start_time": "2024-06-11T04:44:05.264Z"
   },
   {
    "duration": 2919,
    "start_time": "2024-06-11T04:44:44.740Z"
   },
   {
    "duration": 3352,
    "start_time": "2024-06-11T04:44:47.661Z"
   },
   {
    "duration": 657,
    "start_time": "2024-06-11T04:44:51.015Z"
   },
   {
    "duration": 0,
    "start_time": "2024-06-11T04:44:51.676Z"
   },
   {
    "duration": 0,
    "start_time": "2024-06-11T04:44:51.677Z"
   },
   {
    "duration": 0,
    "start_time": "2024-06-11T04:44:51.678Z"
   },
   {
    "duration": 0,
    "start_time": "2024-06-11T04:44:51.679Z"
   },
   {
    "duration": 0,
    "start_time": "2024-06-11T04:44:51.680Z"
   },
   {
    "duration": 0,
    "start_time": "2024-06-11T04:44:51.681Z"
   },
   {
    "duration": 0,
    "start_time": "2024-06-11T04:44:51.682Z"
   },
   {
    "duration": 0,
    "start_time": "2024-06-11T04:44:51.685Z"
   },
   {
    "duration": 0,
    "start_time": "2024-06-11T04:44:51.686Z"
   },
   {
    "duration": 0,
    "start_time": "2024-06-11T04:44:51.687Z"
   },
   {
    "duration": 0,
    "start_time": "2024-06-11T04:44:51.688Z"
   },
   {
    "duration": 0,
    "start_time": "2024-06-11T04:44:51.689Z"
   },
   {
    "duration": 0,
    "start_time": "2024-06-11T04:44:51.690Z"
   },
   {
    "duration": 0,
    "start_time": "2024-06-11T04:44:51.691Z"
   },
   {
    "duration": 0,
    "start_time": "2024-06-11T04:44:51.692Z"
   },
   {
    "duration": 0,
    "start_time": "2024-06-11T04:44:51.693Z"
   },
   {
    "duration": 0,
    "start_time": "2024-06-11T04:44:51.694Z"
   },
   {
    "duration": 0,
    "start_time": "2024-06-11T04:44:51.695Z"
   },
   {
    "duration": 0,
    "start_time": "2024-06-11T04:44:51.696Z"
   },
   {
    "duration": 0,
    "start_time": "2024-06-11T04:44:51.697Z"
   },
   {
    "duration": 0,
    "start_time": "2024-06-11T04:44:51.698Z"
   },
   {
    "duration": 0,
    "start_time": "2024-06-11T04:44:51.699Z"
   },
   {
    "duration": 0,
    "start_time": "2024-06-11T04:44:51.700Z"
   },
   {
    "duration": 0,
    "start_time": "2024-06-11T04:44:51.701Z"
   },
   {
    "duration": 0,
    "start_time": "2024-06-11T04:44:51.745Z"
   },
   {
    "duration": 0,
    "start_time": "2024-06-11T04:44:51.746Z"
   },
   {
    "duration": 0,
    "start_time": "2024-06-11T04:44:51.748Z"
   },
   {
    "duration": 0,
    "start_time": "2024-06-11T04:44:51.749Z"
   },
   {
    "duration": 1,
    "start_time": "2024-06-11T04:44:51.749Z"
   },
   {
    "duration": 0,
    "start_time": "2024-06-11T04:44:51.751Z"
   },
   {
    "duration": 0,
    "start_time": "2024-06-11T04:44:51.752Z"
   },
   {
    "duration": 0,
    "start_time": "2024-06-11T04:44:51.753Z"
   },
   {
    "duration": 0,
    "start_time": "2024-06-11T04:44:51.753Z"
   },
   {
    "duration": 0,
    "start_time": "2024-06-11T04:44:51.755Z"
   },
   {
    "duration": 0,
    "start_time": "2024-06-11T04:44:51.755Z"
   },
   {
    "duration": 0,
    "start_time": "2024-06-11T04:44:51.756Z"
   },
   {
    "duration": 0,
    "start_time": "2024-06-11T04:44:51.757Z"
   },
   {
    "duration": 0,
    "start_time": "2024-06-11T04:44:51.758Z"
   },
   {
    "duration": 0,
    "start_time": "2024-06-11T04:44:51.759Z"
   },
   {
    "duration": 0,
    "start_time": "2024-06-11T04:44:51.760Z"
   },
   {
    "duration": 0,
    "start_time": "2024-06-11T04:44:51.761Z"
   },
   {
    "duration": 0,
    "start_time": "2024-06-11T04:44:51.762Z"
   },
   {
    "duration": 0,
    "start_time": "2024-06-11T04:44:51.763Z"
   },
   {
    "duration": 0,
    "start_time": "2024-06-11T04:44:51.764Z"
   },
   {
    "duration": 0,
    "start_time": "2024-06-11T04:44:51.765Z"
   },
   {
    "duration": 0,
    "start_time": "2024-06-11T04:44:51.766Z"
   },
   {
    "duration": 0,
    "start_time": "2024-06-11T04:44:51.767Z"
   },
   {
    "duration": 0,
    "start_time": "2024-06-11T04:44:51.768Z"
   },
   {
    "duration": 0,
    "start_time": "2024-06-11T04:44:51.769Z"
   },
   {
    "duration": 0,
    "start_time": "2024-06-11T04:44:51.770Z"
   },
   {
    "duration": 0,
    "start_time": "2024-06-11T04:44:51.771Z"
   },
   {
    "duration": 0,
    "start_time": "2024-06-11T04:44:51.772Z"
   },
   {
    "duration": 0,
    "start_time": "2024-06-11T04:44:51.773Z"
   },
   {
    "duration": 0,
    "start_time": "2024-06-11T04:44:51.774Z"
   },
   {
    "duration": 0,
    "start_time": "2024-06-11T04:44:51.775Z"
   },
   {
    "duration": 0,
    "start_time": "2024-06-11T04:44:51.776Z"
   },
   {
    "duration": 0,
    "start_time": "2024-06-11T04:44:51.777Z"
   },
   {
    "duration": 0,
    "start_time": "2024-06-11T04:44:51.778Z"
   },
   {
    "duration": 0,
    "start_time": "2024-06-11T04:44:51.779Z"
   },
   {
    "duration": 0,
    "start_time": "2024-06-11T04:44:51.780Z"
   },
   {
    "duration": 0,
    "start_time": "2024-06-11T04:44:51.780Z"
   },
   {
    "duration": 0,
    "start_time": "2024-06-11T04:44:51.845Z"
   },
   {
    "duration": 0,
    "start_time": "2024-06-11T04:44:51.846Z"
   },
   {
    "duration": 0,
    "start_time": "2024-06-11T04:44:51.847Z"
   },
   {
    "duration": 0,
    "start_time": "2024-06-11T04:44:51.848Z"
   },
   {
    "duration": 0,
    "start_time": "2024-06-11T04:44:51.849Z"
   },
   {
    "duration": 0,
    "start_time": "2024-06-11T04:44:51.850Z"
   },
   {
    "duration": 0,
    "start_time": "2024-06-11T04:44:51.851Z"
   },
   {
    "duration": 0,
    "start_time": "2024-06-11T04:44:51.852Z"
   },
   {
    "duration": 0,
    "start_time": "2024-06-11T04:44:51.853Z"
   },
   {
    "duration": 0,
    "start_time": "2024-06-11T04:44:51.854Z"
   },
   {
    "duration": 0,
    "start_time": "2024-06-11T04:44:51.855Z"
   },
   {
    "duration": 114,
    "start_time": "2024-06-11T04:45:21.322Z"
   },
   {
    "duration": 0,
    "start_time": "2024-06-11T04:45:21.440Z"
   },
   {
    "duration": 0,
    "start_time": "2024-06-11T04:45:21.442Z"
   },
   {
    "duration": 0,
    "start_time": "2024-06-11T04:45:21.443Z"
   },
   {
    "duration": 0,
    "start_time": "2024-06-11T04:45:21.444Z"
   },
   {
    "duration": 0,
    "start_time": "2024-06-11T04:45:21.445Z"
   },
   {
    "duration": 0,
    "start_time": "2024-06-11T04:45:21.447Z"
   },
   {
    "duration": 0,
    "start_time": "2024-06-11T04:45:21.448Z"
   },
   {
    "duration": 0,
    "start_time": "2024-06-11T04:45:21.449Z"
   },
   {
    "duration": 1,
    "start_time": "2024-06-11T04:45:21.450Z"
   },
   {
    "duration": 0,
    "start_time": "2024-06-11T04:45:21.452Z"
   },
   {
    "duration": 0,
    "start_time": "2024-06-11T04:45:21.453Z"
   },
   {
    "duration": 0,
    "start_time": "2024-06-11T04:45:21.455Z"
   },
   {
    "duration": 0,
    "start_time": "2024-06-11T04:45:21.456Z"
   },
   {
    "duration": 0,
    "start_time": "2024-06-11T04:45:21.457Z"
   },
   {
    "duration": 0,
    "start_time": "2024-06-11T04:45:21.459Z"
   },
   {
    "duration": 0,
    "start_time": "2024-06-11T04:45:21.460Z"
   },
   {
    "duration": 0,
    "start_time": "2024-06-11T04:45:21.462Z"
   },
   {
    "duration": 0,
    "start_time": "2024-06-11T04:45:21.463Z"
   },
   {
    "duration": 0,
    "start_time": "2024-06-11T04:45:21.465Z"
   },
   {
    "duration": 0,
    "start_time": "2024-06-11T04:45:21.466Z"
   },
   {
    "duration": 0,
    "start_time": "2024-06-11T04:45:21.467Z"
   },
   {
    "duration": 0,
    "start_time": "2024-06-11T04:45:21.469Z"
   },
   {
    "duration": 0,
    "start_time": "2024-06-11T04:45:21.470Z"
   },
   {
    "duration": 0,
    "start_time": "2024-06-11T04:45:21.472Z"
   },
   {
    "duration": 0,
    "start_time": "2024-06-11T04:45:21.473Z"
   },
   {
    "duration": 1,
    "start_time": "2024-06-11T04:45:21.474Z"
   },
   {
    "duration": 0,
    "start_time": "2024-06-11T04:45:21.476Z"
   },
   {
    "duration": 0,
    "start_time": "2024-06-11T04:45:21.477Z"
   },
   {
    "duration": 0,
    "start_time": "2024-06-11T04:45:21.479Z"
   },
   {
    "duration": 0,
    "start_time": "2024-06-11T04:45:21.480Z"
   },
   {
    "duration": 0,
    "start_time": "2024-06-11T04:45:21.481Z"
   },
   {
    "duration": 0,
    "start_time": "2024-06-11T04:45:21.482Z"
   },
   {
    "duration": 0,
    "start_time": "2024-06-11T04:45:21.483Z"
   },
   {
    "duration": 0,
    "start_time": "2024-06-11T04:45:21.484Z"
   },
   {
    "duration": 0,
    "start_time": "2024-06-11T04:45:21.485Z"
   },
   {
    "duration": 0,
    "start_time": "2024-06-11T04:45:21.486Z"
   },
   {
    "duration": 0,
    "start_time": "2024-06-11T04:45:21.546Z"
   },
   {
    "duration": 0,
    "start_time": "2024-06-11T04:45:21.548Z"
   },
   {
    "duration": 0,
    "start_time": "2024-06-11T04:45:21.549Z"
   },
   {
    "duration": 0,
    "start_time": "2024-06-11T04:45:21.550Z"
   },
   {
    "duration": 0,
    "start_time": "2024-06-11T04:45:21.552Z"
   },
   {
    "duration": 0,
    "start_time": "2024-06-11T04:45:21.553Z"
   },
   {
    "duration": 0,
    "start_time": "2024-06-11T04:45:21.554Z"
   },
   {
    "duration": 0,
    "start_time": "2024-06-11T04:45:21.556Z"
   },
   {
    "duration": 0,
    "start_time": "2024-06-11T04:45:21.557Z"
   },
   {
    "duration": 0,
    "start_time": "2024-06-11T04:45:21.558Z"
   },
   {
    "duration": 0,
    "start_time": "2024-06-11T04:45:21.560Z"
   },
   {
    "duration": 99,
    "start_time": "2024-06-11T04:45:21.567Z"
   },
   {
    "duration": 0,
    "start_time": "2024-06-11T04:45:21.667Z"
   },
   {
    "duration": 0,
    "start_time": "2024-06-11T04:45:21.668Z"
   },
   {
    "duration": 0,
    "start_time": "2024-06-11T04:45:21.669Z"
   },
   {
    "duration": 0,
    "start_time": "2024-06-11T04:45:21.670Z"
   },
   {
    "duration": 0,
    "start_time": "2024-06-11T04:45:21.672Z"
   },
   {
    "duration": 0,
    "start_time": "2024-06-11T04:45:21.673Z"
   },
   {
    "duration": 0,
    "start_time": "2024-06-11T04:45:21.674Z"
   },
   {
    "duration": 0,
    "start_time": "2024-06-11T04:45:21.675Z"
   },
   {
    "duration": 0,
    "start_time": "2024-06-11T04:45:21.676Z"
   },
   {
    "duration": 0,
    "start_time": "2024-06-11T04:45:21.677Z"
   },
   {
    "duration": 0,
    "start_time": "2024-06-11T04:45:21.678Z"
   },
   {
    "duration": 0,
    "start_time": "2024-06-11T04:45:21.679Z"
   },
   {
    "duration": 0,
    "start_time": "2024-06-11T04:45:21.680Z"
   },
   {
    "duration": 0,
    "start_time": "2024-06-11T04:45:21.681Z"
   },
   {
    "duration": 0,
    "start_time": "2024-06-11T04:45:21.682Z"
   },
   {
    "duration": 0,
    "start_time": "2024-06-11T04:45:21.682Z"
   },
   {
    "duration": 0,
    "start_time": "2024-06-11T04:45:21.684Z"
   },
   {
    "duration": 0,
    "start_time": "2024-06-11T04:45:21.685Z"
   },
   {
    "duration": 0,
    "start_time": "2024-06-11T04:45:21.686Z"
   },
   {
    "duration": 0,
    "start_time": "2024-06-11T04:45:21.746Z"
   },
   {
    "duration": 0,
    "start_time": "2024-06-11T04:45:21.747Z"
   },
   {
    "duration": 0,
    "start_time": "2024-06-11T04:45:21.750Z"
   },
   {
    "duration": 0,
    "start_time": "2024-06-11T04:45:21.751Z"
   },
   {
    "duration": 0,
    "start_time": "2024-06-11T04:45:21.752Z"
   },
   {
    "duration": 0,
    "start_time": "2024-06-11T04:45:21.753Z"
   },
   {
    "duration": 0,
    "start_time": "2024-06-11T04:45:21.754Z"
   },
   {
    "duration": 0,
    "start_time": "2024-06-11T04:45:21.755Z"
   },
   {
    "duration": 5752,
    "start_time": "2024-06-11T04:45:32.371Z"
   },
   {
    "duration": 5920,
    "start_time": "2024-06-11T04:45:40.387Z"
   },
   {
    "duration": 3613,
    "start_time": "2024-06-11T04:45:46.309Z"
   },
   {
    "duration": 681,
    "start_time": "2024-06-11T04:45:51.948Z"
   },
   {
    "duration": 1105,
    "start_time": "2024-06-11T04:46:10.556Z"
   },
   {
    "duration": 5729,
    "start_time": "2024-06-11T04:46:15.300Z"
   },
   {
    "duration": 15,
    "start_time": "2024-06-11T04:46:28.356Z"
   },
   {
    "duration": 3429,
    "start_time": "2024-06-11T04:46:35.093Z"
   },
   {
    "duration": 6127,
    "start_time": "2024-06-11T04:46:38.524Z"
   },
   {
    "duration": 7009,
    "start_time": "2024-06-11T04:46:44.653Z"
   },
   {
    "duration": 649,
    "start_time": "2024-06-11T04:46:51.665Z"
   },
   {
    "duration": 0,
    "start_time": "2024-06-11T04:46:52.317Z"
   },
   {
    "duration": 0,
    "start_time": "2024-06-11T04:46:52.318Z"
   },
   {
    "duration": 0,
    "start_time": "2024-06-11T04:46:52.319Z"
   },
   {
    "duration": 0,
    "start_time": "2024-06-11T04:46:52.320Z"
   },
   {
    "duration": 0,
    "start_time": "2024-06-11T04:46:52.321Z"
   },
   {
    "duration": 0,
    "start_time": "2024-06-11T04:46:52.322Z"
   },
   {
    "duration": 0,
    "start_time": "2024-06-11T04:46:52.323Z"
   },
   {
    "duration": 0,
    "start_time": "2024-06-11T04:46:52.324Z"
   },
   {
    "duration": 0,
    "start_time": "2024-06-11T04:46:52.347Z"
   },
   {
    "duration": 0,
    "start_time": "2024-06-11T04:46:52.348Z"
   },
   {
    "duration": 0,
    "start_time": "2024-06-11T04:46:52.349Z"
   },
   {
    "duration": 0,
    "start_time": "2024-06-11T04:46:52.350Z"
   },
   {
    "duration": 0,
    "start_time": "2024-06-11T04:46:52.351Z"
   },
   {
    "duration": 0,
    "start_time": "2024-06-11T04:46:52.352Z"
   },
   {
    "duration": 0,
    "start_time": "2024-06-11T04:46:52.353Z"
   },
   {
    "duration": 1,
    "start_time": "2024-06-11T04:46:52.353Z"
   },
   {
    "duration": 0,
    "start_time": "2024-06-11T04:46:52.355Z"
   },
   {
    "duration": 0,
    "start_time": "2024-06-11T04:46:52.356Z"
   },
   {
    "duration": 0,
    "start_time": "2024-06-11T04:46:52.356Z"
   },
   {
    "duration": 0,
    "start_time": "2024-06-11T04:46:52.357Z"
   },
   {
    "duration": 0,
    "start_time": "2024-06-11T04:46:52.358Z"
   },
   {
    "duration": 0,
    "start_time": "2024-06-11T04:46:52.359Z"
   },
   {
    "duration": 0,
    "start_time": "2024-06-11T04:46:52.360Z"
   },
   {
    "duration": 0,
    "start_time": "2024-06-11T04:46:52.361Z"
   },
   {
    "duration": 0,
    "start_time": "2024-06-11T04:46:52.362Z"
   },
   {
    "duration": 0,
    "start_time": "2024-06-11T04:46:52.363Z"
   },
   {
    "duration": 0,
    "start_time": "2024-06-11T04:46:52.364Z"
   },
   {
    "duration": 0,
    "start_time": "2024-06-11T04:46:52.365Z"
   },
   {
    "duration": 0,
    "start_time": "2024-06-11T04:46:52.366Z"
   },
   {
    "duration": 0,
    "start_time": "2024-06-11T04:46:52.367Z"
   },
   {
    "duration": 0,
    "start_time": "2024-06-11T04:46:52.368Z"
   },
   {
    "duration": 0,
    "start_time": "2024-06-11T04:46:52.369Z"
   },
   {
    "duration": 0,
    "start_time": "2024-06-11T04:46:52.370Z"
   },
   {
    "duration": 0,
    "start_time": "2024-06-11T04:46:52.371Z"
   },
   {
    "duration": 0,
    "start_time": "2024-06-11T04:46:52.372Z"
   },
   {
    "duration": 0,
    "start_time": "2024-06-11T04:46:52.373Z"
   },
   {
    "duration": 0,
    "start_time": "2024-06-11T04:46:52.374Z"
   },
   {
    "duration": 0,
    "start_time": "2024-06-11T04:46:52.375Z"
   },
   {
    "duration": 0,
    "start_time": "2024-06-11T04:46:52.376Z"
   },
   {
    "duration": 0,
    "start_time": "2024-06-11T04:46:52.377Z"
   },
   {
    "duration": 0,
    "start_time": "2024-06-11T04:46:52.378Z"
   },
   {
    "duration": 0,
    "start_time": "2024-06-11T04:46:52.379Z"
   },
   {
    "duration": 0,
    "start_time": "2024-06-11T04:46:52.379Z"
   },
   {
    "duration": 0,
    "start_time": "2024-06-11T04:46:52.381Z"
   },
   {
    "duration": 0,
    "start_time": "2024-06-11T04:46:52.382Z"
   },
   {
    "duration": 0,
    "start_time": "2024-06-11T04:46:52.382Z"
   },
   {
    "duration": 0,
    "start_time": "2024-06-11T04:46:52.383Z"
   },
   {
    "duration": 0,
    "start_time": "2024-06-11T04:46:52.384Z"
   },
   {
    "duration": 0,
    "start_time": "2024-06-11T04:46:52.446Z"
   },
   {
    "duration": 0,
    "start_time": "2024-06-11T04:46:52.447Z"
   },
   {
    "duration": 0,
    "start_time": "2024-06-11T04:46:52.448Z"
   },
   {
    "duration": 0,
    "start_time": "2024-06-11T04:46:52.449Z"
   },
   {
    "duration": 0,
    "start_time": "2024-06-11T04:46:52.450Z"
   },
   {
    "duration": 0,
    "start_time": "2024-06-11T04:46:52.451Z"
   },
   {
    "duration": 0,
    "start_time": "2024-06-11T04:46:52.452Z"
   },
   {
    "duration": 0,
    "start_time": "2024-06-11T04:46:52.453Z"
   },
   {
    "duration": 0,
    "start_time": "2024-06-11T04:46:52.454Z"
   },
   {
    "duration": 0,
    "start_time": "2024-06-11T04:46:52.455Z"
   },
   {
    "duration": 0,
    "start_time": "2024-06-11T04:46:52.457Z"
   },
   {
    "duration": 0,
    "start_time": "2024-06-11T04:46:52.458Z"
   },
   {
    "duration": 0,
    "start_time": "2024-06-11T04:46:52.460Z"
   },
   {
    "duration": 0,
    "start_time": "2024-06-11T04:46:52.460Z"
   },
   {
    "duration": 0,
    "start_time": "2024-06-11T04:46:52.461Z"
   },
   {
    "duration": 0,
    "start_time": "2024-06-11T04:46:52.463Z"
   },
   {
    "duration": 0,
    "start_time": "2024-06-11T04:46:52.464Z"
   },
   {
    "duration": 0,
    "start_time": "2024-06-11T04:46:52.465Z"
   },
   {
    "duration": 0,
    "start_time": "2024-06-11T04:46:52.466Z"
   },
   {
    "duration": 0,
    "start_time": "2024-06-11T04:46:52.467Z"
   },
   {
    "duration": 0,
    "start_time": "2024-06-11T04:46:52.468Z"
   },
   {
    "duration": 0,
    "start_time": "2024-06-11T04:46:52.469Z"
   },
   {
    "duration": 0,
    "start_time": "2024-06-11T04:46:52.470Z"
   },
   {
    "duration": 0,
    "start_time": "2024-06-11T04:46:52.471Z"
   },
   {
    "duration": 14,
    "start_time": "2024-06-11T04:47:09.820Z"
   },
   {
    "duration": 2217,
    "start_time": "2024-06-11T04:47:54.420Z"
   },
   {
    "duration": 7953,
    "start_time": "2024-06-11T04:48:05.644Z"
   },
   {
    "duration": 2280,
    "start_time": "2024-06-11T04:48:23.796Z"
   },
   {
    "duration": 5861,
    "start_time": "2024-06-11T04:48:42.709Z"
   },
   {
    "duration": 5683,
    "start_time": "2024-06-11T04:49:10.173Z"
   },
   {
    "duration": 5604,
    "start_time": "2024-06-11T04:49:23.836Z"
   },
   {
    "duration": 3308,
    "start_time": "2024-06-11T04:49:32.115Z"
   },
   {
    "duration": 16,
    "start_time": "2024-06-11T04:49:35.425Z"
   },
   {
    "duration": 2459,
    "start_time": "2024-06-11T04:49:45.246Z"
   },
   {
    "duration": 3313,
    "start_time": "2024-06-11T04:49:50.725Z"
   },
   {
    "duration": 5627,
    "start_time": "2024-06-11T04:50:00.148Z"
   },
   {
    "duration": 15,
    "start_time": "2024-06-11T04:50:08.252Z"
   },
   {
    "duration": 3399,
    "start_time": "2024-06-11T04:50:18.172Z"
   },
   {
    "duration": 16,
    "start_time": "2024-06-11T04:50:23.508Z"
   },
   {
    "duration": 3438,
    "start_time": "2024-06-11T04:50:35.508Z"
   },
   {
    "duration": 1285,
    "start_time": "2024-06-11T04:50:55.125Z"
   },
   {
    "duration": 2243,
    "start_time": "2024-06-11T04:52:14.156Z"
   },
   {
    "duration": 2943,
    "start_time": "2024-06-11T04:53:04.356Z"
   },
   {
    "duration": 5540,
    "start_time": "2024-06-11T04:53:07.302Z"
   },
   {
    "duration": 5933,
    "start_time": "2024-06-11T04:53:12.843Z"
   },
   {
    "duration": 2257,
    "start_time": "2024-06-11T04:53:18.778Z"
   },
   {
    "duration": 2851,
    "start_time": "2024-06-11T04:53:21.037Z"
   },
   {
    "duration": 0,
    "start_time": "2024-06-11T04:53:23.892Z"
   },
   {
    "duration": 0,
    "start_time": "2024-06-11T04:53:23.893Z"
   },
   {
    "duration": 0,
    "start_time": "2024-06-11T04:53:23.894Z"
   },
   {
    "duration": 0,
    "start_time": "2024-06-11T04:53:23.895Z"
   },
   {
    "duration": 0,
    "start_time": "2024-06-11T04:53:23.897Z"
   },
   {
    "duration": 0,
    "start_time": "2024-06-11T04:53:23.898Z"
   },
   {
    "duration": 0,
    "start_time": "2024-06-11T04:53:23.899Z"
   },
   {
    "duration": 0,
    "start_time": "2024-06-11T04:53:23.900Z"
   },
   {
    "duration": 0,
    "start_time": "2024-06-11T04:53:23.901Z"
   },
   {
    "duration": 0,
    "start_time": "2024-06-11T04:53:23.902Z"
   },
   {
    "duration": 0,
    "start_time": "2024-06-11T04:53:23.903Z"
   },
   {
    "duration": 0,
    "start_time": "2024-06-11T04:53:23.904Z"
   },
   {
    "duration": 0,
    "start_time": "2024-06-11T04:53:23.905Z"
   },
   {
    "duration": 0,
    "start_time": "2024-06-11T04:53:23.907Z"
   },
   {
    "duration": 0,
    "start_time": "2024-06-11T04:53:23.908Z"
   },
   {
    "duration": 0,
    "start_time": "2024-06-11T04:53:23.945Z"
   },
   {
    "duration": 0,
    "start_time": "2024-06-11T04:53:23.946Z"
   },
   {
    "duration": 0,
    "start_time": "2024-06-11T04:53:23.948Z"
   },
   {
    "duration": 1,
    "start_time": "2024-06-11T04:53:23.949Z"
   },
   {
    "duration": 0,
    "start_time": "2024-06-11T04:53:23.951Z"
   },
   {
    "duration": 0,
    "start_time": "2024-06-11T04:53:23.952Z"
   },
   {
    "duration": 0,
    "start_time": "2024-06-11T04:53:23.954Z"
   },
   {
    "duration": 0,
    "start_time": "2024-06-11T04:53:23.955Z"
   },
   {
    "duration": 0,
    "start_time": "2024-06-11T04:53:23.956Z"
   },
   {
    "duration": 0,
    "start_time": "2024-06-11T04:53:23.958Z"
   },
   {
    "duration": 0,
    "start_time": "2024-06-11T04:53:23.959Z"
   },
   {
    "duration": 0,
    "start_time": "2024-06-11T04:53:23.961Z"
   },
   {
    "duration": 0,
    "start_time": "2024-06-11T04:53:23.962Z"
   },
   {
    "duration": 0,
    "start_time": "2024-06-11T04:53:23.964Z"
   },
   {
    "duration": 0,
    "start_time": "2024-06-11T04:53:23.965Z"
   },
   {
    "duration": 0,
    "start_time": "2024-06-11T04:53:23.967Z"
   },
   {
    "duration": 0,
    "start_time": "2024-06-11T04:53:23.968Z"
   },
   {
    "duration": 0,
    "start_time": "2024-06-11T04:53:23.969Z"
   },
   {
    "duration": 0,
    "start_time": "2024-06-11T04:53:23.971Z"
   },
   {
    "duration": 0,
    "start_time": "2024-06-11T04:53:23.972Z"
   },
   {
    "duration": 0,
    "start_time": "2024-06-11T04:53:23.974Z"
   },
   {
    "duration": 0,
    "start_time": "2024-06-11T04:53:23.975Z"
   },
   {
    "duration": 0,
    "start_time": "2024-06-11T04:53:23.977Z"
   },
   {
    "duration": 0,
    "start_time": "2024-06-11T04:53:23.978Z"
   },
   {
    "duration": 0,
    "start_time": "2024-06-11T04:53:23.980Z"
   },
   {
    "duration": 0,
    "start_time": "2024-06-11T04:53:23.981Z"
   },
   {
    "duration": 0,
    "start_time": "2024-06-11T04:53:23.983Z"
   },
   {
    "duration": 0,
    "start_time": "2024-06-11T04:53:23.984Z"
   },
   {
    "duration": 0,
    "start_time": "2024-06-11T04:53:23.985Z"
   },
   {
    "duration": 0,
    "start_time": "2024-06-11T04:53:23.986Z"
   },
   {
    "duration": 0,
    "start_time": "2024-06-11T04:53:24.045Z"
   },
   {
    "duration": 0,
    "start_time": "2024-06-11T04:53:24.047Z"
   },
   {
    "duration": 0,
    "start_time": "2024-06-11T04:53:24.048Z"
   },
   {
    "duration": 0,
    "start_time": "2024-06-11T04:53:24.049Z"
   },
   {
    "duration": 0,
    "start_time": "2024-06-11T04:53:24.050Z"
   },
   {
    "duration": 0,
    "start_time": "2024-06-11T04:53:24.050Z"
   },
   {
    "duration": 0,
    "start_time": "2024-06-11T04:53:24.052Z"
   },
   {
    "duration": 0,
    "start_time": "2024-06-11T04:53:24.052Z"
   },
   {
    "duration": 0,
    "start_time": "2024-06-11T04:53:24.053Z"
   },
   {
    "duration": 0,
    "start_time": "2024-06-11T04:53:24.054Z"
   },
   {
    "duration": 0,
    "start_time": "2024-06-11T04:53:24.056Z"
   },
   {
    "duration": 0,
    "start_time": "2024-06-11T04:53:24.057Z"
   },
   {
    "duration": 0,
    "start_time": "2024-06-11T04:53:24.058Z"
   },
   {
    "duration": 0,
    "start_time": "2024-06-11T04:53:24.059Z"
   },
   {
    "duration": 0,
    "start_time": "2024-06-11T04:53:24.060Z"
   },
   {
    "duration": 0,
    "start_time": "2024-06-11T04:53:24.061Z"
   },
   {
    "duration": 0,
    "start_time": "2024-06-11T04:53:24.062Z"
   },
   {
    "duration": 0,
    "start_time": "2024-06-11T04:53:24.063Z"
   },
   {
    "duration": 0,
    "start_time": "2024-06-11T04:53:24.064Z"
   },
   {
    "duration": 0,
    "start_time": "2024-06-11T04:53:24.065Z"
   },
   {
    "duration": 0,
    "start_time": "2024-06-11T04:53:24.066Z"
   },
   {
    "duration": 0,
    "start_time": "2024-06-11T04:53:24.067Z"
   },
   {
    "duration": 0,
    "start_time": "2024-06-11T04:53:24.068Z"
   },
   {
    "duration": 0,
    "start_time": "2024-06-11T04:53:24.069Z"
   },
   {
    "duration": 0,
    "start_time": "2024-06-11T04:53:24.070Z"
   },
   {
    "duration": 0,
    "start_time": "2024-06-11T04:53:24.071Z"
   },
   {
    "duration": 0,
    "start_time": "2024-06-11T04:53:24.071Z"
   },
   {
    "duration": 4,
    "start_time": "2024-06-11T04:53:39.374Z"
   },
   {
    "duration": 3,
    "start_time": "2024-06-11T04:54:07.595Z"
   },
   {
    "duration": 76,
    "start_time": "2024-06-11T04:54:07.787Z"
   },
   {
    "duration": 31,
    "start_time": "2024-06-11T04:54:07.955Z"
   },
   {
    "duration": 63,
    "start_time": "2024-06-11T04:54:08.372Z"
   },
   {
    "duration": 16,
    "start_time": "2024-06-11T04:54:08.587Z"
   },
   {
    "duration": 73,
    "start_time": "2024-06-11T04:54:08.809Z"
   },
   {
    "duration": 15,
    "start_time": "2024-06-11T04:54:08.971Z"
   },
   {
    "duration": 69,
    "start_time": "2024-06-11T04:54:09.124Z"
   },
   {
    "duration": 15,
    "start_time": "2024-06-11T04:54:09.347Z"
   },
   {
    "duration": 3,
    "start_time": "2024-06-11T04:54:10.355Z"
   },
   {
    "duration": 3,
    "start_time": "2024-06-11T04:54:10.627Z"
   },
   {
    "duration": 3,
    "start_time": "2024-06-11T04:54:10.811Z"
   },
   {
    "duration": 3,
    "start_time": "2024-06-11T04:54:10.995Z"
   },
   {
    "duration": 4,
    "start_time": "2024-06-11T04:54:11.402Z"
   },
   {
    "duration": 4,
    "start_time": "2024-06-11T04:54:11.779Z"
   },
   {
    "duration": 4,
    "start_time": "2024-06-11T04:54:12.236Z"
   },
   {
    "duration": 5,
    "start_time": "2024-06-11T04:54:12.411Z"
   },
   {
    "duration": 4,
    "start_time": "2024-06-11T04:54:12.579Z"
   },
   {
    "duration": 4,
    "start_time": "2024-06-11T04:54:12.763Z"
   },
   {
    "duration": 4,
    "start_time": "2024-06-11T04:54:12.956Z"
   },
   {
    "duration": 4,
    "start_time": "2024-06-11T04:54:13.323Z"
   },
   {
    "duration": 21,
    "start_time": "2024-06-11T04:54:13.699Z"
   },
   {
    "duration": 17,
    "start_time": "2024-06-11T04:54:13.877Z"
   },
   {
    "duration": 16,
    "start_time": "2024-06-11T04:54:14.059Z"
   },
   {
    "duration": 15,
    "start_time": "2024-06-11T04:54:14.243Z"
   },
   {
    "duration": 5,
    "start_time": "2024-06-11T04:54:14.611Z"
   },
   {
    "duration": 9,
    "start_time": "2024-06-11T04:54:15.563Z"
   },
   {
    "duration": 4,
    "start_time": "2024-06-11T04:54:16.179Z"
   },
   {
    "duration": 3,
    "start_time": "2024-06-11T04:54:16.372Z"
   },
   {
    "duration": 26,
    "start_time": "2024-06-11T04:54:16.747Z"
   },
   {
    "duration": 386,
    "start_time": "2024-06-11T04:54:16.955Z"
   },
   {
    "duration": 353,
    "start_time": "2024-06-11T04:54:17.346Z"
   },
   {
    "duration": 307,
    "start_time": "2024-06-11T04:54:17.747Z"
   },
   {
    "duration": 329,
    "start_time": "2024-06-11T04:54:18.155Z"
   },
   {
    "duration": 354,
    "start_time": "2024-06-11T04:54:18.530Z"
   },
   {
    "duration": 334,
    "start_time": "2024-06-11T04:54:18.906Z"
   },
   {
    "duration": 409,
    "start_time": "2024-06-11T04:54:19.251Z"
   },
   {
    "duration": 326,
    "start_time": "2024-06-11T04:54:19.661Z"
   },
   {
    "duration": 245,
    "start_time": "2024-06-11T04:54:20.019Z"
   },
   {
    "duration": 198,
    "start_time": "2024-06-11T04:54:20.266Z"
   },
   {
    "duration": 204,
    "start_time": "2024-06-11T04:54:20.465Z"
   },
   {
    "duration": 249,
    "start_time": "2024-06-11T04:54:20.671Z"
   },
   {
    "duration": 9,
    "start_time": "2024-06-11T04:54:21.020Z"
   },
   {
    "duration": 195,
    "start_time": "2024-06-11T04:54:21.380Z"
   },
   {
    "duration": 284,
    "start_time": "2024-06-11T04:54:21.773Z"
   },
   {
    "duration": 4,
    "start_time": "2024-06-11T04:54:22.156Z"
   },
   {
    "duration": 328,
    "start_time": "2024-06-11T04:54:22.645Z"
   },
   {
    "duration": 3,
    "start_time": "2024-06-11T04:54:23.140Z"
   },
   {
    "duration": 327,
    "start_time": "2024-06-11T04:54:23.348Z"
   },
   {
    "duration": 9,
    "start_time": "2024-06-11T04:54:23.854Z"
   },
   {
    "duration": 192,
    "start_time": "2024-06-11T04:54:24.067Z"
   },
   {
    "duration": 293,
    "start_time": "2024-06-11T04:54:24.563Z"
   },
   {
    "duration": 339,
    "start_time": "2024-06-11T04:54:25.036Z"
   },
   {
    "duration": 11,
    "start_time": "2024-06-11T04:54:26.131Z"
   },
   {
    "duration": 31,
    "start_time": "2024-06-11T04:54:26.411Z"
   },
   {
    "duration": 54223,
    "start_time": "2024-06-11T04:54:27.690Z"
   },
   {
    "duration": 31,
    "start_time": "2024-06-11T04:55:21.915Z"
   },
   {
    "duration": 13,
    "start_time": "2024-06-11T04:55:36.893Z"
   },
   {
    "duration": 5,
    "start_time": "2024-06-11T04:55:37.195Z"
   },
   {
    "duration": 11,
    "start_time": "2024-06-11T04:55:37.628Z"
   },
   {
    "duration": 4,
    "start_time": "2024-06-11T04:55:37.875Z"
   },
   {
    "duration": 2283,
    "start_time": "2024-06-11T04:55:38.843Z"
   },
   {
    "duration": 54,
    "start_time": "2024-06-11T04:55:41.128Z"
   },
   {
    "duration": 20,
    "start_time": "2024-06-11T04:55:42.139Z"
   },
   {
    "duration": 4,
    "start_time": "2024-06-11T04:55:42.771Z"
   },
   {
    "duration": 11,
    "start_time": "2024-06-11T04:55:43.163Z"
   },
   {
    "duration": 1452,
    "start_time": "2024-06-11T04:55:43.531Z"
   },
   {
    "duration": 6,
    "start_time": "2024-06-11T04:55:44.985Z"
   },
   {
    "duration": 5,
    "start_time": "2024-06-11T04:55:44.993Z"
   },
   {
    "duration": 6,
    "start_time": "2024-06-11T04:55:45.331Z"
   },
   {
    "duration": 7,
    "start_time": "2024-06-11T04:55:45.874Z"
   },
   {
    "duration": 7,
    "start_time": "2024-06-11T04:55:46.234Z"
   },
   {
    "duration": 3,
    "start_time": "2024-06-11T04:56:26.916Z"
   },
   {
    "duration": 15,
    "start_time": "2024-06-11T04:56:31.476Z"
   },
   {
    "duration": 13,
    "start_time": "2024-06-11T04:56:55.172Z"
   },
   {
    "duration": 29,
    "start_time": "2024-06-11T04:56:57.971Z"
   },
   {
    "duration": 3056,
    "start_time": "2024-06-11T04:57:54.208Z"
   },
   {
    "duration": 3,
    "start_time": "2024-06-11T04:57:57.266Z"
   },
   {
    "duration": 2608,
    "start_time": "2024-06-11T04:57:57.270Z"
   },
   {
    "duration": 4,
    "start_time": "2024-06-11T04:57:59.880Z"
   },
   {
    "duration": 33,
    "start_time": "2024-06-11T04:57:59.886Z"
   },
   {
    "duration": 29,
    "start_time": "2024-06-11T04:57:59.921Z"
   },
   {
    "duration": 19,
    "start_time": "2024-06-11T04:57:59.951Z"
   },
   {
    "duration": 17,
    "start_time": "2024-06-11T04:57:59.971Z"
   },
   {
    "duration": 18,
    "start_time": "2024-06-11T04:57:59.989Z"
   },
   {
    "duration": 39,
    "start_time": "2024-06-11T04:58:00.009Z"
   },
   {
    "duration": 27,
    "start_time": "2024-06-11T04:58:00.049Z"
   },
   {
    "duration": 28,
    "start_time": "2024-06-11T04:58:00.077Z"
   },
   {
    "duration": 3,
    "start_time": "2024-06-11T04:58:00.107Z"
   },
   {
    "duration": 52,
    "start_time": "2024-06-11T04:58:00.112Z"
   },
   {
    "duration": 49,
    "start_time": "2024-06-11T04:58:00.166Z"
   },
   {
    "duration": 50,
    "start_time": "2024-06-11T04:58:00.216Z"
   },
   {
    "duration": 47,
    "start_time": "2024-06-11T04:58:00.268Z"
   },
   {
    "duration": 26,
    "start_time": "2024-06-11T04:58:00.317Z"
   },
   {
    "duration": 33,
    "start_time": "2024-06-11T04:58:00.344Z"
   },
   {
    "duration": 21,
    "start_time": "2024-06-11T04:58:00.379Z"
   },
   {
    "duration": 22,
    "start_time": "2024-06-11T04:58:00.402Z"
   },
   {
    "duration": 5,
    "start_time": "2024-06-11T04:58:00.425Z"
   },
   {
    "duration": 37,
    "start_time": "2024-06-11T04:58:00.431Z"
   },
   {
    "duration": 18,
    "start_time": "2024-06-11T04:58:00.470Z"
   },
   {
    "duration": 31,
    "start_time": "2024-06-11T04:58:00.489Z"
   },
   {
    "duration": 25,
    "start_time": "2024-06-11T04:58:00.521Z"
   },
   {
    "duration": 26,
    "start_time": "2024-06-11T04:58:00.548Z"
   },
   {
    "duration": 26,
    "start_time": "2024-06-11T04:58:00.578Z"
   },
   {
    "duration": 31,
    "start_time": "2024-06-11T04:58:00.606Z"
   },
   {
    "duration": 41,
    "start_time": "2024-06-11T04:58:00.638Z"
   },
   {
    "duration": 25,
    "start_time": "2024-06-11T04:58:00.681Z"
   },
   {
    "duration": 34,
    "start_time": "2024-06-11T04:58:00.708Z"
   },
   {
    "duration": 88,
    "start_time": "2024-06-11T04:58:00.743Z"
   },
   {
    "duration": 564,
    "start_time": "2024-06-11T04:58:00.832Z"
   },
   {
    "duration": 402,
    "start_time": "2024-06-11T04:58:01.397Z"
   },
   {
    "duration": 357,
    "start_time": "2024-06-11T04:58:01.801Z"
   },
   {
    "duration": 327,
    "start_time": "2024-06-11T04:58:02.159Z"
   },
   {
    "duration": 340,
    "start_time": "2024-06-11T04:58:02.488Z"
   },
   {
    "duration": 339,
    "start_time": "2024-06-11T04:58:02.830Z"
   },
   {
    "duration": 295,
    "start_time": "2024-06-11T04:58:03.171Z"
   },
   {
    "duration": 316,
    "start_time": "2024-06-11T04:58:03.468Z"
   },
   {
    "duration": 210,
    "start_time": "2024-06-11T04:58:03.786Z"
   },
   {
    "duration": 254,
    "start_time": "2024-06-11T04:58:03.998Z"
   },
   {
    "duration": 210,
    "start_time": "2024-06-11T04:58:04.254Z"
   },
   {
    "duration": 245,
    "start_time": "2024-06-11T04:58:04.466Z"
   },
   {
    "duration": 11,
    "start_time": "2024-06-11T04:58:04.712Z"
   },
   {
    "duration": 248,
    "start_time": "2024-06-11T04:58:04.725Z"
   },
   {
    "duration": 445,
    "start_time": "2024-06-11T04:58:04.975Z"
   },
   {
    "duration": 5,
    "start_time": "2024-06-11T04:58:05.422Z"
   },
   {
    "duration": 335,
    "start_time": "2024-06-11T04:58:05.428Z"
   },
   {
    "duration": 5,
    "start_time": "2024-06-11T04:58:05.765Z"
   },
   {
    "duration": 393,
    "start_time": "2024-06-11T04:58:05.771Z"
   },
   {
    "duration": 10,
    "start_time": "2024-06-11T04:58:06.166Z"
   },
   {
    "duration": 202,
    "start_time": "2024-06-11T04:58:06.178Z"
   },
   {
    "duration": 368,
    "start_time": "2024-06-11T04:58:06.382Z"
   },
   {
    "duration": 328,
    "start_time": "2024-06-11T04:58:06.751Z"
   },
   {
    "duration": 9,
    "start_time": "2024-06-11T04:58:07.080Z"
   },
   {
    "duration": 36,
    "start_time": "2024-06-11T04:58:07.090Z"
   },
   {
    "duration": 53510,
    "start_time": "2024-06-11T04:58:07.127Z"
   },
   {
    "duration": 178,
    "start_time": "2024-06-11T04:59:00.645Z"
   },
   {
    "duration": 0,
    "start_time": "2024-06-11T04:59:00.826Z"
   },
   {
    "duration": 0,
    "start_time": "2024-06-11T04:59:00.827Z"
   },
   {
    "duration": 0,
    "start_time": "2024-06-11T04:59:00.845Z"
   },
   {
    "duration": 0,
    "start_time": "2024-06-11T04:59:00.847Z"
   },
   {
    "duration": 0,
    "start_time": "2024-06-11T04:59:00.848Z"
   },
   {
    "duration": 0,
    "start_time": "2024-06-11T04:59:00.849Z"
   },
   {
    "duration": 0,
    "start_time": "2024-06-11T04:59:00.850Z"
   },
   {
    "duration": 0,
    "start_time": "2024-06-11T04:59:00.851Z"
   },
   {
    "duration": 0,
    "start_time": "2024-06-11T04:59:00.852Z"
   },
   {
    "duration": 0,
    "start_time": "2024-06-11T04:59:00.854Z"
   },
   {
    "duration": 0,
    "start_time": "2024-06-11T04:59:00.854Z"
   },
   {
    "duration": 0,
    "start_time": "2024-06-11T04:59:00.855Z"
   },
   {
    "duration": 0,
    "start_time": "2024-06-11T04:59:00.856Z"
   },
   {
    "duration": 0,
    "start_time": "2024-06-11T04:59:00.857Z"
   },
   {
    "duration": 0,
    "start_time": "2024-06-11T04:59:00.858Z"
   },
   {
    "duration": 12,
    "start_time": "2024-06-11T04:59:29.874Z"
   },
   {
    "duration": 5,
    "start_time": "2024-06-11T04:59:29.888Z"
   },
   {
    "duration": 12,
    "start_time": "2024-06-11T04:59:29.894Z"
   },
   {
    "duration": 3,
    "start_time": "2024-06-11T04:59:29.908Z"
   },
   {
    "duration": 2351,
    "start_time": "2024-06-11T04:59:29.912Z"
   },
   {
    "duration": 50,
    "start_time": "2024-06-11T04:59:32.265Z"
   },
   {
    "duration": 0,
    "start_time": "2024-06-11T04:59:32.317Z"
   },
   {
    "duration": 0,
    "start_time": "2024-06-11T04:59:32.318Z"
   },
   {
    "duration": 0,
    "start_time": "2024-06-11T04:59:32.319Z"
   },
   {
    "duration": 0,
    "start_time": "2024-06-11T04:59:32.345Z"
   },
   {
    "duration": 0,
    "start_time": "2024-06-11T04:59:32.346Z"
   },
   {
    "duration": 0,
    "start_time": "2024-06-11T04:59:32.348Z"
   },
   {
    "duration": 0,
    "start_time": "2024-06-11T04:59:32.349Z"
   },
   {
    "duration": 0,
    "start_time": "2024-06-11T04:59:32.351Z"
   },
   {
    "duration": 0,
    "start_time": "2024-06-11T04:59:32.352Z"
   },
   {
    "duration": 6038,
    "start_time": "2024-06-11T05:00:10.076Z"
   },
   {
    "duration": 53,
    "start_time": "2024-06-11T05:01:06.636Z"
   },
   {
    "duration": 3170,
    "start_time": "2024-06-11T05:01:32.354Z"
   },
   {
    "duration": 2581,
    "start_time": "2024-06-11T05:01:35.526Z"
   },
   {
    "duration": 712,
    "start_time": "2024-06-11T05:01:38.111Z"
   },
   {
    "duration": 0,
    "start_time": "2024-06-11T05:01:38.828Z"
   },
   {
    "duration": 0,
    "start_time": "2024-06-11T05:01:38.829Z"
   },
   {
    "duration": 1,
    "start_time": "2024-06-11T05:01:38.830Z"
   },
   {
    "duration": 0,
    "start_time": "2024-06-11T05:01:38.832Z"
   },
   {
    "duration": 0,
    "start_time": "2024-06-11T05:01:38.833Z"
   },
   {
    "duration": 0,
    "start_time": "2024-06-11T05:01:38.846Z"
   },
   {
    "duration": 0,
    "start_time": "2024-06-11T05:01:38.847Z"
   },
   {
    "duration": 0,
    "start_time": "2024-06-11T05:01:38.848Z"
   },
   {
    "duration": 0,
    "start_time": "2024-06-11T05:01:38.848Z"
   },
   {
    "duration": 0,
    "start_time": "2024-06-11T05:01:38.851Z"
   },
   {
    "duration": 0,
    "start_time": "2024-06-11T05:01:38.852Z"
   },
   {
    "duration": 0,
    "start_time": "2024-06-11T05:01:38.853Z"
   },
   {
    "duration": 0,
    "start_time": "2024-06-11T05:01:38.854Z"
   },
   {
    "duration": 0,
    "start_time": "2024-06-11T05:01:38.855Z"
   },
   {
    "duration": 0,
    "start_time": "2024-06-11T05:01:38.856Z"
   },
   {
    "duration": 0,
    "start_time": "2024-06-11T05:01:38.857Z"
   },
   {
    "duration": 0,
    "start_time": "2024-06-11T05:01:38.858Z"
   },
   {
    "duration": 0,
    "start_time": "2024-06-11T05:01:38.859Z"
   },
   {
    "duration": 0,
    "start_time": "2024-06-11T05:01:38.860Z"
   },
   {
    "duration": 0,
    "start_time": "2024-06-11T05:01:38.861Z"
   },
   {
    "duration": 0,
    "start_time": "2024-06-11T05:01:38.862Z"
   },
   {
    "duration": 0,
    "start_time": "2024-06-11T05:01:38.863Z"
   },
   {
    "duration": 0,
    "start_time": "2024-06-11T05:01:38.864Z"
   },
   {
    "duration": 0,
    "start_time": "2024-06-11T05:01:38.865Z"
   },
   {
    "duration": 0,
    "start_time": "2024-06-11T05:01:38.866Z"
   },
   {
    "duration": 0,
    "start_time": "2024-06-11T05:01:38.867Z"
   },
   {
    "duration": 0,
    "start_time": "2024-06-11T05:01:38.868Z"
   },
   {
    "duration": 0,
    "start_time": "2024-06-11T05:01:38.869Z"
   },
   {
    "duration": 0,
    "start_time": "2024-06-11T05:01:38.870Z"
   },
   {
    "duration": 0,
    "start_time": "2024-06-11T05:01:38.871Z"
   },
   {
    "duration": 0,
    "start_time": "2024-06-11T05:01:38.872Z"
   },
   {
    "duration": 0,
    "start_time": "2024-06-11T05:01:38.873Z"
   },
   {
    "duration": 0,
    "start_time": "2024-06-11T05:01:38.874Z"
   },
   {
    "duration": 0,
    "start_time": "2024-06-11T05:01:38.876Z"
   },
   {
    "duration": 1,
    "start_time": "2024-06-11T05:01:38.876Z"
   },
   {
    "duration": 0,
    "start_time": "2024-06-11T05:01:38.878Z"
   },
   {
    "duration": 0,
    "start_time": "2024-06-11T05:01:38.879Z"
   },
   {
    "duration": 0,
    "start_time": "2024-06-11T05:01:38.880Z"
   },
   {
    "duration": 0,
    "start_time": "2024-06-11T05:01:38.880Z"
   },
   {
    "duration": 0,
    "start_time": "2024-06-11T05:01:38.882Z"
   },
   {
    "duration": 0,
    "start_time": "2024-06-11T05:01:38.946Z"
   },
   {
    "duration": 0,
    "start_time": "2024-06-11T05:01:38.947Z"
   },
   {
    "duration": 0,
    "start_time": "2024-06-11T05:01:38.948Z"
   },
   {
    "duration": 0,
    "start_time": "2024-06-11T05:01:38.949Z"
   },
   {
    "duration": 0,
    "start_time": "2024-06-11T05:01:38.950Z"
   },
   {
    "duration": 0,
    "start_time": "2024-06-11T05:01:38.951Z"
   },
   {
    "duration": 0,
    "start_time": "2024-06-11T05:01:38.952Z"
   },
   {
    "duration": 0,
    "start_time": "2024-06-11T05:01:38.953Z"
   },
   {
    "duration": 0,
    "start_time": "2024-06-11T05:01:38.954Z"
   },
   {
    "duration": 0,
    "start_time": "2024-06-11T05:01:38.955Z"
   },
   {
    "duration": 0,
    "start_time": "2024-06-11T05:01:38.956Z"
   },
   {
    "duration": 0,
    "start_time": "2024-06-11T05:01:38.957Z"
   },
   {
    "duration": 0,
    "start_time": "2024-06-11T05:01:38.958Z"
   },
   {
    "duration": 0,
    "start_time": "2024-06-11T05:01:38.959Z"
   },
   {
    "duration": 0,
    "start_time": "2024-06-11T05:01:38.960Z"
   },
   {
    "duration": 0,
    "start_time": "2024-06-11T05:01:38.961Z"
   },
   {
    "duration": 0,
    "start_time": "2024-06-11T05:01:38.962Z"
   },
   {
    "duration": 0,
    "start_time": "2024-06-11T05:01:38.963Z"
   },
   {
    "duration": 0,
    "start_time": "2024-06-11T05:01:38.964Z"
   },
   {
    "duration": 0,
    "start_time": "2024-06-11T05:01:38.965Z"
   },
   {
    "duration": 0,
    "start_time": "2024-06-11T05:01:38.966Z"
   },
   {
    "duration": 0,
    "start_time": "2024-06-11T05:01:38.967Z"
   },
   {
    "duration": 0,
    "start_time": "2024-06-11T05:01:38.968Z"
   },
   {
    "duration": 0,
    "start_time": "2024-06-11T05:01:38.969Z"
   },
   {
    "duration": 0,
    "start_time": "2024-06-11T05:01:38.970Z"
   },
   {
    "duration": 0,
    "start_time": "2024-06-11T05:01:38.971Z"
   },
   {
    "duration": 0,
    "start_time": "2024-06-11T05:01:38.972Z"
   },
   {
    "duration": 0,
    "start_time": "2024-06-11T05:01:38.973Z"
   },
   {
    "duration": 0,
    "start_time": "2024-06-11T05:01:38.974Z"
   },
   {
    "duration": 0,
    "start_time": "2024-06-11T05:01:38.976Z"
   },
   {
    "duration": 0,
    "start_time": "2024-06-11T05:01:38.977Z"
   },
   {
    "duration": 0,
    "start_time": "2024-06-11T05:01:38.978Z"
   },
   {
    "duration": 1785,
    "start_time": "2024-06-11T05:13:02.193Z"
   },
   {
    "duration": 7139,
    "start_time": "2024-06-11T05:13:10.786Z"
   },
   {
    "duration": 4116,
    "start_time": "2024-06-11T05:13:25.657Z"
   },
   {
    "duration": 380,
    "start_time": "2024-06-11T05:13:31.434Z"
   },
   {
    "duration": 27,
    "start_time": "2024-06-11T06:13:40.929Z"
   },
   {
    "duration": 1959,
    "start_time": "2024-06-11T06:14:11.995Z"
   },
   {
    "duration": 4,
    "start_time": "2024-06-11T06:14:13.956Z"
   },
   {
    "duration": 90,
    "start_time": "2024-06-11T06:14:13.962Z"
   },
   {
    "duration": 37,
    "start_time": "2024-06-11T06:14:14.053Z"
   },
   {
    "duration": 65,
    "start_time": "2024-06-11T06:14:14.092Z"
   },
   {
    "duration": 25,
    "start_time": "2024-06-11T06:14:14.159Z"
   },
   {
    "duration": 65,
    "start_time": "2024-06-11T06:14:14.185Z"
   },
   {
    "duration": 20,
    "start_time": "2024-06-11T06:14:14.252Z"
   },
   {
    "duration": 100,
    "start_time": "2024-06-11T06:14:14.274Z"
   },
   {
    "duration": 21,
    "start_time": "2024-06-11T06:14:14.376Z"
   },
   {
    "duration": 3,
    "start_time": "2024-06-11T06:14:14.399Z"
   },
   {
    "duration": 4,
    "start_time": "2024-06-11T06:14:14.404Z"
   },
   {
    "duration": 6,
    "start_time": "2024-06-11T06:14:14.409Z"
   },
   {
    "duration": 10,
    "start_time": "2024-06-11T06:14:14.418Z"
   },
   {
    "duration": 16,
    "start_time": "2024-06-11T06:14:14.430Z"
   },
   {
    "duration": 14,
    "start_time": "2024-06-11T06:14:14.448Z"
   },
   {
    "duration": 5,
    "start_time": "2024-06-11T06:14:14.463Z"
   },
   {
    "duration": 6,
    "start_time": "2024-06-11T06:14:14.469Z"
   },
   {
    "duration": 15,
    "start_time": "2024-06-11T06:14:14.477Z"
   },
   {
    "duration": 8,
    "start_time": "2024-06-11T06:14:14.494Z"
   },
   {
    "duration": 9,
    "start_time": "2024-06-11T06:14:14.504Z"
   },
   {
    "duration": 5,
    "start_time": "2024-06-11T06:14:14.515Z"
   },
   {
    "duration": 57,
    "start_time": "2024-06-11T06:14:14.522Z"
   },
   {
    "duration": 23,
    "start_time": "2024-06-11T06:14:14.581Z"
   },
   {
    "duration": 59,
    "start_time": "2024-06-11T06:14:14.605Z"
   },
   {
    "duration": 24,
    "start_time": "2024-06-11T06:14:14.666Z"
   },
   {
    "duration": 6,
    "start_time": "2024-06-11T06:14:14.692Z"
   },
   {
    "duration": 23,
    "start_time": "2024-06-11T06:14:14.700Z"
   },
   {
    "duration": 10,
    "start_time": "2024-06-11T06:14:14.725Z"
   },
   {
    "duration": 3,
    "start_time": "2024-06-11T06:14:14.761Z"
   },
   {
    "duration": 33,
    "start_time": "2024-06-11T06:14:14.766Z"
   },
   {
    "duration": 273,
    "start_time": "2024-06-11T06:14:14.800Z"
   },
   {
    "duration": 264,
    "start_time": "2024-06-11T06:14:15.075Z"
   },
   {
    "duration": 235,
    "start_time": "2024-06-11T06:14:15.341Z"
   },
   {
    "duration": 259,
    "start_time": "2024-06-11T06:14:15.578Z"
   },
   {
    "duration": 362,
    "start_time": "2024-06-11T06:14:15.839Z"
   },
   {
    "duration": 273,
    "start_time": "2024-06-11T06:14:16.203Z"
   },
   {
    "duration": 232,
    "start_time": "2024-06-11T06:14:16.478Z"
   },
   {
    "duration": 250,
    "start_time": "2024-06-11T06:14:16.712Z"
   },
   {
    "duration": 143,
    "start_time": "2024-06-11T06:14:16.964Z"
   },
   {
    "duration": 127,
    "start_time": "2024-06-11T06:14:17.114Z"
   },
   {
    "duration": 112,
    "start_time": "2024-06-11T06:14:17.243Z"
   },
   {
    "duration": 167,
    "start_time": "2024-06-11T06:14:17.360Z"
   },
   {
    "duration": 13,
    "start_time": "2024-06-11T06:14:17.529Z"
   },
   {
    "duration": 150,
    "start_time": "2024-06-11T06:14:17.543Z"
   },
   {
    "duration": 256,
    "start_time": "2024-06-11T06:14:17.695Z"
   },
   {
    "duration": 11,
    "start_time": "2024-06-11T06:14:17.954Z"
   },
   {
    "duration": 287,
    "start_time": "2024-06-11T06:14:17.968Z"
   },
   {
    "duration": 5,
    "start_time": "2024-06-11T06:14:18.257Z"
   },
   {
    "duration": 370,
    "start_time": "2024-06-11T06:14:18.264Z"
   },
   {
    "duration": 12,
    "start_time": "2024-06-11T06:14:18.636Z"
   },
   {
    "duration": 131,
    "start_time": "2024-06-11T06:14:18.649Z"
   },
   {
    "duration": 234,
    "start_time": "2024-06-11T06:14:18.781Z"
   },
   {
    "duration": 234,
    "start_time": "2024-06-11T06:14:19.017Z"
   },
   {
    "duration": 17,
    "start_time": "2024-06-11T06:14:19.252Z"
   },
   {
    "duration": 41,
    "start_time": "2024-06-11T06:14:19.271Z"
   },
   {
    "duration": 50020,
    "start_time": "2024-06-11T06:14:19.314Z"
   },
   {
    "duration": 1068,
    "start_time": "2024-06-11T06:15:09.337Z"
   },
   {
    "duration": 16,
    "start_time": "2024-06-11T06:15:10.406Z"
   },
   {
    "duration": 13,
    "start_time": "2024-06-11T06:15:10.424Z"
   },
   {
    "duration": 27,
    "start_time": "2024-06-11T06:15:10.439Z"
   },
   {
    "duration": 3,
    "start_time": "2024-06-11T06:15:10.468Z"
   },
   {
    "duration": 2867,
    "start_time": "2024-06-11T06:15:10.473Z"
   },
   {
    "duration": 4085,
    "start_time": "2024-06-11T06:15:13.342Z"
   },
   {
    "duration": 32,
    "start_time": "2024-06-11T06:15:17.429Z"
   },
   {
    "duration": 4,
    "start_time": "2024-06-11T06:15:17.462Z"
   },
   {
    "duration": 39,
    "start_time": "2024-06-11T06:15:17.468Z"
   },
   {
    "duration": 1175,
    "start_time": "2024-06-11T06:15:17.509Z"
   },
   {
    "duration": 10,
    "start_time": "2024-06-11T06:15:18.686Z"
   },
   {
    "duration": 32,
    "start_time": "2024-06-11T06:15:18.698Z"
   },
   {
    "duration": 43,
    "start_time": "2024-06-11T06:15:18.732Z"
   },
   {
    "duration": 27,
    "start_time": "2024-06-11T06:15:18.776Z"
   },
   {
    "duration": 23,
    "start_time": "2024-06-11T06:15:18.805Z"
   },
   {
    "duration": 8,
    "start_time": "2024-06-11T06:19:47.352Z"
   },
   {
    "duration": 7,
    "start_time": "2024-06-11T06:20:19.956Z"
   },
   {
    "duration": 149,
    "start_time": "2024-06-11T06:22:51.339Z"
   },
   {
    "duration": 18,
    "start_time": "2024-06-11T06:26:26.579Z"
   },
   {
    "duration": 28,
    "start_time": "2024-06-11T06:26:57.041Z"
   },
   {
    "duration": 21,
    "start_time": "2024-06-11T06:27:08.536Z"
   },
   {
    "duration": 24,
    "start_time": "2024-06-11T06:31:40.166Z"
   },
   {
    "duration": 22,
    "start_time": "2024-06-11T06:32:27.174Z"
   },
   {
    "duration": 14,
    "start_time": "2024-06-11T06:32:36.818Z"
   },
   {
    "duration": 14,
    "start_time": "2024-06-11T06:33:17.627Z"
   },
   {
    "duration": 11,
    "start_time": "2024-06-11T06:33:28.841Z"
   },
   {
    "duration": 4,
    "start_time": "2024-06-11T06:33:56.780Z"
   },
   {
    "duration": 3,
    "start_time": "2024-06-11T06:35:50.273Z"
   },
   {
    "duration": 11,
    "start_time": "2024-06-11T06:35:55.401Z"
   },
   {
    "duration": 7,
    "start_time": "2024-06-11T06:36:12.679Z"
   },
   {
    "duration": 10,
    "start_time": "2024-06-11T06:38:26.703Z"
   },
   {
    "duration": 15,
    "start_time": "2024-06-11T06:38:34.606Z"
   },
   {
    "duration": 31,
    "start_time": "2024-06-11T06:38:52.154Z"
   },
   {
    "duration": 20,
    "start_time": "2024-06-11T06:39:51.914Z"
   },
   {
    "duration": 18,
    "start_time": "2024-06-11T06:41:10.416Z"
   },
   {
    "duration": 3,
    "start_time": "2024-06-11T06:42:13.089Z"
   },
   {
    "duration": 10,
    "start_time": "2024-06-11T06:42:24.572Z"
   },
   {
    "duration": 4,
    "start_time": "2024-06-11T06:43:03.575Z"
   },
   {
    "duration": 12,
    "start_time": "2024-06-11T06:43:06.637Z"
   },
   {
    "duration": 3,
    "start_time": "2024-06-11T06:43:42.910Z"
   },
   {
    "duration": 11,
    "start_time": "2024-06-11T06:43:44.669Z"
   },
   {
    "duration": 9,
    "start_time": "2024-06-11T06:44:03.338Z"
   },
   {
    "duration": 10,
    "start_time": "2024-06-11T06:44:35.593Z"
   },
   {
    "duration": 8,
    "start_time": "2024-06-11T06:44:57.960Z"
   },
   {
    "duration": 15,
    "start_time": "2024-06-11T06:44:57.971Z"
   },
   {
    "duration": 41,
    "start_time": "2024-06-11T06:44:57.988Z"
   },
   {
    "duration": 37,
    "start_time": "2024-06-11T06:44:58.031Z"
   },
   {
    "duration": 20,
    "start_time": "2024-06-11T06:44:58.071Z"
   },
   {
    "duration": 26,
    "start_time": "2024-06-11T06:44:58.093Z"
   },
   {
    "duration": 19,
    "start_time": "2024-06-11T06:44:58.120Z"
   },
   {
    "duration": 41,
    "start_time": "2024-06-11T06:44:58.140Z"
   },
   {
    "duration": 27,
    "start_time": "2024-06-11T06:44:58.183Z"
   },
   {
    "duration": 24,
    "start_time": "2024-06-11T06:44:58.212Z"
   },
   {
    "duration": 4,
    "start_time": "2024-06-11T06:44:58.238Z"
   },
   {
    "duration": 15,
    "start_time": "2024-06-11T06:44:58.261Z"
   },
   {
    "duration": 17,
    "start_time": "2024-06-11T06:44:58.278Z"
   },
   {
    "duration": 8,
    "start_time": "2024-06-11T06:44:58.299Z"
   },
   {
    "duration": 90,
    "start_time": "2024-06-11T06:44:58.309Z"
   },
   {
    "duration": 45,
    "start_time": "2024-06-11T06:44:58.401Z"
   },
   {
    "duration": 27,
    "start_time": "2024-06-11T06:44:58.447Z"
   },
   {
    "duration": 13,
    "start_time": "2024-06-11T06:44:58.476Z"
   },
   {
    "duration": 14,
    "start_time": "2024-06-11T06:44:58.490Z"
   },
   {
    "duration": 23,
    "start_time": "2024-06-11T06:44:58.506Z"
   },
   {
    "duration": 25,
    "start_time": "2024-06-11T06:44:58.531Z"
   },
   {
    "duration": 43,
    "start_time": "2024-06-11T06:44:58.558Z"
   },
   {
    "duration": 53,
    "start_time": "2024-06-11T06:44:58.603Z"
   },
   {
    "duration": 28,
    "start_time": "2024-06-11T06:44:58.658Z"
   },
   {
    "duration": 19,
    "start_time": "2024-06-11T06:44:58.687Z"
   },
   {
    "duration": 24,
    "start_time": "2024-06-11T06:44:58.708Z"
   },
   {
    "duration": 38,
    "start_time": "2024-06-11T06:44:58.733Z"
   },
   {
    "duration": 14,
    "start_time": "2024-06-11T06:44:58.772Z"
   },
   {
    "duration": 10,
    "start_time": "2024-06-11T06:44:58.788Z"
   },
   {
    "duration": 28,
    "start_time": "2024-06-11T06:44:58.800Z"
   },
   {
    "duration": 58,
    "start_time": "2024-06-11T06:44:58.829Z"
   },
   {
    "duration": 256,
    "start_time": "2024-06-11T06:44:58.889Z"
   },
   {
    "duration": 278,
    "start_time": "2024-06-11T06:44:59.147Z"
   },
   {
    "duration": 249,
    "start_time": "2024-06-11T06:44:59.427Z"
   },
   {
    "duration": 400,
    "start_time": "2024-06-11T06:44:59.678Z"
   },
   {
    "duration": 270,
    "start_time": "2024-06-11T06:45:00.080Z"
   },
   {
    "duration": 264,
    "start_time": "2024-06-11T06:45:00.352Z"
   },
   {
    "duration": 255,
    "start_time": "2024-06-11T06:45:00.618Z"
   },
   {
    "duration": 301,
    "start_time": "2024-06-11T06:45:00.875Z"
   },
   {
    "duration": 141,
    "start_time": "2024-06-11T06:45:01.178Z"
   },
   {
    "duration": 116,
    "start_time": "2024-06-11T06:45:01.323Z"
   },
   {
    "duration": 116,
    "start_time": "2024-06-11T06:45:01.441Z"
   },
   {
    "duration": 208,
    "start_time": "2024-06-11T06:45:01.562Z"
   },
   {
    "duration": 13,
    "start_time": "2024-06-11T06:45:01.772Z"
   },
   {
    "duration": 164,
    "start_time": "2024-06-11T06:45:01.787Z"
   },
   {
    "duration": 257,
    "start_time": "2024-06-11T06:45:01.952Z"
   },
   {
    "duration": 3,
    "start_time": "2024-06-11T06:45:02.211Z"
   },
   {
    "duration": 412,
    "start_time": "2024-06-11T06:45:02.216Z"
   },
   {
    "duration": 5,
    "start_time": "2024-06-11T06:45:02.630Z"
   },
   {
    "duration": 294,
    "start_time": "2024-06-11T06:45:02.637Z"
   },
   {
    "duration": 13,
    "start_time": "2024-06-11T06:45:02.934Z"
   },
   {
    "duration": 144,
    "start_time": "2024-06-11T06:45:02.961Z"
   },
   {
    "duration": 270,
    "start_time": "2024-06-11T06:45:03.107Z"
   },
   {
    "duration": 260,
    "start_time": "2024-06-11T06:45:03.379Z"
   },
   {
    "duration": 15,
    "start_time": "2024-06-11T06:45:03.641Z"
   },
   {
    "duration": 25,
    "start_time": "2024-06-11T06:45:03.672Z"
   },
   {
    "duration": 44,
    "start_time": "2024-06-11T06:45:03.698Z"
   },
   {
    "duration": 41,
    "start_time": "2024-06-11T06:45:03.744Z"
   },
   {
    "duration": 26,
    "start_time": "2024-06-11T06:45:03.787Z"
   },
   {
    "duration": 33,
    "start_time": "2024-06-11T06:45:03.814Z"
   },
   {
    "duration": 46,
    "start_time": "2024-06-11T06:45:03.849Z"
   },
   {
    "duration": 62,
    "start_time": "2024-06-11T06:45:03.897Z"
   },
   {
    "duration": 31,
    "start_time": "2024-06-11T06:45:03.966Z"
   },
   {
    "duration": 48,
    "start_time": "2024-06-11T06:45:03.998Z"
   },
   {
    "duration": 10,
    "start_time": "2024-06-11T06:45:22.646Z"
   },
   {
    "duration": 14,
    "start_time": "2024-06-11T06:47:03.860Z"
   },
   {
    "duration": 8,
    "start_time": "2024-06-11T06:47:32.595Z"
   },
   {
    "duration": 46,
    "start_time": "2024-06-11T06:47:34.831Z"
   },
   {
    "duration": 45998,
    "start_time": "2024-06-11T06:53:56.994Z"
   },
   {
    "duration": 1495,
    "start_time": "2024-06-11T06:57:23.475Z"
   },
   {
    "duration": 28,
    "start_time": "2024-06-11T07:02:29.253Z"
   },
   {
    "duration": 4,
    "start_time": "2024-06-11T07:03:56.475Z"
   },
   {
    "duration": 10,
    "start_time": "2024-06-11T07:04:30.989Z"
   },
   {
    "duration": 6,
    "start_time": "2024-06-11T07:04:54.619Z"
   },
   {
    "duration": 10,
    "start_time": "2024-06-11T07:05:05.992Z"
   },
   {
    "duration": 4,
    "start_time": "2024-06-11T07:05:13.185Z"
   },
   {
    "duration": 4,
    "start_time": "2024-06-11T07:05:18.620Z"
   },
   {
    "duration": 28,
    "start_time": "2024-06-11T07:05:22.458Z"
   },
   {
    "duration": 9,
    "start_time": "2024-06-11T07:07:17.113Z"
   },
   {
    "duration": 12,
    "start_time": "2024-06-11T07:08:35.182Z"
   },
   {
    "duration": 3,
    "start_time": "2024-06-11T07:11:13.335Z"
   },
   {
    "duration": 1311,
    "start_time": "2024-06-11T07:13:24.015Z"
   },
   {
    "duration": 2026,
    "start_time": "2024-06-11T07:16:26.208Z"
   },
   {
    "duration": 1338,
    "start_time": "2024-06-11T07:18:13.858Z"
   },
   {
    "duration": 19,
    "start_time": "2024-06-11T07:24:24.851Z"
   },
   {
    "duration": 3,
    "start_time": "2024-06-11T07:24:28.302Z"
   },
   {
    "duration": 21,
    "start_time": "2024-06-11T07:24:29.859Z"
   },
   {
    "duration": 1353,
    "start_time": "2024-06-11T07:24:42.025Z"
   },
   {
    "duration": 1348,
    "start_time": "2024-06-11T07:25:40.001Z"
   },
   {
    "duration": 1305,
    "start_time": "2024-06-11T07:25:48.179Z"
   },
   {
    "duration": 8,
    "start_time": "2024-06-11T07:25:59.412Z"
   },
   {
    "duration": 10,
    "start_time": "2024-06-11T07:26:23.948Z"
   },
   {
    "duration": 9,
    "start_time": "2024-06-11T07:26:35.999Z"
   },
   {
    "duration": 23,
    "start_time": "2024-06-11T07:26:55.951Z"
   },
   {
    "duration": 8,
    "start_time": "2024-06-11T07:27:00.932Z"
   },
   {
    "duration": 30,
    "start_time": "2024-06-11T07:29:43.347Z"
   },
   {
    "duration": 15,
    "start_time": "2024-06-11T07:36:08.947Z"
   },
   {
    "duration": 21,
    "start_time": "2024-06-11T07:39:36.517Z"
   },
   {
    "duration": 5,
    "start_time": "2024-06-11T07:40:19.833Z"
   },
   {
    "duration": 26,
    "start_time": "2024-06-11T07:40:39.630Z"
   },
   {
    "duration": 15,
    "start_time": "2024-06-11T07:41:25.231Z"
   },
   {
    "duration": 7,
    "start_time": "2024-06-11T07:41:31.887Z"
   },
   {
    "duration": 4,
    "start_time": "2024-06-11T07:42:20.502Z"
   },
   {
    "duration": 16,
    "start_time": "2024-06-11T07:42:25.789Z"
   },
   {
    "duration": 19,
    "start_time": "2024-06-11T07:42:33.206Z"
   },
   {
    "duration": 1367,
    "start_time": "2024-06-11T07:42:53.038Z"
   },
   {
    "duration": 1887,
    "start_time": "2024-06-11T07:43:09.733Z"
   },
   {
    "duration": 1268,
    "start_time": "2024-06-11T07:43:33.227Z"
   },
   {
    "duration": 1271,
    "start_time": "2024-06-11T07:43:39.374Z"
   },
   {
    "duration": 1479,
    "start_time": "2024-06-11T08:17:44.671Z"
   },
   {
    "duration": 1291,
    "start_time": "2024-06-11T08:17:48.218Z"
   },
   {
    "duration": 1240,
    "start_time": "2024-06-11T08:56:12.525Z"
   },
   {
    "duration": 22,
    "start_time": "2024-06-11T08:58:38.880Z"
   },
   {
    "duration": 20,
    "start_time": "2024-06-11T08:58:51.760Z"
   },
   {
    "duration": 18,
    "start_time": "2024-06-11T08:58:56.838Z"
   },
   {
    "duration": 4,
    "start_time": "2024-06-11T08:59:05.300Z"
   },
   {
    "duration": 17,
    "start_time": "2024-06-11T08:59:18.958Z"
   },
   {
    "duration": 4,
    "start_time": "2024-06-11T08:59:20.739Z"
   },
   {
    "duration": 17,
    "start_time": "2024-06-11T09:00:04.567Z"
   },
   {
    "duration": 5,
    "start_time": "2024-06-11T09:00:06.077Z"
   },
   {
    "duration": 4,
    "start_time": "2024-06-11T09:00:13.899Z"
   },
   {
    "duration": 8,
    "start_time": "2024-06-11T09:01:12.258Z"
   },
   {
    "duration": 51,
    "start_time": "2024-06-11T09:01:12.268Z"
   },
   {
    "duration": 33,
    "start_time": "2024-06-11T09:01:12.322Z"
   },
   {
    "duration": 36,
    "start_time": "2024-06-11T09:01:12.358Z"
   },
   {
    "duration": 20,
    "start_time": "2024-06-11T09:01:12.395Z"
   },
   {
    "duration": 23,
    "start_time": "2024-06-11T09:01:12.416Z"
   },
   {
    "duration": 33,
    "start_time": "2024-06-11T09:01:12.440Z"
   },
   {
    "duration": 24,
    "start_time": "2024-06-11T09:01:12.475Z"
   },
   {
    "duration": 28,
    "start_time": "2024-06-11T09:01:12.501Z"
   },
   {
    "duration": 21,
    "start_time": "2024-06-11T09:01:12.531Z"
   },
   {
    "duration": 10,
    "start_time": "2024-06-11T09:01:12.561Z"
   },
   {
    "duration": 15,
    "start_time": "2024-06-11T09:01:12.573Z"
   },
   {
    "duration": 12,
    "start_time": "2024-06-11T09:01:12.590Z"
   },
   {
    "duration": 5,
    "start_time": "2024-06-11T09:01:12.603Z"
   },
   {
    "duration": 20,
    "start_time": "2024-06-11T09:01:12.610Z"
   },
   {
    "duration": 6,
    "start_time": "2024-06-11T09:01:12.632Z"
   },
   {
    "duration": 8,
    "start_time": "2024-06-11T09:01:12.639Z"
   },
   {
    "duration": 7,
    "start_time": "2024-06-11T09:01:12.649Z"
   },
   {
    "duration": 19,
    "start_time": "2024-06-11T09:01:12.658Z"
   },
   {
    "duration": 19,
    "start_time": "2024-06-11T09:01:12.679Z"
   },
   {
    "duration": 15,
    "start_time": "2024-06-11T09:01:12.700Z"
   },
   {
    "duration": 17,
    "start_time": "2024-06-11T09:01:12.716Z"
   },
   {
    "duration": 48,
    "start_time": "2024-06-11T09:01:12.734Z"
   },
   {
    "duration": 98,
    "start_time": "2024-06-11T09:01:12.784Z"
   },
   {
    "duration": 20,
    "start_time": "2024-06-11T09:01:12.884Z"
   },
   {
    "duration": 20,
    "start_time": "2024-06-11T09:01:12.905Z"
   },
   {
    "duration": 35,
    "start_time": "2024-06-11T09:01:12.927Z"
   },
   {
    "duration": 29,
    "start_time": "2024-06-11T09:01:12.968Z"
   },
   {
    "duration": 17,
    "start_time": "2024-06-11T09:01:12.999Z"
   },
   {
    "duration": 9,
    "start_time": "2024-06-11T09:01:13.017Z"
   },
   {
    "duration": 54,
    "start_time": "2024-06-11T09:01:13.028Z"
   },
   {
    "duration": 399,
    "start_time": "2024-06-11T09:01:13.084Z"
   },
   {
    "duration": 262,
    "start_time": "2024-06-11T09:01:13.485Z"
   },
   {
    "duration": 256,
    "start_time": "2024-06-11T09:01:13.748Z"
   },
   {
    "duration": 273,
    "start_time": "2024-06-11T09:01:14.007Z"
   },
   {
    "duration": 283,
    "start_time": "2024-06-11T09:01:14.281Z"
   },
   {
    "duration": 243,
    "start_time": "2024-06-11T09:01:14.571Z"
   },
   {
    "duration": 238,
    "start_time": "2024-06-11T09:01:14.816Z"
   },
   {
    "duration": 268,
    "start_time": "2024-06-11T09:01:15.056Z"
   },
   {
    "duration": 277,
    "start_time": "2024-06-11T09:01:15.327Z"
   },
   {
    "duration": 117,
    "start_time": "2024-06-11T09:01:15.606Z"
   },
   {
    "duration": 129,
    "start_time": "2024-06-11T09:01:15.725Z"
   },
   {
    "duration": 175,
    "start_time": "2024-06-11T09:01:15.860Z"
   },
   {
    "duration": 13,
    "start_time": "2024-06-11T09:01:16.037Z"
   },
   {
    "duration": 145,
    "start_time": "2024-06-11T09:01:16.068Z"
   },
   {
    "duration": 269,
    "start_time": "2024-06-11T09:01:16.215Z"
   },
   {
    "duration": 4,
    "start_time": "2024-06-11T09:01:16.486Z"
   },
   {
    "duration": 265,
    "start_time": "2024-06-11T09:01:16.491Z"
   },
   {
    "duration": 16,
    "start_time": "2024-06-11T09:01:16.758Z"
   },
   {
    "duration": 356,
    "start_time": "2024-06-11T09:01:16.775Z"
   },
   {
    "duration": 17,
    "start_time": "2024-06-11T09:01:17.133Z"
   },
   {
    "duration": 132,
    "start_time": "2024-06-11T09:01:17.161Z"
   },
   {
    "duration": 254,
    "start_time": "2024-06-11T09:01:17.295Z"
   },
   {
    "duration": 267,
    "start_time": "2024-06-11T09:01:17.551Z"
   },
   {
    "duration": 17,
    "start_time": "2024-06-11T09:01:17.820Z"
   },
   {
    "duration": 29,
    "start_time": "2024-06-11T09:01:17.839Z"
   },
   {
    "duration": 9,
    "start_time": "2024-06-11T09:01:17.879Z"
   },
   {
    "duration": 12,
    "start_time": "2024-06-11T09:01:17.890Z"
   },
   {
    "duration": 19,
    "start_time": "2024-06-11T09:01:17.904Z"
   },
   {
    "duration": 24,
    "start_time": "2024-06-11T09:01:17.925Z"
   },
   {
    "duration": 21,
    "start_time": "2024-06-11T09:01:17.951Z"
   },
   {
    "duration": 8,
    "start_time": "2024-06-11T09:01:17.974Z"
   },
   {
    "duration": 76,
    "start_time": "2024-06-11T09:01:17.984Z"
   },
   {
    "duration": 7,
    "start_time": "2024-06-11T09:01:18.070Z"
   },
   {
    "duration": 60,
    "start_time": "2024-06-11T09:01:18.079Z"
   },
   {
    "duration": 18,
    "start_time": "2024-06-11T09:01:18.141Z"
   },
   {
    "duration": 14,
    "start_time": "2024-06-11T09:01:18.161Z"
   },
   {
    "duration": 170,
    "start_time": "2024-06-11T09:01:18.178Z"
   },
   {
    "duration": 46665,
    "start_time": "2024-06-11T09:01:18.363Z"
   },
   {
    "duration": 1566,
    "start_time": "2024-06-11T09:02:05.030Z"
   },
   {
    "duration": 17,
    "start_time": "2024-06-11T09:02:06.597Z"
   },
   {
    "duration": 16,
    "start_time": "2024-06-11T09:02:06.615Z"
   },
   {
    "duration": 42,
    "start_time": "2024-06-11T09:02:06.632Z"
   },
   {
    "duration": 15,
    "start_time": "2024-06-11T09:02:06.676Z"
   },
   {
    "duration": 1417,
    "start_time": "2024-06-11T09:02:06.693Z"
   },
   {
    "duration": 2148,
    "start_time": "2024-06-11T09:02:08.112Z"
   },
   {
    "duration": 16,
    "start_time": "2024-06-11T09:02:10.264Z"
   },
   {
    "duration": 40,
    "start_time": "2024-06-11T09:02:10.282Z"
   },
   {
    "duration": 11,
    "start_time": "2024-06-11T09:02:28.995Z"
   },
   {
    "duration": 3,
    "start_time": "2024-06-11T09:02:34.803Z"
   },
   {
    "duration": 4,
    "start_time": "2024-06-11T09:02:40.430Z"
   },
   {
    "duration": 16,
    "start_time": "2024-06-11T09:02:52.935Z"
   },
   {
    "duration": 4,
    "start_time": "2024-06-11T09:03:54.684Z"
   },
   {
    "duration": 18,
    "start_time": "2024-06-11T09:04:18.956Z"
   },
   {
    "duration": 4,
    "start_time": "2024-06-11T09:04:20.508Z"
   },
   {
    "duration": 4,
    "start_time": "2024-06-11T09:04:23.118Z"
   },
   {
    "duration": 4,
    "start_time": "2024-06-11T09:04:24.756Z"
   },
   {
    "duration": 21,
    "start_time": "2024-06-11T09:04:26.360Z"
   },
   {
    "duration": 8,
    "start_time": "2024-06-11T09:04:31.556Z"
   },
   {
    "duration": 14,
    "start_time": "2024-06-11T09:06:01.221Z"
   },
   {
    "duration": 6,
    "start_time": "2024-06-11T09:06:02.636Z"
   },
   {
    "duration": 3,
    "start_time": "2024-06-11T09:06:05.586Z"
   },
   {
    "duration": 3,
    "start_time": "2024-06-11T09:06:06.582Z"
   },
   {
    "duration": 18,
    "start_time": "2024-06-11T09:06:07.881Z"
   },
   {
    "duration": 7,
    "start_time": "2024-06-11T09:06:11.869Z"
   },
   {
    "duration": 14,
    "start_time": "2024-06-11T09:06:25.534Z"
   },
   {
    "duration": 8,
    "start_time": "2024-06-11T09:06:33.261Z"
   },
   {
    "duration": 17,
    "start_time": "2024-06-11T09:07:02.331Z"
   },
   {
    "duration": 28,
    "start_time": "2024-06-11T09:07:24.155Z"
   },
   {
    "duration": 9,
    "start_time": "2024-06-11T09:08:14.146Z"
   },
   {
    "duration": 13,
    "start_time": "2024-06-11T09:08:24.219Z"
   },
   {
    "duration": 16,
    "start_time": "2024-06-11T09:08:38.342Z"
   },
   {
    "duration": 21,
    "start_time": "2024-06-11T09:09:17.359Z"
   },
   {
    "duration": 13,
    "start_time": "2024-06-11T09:09:40.179Z"
   },
   {
    "duration": 4,
    "start_time": "2024-06-11T09:09:41.613Z"
   },
   {
    "duration": 3,
    "start_time": "2024-06-11T09:09:44.548Z"
   },
   {
    "duration": 3,
    "start_time": "2024-06-11T09:09:45.727Z"
   },
   {
    "duration": 31,
    "start_time": "2024-06-11T09:09:46.745Z"
   },
   {
    "duration": 13,
    "start_time": "2024-06-11T09:09:50.534Z"
   },
   {
    "duration": 14,
    "start_time": "2024-06-11T09:10:00.083Z"
   },
   {
    "duration": 19,
    "start_time": "2024-06-11T09:10:08.036Z"
   },
   {
    "duration": 154,
    "start_time": "2024-06-11T09:10:52.919Z"
   },
   {
    "duration": 128,
    "start_time": "2024-06-11T09:11:23.391Z"
   },
   {
    "duration": 127,
    "start_time": "2024-06-11T09:12:13.238Z"
   },
   {
    "duration": 26,
    "start_time": "2024-06-11T09:19:31.167Z"
   },
   {
    "duration": 74,
    "start_time": "2024-06-11T09:20:07.245Z"
   },
   {
    "duration": 340,
    "start_time": "2024-06-11T09:20:10.410Z"
   },
   {
    "duration": 372,
    "start_time": "2024-06-11T09:20:17.550Z"
   },
   {
    "duration": 388,
    "start_time": "2024-06-11T09:20:23.094Z"
   },
   {
    "duration": 1939,
    "start_time": "2024-06-11T09:20:43.373Z"
   },
   {
    "duration": 1597,
    "start_time": "2024-06-11T09:22:38.890Z"
   },
   {
    "duration": 1768,
    "start_time": "2024-06-11T09:22:46.626Z"
   },
   {
    "duration": 1678,
    "start_time": "2024-06-11T09:22:52.026Z"
   },
   {
    "duration": 1882,
    "start_time": "2024-06-11T09:23:18.806Z"
   },
   {
    "duration": 1686,
    "start_time": "2024-06-11T09:23:29.435Z"
   },
   {
    "duration": 1854,
    "start_time": "2024-06-11T09:23:37.216Z"
   },
   {
    "duration": 1177,
    "start_time": "2024-06-11T09:24:28.531Z"
   },
   {
    "duration": 1699,
    "start_time": "2024-06-11T09:24:48.114Z"
   },
   {
    "duration": 13,
    "start_time": "2024-06-11T09:25:33.998Z"
   },
   {
    "duration": 24,
    "start_time": "2024-06-11T09:25:44.631Z"
   },
   {
    "duration": 23,
    "start_time": "2024-06-11T09:25:57.759Z"
   },
   {
    "duration": 23,
    "start_time": "2024-06-11T09:26:40.444Z"
   },
   {
    "duration": 6,
    "start_time": "2024-06-11T09:26:56.721Z"
   },
   {
    "duration": 21,
    "start_time": "2024-06-11T09:27:05.645Z"
   },
   {
    "duration": 23,
    "start_time": "2024-06-11T09:28:51.943Z"
   },
   {
    "duration": 26,
    "start_time": "2024-06-11T09:29:21.034Z"
   },
   {
    "duration": 21,
    "start_time": "2024-06-11T09:29:40.397Z"
   },
   {
    "duration": 30,
    "start_time": "2024-06-11T09:30:06.701Z"
   },
   {
    "duration": 616,
    "start_time": "2024-06-11T09:39:33.634Z"
   },
   {
    "duration": 368,
    "start_time": "2024-06-11T09:39:58.418Z"
   },
   {
    "duration": 324,
    "start_time": "2024-06-11T09:42:42.228Z"
   },
   {
    "duration": 398,
    "start_time": "2024-06-11T09:46:22.852Z"
   },
   {
    "duration": 397,
    "start_time": "2024-06-11T09:49:42.131Z"
   },
   {
    "duration": 22,
    "start_time": "2024-06-11T09:51:32.301Z"
   },
   {
    "duration": 407,
    "start_time": "2024-06-11T09:53:00.475Z"
   },
   {
    "duration": 11,
    "start_time": "2024-06-11T09:53:16.648Z"
   },
   {
    "duration": 76,
    "start_time": "2024-06-11T09:53:59.646Z"
   },
   {
    "duration": 20,
    "start_time": "2024-06-11T09:54:02.859Z"
   },
   {
    "duration": 9,
    "start_time": "2024-06-11T09:54:24.465Z"
   },
   {
    "duration": 5,
    "start_time": "2024-06-11T09:57:46.363Z"
   },
   {
    "duration": 4,
    "start_time": "2024-06-11T09:57:54.254Z"
   },
   {
    "duration": 1879,
    "start_time": "2024-06-11T09:58:17.525Z"
   },
   {
    "duration": 27,
    "start_time": "2024-06-11T09:58:32.569Z"
   },
   {
    "duration": 21,
    "start_time": "2024-06-11T09:58:45.005Z"
   },
   {
    "duration": 19,
    "start_time": "2024-06-11T09:58:56.668Z"
   },
   {
    "duration": 19,
    "start_time": "2024-06-11T09:59:04.372Z"
   },
   {
    "duration": 21,
    "start_time": "2024-06-11T09:59:13.188Z"
   },
   {
    "duration": 4,
    "start_time": "2024-06-11T10:13:07.752Z"
   },
   {
    "duration": 5,
    "start_time": "2024-06-11T10:13:07.758Z"
   },
   {
    "duration": 1936,
    "start_time": "2024-06-11T10:13:07.764Z"
   },
   {
    "duration": 4,
    "start_time": "2024-06-11T10:13:09.702Z"
   },
   {
    "duration": 70,
    "start_time": "2024-06-11T10:13:09.708Z"
   },
   {
    "duration": 37,
    "start_time": "2024-06-11T10:13:09.780Z"
   },
   {
    "duration": 39,
    "start_time": "2024-06-11T10:13:09.818Z"
   },
   {
    "duration": 35,
    "start_time": "2024-06-11T10:13:09.859Z"
   },
   {
    "duration": 21,
    "start_time": "2024-06-11T10:13:09.896Z"
   },
   {
    "duration": 47,
    "start_time": "2024-06-11T10:13:09.920Z"
   },
   {
    "duration": 27,
    "start_time": "2024-06-11T10:13:09.970Z"
   },
   {
    "duration": 24,
    "start_time": "2024-06-11T10:13:09.999Z"
   },
   {
    "duration": 28,
    "start_time": "2024-06-11T10:13:10.025Z"
   },
   {
    "duration": 7,
    "start_time": "2024-06-11T10:13:10.058Z"
   },
   {
    "duration": 30,
    "start_time": "2024-06-11T10:13:10.067Z"
   },
   {
    "duration": 14,
    "start_time": "2024-06-11T10:13:10.098Z"
   },
   {
    "duration": 26,
    "start_time": "2024-06-11T10:13:10.114Z"
   },
   {
    "duration": 14,
    "start_time": "2024-06-11T10:13:10.141Z"
   },
   {
    "duration": 9,
    "start_time": "2024-06-11T10:13:10.157Z"
   },
   {
    "duration": 7,
    "start_time": "2024-06-11T10:13:10.167Z"
   },
   {
    "duration": 15,
    "start_time": "2024-06-11T10:13:10.176Z"
   },
   {
    "duration": 34,
    "start_time": "2024-06-11T10:13:10.193Z"
   },
   {
    "duration": 8,
    "start_time": "2024-06-11T10:13:10.229Z"
   },
   {
    "duration": 61,
    "start_time": "2024-06-11T10:13:10.238Z"
   },
   {
    "duration": 50,
    "start_time": "2024-06-11T10:13:10.301Z"
   },
   {
    "duration": 27,
    "start_time": "2024-06-11T10:13:10.353Z"
   },
   {
    "duration": 92,
    "start_time": "2024-06-11T10:13:10.382Z"
   },
   {
    "duration": 25,
    "start_time": "2024-06-11T10:13:10.476Z"
   },
   {
    "duration": 7,
    "start_time": "2024-06-11T10:13:10.502Z"
   },
   {
    "duration": 16,
    "start_time": "2024-06-11T10:13:10.511Z"
   },
   {
    "duration": 33,
    "start_time": "2024-06-11T10:13:10.529Z"
   },
   {
    "duration": 20,
    "start_time": "2024-06-11T10:13:10.564Z"
   },
   {
    "duration": 56,
    "start_time": "2024-06-11T10:13:10.586Z"
   },
   {
    "duration": 260,
    "start_time": "2024-06-11T10:13:10.644Z"
   },
   {
    "duration": 269,
    "start_time": "2024-06-11T10:13:10.906Z"
   },
   {
    "duration": 232,
    "start_time": "2024-06-11T10:13:11.177Z"
   },
   {
    "duration": 260,
    "start_time": "2024-06-11T10:13:11.411Z"
   },
   {
    "duration": 392,
    "start_time": "2024-06-11T10:13:11.673Z"
   },
   {
    "duration": 269,
    "start_time": "2024-06-11T10:13:12.067Z"
   },
   {
    "duration": 244,
    "start_time": "2024-06-11T10:13:12.338Z"
   },
   {
    "duration": 273,
    "start_time": "2024-06-11T10:13:12.587Z"
   },
   {
    "duration": 124,
    "start_time": "2024-06-11T10:13:12.861Z"
   },
   {
    "duration": 109,
    "start_time": "2024-06-11T10:13:12.987Z"
   },
   {
    "duration": 116,
    "start_time": "2024-06-11T10:13:13.098Z"
   },
   {
    "duration": 173,
    "start_time": "2024-06-11T10:13:13.216Z"
   },
   {
    "duration": 13,
    "start_time": "2024-06-11T10:13:13.391Z"
   },
   {
    "duration": 146,
    "start_time": "2024-06-11T10:13:13.406Z"
   },
   {
    "duration": 260,
    "start_time": "2024-06-11T10:13:13.561Z"
   },
   {
    "duration": 6,
    "start_time": "2024-06-11T10:13:13.822Z"
   },
   {
    "duration": 392,
    "start_time": "2024-06-11T10:13:13.831Z"
   },
   {
    "duration": 5,
    "start_time": "2024-06-11T10:13:14.225Z"
   },
   {
    "duration": 254,
    "start_time": "2024-06-11T10:13:14.232Z"
   },
   {
    "duration": 13,
    "start_time": "2024-06-11T10:13:14.488Z"
   },
   {
    "duration": 132,
    "start_time": "2024-06-11T10:13:14.503Z"
   },
   {
    "duration": 247,
    "start_time": "2024-06-11T10:13:14.637Z"
   },
   {
    "duration": 250,
    "start_time": "2024-06-11T10:13:14.886Z"
   },
   {
    "duration": 23,
    "start_time": "2024-06-11T10:13:15.138Z"
   },
   {
    "duration": 25,
    "start_time": "2024-06-11T10:13:15.163Z"
   },
   {
    "duration": 41,
    "start_time": "2024-06-11T10:13:15.190Z"
   },
   {
    "duration": 41,
    "start_time": "2024-06-11T10:13:15.233Z"
   },
   {
    "duration": 40,
    "start_time": "2024-06-11T10:13:15.276Z"
   },
   {
    "duration": 59,
    "start_time": "2024-06-11T10:13:15.319Z"
   },
   {
    "duration": 31,
    "start_time": "2024-06-11T10:13:15.380Z"
   },
   {
    "duration": 4,
    "start_time": "2024-06-11T10:13:15.413Z"
   },
   {
    "duration": 30,
    "start_time": "2024-06-11T10:13:15.419Z"
   },
   {
    "duration": 15,
    "start_time": "2024-06-11T10:13:15.450Z"
   },
   {
    "duration": 17,
    "start_time": "2024-06-11T10:13:15.467Z"
   },
   {
    "duration": 27,
    "start_time": "2024-06-11T10:13:15.486Z"
   },
   {
    "duration": 23,
    "start_time": "2024-06-11T10:13:15.515Z"
   },
   {
    "duration": 44,
    "start_time": "2024-06-11T10:13:15.540Z"
   },
   {
    "duration": 44972,
    "start_time": "2024-06-11T10:13:15.586Z"
   },
   {
    "duration": 1551,
    "start_time": "2024-06-11T10:14:00.561Z"
   },
   {
    "duration": 17,
    "start_time": "2024-06-11T10:14:02.114Z"
   },
   {
    "duration": 17,
    "start_time": "2024-06-11T10:14:02.133Z"
   },
   {
    "duration": 19,
    "start_time": "2024-06-11T10:14:02.151Z"
   },
   {
    "duration": 17,
    "start_time": "2024-06-11T10:14:02.172Z"
   },
   {
    "duration": 1296,
    "start_time": "2024-06-11T10:14:02.191Z"
   },
   {
    "duration": 2220,
    "start_time": "2024-06-11T10:14:03.488Z"
   },
   {
    "duration": 15,
    "start_time": "2024-06-11T10:14:05.710Z"
   },
   {
    "duration": 6,
    "start_time": "2024-06-11T10:14:05.727Z"
   },
   {
    "duration": 19,
    "start_time": "2024-06-11T10:14:05.736Z"
   },
   {
    "duration": 5,
    "start_time": "2024-06-11T10:14:05.762Z"
   },
   {
    "duration": 4,
    "start_time": "2024-06-11T10:14:05.769Z"
   },
   {
    "duration": 7,
    "start_time": "2024-06-11T10:14:05.775Z"
   },
   {
    "duration": 35,
    "start_time": "2024-06-11T10:14:05.784Z"
   },
   {
    "duration": 40,
    "start_time": "2024-06-11T10:14:05.821Z"
   },
   {
    "duration": 20,
    "start_time": "2024-06-11T10:14:05.863Z"
   },
   {
    "duration": 389,
    "start_time": "2024-06-11T10:14:05.885Z"
   },
   {
    "duration": 8,
    "start_time": "2024-06-11T10:14:06.276Z"
   },
   {
    "duration": 30,
    "start_time": "2024-06-11T10:14:06.286Z"
   },
   {
    "duration": 8,
    "start_time": "2024-06-11T10:14:06.319Z"
   },
   {
    "duration": 1793,
    "start_time": "2024-06-11T10:14:06.329Z"
   },
   {
    "duration": 21,
    "start_time": "2024-06-11T10:14:08.123Z"
   },
   {
    "duration": 32,
    "start_time": "2024-06-11T10:14:08.146Z"
   },
   {
    "duration": 23,
    "start_time": "2024-06-11T10:14:08.180Z"
   },
   {
    "duration": 19,
    "start_time": "2024-06-11T10:14:08.205Z"
   },
   {
    "duration": 43,
    "start_time": "2024-06-11T10:14:08.225Z"
   },
   {
    "duration": 1305,
    "start_time": "2024-06-11T10:23:47.628Z"
   },
   {
    "duration": 1329,
    "start_time": "2024-06-11T10:26:36.037Z"
   },
   {
    "duration": 1433,
    "start_time": "2024-06-11T10:28:08.146Z"
   },
   {
    "duration": 5,
    "start_time": "2024-06-11T10:29:05.109Z"
   },
   {
    "duration": 19,
    "start_time": "2024-06-11T10:29:05.116Z"
   },
   {
    "duration": 1962,
    "start_time": "2024-06-11T10:29:05.138Z"
   },
   {
    "duration": 8,
    "start_time": "2024-06-11T10:29:07.104Z"
   },
   {
    "duration": 71,
    "start_time": "2024-06-11T10:29:07.116Z"
   },
   {
    "duration": 53,
    "start_time": "2024-06-11T10:29:07.190Z"
   },
   {
    "duration": 24,
    "start_time": "2024-06-11T10:29:07.245Z"
   },
   {
    "duration": 23,
    "start_time": "2024-06-11T10:29:07.271Z"
   },
   {
    "duration": 17,
    "start_time": "2024-06-11T10:29:07.296Z"
   },
   {
    "duration": 50,
    "start_time": "2024-06-11T10:29:07.315Z"
   },
   {
    "duration": 27,
    "start_time": "2024-06-11T10:29:07.367Z"
   },
   {
    "duration": 24,
    "start_time": "2024-06-11T10:29:07.395Z"
   },
   {
    "duration": 3,
    "start_time": "2024-06-11T10:29:07.422Z"
   },
   {
    "duration": 4,
    "start_time": "2024-06-11T10:29:07.427Z"
   },
   {
    "duration": 28,
    "start_time": "2024-06-11T10:29:07.433Z"
   },
   {
    "duration": 12,
    "start_time": "2024-06-11T10:29:07.463Z"
   },
   {
    "duration": 13,
    "start_time": "2024-06-11T10:29:07.477Z"
   },
   {
    "duration": 6,
    "start_time": "2024-06-11T10:29:07.491Z"
   },
   {
    "duration": 8,
    "start_time": "2024-06-11T10:29:07.499Z"
   },
   {
    "duration": 5,
    "start_time": "2024-06-11T10:29:07.509Z"
   },
   {
    "duration": 6,
    "start_time": "2024-06-11T10:29:07.516Z"
   },
   {
    "duration": 40,
    "start_time": "2024-06-11T10:29:07.523Z"
   },
   {
    "duration": 22,
    "start_time": "2024-06-11T10:29:07.565Z"
   },
   {
    "duration": 24,
    "start_time": "2024-06-11T10:29:07.588Z"
   },
   {
    "duration": 52,
    "start_time": "2024-06-11T10:29:07.614Z"
   },
   {
    "duration": 26,
    "start_time": "2024-06-11T10:29:07.668Z"
   },
   {
    "duration": 21,
    "start_time": "2024-06-11T10:29:07.696Z"
   },
   {
    "duration": 53,
    "start_time": "2024-06-11T10:29:07.719Z"
   },
   {
    "duration": 6,
    "start_time": "2024-06-11T10:29:07.773Z"
   },
   {
    "duration": 18,
    "start_time": "2024-06-11T10:29:07.781Z"
   },
   {
    "duration": 4,
    "start_time": "2024-06-11T10:29:07.801Z"
   },
   {
    "duration": 8,
    "start_time": "2024-06-11T10:29:07.807Z"
   },
   {
    "duration": 61,
    "start_time": "2024-06-11T10:29:07.816Z"
   },
   {
    "duration": 316,
    "start_time": "2024-06-11T10:29:07.879Z"
   },
   {
    "duration": 287,
    "start_time": "2024-06-11T10:29:08.197Z"
   },
   {
    "duration": 266,
    "start_time": "2024-06-11T10:29:08.486Z"
   },
   {
    "duration": 379,
    "start_time": "2024-06-11T10:29:08.763Z"
   },
   {
    "duration": 286,
    "start_time": "2024-06-11T10:29:09.144Z"
   },
   {
    "duration": 261,
    "start_time": "2024-06-11T10:29:09.432Z"
   },
   {
    "duration": 230,
    "start_time": "2024-06-11T10:29:09.695Z"
   },
   {
    "duration": 261,
    "start_time": "2024-06-11T10:29:09.927Z"
   },
   {
    "duration": 136,
    "start_time": "2024-06-11T10:29:10.190Z"
   },
   {
    "duration": 116,
    "start_time": "2024-06-11T10:29:10.328Z"
   },
   {
    "duration": 132,
    "start_time": "2024-06-11T10:29:10.446Z"
   },
   {
    "duration": 193,
    "start_time": "2024-06-11T10:29:10.580Z"
   },
   {
    "duration": 14,
    "start_time": "2024-06-11T10:29:10.774Z"
   },
   {
    "duration": 151,
    "start_time": "2024-06-11T10:29:10.790Z"
   },
   {
    "duration": 268,
    "start_time": "2024-06-11T10:29:10.943Z"
   },
   {
    "duration": 5,
    "start_time": "2024-06-11T10:29:11.213Z"
   },
   {
    "duration": 252,
    "start_time": "2024-06-11T10:29:11.220Z"
   },
   {
    "duration": 4,
    "start_time": "2024-06-11T10:29:11.474Z"
   },
   {
    "duration": 363,
    "start_time": "2024-06-11T10:29:11.479Z"
   },
   {
    "duration": 27,
    "start_time": "2024-06-11T10:29:11.844Z"
   },
   {
    "duration": 154,
    "start_time": "2024-06-11T10:29:11.873Z"
   },
   {
    "duration": 247,
    "start_time": "2024-06-11T10:29:12.029Z"
   },
   {
    "duration": 266,
    "start_time": "2024-06-11T10:29:12.277Z"
   },
   {
    "duration": 28,
    "start_time": "2024-06-11T10:29:12.546Z"
   },
   {
    "duration": 12,
    "start_time": "2024-06-11T10:29:12.576Z"
   },
   {
    "duration": 32,
    "start_time": "2024-06-11T10:29:12.590Z"
   },
   {
    "duration": 21,
    "start_time": "2024-06-11T10:29:12.624Z"
   },
   {
    "duration": 31,
    "start_time": "2024-06-11T10:29:12.647Z"
   },
   {
    "duration": 51,
    "start_time": "2024-06-11T10:29:12.680Z"
   },
   {
    "duration": 14,
    "start_time": "2024-06-11T10:29:12.733Z"
   },
   {
    "duration": 6,
    "start_time": "2024-06-11T10:29:12.749Z"
   },
   {
    "duration": 14,
    "start_time": "2024-06-11T10:29:12.757Z"
   },
   {
    "duration": 6,
    "start_time": "2024-06-11T10:29:12.773Z"
   },
   {
    "duration": 11,
    "start_time": "2024-06-11T10:29:12.780Z"
   },
   {
    "duration": 15,
    "start_time": "2024-06-11T10:29:12.793Z"
   },
   {
    "duration": 23,
    "start_time": "2024-06-11T10:29:12.810Z"
   },
   {
    "duration": 69,
    "start_time": "2024-06-11T10:29:12.835Z"
   },
   {
    "duration": 45520,
    "start_time": "2024-06-11T10:29:12.906Z"
   },
   {
    "duration": 1494,
    "start_time": "2024-06-11T10:29:58.428Z"
   },
   {
    "duration": 18,
    "start_time": "2024-06-11T10:29:59.924Z"
   },
   {
    "duration": 23,
    "start_time": "2024-06-11T10:29:59.944Z"
   },
   {
    "duration": 8,
    "start_time": "2024-06-11T10:29:59.969Z"
   },
   {
    "duration": 11,
    "start_time": "2024-06-11T10:29:59.979Z"
   },
   {
    "duration": 1364,
    "start_time": "2024-06-11T10:29:59.992Z"
   },
   {
    "duration": 2207,
    "start_time": "2024-06-11T10:30:01.361Z"
   },
   {
    "duration": 15,
    "start_time": "2024-06-11T10:30:03.570Z"
   },
   {
    "duration": 11,
    "start_time": "2024-06-11T10:30:03.586Z"
   },
   {
    "duration": 4,
    "start_time": "2024-06-11T10:30:03.599Z"
   },
   {
    "duration": 6,
    "start_time": "2024-06-11T10:30:03.605Z"
   },
   {
    "duration": 6,
    "start_time": "2024-06-11T10:30:03.613Z"
   },
   {
    "duration": 4,
    "start_time": "2024-06-11T10:30:03.621Z"
   },
   {
    "duration": 46,
    "start_time": "2024-06-11T10:30:03.627Z"
   },
   {
    "duration": 35,
    "start_time": "2024-06-11T10:30:03.675Z"
   },
   {
    "duration": 31,
    "start_time": "2024-06-11T10:30:03.713Z"
   },
   {
    "duration": 430,
    "start_time": "2024-06-11T10:30:03.762Z"
   },
   {
    "duration": 12,
    "start_time": "2024-06-11T10:30:04.194Z"
   },
   {
    "duration": 23,
    "start_time": "2024-06-11T10:30:04.208Z"
   },
   {
    "duration": 11,
    "start_time": "2024-06-11T10:30:04.233Z"
   },
   {
    "duration": 1804,
    "start_time": "2024-06-11T10:30:04.246Z"
   },
   {
    "duration": 29,
    "start_time": "2024-06-11T10:30:06.052Z"
   },
   {
    "duration": 33,
    "start_time": "2024-06-11T10:30:06.083Z"
   },
   {
    "duration": 23,
    "start_time": "2024-06-11T10:30:06.119Z"
   },
   {
    "duration": 53,
    "start_time": "2024-06-11T10:30:06.144Z"
   },
   {
    "duration": 20,
    "start_time": "2024-06-11T10:30:06.199Z"
   },
   {
    "duration": 3,
    "start_time": "2024-06-11T14:34:13.640Z"
   },
   {
    "duration": 32,
    "start_time": "2024-06-11T14:34:13.645Z"
   },
   {
    "duration": 2003,
    "start_time": "2024-06-11T14:34:13.678Z"
   },
   {
    "duration": 4,
    "start_time": "2024-06-11T14:34:15.683Z"
   },
   {
    "duration": 40,
    "start_time": "2024-06-11T14:34:15.690Z"
   },
   {
    "duration": 47,
    "start_time": "2024-06-11T14:34:15.732Z"
   },
   {
    "duration": 22,
    "start_time": "2024-06-11T14:34:15.782Z"
   },
   {
    "duration": 41,
    "start_time": "2024-06-11T14:34:15.806Z"
   },
   {
    "duration": 58,
    "start_time": "2024-06-11T14:34:15.849Z"
   },
   {
    "duration": 27,
    "start_time": "2024-06-11T14:34:15.910Z"
   },
   {
    "duration": 38,
    "start_time": "2024-06-11T14:34:15.939Z"
   },
   {
    "duration": 20,
    "start_time": "2024-06-11T14:34:15.979Z"
   },
   {
    "duration": 13,
    "start_time": "2024-06-11T14:34:16.000Z"
   },
   {
    "duration": 5,
    "start_time": "2024-06-11T14:34:16.017Z"
   },
   {
    "duration": 4,
    "start_time": "2024-06-11T14:34:16.023Z"
   },
   {
    "duration": 4,
    "start_time": "2024-06-11T14:34:16.029Z"
   },
   {
    "duration": 15,
    "start_time": "2024-06-11T14:34:16.035Z"
   },
   {
    "duration": 13,
    "start_time": "2024-06-11T14:34:16.051Z"
   },
   {
    "duration": 8,
    "start_time": "2024-06-11T14:34:16.068Z"
   },
   {
    "duration": 11,
    "start_time": "2024-06-11T14:34:16.078Z"
   },
   {
    "duration": 13,
    "start_time": "2024-06-11T14:34:16.091Z"
   },
   {
    "duration": 9,
    "start_time": "2024-06-11T14:34:16.107Z"
   },
   {
    "duration": 5,
    "start_time": "2024-06-11T14:34:16.117Z"
   },
   {
    "duration": 4,
    "start_time": "2024-06-11T14:34:16.124Z"
   },
   {
    "duration": 65,
    "start_time": "2024-06-11T14:34:16.132Z"
   },
   {
    "duration": 25,
    "start_time": "2024-06-11T14:34:16.198Z"
   },
   {
    "duration": 46,
    "start_time": "2024-06-11T14:34:16.225Z"
   },
   {
    "duration": 26,
    "start_time": "2024-06-11T14:34:16.274Z"
   },
   {
    "duration": 6,
    "start_time": "2024-06-11T14:34:16.302Z"
   },
   {
    "duration": 17,
    "start_time": "2024-06-11T14:34:16.310Z"
   },
   {
    "duration": 40,
    "start_time": "2024-06-11T14:34:16.329Z"
   },
   {
    "duration": 10,
    "start_time": "2024-06-11T14:34:16.370Z"
   },
   {
    "duration": 37,
    "start_time": "2024-06-11T14:34:16.382Z"
   },
   {
    "duration": 285,
    "start_time": "2024-06-11T14:34:16.420Z"
   },
   {
    "duration": 277,
    "start_time": "2024-06-11T14:34:16.706Z"
   },
   {
    "duration": 270,
    "start_time": "2024-06-11T14:34:16.985Z"
   },
   {
    "duration": 256,
    "start_time": "2024-06-11T14:34:17.256Z"
   },
   {
    "duration": 384,
    "start_time": "2024-06-11T14:34:17.513Z"
   },
   {
    "duration": 299,
    "start_time": "2024-06-11T14:34:17.899Z"
   },
   {
    "duration": 230,
    "start_time": "2024-06-11T14:34:18.200Z"
   },
   {
    "duration": 263,
    "start_time": "2024-06-11T14:34:18.434Z"
   },
   {
    "duration": 134,
    "start_time": "2024-06-11T14:34:18.699Z"
   },
   {
    "duration": 113,
    "start_time": "2024-06-11T14:34:18.834Z"
   },
   {
    "duration": 128,
    "start_time": "2024-06-11T14:34:18.949Z"
   },
   {
    "duration": 200,
    "start_time": "2024-06-11T14:34:19.079Z"
   },
   {
    "duration": 13,
    "start_time": "2024-06-11T14:34:19.280Z"
   },
   {
    "duration": 140,
    "start_time": "2024-06-11T14:34:19.294Z"
   },
   {
    "duration": 262,
    "start_time": "2024-06-11T14:34:19.436Z"
   },
   {
    "duration": 5,
    "start_time": "2024-06-11T14:34:19.700Z"
   },
   {
    "duration": 412,
    "start_time": "2024-06-11T14:34:19.707Z"
   },
   {
    "duration": 4,
    "start_time": "2024-06-11T14:34:20.121Z"
   },
   {
    "duration": 259,
    "start_time": "2024-06-11T14:34:20.127Z"
   },
   {
    "duration": 12,
    "start_time": "2024-06-11T14:34:20.388Z"
   },
   {
    "duration": 141,
    "start_time": "2024-06-11T14:34:20.401Z"
   },
   {
    "duration": 252,
    "start_time": "2024-06-11T14:34:20.544Z"
   },
   {
    "duration": 279,
    "start_time": "2024-06-11T14:34:20.798Z"
   },
   {
    "duration": 22,
    "start_time": "2024-06-11T14:34:21.079Z"
   },
   {
    "duration": 18,
    "start_time": "2024-06-11T14:34:21.103Z"
   },
   {
    "duration": 28,
    "start_time": "2024-06-11T14:34:21.123Z"
   },
   {
    "duration": 9,
    "start_time": "2024-06-11T14:34:21.153Z"
   },
   {
    "duration": 20,
    "start_time": "2024-06-11T14:34:21.170Z"
   },
   {
    "duration": 46,
    "start_time": "2024-06-11T14:34:21.192Z"
   },
   {
    "duration": 16,
    "start_time": "2024-06-11T14:34:21.241Z"
   },
   {
    "duration": 20,
    "start_time": "2024-06-11T14:34:21.259Z"
   },
   {
    "duration": 32,
    "start_time": "2024-06-11T14:34:21.282Z"
   },
   {
    "duration": 21,
    "start_time": "2024-06-11T14:34:21.315Z"
   },
   {
    "duration": 16,
    "start_time": "2024-06-11T14:34:21.338Z"
   },
   {
    "duration": 17,
    "start_time": "2024-06-11T14:34:21.356Z"
   },
   {
    "duration": 7,
    "start_time": "2024-06-11T14:34:21.378Z"
   },
   {
    "duration": 44,
    "start_time": "2024-06-11T14:34:21.387Z"
   },
   {
    "duration": 46593,
    "start_time": "2024-06-11T14:34:21.433Z"
   },
   {
    "duration": 1481,
    "start_time": "2024-06-11T14:35:08.029Z"
   },
   {
    "duration": 17,
    "start_time": "2024-06-11T14:35:09.512Z"
   },
   {
    "duration": 7,
    "start_time": "2024-06-11T14:35:09.530Z"
   },
   {
    "duration": 27,
    "start_time": "2024-06-11T14:35:09.539Z"
   },
   {
    "duration": 5,
    "start_time": "2024-06-11T14:35:09.576Z"
   },
   {
    "duration": 1324,
    "start_time": "2024-06-11T14:35:09.583Z"
   },
   {
    "duration": 2107,
    "start_time": "2024-06-11T14:35:10.909Z"
   },
   {
    "duration": 14,
    "start_time": "2024-06-11T14:35:13.018Z"
   },
   {
    "duration": 4,
    "start_time": "2024-06-11T14:35:13.033Z"
   },
   {
    "duration": 33,
    "start_time": "2024-06-11T14:35:13.039Z"
   },
   {
    "duration": 3,
    "start_time": "2024-06-11T14:35:13.076Z"
   },
   {
    "duration": 6,
    "start_time": "2024-06-11T14:35:13.081Z"
   },
   {
    "duration": 5,
    "start_time": "2024-06-11T14:35:13.088Z"
   },
   {
    "duration": 20,
    "start_time": "2024-06-11T14:35:13.095Z"
   },
   {
    "duration": 16,
    "start_time": "2024-06-11T14:35:13.117Z"
   },
   {
    "duration": 46,
    "start_time": "2024-06-11T14:35:13.135Z"
   },
   {
    "duration": 438,
    "start_time": "2024-06-11T14:35:13.183Z"
   },
   {
    "duration": 9,
    "start_time": "2024-06-11T14:35:13.623Z"
   },
   {
    "duration": 5,
    "start_time": "2024-06-11T14:35:13.633Z"
   },
   {
    "duration": 25,
    "start_time": "2024-06-11T14:35:13.640Z"
   },
   {
    "duration": 1745,
    "start_time": "2024-06-11T14:35:13.666Z"
   },
   {
    "duration": 19,
    "start_time": "2024-06-11T14:35:15.413Z"
   },
   {
    "duration": 40,
    "start_time": "2024-06-11T14:35:15.433Z"
   },
   {
    "duration": 18,
    "start_time": "2024-06-11T14:35:15.475Z"
   },
   {
    "duration": 19,
    "start_time": "2024-06-11T14:35:15.495Z"
   },
   {
    "duration": 31,
    "start_time": "2024-06-11T14:35:15.515Z"
   },
   {
    "duration": 10,
    "start_time": "2024-06-11T14:37:33.420Z"
   },
   {
    "duration": 3,
    "start_time": "2024-06-11T14:38:55.374Z"
   },
   {
    "duration": 6,
    "start_time": "2024-06-11T14:38:55.379Z"
   },
   {
    "duration": 7,
    "start_time": "2024-06-11T14:38:55.387Z"
   },
   {
    "duration": 4,
    "start_time": "2024-06-11T14:38:55.395Z"
   },
   {
    "duration": 32,
    "start_time": "2024-06-11T14:38:55.401Z"
   },
   {
    "duration": 55,
    "start_time": "2024-06-11T14:38:55.434Z"
   },
   {
    "duration": 18,
    "start_time": "2024-06-11T14:38:55.491Z"
   },
   {
    "duration": 23,
    "start_time": "2024-06-11T14:38:55.511Z"
   },
   {
    "duration": 17,
    "start_time": "2024-06-11T14:38:55.536Z"
   },
   {
    "duration": 30,
    "start_time": "2024-06-11T14:38:55.564Z"
   },
   {
    "duration": 27,
    "start_time": "2024-06-11T14:38:55.596Z"
   },
   {
    "duration": 36,
    "start_time": "2024-06-11T14:38:55.625Z"
   },
   {
    "duration": 24,
    "start_time": "2024-06-11T14:38:55.663Z"
   },
   {
    "duration": 38,
    "start_time": "2024-06-11T14:38:55.690Z"
   },
   {
    "duration": 29,
    "start_time": "2024-06-11T14:38:55.729Z"
   },
   {
    "duration": 20,
    "start_time": "2024-06-11T14:38:55.760Z"
   },
   {
    "duration": 28,
    "start_time": "2024-06-11T14:38:55.781Z"
   },
   {
    "duration": 35,
    "start_time": "2024-06-11T14:38:55.810Z"
   },
   {
    "duration": 68,
    "start_time": "2024-06-11T14:38:55.847Z"
   },
   {
    "duration": 31,
    "start_time": "2024-06-11T14:38:55.917Z"
   },
   {
    "duration": 30,
    "start_time": "2024-06-11T14:38:55.950Z"
   },
   {
    "duration": 26,
    "start_time": "2024-06-11T14:38:55.981Z"
   },
   {
    "duration": 31,
    "start_time": "2024-06-11T14:38:56.009Z"
   },
   {
    "duration": 39,
    "start_time": "2024-06-11T14:38:56.041Z"
   },
   {
    "duration": 46,
    "start_time": "2024-06-11T14:38:56.081Z"
   },
   {
    "duration": 45,
    "start_time": "2024-06-11T14:38:56.129Z"
   },
   {
    "duration": 44,
    "start_time": "2024-06-11T14:38:56.176Z"
   },
   {
    "duration": 21,
    "start_time": "2024-06-11T14:38:56.222Z"
   },
   {
    "duration": 25,
    "start_time": "2024-06-11T14:38:56.245Z"
   },
   {
    "duration": 38,
    "start_time": "2024-06-11T14:38:56.272Z"
   },
   {
    "duration": 24,
    "start_time": "2024-06-11T14:38:56.312Z"
   },
   {
    "duration": 40,
    "start_time": "2024-06-11T14:38:56.338Z"
   },
   {
    "duration": 62,
    "start_time": "2024-06-11T14:38:56.379Z"
   },
   {
    "duration": 273,
    "start_time": "2024-06-11T14:38:56.443Z"
   },
   {
    "duration": 311,
    "start_time": "2024-06-11T14:38:56.717Z"
   },
   {
    "duration": 323,
    "start_time": "2024-06-11T14:38:57.030Z"
   },
   {
    "duration": 796,
    "start_time": "2024-06-11T14:38:57.355Z"
   },
   {
    "duration": 271,
    "start_time": "2024-06-11T14:38:58.153Z"
   },
   {
    "duration": 252,
    "start_time": "2024-06-11T14:38:58.426Z"
   },
   {
    "duration": 232,
    "start_time": "2024-06-11T14:38:58.680Z"
   },
   {
    "duration": 278,
    "start_time": "2024-06-11T14:38:58.917Z"
   },
   {
    "duration": 135,
    "start_time": "2024-06-11T14:38:59.197Z"
   },
   {
    "duration": 126,
    "start_time": "2024-06-11T14:38:59.334Z"
   },
   {
    "duration": 126,
    "start_time": "2024-06-11T14:38:59.462Z"
   },
   {
    "duration": 183,
    "start_time": "2024-06-11T14:38:59.590Z"
   },
   {
    "duration": 15,
    "start_time": "2024-06-11T14:38:59.775Z"
   },
   {
    "duration": 141,
    "start_time": "2024-06-11T14:38:59.792Z"
   },
   {
    "duration": 367,
    "start_time": "2024-06-11T14:38:59.934Z"
   },
   {
    "duration": 4,
    "start_time": "2024-06-11T14:39:00.303Z"
   },
   {
    "duration": 305,
    "start_time": "2024-06-11T14:39:00.308Z"
   },
   {
    "duration": 5,
    "start_time": "2024-06-11T14:39:00.615Z"
   },
   {
    "duration": 290,
    "start_time": "2024-06-11T14:39:00.621Z"
   },
   {
    "duration": 14,
    "start_time": "2024-06-11T14:39:00.913Z"
   },
   {
    "duration": 155,
    "start_time": "2024-06-11T14:39:00.930Z"
   },
   {
    "duration": 289,
    "start_time": "2024-06-11T14:39:01.087Z"
   },
   {
    "duration": 250,
    "start_time": "2024-06-11T14:39:01.377Z"
   },
   {
    "duration": 14,
    "start_time": "2024-06-11T14:39:01.629Z"
   },
   {
    "duration": 129,
    "start_time": "2024-06-11T14:39:01.645Z"
   },
   {
    "duration": 115,
    "start_time": "2024-06-11T14:39:01.775Z"
   },
   {
    "duration": 35,
    "start_time": "2024-06-11T14:39:01.892Z"
   },
   {
    "duration": 56,
    "start_time": "2024-06-11T14:39:01.928Z"
   },
   {
    "duration": 34,
    "start_time": "2024-06-11T14:39:01.985Z"
   },
   {
    "duration": 31,
    "start_time": "2024-06-11T14:39:02.021Z"
   },
   {
    "duration": 41,
    "start_time": "2024-06-11T14:39:02.054Z"
   },
   {
    "duration": 44,
    "start_time": "2024-06-11T14:39:02.097Z"
   },
   {
    "duration": 28,
    "start_time": "2024-06-11T14:39:02.143Z"
   },
   {
    "duration": 28,
    "start_time": "2024-06-11T14:39:02.173Z"
   },
   {
    "duration": 47,
    "start_time": "2024-06-11T14:39:02.203Z"
   },
   {
    "duration": 37,
    "start_time": "2024-06-11T14:39:02.252Z"
   },
   {
    "duration": 48,
    "start_time": "2024-06-11T14:39:02.291Z"
   },
   {
    "duration": 12,
    "start_time": "2024-06-11T14:39:09.894Z"
   },
   {
    "duration": 28,
    "start_time": "2024-06-11T14:42:19.770Z"
   },
   {
    "duration": 34,
    "start_time": "2024-06-11T14:42:30.358Z"
   },
   {
    "duration": 6,
    "start_time": "2024-06-11T14:42:42.809Z"
   },
   {
    "duration": 36,
    "start_time": "2024-06-11T14:42:45.043Z"
   },
   {
    "duration": 42,
    "start_time": "2024-06-11T14:46:37.071Z"
   },
   {
    "duration": 43810,
    "start_time": "2024-06-11T14:46:37.115Z"
   },
   {
    "duration": 1481,
    "start_time": "2024-06-11T14:47:20.927Z"
   },
   {
    "duration": 18,
    "start_time": "2024-06-11T14:47:22.411Z"
   },
   {
    "duration": 29,
    "start_time": "2024-06-11T14:47:22.432Z"
   },
   {
    "duration": 8,
    "start_time": "2024-06-11T14:47:22.463Z"
   },
   {
    "duration": 19,
    "start_time": "2024-06-11T14:47:22.472Z"
   },
   {
    "duration": 1235,
    "start_time": "2024-06-11T14:47:22.493Z"
   },
   {
    "duration": 1836,
    "start_time": "2024-06-11T14:47:23.730Z"
   },
   {
    "duration": 15,
    "start_time": "2024-06-11T14:47:25.568Z"
   },
   {
    "duration": 6,
    "start_time": "2024-06-11T14:47:25.585Z"
   },
   {
    "duration": 9,
    "start_time": "2024-06-11T14:47:25.593Z"
   },
   {
    "duration": 6,
    "start_time": "2024-06-11T14:47:25.604Z"
   },
   {
    "duration": 15,
    "start_time": "2024-06-11T14:47:25.613Z"
   },
   {
    "duration": 33,
    "start_time": "2024-06-11T14:47:25.630Z"
   },
   {
    "duration": 20,
    "start_time": "2024-06-11T14:47:25.665Z"
   },
   {
    "duration": 15,
    "start_time": "2024-06-11T14:47:25.687Z"
   },
   {
    "duration": 18,
    "start_time": "2024-06-11T14:47:25.704Z"
   },
   {
    "duration": 439,
    "start_time": "2024-06-11T14:47:25.724Z"
   },
   {
    "duration": 8,
    "start_time": "2024-06-11T14:47:26.165Z"
   },
   {
    "duration": 12,
    "start_time": "2024-06-11T14:47:26.175Z"
   },
   {
    "duration": 7,
    "start_time": "2024-06-11T14:47:26.188Z"
   },
   {
    "duration": 1814,
    "start_time": "2024-06-11T14:47:26.196Z"
   },
   {
    "duration": 19,
    "start_time": "2024-06-11T14:47:28.012Z"
   },
   {
    "duration": 38,
    "start_time": "2024-06-11T14:47:28.033Z"
   },
   {
    "duration": 19,
    "start_time": "2024-06-11T14:47:28.072Z"
   },
   {
    "duration": 19,
    "start_time": "2024-06-11T14:47:28.092Z"
   },
   {
    "duration": 49,
    "start_time": "2024-06-11T14:47:28.113Z"
   },
   {
    "duration": 2288,
    "start_time": "2024-06-11T14:55:01.779Z"
   },
   {
    "duration": 19,
    "start_time": "2024-06-11T14:55:48.981Z"
   },
   {
    "duration": 19,
    "start_time": "2024-06-11T14:56:51.194Z"
   },
   {
    "duration": 5,
    "start_time": "2024-06-11T15:02:52.323Z"
   },
   {
    "duration": 5,
    "start_time": "2024-06-11T15:02:52.331Z"
   },
   {
    "duration": 1942,
    "start_time": "2024-06-11T15:02:52.338Z"
   },
   {
    "duration": 4,
    "start_time": "2024-06-11T15:02:54.282Z"
   },
   {
    "duration": 49,
    "start_time": "2024-06-11T15:02:54.288Z"
   },
   {
    "duration": 39,
    "start_time": "2024-06-11T15:02:54.339Z"
   },
   {
    "duration": 18,
    "start_time": "2024-06-11T15:02:54.380Z"
   },
   {
    "duration": 30,
    "start_time": "2024-06-11T15:02:54.399Z"
   },
   {
    "duration": 17,
    "start_time": "2024-06-11T15:02:54.431Z"
   },
   {
    "duration": 29,
    "start_time": "2024-06-11T15:02:54.450Z"
   },
   {
    "duration": 36,
    "start_time": "2024-06-11T15:02:54.481Z"
   },
   {
    "duration": 31,
    "start_time": "2024-06-11T15:02:54.519Z"
   },
   {
    "duration": 4,
    "start_time": "2024-06-11T15:02:54.552Z"
   },
   {
    "duration": 25,
    "start_time": "2024-06-11T15:02:54.560Z"
   },
   {
    "duration": 20,
    "start_time": "2024-06-11T15:02:54.588Z"
   },
   {
    "duration": 19,
    "start_time": "2024-06-11T15:02:54.610Z"
   },
   {
    "duration": 15,
    "start_time": "2024-06-11T15:02:54.631Z"
   },
   {
    "duration": 24,
    "start_time": "2024-06-11T15:02:54.648Z"
   },
   {
    "duration": 23,
    "start_time": "2024-06-11T15:02:54.673Z"
   },
   {
    "duration": 30,
    "start_time": "2024-06-11T15:02:54.698Z"
   },
   {
    "duration": 55,
    "start_time": "2024-06-11T15:02:54.730Z"
   },
   {
    "duration": 14,
    "start_time": "2024-06-11T15:02:54.786Z"
   },
   {
    "duration": 16,
    "start_time": "2024-06-11T15:02:54.801Z"
   },
   {
    "duration": 9,
    "start_time": "2024-06-11T15:02:54.818Z"
   },
   {
    "duration": 38,
    "start_time": "2024-06-11T15:02:54.829Z"
   },
   {
    "duration": 29,
    "start_time": "2024-06-11T15:02:54.868Z"
   },
   {
    "duration": 25,
    "start_time": "2024-06-11T15:02:54.898Z"
   },
   {
    "duration": 47,
    "start_time": "2024-06-11T15:02:54.925Z"
   },
   {
    "duration": 40,
    "start_time": "2024-06-11T15:02:54.973Z"
   },
   {
    "duration": 33,
    "start_time": "2024-06-11T15:02:55.015Z"
   },
   {
    "duration": 35,
    "start_time": "2024-06-11T15:02:55.050Z"
   },
   {
    "duration": 56,
    "start_time": "2024-06-11T15:02:55.086Z"
   },
   {
    "duration": 67,
    "start_time": "2024-06-11T15:02:55.144Z"
   },
   {
    "duration": 297,
    "start_time": "2024-06-11T15:02:55.213Z"
   },
   {
    "duration": 281,
    "start_time": "2024-06-11T15:02:55.511Z"
   },
   {
    "duration": 256,
    "start_time": "2024-06-11T15:02:55.794Z"
   },
   {
    "duration": 270,
    "start_time": "2024-06-11T15:02:56.053Z"
   },
   {
    "duration": 364,
    "start_time": "2024-06-11T15:02:56.326Z"
   },
   {
    "duration": 242,
    "start_time": "2024-06-11T15:02:56.692Z"
   },
   {
    "duration": 282,
    "start_time": "2024-06-11T15:02:56.935Z"
   },
   {
    "duration": 256,
    "start_time": "2024-06-11T15:02:57.222Z"
   },
   {
    "duration": 129,
    "start_time": "2024-06-11T15:02:57.480Z"
   },
   {
    "duration": 111,
    "start_time": "2024-06-11T15:02:57.611Z"
   },
   {
    "duration": 119,
    "start_time": "2024-06-11T15:02:57.724Z"
   },
   {
    "duration": 182,
    "start_time": "2024-06-11T15:02:57.844Z"
   },
   {
    "duration": 14,
    "start_time": "2024-06-11T15:02:58.028Z"
   },
   {
    "duration": 151,
    "start_time": "2024-06-11T15:02:58.061Z"
   },
   {
    "duration": 242,
    "start_time": "2024-06-11T15:02:58.214Z"
   },
   {
    "duration": 5,
    "start_time": "2024-06-11T15:02:58.460Z"
   },
   {
    "duration": 379,
    "start_time": "2024-06-11T15:02:58.467Z"
   },
   {
    "duration": 13,
    "start_time": "2024-06-11T15:02:58.848Z"
   },
   {
    "duration": 264,
    "start_time": "2024-06-11T15:02:58.862Z"
   },
   {
    "duration": 13,
    "start_time": "2024-06-11T15:02:59.128Z"
   },
   {
    "duration": 136,
    "start_time": "2024-06-11T15:02:59.142Z"
   },
   {
    "duration": 253,
    "start_time": "2024-06-11T15:02:59.280Z"
   },
   {
    "duration": 269,
    "start_time": "2024-06-11T15:02:59.536Z"
   },
   {
    "duration": 16,
    "start_time": "2024-06-11T15:02:59.807Z"
   },
   {
    "duration": 29,
    "start_time": "2024-06-11T15:02:59.825Z"
   },
   {
    "duration": 26,
    "start_time": "2024-06-11T15:02:59.856Z"
   },
   {
    "duration": 26,
    "start_time": "2024-06-11T15:02:59.884Z"
   },
   {
    "duration": 38,
    "start_time": "2024-06-11T15:02:59.912Z"
   },
   {
    "duration": 37,
    "start_time": "2024-06-11T15:02:59.952Z"
   },
   {
    "duration": 45,
    "start_time": "2024-06-11T15:02:59.991Z"
   },
   {
    "duration": 44,
    "start_time": "2024-06-11T15:03:00.038Z"
   },
   {
    "duration": 55,
    "start_time": "2024-06-11T15:03:00.083Z"
   },
   {
    "duration": 37,
    "start_time": "2024-06-11T15:03:00.140Z"
   },
   {
    "duration": 104,
    "start_time": "2024-06-11T15:03:00.179Z"
   },
   {
    "duration": 54,
    "start_time": "2024-06-11T15:03:00.285Z"
   },
   {
    "duration": 64,
    "start_time": "2024-06-11T15:03:00.341Z"
   },
   {
    "duration": 67,
    "start_time": "2024-06-11T15:03:00.406Z"
   },
   {
    "duration": 73,
    "start_time": "2024-06-11T15:03:00.475Z"
   },
   {
    "duration": 45444,
    "start_time": "2024-06-11T15:03:00.550Z"
   },
   {
    "duration": 1544,
    "start_time": "2024-06-11T15:03:45.996Z"
   },
   {
    "duration": 20,
    "start_time": "2024-06-11T15:03:47.542Z"
   },
   {
    "duration": 25,
    "start_time": "2024-06-11T15:03:47.563Z"
   },
   {
    "duration": 17,
    "start_time": "2024-06-11T15:03:47.589Z"
   },
   {
    "duration": 6,
    "start_time": "2024-06-11T15:03:47.608Z"
   },
   {
    "duration": 1242,
    "start_time": "2024-06-11T15:03:47.615Z"
   },
   {
    "duration": 1851,
    "start_time": "2024-06-11T15:03:48.861Z"
   },
   {
    "duration": 12,
    "start_time": "2024-06-11T15:03:50.713Z"
   },
   {
    "duration": 32,
    "start_time": "2024-06-11T15:03:50.727Z"
   },
   {
    "duration": 9,
    "start_time": "2024-06-11T15:03:50.760Z"
   },
   {
    "duration": 20,
    "start_time": "2024-06-11T15:03:50.771Z"
   },
   {
    "duration": 16,
    "start_time": "2024-06-11T15:03:50.793Z"
   },
   {
    "duration": 17,
    "start_time": "2024-06-11T15:03:50.811Z"
   },
   {
    "duration": 43,
    "start_time": "2024-06-11T15:03:50.830Z"
   },
   {
    "duration": 50,
    "start_time": "2024-06-11T15:03:50.874Z"
   },
   {
    "duration": 31,
    "start_time": "2024-06-11T15:03:50.926Z"
   },
   {
    "duration": 406,
    "start_time": "2024-06-11T15:03:50.958Z"
   },
   {
    "duration": 8,
    "start_time": "2024-06-11T15:03:51.366Z"
   },
   {
    "duration": 22,
    "start_time": "2024-06-11T15:03:51.375Z"
   },
   {
    "duration": 17,
    "start_time": "2024-06-11T15:03:51.399Z"
   },
   {
    "duration": 2215,
    "start_time": "2024-06-11T15:03:51.417Z"
   },
   {
    "duration": 42,
    "start_time": "2024-06-11T15:03:53.633Z"
   },
   {
    "duration": 30,
    "start_time": "2024-06-11T15:03:53.677Z"
   },
   {
    "duration": 45,
    "start_time": "2024-06-11T15:03:53.709Z"
   },
   {
    "duration": 58,
    "start_time": "2024-06-11T15:03:53.756Z"
   },
   {
    "duration": 36,
    "start_time": "2024-06-11T15:03:53.816Z"
   },
   {
    "duration": 3,
    "start_time": "2024-06-13T17:36:27.057Z"
   },
   {
    "duration": 5,
    "start_time": "2024-06-13T17:36:27.062Z"
   },
   {
    "duration": 1307,
    "start_time": "2024-06-13T17:36:27.068Z"
   },
   {
    "duration": 0,
    "start_time": "2024-06-13T17:36:28.378Z"
   },
   {
    "duration": 0,
    "start_time": "2024-06-13T17:36:28.379Z"
   },
   {
    "duration": 0,
    "start_time": "2024-06-13T17:36:28.380Z"
   },
   {
    "duration": 0,
    "start_time": "2024-06-13T17:36:28.381Z"
   },
   {
    "duration": 0,
    "start_time": "2024-06-13T17:36:28.382Z"
   },
   {
    "duration": 0,
    "start_time": "2024-06-13T17:36:28.383Z"
   },
   {
    "duration": 0,
    "start_time": "2024-06-13T17:36:28.383Z"
   },
   {
    "duration": 0,
    "start_time": "2024-06-13T17:36:28.384Z"
   },
   {
    "duration": 0,
    "start_time": "2024-06-13T17:36:28.384Z"
   },
   {
    "duration": 0,
    "start_time": "2024-06-13T17:36:28.389Z"
   },
   {
    "duration": 0,
    "start_time": "2024-06-13T17:36:28.390Z"
   },
   {
    "duration": 0,
    "start_time": "2024-06-13T17:36:28.390Z"
   },
   {
    "duration": 0,
    "start_time": "2024-06-13T17:36:28.391Z"
   },
   {
    "duration": 0,
    "start_time": "2024-06-13T17:36:28.392Z"
   },
   {
    "duration": 0,
    "start_time": "2024-06-13T17:36:28.392Z"
   },
   {
    "duration": 0,
    "start_time": "2024-06-13T17:36:28.393Z"
   },
   {
    "duration": 0,
    "start_time": "2024-06-13T17:36:28.394Z"
   },
   {
    "duration": 0,
    "start_time": "2024-06-13T17:36:28.394Z"
   },
   {
    "duration": 0,
    "start_time": "2024-06-13T17:36:28.395Z"
   },
   {
    "duration": 0,
    "start_time": "2024-06-13T17:36:28.395Z"
   },
   {
    "duration": 0,
    "start_time": "2024-06-13T17:36:28.396Z"
   },
   {
    "duration": 0,
    "start_time": "2024-06-13T17:36:28.397Z"
   },
   {
    "duration": 0,
    "start_time": "2024-06-13T17:36:28.397Z"
   },
   {
    "duration": 0,
    "start_time": "2024-06-13T17:36:28.398Z"
   },
   {
    "duration": 0,
    "start_time": "2024-06-13T17:36:28.399Z"
   },
   {
    "duration": 0,
    "start_time": "2024-06-13T17:36:28.399Z"
   },
   {
    "duration": 0,
    "start_time": "2024-06-13T17:36:28.400Z"
   },
   {
    "duration": 0,
    "start_time": "2024-06-13T17:36:28.401Z"
   },
   {
    "duration": 0,
    "start_time": "2024-06-13T17:36:28.402Z"
   },
   {
    "duration": 0,
    "start_time": "2024-06-13T17:36:28.403Z"
   },
   {
    "duration": 0,
    "start_time": "2024-06-13T17:36:28.404Z"
   },
   {
    "duration": 0,
    "start_time": "2024-06-13T17:36:28.406Z"
   },
   {
    "duration": 0,
    "start_time": "2024-06-13T17:36:28.407Z"
   },
   {
    "duration": 0,
    "start_time": "2024-06-13T17:36:28.408Z"
   },
   {
    "duration": 0,
    "start_time": "2024-06-13T17:36:28.409Z"
   },
   {
    "duration": 0,
    "start_time": "2024-06-13T17:36:28.410Z"
   },
   {
    "duration": 0,
    "start_time": "2024-06-13T17:36:28.411Z"
   },
   {
    "duration": 0,
    "start_time": "2024-06-13T17:36:28.412Z"
   },
   {
    "duration": 0,
    "start_time": "2024-06-13T17:36:28.413Z"
   },
   {
    "duration": 0,
    "start_time": "2024-06-13T17:36:28.414Z"
   },
   {
    "duration": 0,
    "start_time": "2024-06-13T17:36:28.415Z"
   },
   {
    "duration": 0,
    "start_time": "2024-06-13T17:36:28.416Z"
   },
   {
    "duration": 0,
    "start_time": "2024-06-13T17:36:28.417Z"
   },
   {
    "duration": 0,
    "start_time": "2024-06-13T17:36:28.418Z"
   },
   {
    "duration": 0,
    "start_time": "2024-06-13T17:36:28.419Z"
   },
   {
    "duration": 0,
    "start_time": "2024-06-13T17:36:28.420Z"
   },
   {
    "duration": 0,
    "start_time": "2024-06-13T17:36:28.421Z"
   },
   {
    "duration": 0,
    "start_time": "2024-06-13T17:36:28.422Z"
   },
   {
    "duration": 0,
    "start_time": "2024-06-13T17:36:28.423Z"
   },
   {
    "duration": 0,
    "start_time": "2024-06-13T17:36:28.424Z"
   },
   {
    "duration": 0,
    "start_time": "2024-06-13T17:36:28.425Z"
   },
   {
    "duration": 0,
    "start_time": "2024-06-13T17:36:28.426Z"
   },
   {
    "duration": 0,
    "start_time": "2024-06-13T17:36:28.427Z"
   },
   {
    "duration": 0,
    "start_time": "2024-06-13T17:36:28.428Z"
   },
   {
    "duration": 0,
    "start_time": "2024-06-13T17:36:28.495Z"
   },
   {
    "duration": 0,
    "start_time": "2024-06-13T17:36:28.495Z"
   },
   {
    "duration": 0,
    "start_time": "2024-06-13T17:36:28.497Z"
   },
   {
    "duration": 0,
    "start_time": "2024-06-13T17:36:28.498Z"
   },
   {
    "duration": 0,
    "start_time": "2024-06-13T17:36:28.499Z"
   },
   {
    "duration": 0,
    "start_time": "2024-06-13T17:36:28.500Z"
   },
   {
    "duration": 0,
    "start_time": "2024-06-13T17:36:28.501Z"
   },
   {
    "duration": 0,
    "start_time": "2024-06-13T17:36:28.502Z"
   },
   {
    "duration": 0,
    "start_time": "2024-06-13T17:36:28.503Z"
   },
   {
    "duration": 0,
    "start_time": "2024-06-13T17:36:28.504Z"
   },
   {
    "duration": 0,
    "start_time": "2024-06-13T17:36:28.505Z"
   },
   {
    "duration": 0,
    "start_time": "2024-06-13T17:36:28.506Z"
   },
   {
    "duration": 0,
    "start_time": "2024-06-13T17:36:28.507Z"
   },
   {
    "duration": 0,
    "start_time": "2024-06-13T17:36:28.508Z"
   },
   {
    "duration": 0,
    "start_time": "2024-06-13T17:36:28.509Z"
   },
   {
    "duration": 0,
    "start_time": "2024-06-13T17:36:28.510Z"
   },
   {
    "duration": 0,
    "start_time": "2024-06-13T17:36:28.511Z"
   },
   {
    "duration": 0,
    "start_time": "2024-06-13T17:36:28.512Z"
   },
   {
    "duration": 0,
    "start_time": "2024-06-13T17:36:28.513Z"
   },
   {
    "duration": 0,
    "start_time": "2024-06-13T17:36:28.513Z"
   },
   {
    "duration": 0,
    "start_time": "2024-06-13T17:36:28.514Z"
   },
   {
    "duration": 0,
    "start_time": "2024-06-13T17:36:28.515Z"
   },
   {
    "duration": 0,
    "start_time": "2024-06-13T17:36:28.516Z"
   },
   {
    "duration": 0,
    "start_time": "2024-06-13T17:36:28.518Z"
   },
   {
    "duration": 0,
    "start_time": "2024-06-13T17:36:28.519Z"
   },
   {
    "duration": 0,
    "start_time": "2024-06-13T17:36:28.520Z"
   },
   {
    "duration": 0,
    "start_time": "2024-06-13T17:36:28.521Z"
   },
   {
    "duration": 0,
    "start_time": "2024-06-13T17:36:28.522Z"
   },
   {
    "duration": 0,
    "start_time": "2024-06-13T17:36:28.522Z"
   },
   {
    "duration": 0,
    "start_time": "2024-06-13T17:36:28.523Z"
   },
   {
    "duration": 0,
    "start_time": "2024-06-13T17:36:28.524Z"
   },
   {
    "duration": 0,
    "start_time": "2024-06-13T17:36:28.524Z"
   },
   {
    "duration": 0,
    "start_time": "2024-06-13T17:36:28.525Z"
   },
   {
    "duration": 0,
    "start_time": "2024-06-13T17:36:28.526Z"
   },
   {
    "duration": 0,
    "start_time": "2024-06-13T17:36:28.526Z"
   },
   {
    "duration": 0,
    "start_time": "2024-06-13T17:36:28.527Z"
   },
   {
    "duration": 0,
    "start_time": "2024-06-13T17:36:28.529Z"
   },
   {
    "duration": 0,
    "start_time": "2024-06-13T17:36:28.530Z"
   },
   {
    "duration": 0,
    "start_time": "2024-06-13T17:36:28.530Z"
   },
   {
    "duration": 0,
    "start_time": "2024-06-13T17:36:28.531Z"
   },
   {
    "duration": 0,
    "start_time": "2024-06-13T17:36:28.532Z"
   },
   {
    "duration": 3,
    "start_time": "2024-06-13T17:37:56.348Z"
   },
   {
    "duration": 16,
    "start_time": "2024-06-13T17:37:56.353Z"
   },
   {
    "duration": 1277,
    "start_time": "2024-06-13T17:37:56.370Z"
   },
   {
    "duration": 0,
    "start_time": "2024-06-13T17:37:57.650Z"
   },
   {
    "duration": 0,
    "start_time": "2024-06-13T17:37:57.652Z"
   },
   {
    "duration": 0,
    "start_time": "2024-06-13T17:37:57.653Z"
   },
   {
    "duration": 0,
    "start_time": "2024-06-13T17:37:57.654Z"
   },
   {
    "duration": 0,
    "start_time": "2024-06-13T17:37:57.655Z"
   },
   {
    "duration": 0,
    "start_time": "2024-06-13T17:37:57.656Z"
   },
   {
    "duration": 0,
    "start_time": "2024-06-13T17:37:57.657Z"
   },
   {
    "duration": 0,
    "start_time": "2024-06-13T17:37:57.658Z"
   },
   {
    "duration": 0,
    "start_time": "2024-06-13T17:37:57.659Z"
   },
   {
    "duration": 0,
    "start_time": "2024-06-13T17:37:57.660Z"
   },
   {
    "duration": 0,
    "start_time": "2024-06-13T17:37:57.661Z"
   },
   {
    "duration": 0,
    "start_time": "2024-06-13T17:37:57.663Z"
   },
   {
    "duration": 0,
    "start_time": "2024-06-13T17:37:57.664Z"
   },
   {
    "duration": 0,
    "start_time": "2024-06-13T17:37:57.665Z"
   },
   {
    "duration": 0,
    "start_time": "2024-06-13T17:37:57.666Z"
   },
   {
    "duration": 0,
    "start_time": "2024-06-13T17:37:57.689Z"
   },
   {
    "duration": 0,
    "start_time": "2024-06-13T17:37:57.690Z"
   },
   {
    "duration": 0,
    "start_time": "2024-06-13T17:37:57.691Z"
   },
   {
    "duration": 0,
    "start_time": "2024-06-13T17:37:57.692Z"
   },
   {
    "duration": 0,
    "start_time": "2024-06-13T17:37:57.693Z"
   },
   {
    "duration": 0,
    "start_time": "2024-06-13T17:37:57.694Z"
   },
   {
    "duration": 0,
    "start_time": "2024-06-13T17:37:57.695Z"
   },
   {
    "duration": 0,
    "start_time": "2024-06-13T17:37:57.696Z"
   },
   {
    "duration": 0,
    "start_time": "2024-06-13T17:37:57.698Z"
   },
   {
    "duration": 0,
    "start_time": "2024-06-13T17:37:57.698Z"
   },
   {
    "duration": 0,
    "start_time": "2024-06-13T17:37:57.700Z"
   },
   {
    "duration": 0,
    "start_time": "2024-06-13T17:37:57.701Z"
   },
   {
    "duration": 0,
    "start_time": "2024-06-13T17:37:57.702Z"
   },
   {
    "duration": 0,
    "start_time": "2024-06-13T17:37:57.703Z"
   },
   {
    "duration": 0,
    "start_time": "2024-06-13T17:37:57.704Z"
   },
   {
    "duration": 0,
    "start_time": "2024-06-13T17:37:57.705Z"
   },
   {
    "duration": 0,
    "start_time": "2024-06-13T17:37:57.706Z"
   },
   {
    "duration": 0,
    "start_time": "2024-06-13T17:37:57.707Z"
   },
   {
    "duration": 0,
    "start_time": "2024-06-13T17:37:57.708Z"
   },
   {
    "duration": 0,
    "start_time": "2024-06-13T17:37:57.709Z"
   },
   {
    "duration": 0,
    "start_time": "2024-06-13T17:37:57.710Z"
   },
   {
    "duration": 0,
    "start_time": "2024-06-13T17:37:57.711Z"
   },
   {
    "duration": 0,
    "start_time": "2024-06-13T17:37:57.712Z"
   },
   {
    "duration": 0,
    "start_time": "2024-06-13T17:37:57.714Z"
   },
   {
    "duration": 0,
    "start_time": "2024-06-13T17:37:57.715Z"
   },
   {
    "duration": 0,
    "start_time": "2024-06-13T17:37:57.716Z"
   },
   {
    "duration": 0,
    "start_time": "2024-06-13T17:37:57.717Z"
   },
   {
    "duration": 0,
    "start_time": "2024-06-13T17:37:57.718Z"
   },
   {
    "duration": 0,
    "start_time": "2024-06-13T17:37:57.719Z"
   },
   {
    "duration": 0,
    "start_time": "2024-06-13T17:37:57.720Z"
   },
   {
    "duration": 0,
    "start_time": "2024-06-13T17:37:57.721Z"
   },
   {
    "duration": 0,
    "start_time": "2024-06-13T17:37:57.722Z"
   },
   {
    "duration": 0,
    "start_time": "2024-06-13T17:37:57.723Z"
   },
   {
    "duration": 0,
    "start_time": "2024-06-13T17:37:57.725Z"
   },
   {
    "duration": 0,
    "start_time": "2024-06-13T17:37:57.726Z"
   },
   {
    "duration": 0,
    "start_time": "2024-06-13T17:37:57.727Z"
   },
   {
    "duration": 0,
    "start_time": "2024-06-13T17:37:57.728Z"
   },
   {
    "duration": 0,
    "start_time": "2024-06-13T17:37:57.789Z"
   },
   {
    "duration": 0,
    "start_time": "2024-06-13T17:37:57.790Z"
   },
   {
    "duration": 0,
    "start_time": "2024-06-13T17:37:57.791Z"
   },
   {
    "duration": 0,
    "start_time": "2024-06-13T17:37:57.792Z"
   },
   {
    "duration": 0,
    "start_time": "2024-06-13T17:37:57.793Z"
   },
   {
    "duration": 0,
    "start_time": "2024-06-13T17:37:57.794Z"
   },
   {
    "duration": 0,
    "start_time": "2024-06-13T17:37:57.795Z"
   },
   {
    "duration": 0,
    "start_time": "2024-06-13T17:37:57.796Z"
   },
   {
    "duration": 0,
    "start_time": "2024-06-13T17:37:57.797Z"
   },
   {
    "duration": 0,
    "start_time": "2024-06-13T17:37:57.798Z"
   },
   {
    "duration": 0,
    "start_time": "2024-06-13T17:37:57.799Z"
   },
   {
    "duration": 0,
    "start_time": "2024-06-13T17:37:57.799Z"
   },
   {
    "duration": 0,
    "start_time": "2024-06-13T17:37:57.800Z"
   },
   {
    "duration": 0,
    "start_time": "2024-06-13T17:37:57.801Z"
   },
   {
    "duration": 0,
    "start_time": "2024-06-13T17:37:57.802Z"
   },
   {
    "duration": 0,
    "start_time": "2024-06-13T17:37:57.803Z"
   },
   {
    "duration": 0,
    "start_time": "2024-06-13T17:37:57.804Z"
   },
   {
    "duration": 0,
    "start_time": "2024-06-13T17:37:57.804Z"
   },
   {
    "duration": 0,
    "start_time": "2024-06-13T17:37:57.805Z"
   },
   {
    "duration": 0,
    "start_time": "2024-06-13T17:37:57.807Z"
   },
   {
    "duration": 0,
    "start_time": "2024-06-13T17:37:57.807Z"
   },
   {
    "duration": 0,
    "start_time": "2024-06-13T17:37:57.808Z"
   },
   {
    "duration": 0,
    "start_time": "2024-06-13T17:37:57.810Z"
   },
   {
    "duration": 0,
    "start_time": "2024-06-13T17:37:57.810Z"
   },
   {
    "duration": 0,
    "start_time": "2024-06-13T17:37:57.811Z"
   },
   {
    "duration": 0,
    "start_time": "2024-06-13T17:37:57.812Z"
   },
   {
    "duration": 0,
    "start_time": "2024-06-13T17:37:57.813Z"
   },
   {
    "duration": 0,
    "start_time": "2024-06-13T17:37:57.814Z"
   },
   {
    "duration": 0,
    "start_time": "2024-06-13T17:37:57.816Z"
   },
   {
    "duration": 0,
    "start_time": "2024-06-13T17:37:57.817Z"
   },
   {
    "duration": 0,
    "start_time": "2024-06-13T17:37:57.818Z"
   },
   {
    "duration": 0,
    "start_time": "2024-06-13T17:37:57.819Z"
   },
   {
    "duration": 0,
    "start_time": "2024-06-13T17:37:57.820Z"
   },
   {
    "duration": 0,
    "start_time": "2024-06-13T17:37:57.821Z"
   },
   {
    "duration": 0,
    "start_time": "2024-06-13T17:37:57.822Z"
   },
   {
    "duration": 0,
    "start_time": "2024-06-13T17:37:57.823Z"
   },
   {
    "duration": 0,
    "start_time": "2024-06-13T17:37:57.824Z"
   },
   {
    "duration": 0,
    "start_time": "2024-06-13T17:37:57.825Z"
   },
   {
    "duration": 0,
    "start_time": "2024-06-13T17:37:57.889Z"
   },
   {
    "duration": 0,
    "start_time": "2024-06-13T17:37:57.891Z"
   },
   {
    "duration": 0,
    "start_time": "2024-06-13T17:37:57.892Z"
   },
   {
    "duration": 0,
    "start_time": "2024-06-13T17:37:57.893Z"
   },
   {
    "duration": 0,
    "start_time": "2024-06-13T17:37:57.894Z"
   },
   {
    "duration": 4105,
    "start_time": "2024-06-13T17:38:07.617Z"
   },
   {
    "duration": 3,
    "start_time": "2024-06-13T17:38:12.749Z"
   },
   {
    "duration": 2347,
    "start_time": "2024-06-13T17:38:12.756Z"
   },
   {
    "duration": 1480,
    "start_time": "2024-06-13T17:38:15.105Z"
   },
   {
    "duration": 2,
    "start_time": "2024-06-13T17:38:16.587Z"
   },
   {
    "duration": 118,
    "start_time": "2024-06-13T17:38:16.590Z"
   },
   {
    "duration": 23,
    "start_time": "2024-06-13T17:38:16.710Z"
   },
   {
    "duration": 84,
    "start_time": "2024-06-13T17:38:16.734Z"
   },
   {
    "duration": 16,
    "start_time": "2024-06-13T17:38:16.819Z"
   },
   {
    "duration": 63,
    "start_time": "2024-06-13T17:38:16.836Z"
   },
   {
    "duration": 14,
    "start_time": "2024-06-13T17:38:16.900Z"
   },
   {
    "duration": 69,
    "start_time": "2024-06-13T17:38:16.915Z"
   },
   {
    "duration": 14,
    "start_time": "2024-06-13T17:38:16.985Z"
   },
   {
    "duration": 2,
    "start_time": "2024-06-13T17:38:17.000Z"
   },
   {
    "duration": 14,
    "start_time": "2024-06-13T17:38:17.003Z"
   },
   {
    "duration": 4,
    "start_time": "2024-06-13T17:38:17.019Z"
   },
   {
    "duration": 4,
    "start_time": "2024-06-13T17:38:17.024Z"
   },
   {
    "duration": 4,
    "start_time": "2024-06-13T17:38:17.029Z"
   },
   {
    "duration": 23,
    "start_time": "2024-06-13T17:38:17.034Z"
   },
   {
    "duration": 6,
    "start_time": "2024-06-13T17:38:17.058Z"
   },
   {
    "duration": 17,
    "start_time": "2024-06-13T17:38:17.065Z"
   },
   {
    "duration": 6,
    "start_time": "2024-06-13T17:38:17.083Z"
   },
   {
    "duration": 6,
    "start_time": "2024-06-13T17:38:17.090Z"
   },
   {
    "duration": 10,
    "start_time": "2024-06-13T17:38:17.097Z"
   },
   {
    "duration": 15,
    "start_time": "2024-06-13T17:38:17.108Z"
   },
   {
    "duration": 24,
    "start_time": "2024-06-13T17:38:17.124Z"
   },
   {
    "duration": 21,
    "start_time": "2024-06-13T17:38:17.149Z"
   },
   {
    "duration": 25,
    "start_time": "2024-06-13T17:38:17.171Z"
   },
   {
    "duration": 20,
    "start_time": "2024-06-13T17:38:17.197Z"
   },
   {
    "duration": 5,
    "start_time": "2024-06-13T17:38:17.218Z"
   },
   {
    "duration": 9,
    "start_time": "2024-06-13T17:38:17.225Z"
   },
   {
    "duration": 3,
    "start_time": "2024-06-13T17:38:17.235Z"
   },
   {
    "duration": 5,
    "start_time": "2024-06-13T17:38:17.239Z"
   },
   {
    "duration": 49,
    "start_time": "2024-06-13T17:38:17.245Z"
   },
   {
    "duration": 187,
    "start_time": "2024-06-13T17:38:17.295Z"
   },
   {
    "duration": 188,
    "start_time": "2024-06-13T17:38:17.489Z"
   },
   {
    "duration": 169,
    "start_time": "2024-06-13T17:38:17.678Z"
   },
   {
    "duration": 187,
    "start_time": "2024-06-13T17:38:17.848Z"
   },
   {
    "duration": 243,
    "start_time": "2024-06-13T17:38:18.036Z"
   },
   {
    "duration": 173,
    "start_time": "2024-06-13T17:38:18.280Z"
   },
   {
    "duration": 192,
    "start_time": "2024-06-13T17:38:18.455Z"
   },
   {
    "duration": 181,
    "start_time": "2024-06-13T17:38:18.648Z"
   },
   {
    "duration": 92,
    "start_time": "2024-06-13T17:38:18.833Z"
   },
   {
    "duration": 87,
    "start_time": "2024-06-13T17:38:18.926Z"
   },
   {
    "duration": 86,
    "start_time": "2024-06-13T17:38:19.015Z"
   },
   {
    "duration": 128,
    "start_time": "2024-06-13T17:38:19.102Z"
   },
   {
    "duration": 9,
    "start_time": "2024-06-13T17:38:19.231Z"
   },
   {
    "duration": 122,
    "start_time": "2024-06-13T17:38:19.242Z"
   },
   {
    "duration": 176,
    "start_time": "2024-06-13T17:38:19.365Z"
   },
   {
    "duration": 3,
    "start_time": "2024-06-13T17:38:19.543Z"
   },
   {
    "duration": 245,
    "start_time": "2024-06-13T17:38:19.547Z"
   },
   {
    "duration": 3,
    "start_time": "2024-06-13T17:38:19.793Z"
   },
   {
    "duration": 179,
    "start_time": "2024-06-13T17:38:19.798Z"
   },
   {
    "duration": 16,
    "start_time": "2024-06-13T17:38:19.979Z"
   },
   {
    "duration": 104,
    "start_time": "2024-06-13T17:38:19.996Z"
   },
   {
    "duration": 171,
    "start_time": "2024-06-13T17:38:20.101Z"
   },
   {
    "duration": 188,
    "start_time": "2024-06-13T17:38:20.273Z"
   },
   {
    "duration": 11,
    "start_time": "2024-06-13T17:38:20.463Z"
   },
   {
    "duration": 18,
    "start_time": "2024-06-13T17:38:20.476Z"
   },
   {
    "duration": 11,
    "start_time": "2024-06-13T17:38:20.495Z"
   },
   {
    "duration": 26,
    "start_time": "2024-06-13T17:38:20.508Z"
   },
   {
    "duration": 23,
    "start_time": "2024-06-13T17:38:20.535Z"
   },
   {
    "duration": 12,
    "start_time": "2024-06-13T17:38:20.559Z"
   },
   {
    "duration": 8,
    "start_time": "2024-06-13T17:38:20.572Z"
   },
   {
    "duration": 6,
    "start_time": "2024-06-13T17:38:20.581Z"
   },
   {
    "duration": 14,
    "start_time": "2024-06-13T17:38:20.588Z"
   },
   {
    "duration": 13,
    "start_time": "2024-06-13T17:38:20.603Z"
   },
   {
    "duration": 14,
    "start_time": "2024-06-13T17:38:20.617Z"
   },
   {
    "duration": 11,
    "start_time": "2024-06-13T17:38:20.632Z"
   },
   {
    "duration": 6,
    "start_time": "2024-06-13T17:38:20.645Z"
   },
   {
    "duration": 4,
    "start_time": "2024-06-13T17:38:20.653Z"
   },
   {
    "duration": 28,
    "start_time": "2024-06-13T17:38:20.658Z"
   },
   {
    "duration": 30310,
    "start_time": "2024-06-13T17:38:20.687Z"
   },
   {
    "duration": 1078,
    "start_time": "2024-06-13T17:38:50.999Z"
   },
   {
    "duration": 13,
    "start_time": "2024-06-13T17:38:52.078Z"
   },
   {
    "duration": 29,
    "start_time": "2024-06-13T17:38:52.092Z"
   },
   {
    "duration": 10,
    "start_time": "2024-06-13T17:38:52.122Z"
   },
   {
    "duration": 24,
    "start_time": "2024-06-13T17:38:52.134Z"
   },
   {
    "duration": 801,
    "start_time": "2024-06-13T17:38:52.160Z"
   },
   {
    "duration": 136,
    "start_time": "2024-06-13T17:38:52.963Z"
   },
   {
    "duration": 0,
    "start_time": "2024-06-13T17:38:53.101Z"
   },
   {
    "duration": 0,
    "start_time": "2024-06-13T17:38:53.102Z"
   },
   {
    "duration": 0,
    "start_time": "2024-06-13T17:38:53.102Z"
   },
   {
    "duration": 0,
    "start_time": "2024-06-13T17:38:53.103Z"
   },
   {
    "duration": 0,
    "start_time": "2024-06-13T17:38:53.104Z"
   },
   {
    "duration": 0,
    "start_time": "2024-06-13T17:38:53.105Z"
   },
   {
    "duration": 0,
    "start_time": "2024-06-13T17:38:53.106Z"
   },
   {
    "duration": 0,
    "start_time": "2024-06-13T17:38:53.107Z"
   },
   {
    "duration": 0,
    "start_time": "2024-06-13T17:38:53.108Z"
   },
   {
    "duration": 0,
    "start_time": "2024-06-13T17:38:53.109Z"
   },
   {
    "duration": 0,
    "start_time": "2024-06-13T17:38:53.110Z"
   },
   {
    "duration": 0,
    "start_time": "2024-06-13T17:38:53.111Z"
   },
   {
    "duration": 0,
    "start_time": "2024-06-13T17:38:53.112Z"
   },
   {
    "duration": 0,
    "start_time": "2024-06-13T17:38:53.113Z"
   },
   {
    "duration": 0,
    "start_time": "2024-06-13T17:38:53.115Z"
   },
   {
    "duration": 0,
    "start_time": "2024-06-13T17:38:53.116Z"
   },
   {
    "duration": 0,
    "start_time": "2024-06-13T17:38:53.117Z"
   },
   {
    "duration": 0,
    "start_time": "2024-06-13T17:38:53.118Z"
   },
   {
    "duration": 0,
    "start_time": "2024-06-13T17:38:53.120Z"
   },
   {
    "duration": 8,
    "start_time": "2024-06-13T17:39:36.686Z"
   },
   {
    "duration": 5,
    "start_time": "2024-06-13T17:39:48.023Z"
   },
   {
    "duration": 7,
    "start_time": "2024-06-13T17:40:39.165Z"
   },
   {
    "duration": 6566,
    "start_time": "2024-08-20T09:20:27.931Z"
   },
   {
    "duration": 3876,
    "start_time": "2024-08-20T09:20:34.499Z"
   },
   {
    "duration": 1772,
    "start_time": "2024-08-20T09:20:38.377Z"
   },
   {
    "duration": 4,
    "start_time": "2024-08-20T09:20:40.150Z"
   },
   {
    "duration": 52,
    "start_time": "2024-08-20T09:20:40.156Z"
   },
   {
    "duration": 28,
    "start_time": "2024-08-20T09:20:40.210Z"
   },
   {
    "duration": 16,
    "start_time": "2024-08-20T09:20:40.239Z"
   },
   {
    "duration": 18,
    "start_time": "2024-08-20T09:20:40.257Z"
   },
   {
    "duration": 29,
    "start_time": "2024-08-20T09:20:40.276Z"
   },
   {
    "duration": 17,
    "start_time": "2024-08-20T09:20:40.307Z"
   },
   {
    "duration": 25,
    "start_time": "2024-08-20T09:20:40.325Z"
   },
   {
    "duration": 16,
    "start_time": "2024-08-20T09:20:40.352Z"
   },
   {
    "duration": 52,
    "start_time": "2024-08-20T09:20:40.369Z"
   },
   {
    "duration": 9,
    "start_time": "2024-08-20T09:20:40.424Z"
   },
   {
    "duration": 6,
    "start_time": "2024-08-20T09:20:40.434Z"
   },
   {
    "duration": 9,
    "start_time": "2024-08-20T09:20:40.442Z"
   },
   {
    "duration": 10,
    "start_time": "2024-08-20T09:20:40.452Z"
   },
   {
    "duration": 19,
    "start_time": "2024-08-20T09:20:40.463Z"
   },
   {
    "duration": 14,
    "start_time": "2024-08-20T09:20:40.483Z"
   },
   {
    "duration": 18,
    "start_time": "2024-08-20T09:20:40.498Z"
   },
   {
    "duration": 25,
    "start_time": "2024-08-20T09:20:40.518Z"
   },
   {
    "duration": 16,
    "start_time": "2024-08-20T09:20:40.544Z"
   },
   {
    "duration": 36,
    "start_time": "2024-08-20T09:20:40.562Z"
   },
   {
    "duration": 5,
    "start_time": "2024-08-20T09:20:40.599Z"
   },
   {
    "duration": 200,
    "start_time": "2024-08-20T09:20:40.605Z"
   },
   {
    "duration": 17,
    "start_time": "2024-08-20T09:20:40.806Z"
   },
   {
    "duration": 15,
    "start_time": "2024-08-20T09:20:40.825Z"
   },
   {
    "duration": 83,
    "start_time": "2024-08-20T09:20:40.841Z"
   },
   {
    "duration": 14,
    "start_time": "2024-08-20T09:20:40.925Z"
   },
   {
    "duration": 16,
    "start_time": "2024-08-20T09:20:40.940Z"
   },
   {
    "duration": 22,
    "start_time": "2024-08-20T09:20:40.957Z"
   },
   {
    "duration": 17,
    "start_time": "2024-08-20T09:20:40.980Z"
   },
   {
    "duration": 48,
    "start_time": "2024-08-20T09:20:40.999Z"
   },
   {
    "duration": 210,
    "start_time": "2024-08-20T09:20:41.049Z"
   },
   {
    "duration": 215,
    "start_time": "2024-08-20T09:20:41.260Z"
   },
   {
    "duration": 183,
    "start_time": "2024-08-20T09:20:41.476Z"
   },
   {
    "duration": 267,
    "start_time": "2024-08-20T09:20:41.661Z"
   },
   {
    "duration": 222,
    "start_time": "2024-08-20T09:20:41.930Z"
   },
   {
    "duration": 207,
    "start_time": "2024-08-20T09:20:42.153Z"
   },
   {
    "duration": 184,
    "start_time": "2024-08-20T09:20:42.361Z"
   },
   {
    "duration": 222,
    "start_time": "2024-08-20T09:20:42.549Z"
   },
   {
    "duration": 108,
    "start_time": "2024-08-20T09:20:42.773Z"
   },
   {
    "duration": 92,
    "start_time": "2024-08-20T09:20:42.883Z"
   },
   {
    "duration": 93,
    "start_time": "2024-08-20T09:20:42.976Z"
   },
   {
    "duration": 147,
    "start_time": "2024-08-20T09:20:43.072Z"
   },
   {
    "duration": 15,
    "start_time": "2024-08-20T09:20:43.221Z"
   },
   {
    "duration": 127,
    "start_time": "2024-08-20T09:20:43.238Z"
   },
   {
    "duration": 277,
    "start_time": "2024-08-20T09:20:43.366Z"
   },
   {
    "duration": 5,
    "start_time": "2024-08-20T09:20:43.644Z"
   },
   {
    "duration": 197,
    "start_time": "2024-08-20T09:20:43.650Z"
   },
   {
    "duration": 3,
    "start_time": "2024-08-20T09:20:43.849Z"
   },
   {
    "duration": 222,
    "start_time": "2024-08-20T09:20:43.854Z"
   },
   {
    "duration": 11,
    "start_time": "2024-08-20T09:20:44.077Z"
   },
   {
    "duration": 104,
    "start_time": "2024-08-20T09:20:44.089Z"
   },
   {
    "duration": 193,
    "start_time": "2024-08-20T09:20:44.194Z"
   },
   {
    "duration": 196,
    "start_time": "2024-08-20T09:20:44.388Z"
   },
   {
    "duration": 18,
    "start_time": "2024-08-20T09:20:44.585Z"
   },
   {
    "duration": 8,
    "start_time": "2024-08-20T09:20:44.604Z"
   },
   {
    "duration": 91,
    "start_time": "2024-08-20T09:20:44.614Z"
   },
   {
    "duration": 17,
    "start_time": "2024-08-20T09:20:44.707Z"
   },
   {
    "duration": 11,
    "start_time": "2024-08-20T09:20:44.726Z"
   },
   {
    "duration": 14,
    "start_time": "2024-08-20T09:20:44.739Z"
   },
   {
    "duration": 9,
    "start_time": "2024-08-20T09:20:44.754Z"
   },
   {
    "duration": 11,
    "start_time": "2024-08-20T09:20:44.764Z"
   },
   {
    "duration": 10,
    "start_time": "2024-08-20T09:20:44.777Z"
   },
   {
    "duration": 3,
    "start_time": "2024-08-20T09:20:44.788Z"
   },
   {
    "duration": 8,
    "start_time": "2024-08-20T09:20:44.792Z"
   },
   {
    "duration": 9,
    "start_time": "2024-08-20T09:20:44.802Z"
   },
   {
    "duration": 6,
    "start_time": "2024-08-20T09:20:44.812Z"
   },
   {
    "duration": 5,
    "start_time": "2024-08-20T09:20:44.819Z"
   },
   {
    "duration": 91,
    "start_time": "2024-08-20T09:20:44.825Z"
   },
   {
    "duration": 33591,
    "start_time": "2024-08-20T09:20:44.917Z"
   },
   {
    "duration": 1166,
    "start_time": "2024-08-20T09:21:18.509Z"
   },
   {
    "duration": 13,
    "start_time": "2024-08-20T09:21:19.676Z"
   },
   {
    "duration": 15,
    "start_time": "2024-08-20T09:21:19.690Z"
   },
   {
    "duration": 15,
    "start_time": "2024-08-20T09:21:19.707Z"
   },
   {
    "duration": 23,
    "start_time": "2024-08-20T09:21:19.724Z"
   },
   {
    "duration": 1033,
    "start_time": "2024-08-20T09:21:19.749Z"
   },
   {
    "duration": 1683,
    "start_time": "2024-08-20T09:21:20.783Z"
   },
   {
    "duration": 11,
    "start_time": "2024-08-20T09:21:22.468Z"
   },
   {
    "duration": 4,
    "start_time": "2024-08-20T09:21:22.480Z"
   },
   {
    "duration": 3,
    "start_time": "2024-08-20T09:21:22.485Z"
   },
   {
    "duration": 3,
    "start_time": "2024-08-20T09:21:22.489Z"
   },
   {
    "duration": 8,
    "start_time": "2024-08-20T09:21:22.494Z"
   },
   {
    "duration": 14,
    "start_time": "2024-08-20T09:21:22.503Z"
   },
   {
    "duration": 27,
    "start_time": "2024-08-20T09:21:22.518Z"
   },
   {
    "duration": 38,
    "start_time": "2024-08-20T09:21:22.546Z"
   },
   {
    "duration": 16,
    "start_time": "2024-08-20T09:21:22.586Z"
   },
   {
    "duration": 373,
    "start_time": "2024-08-20T09:21:22.603Z"
   },
   {
    "duration": 6,
    "start_time": "2024-08-20T09:21:22.977Z"
   },
   {
    "duration": 9,
    "start_time": "2024-08-20T09:21:22.985Z"
   },
   {
    "duration": 24,
    "start_time": "2024-08-20T09:21:22.995Z"
   },
   {
    "duration": 1619,
    "start_time": "2024-08-20T09:21:23.020Z"
   },
   {
    "duration": 14,
    "start_time": "2024-08-20T09:21:24.640Z"
   },
   {
    "duration": 144,
    "start_time": "2024-08-20T09:21:24.655Z"
   },
   {
    "duration": 15,
    "start_time": "2024-08-20T09:21:24.800Z"
   },
   {
    "duration": 14,
    "start_time": "2024-08-20T09:21:24.817Z"
   },
   {
    "duration": 13,
    "start_time": "2024-08-20T09:21:24.832Z"
   },
   {
    "duration": 4559,
    "start_time": "2024-08-20T09:30:06.472Z"
   },
   {
    "duration": 2963,
    "start_time": "2024-08-20T09:30:26.991Z"
   },
   {
    "duration": 2490,
    "start_time": "2024-08-20T09:30:29.956Z"
   },
   {
    "duration": 4,
    "start_time": "2024-08-20T09:30:32.448Z"
   },
   {
    "duration": 28,
    "start_time": "2024-08-20T09:30:32.454Z"
   },
   {
    "duration": 35,
    "start_time": "2024-08-20T09:30:32.484Z"
   },
   {
    "duration": 30,
    "start_time": "2024-08-20T09:30:32.521Z"
   },
   {
    "duration": 17,
    "start_time": "2024-08-20T09:30:32.552Z"
   },
   {
    "duration": 21,
    "start_time": "2024-08-20T09:30:32.570Z"
   },
   {
    "duration": 26,
    "start_time": "2024-08-20T09:30:32.592Z"
   },
   {
    "duration": 20,
    "start_time": "2024-08-20T09:30:32.620Z"
   },
   {
    "duration": 25,
    "start_time": "2024-08-20T09:30:32.641Z"
   },
   {
    "duration": 36,
    "start_time": "2024-08-20T09:30:32.667Z"
   },
   {
    "duration": 137,
    "start_time": "2024-08-20T09:30:32.705Z"
   },
   {
    "duration": 20,
    "start_time": "2024-08-20T09:30:32.845Z"
   },
   {
    "duration": 102,
    "start_time": "2024-08-20T09:30:32.866Z"
   },
   {
    "duration": 16,
    "start_time": "2024-08-20T09:30:32.969Z"
   },
   {
    "duration": 12,
    "start_time": "2024-08-20T09:30:32.986Z"
   },
   {
    "duration": 6,
    "start_time": "2024-08-20T09:30:33.000Z"
   },
   {
    "duration": 4,
    "start_time": "2024-08-20T09:30:33.007Z"
   },
   {
    "duration": 9,
    "start_time": "2024-08-20T09:30:33.012Z"
   },
   {
    "duration": 16,
    "start_time": "2024-08-20T09:30:33.022Z"
   },
   {
    "duration": 5,
    "start_time": "2024-08-20T09:30:33.039Z"
   },
   {
    "duration": 5,
    "start_time": "2024-08-20T09:30:33.045Z"
   },
   {
    "duration": 16,
    "start_time": "2024-08-20T09:30:33.051Z"
   },
   {
    "duration": 36,
    "start_time": "2024-08-20T09:30:33.069Z"
   },
   {
    "duration": 16,
    "start_time": "2024-08-20T09:30:33.107Z"
   },
   {
    "duration": 15,
    "start_time": "2024-08-20T09:30:33.124Z"
   },
   {
    "duration": 15,
    "start_time": "2024-08-20T09:30:33.141Z"
   },
   {
    "duration": 5,
    "start_time": "2024-08-20T09:30:33.157Z"
   },
   {
    "duration": 46,
    "start_time": "2024-08-20T09:30:33.163Z"
   },
   {
    "duration": 4,
    "start_time": "2024-08-20T09:30:33.211Z"
   },
   {
    "duration": 5,
    "start_time": "2024-08-20T09:30:33.216Z"
   },
   {
    "duration": 24,
    "start_time": "2024-08-20T09:30:33.223Z"
   },
   {
    "duration": 614,
    "start_time": "2024-08-20T09:30:33.248Z"
   },
   {
    "duration": 208,
    "start_time": "2024-08-20T09:30:33.864Z"
   },
   {
    "duration": 193,
    "start_time": "2024-08-20T09:30:34.073Z"
   },
   {
    "duration": 195,
    "start_time": "2024-08-20T09:30:34.267Z"
   },
   {
    "duration": 198,
    "start_time": "2024-08-20T09:30:34.464Z"
   },
   {
    "duration": 193,
    "start_time": "2024-08-20T09:30:34.663Z"
   },
   {
    "duration": 173,
    "start_time": "2024-08-20T09:30:34.857Z"
   },
   {
    "duration": 216,
    "start_time": "2024-08-20T09:30:35.034Z"
   },
   {
    "duration": 198,
    "start_time": "2024-08-20T09:30:35.251Z"
   },
   {
    "duration": 92,
    "start_time": "2024-08-20T09:30:35.450Z"
   },
   {
    "duration": 89,
    "start_time": "2024-08-20T09:30:35.543Z"
   },
   {
    "duration": 153,
    "start_time": "2024-08-20T09:30:35.633Z"
   },
   {
    "duration": 11,
    "start_time": "2024-08-20T09:30:35.788Z"
   },
   {
    "duration": 122,
    "start_time": "2024-08-20T09:30:35.801Z"
   },
   {
    "duration": 188,
    "start_time": "2024-08-20T09:30:35.925Z"
   },
   {
    "duration": 3,
    "start_time": "2024-08-20T09:30:36.114Z"
   },
   {
    "duration": 194,
    "start_time": "2024-08-20T09:30:36.118Z"
   },
   {
    "duration": 3,
    "start_time": "2024-08-20T09:30:36.314Z"
   },
   {
    "duration": 198,
    "start_time": "2024-08-20T09:30:36.318Z"
   },
   {
    "duration": 10,
    "start_time": "2024-08-20T09:30:36.518Z"
   },
   {
    "duration": 103,
    "start_time": "2024-08-20T09:30:36.530Z"
   },
   {
    "duration": 190,
    "start_time": "2024-08-20T09:30:36.635Z"
   },
   {
    "duration": 219,
    "start_time": "2024-08-20T09:30:36.827Z"
   },
   {
    "duration": 12,
    "start_time": "2024-08-20T09:30:37.048Z"
   },
   {
    "duration": 24,
    "start_time": "2024-08-20T09:30:37.062Z"
   },
   {
    "duration": 6,
    "start_time": "2024-08-20T09:30:37.087Z"
   },
   {
    "duration": 17,
    "start_time": "2024-08-20T09:30:37.095Z"
   },
   {
    "duration": 24,
    "start_time": "2024-08-20T09:30:37.114Z"
   },
   {
    "duration": 18,
    "start_time": "2024-08-20T09:30:37.139Z"
   },
   {
    "duration": 8,
    "start_time": "2024-08-20T09:30:37.158Z"
   },
   {
    "duration": 28,
    "start_time": "2024-08-20T09:30:37.167Z"
   },
   {
    "duration": 12,
    "start_time": "2024-08-20T09:30:37.196Z"
   },
   {
    "duration": 15,
    "start_time": "2024-08-20T09:30:37.209Z"
   },
   {
    "duration": 21,
    "start_time": "2024-08-20T09:30:37.226Z"
   },
   {
    "duration": 10,
    "start_time": "2024-08-20T09:30:37.249Z"
   },
   {
    "duration": 23,
    "start_time": "2024-08-20T09:30:37.260Z"
   },
   {
    "duration": 13,
    "start_time": "2024-08-20T09:30:37.285Z"
   },
   {
    "duration": 114,
    "start_time": "2024-08-20T09:30:37.300Z"
   },
   {
    "duration": 32135,
    "start_time": "2024-08-20T09:30:37.415Z"
   },
   {
    "duration": 1191,
    "start_time": "2024-08-20T09:31:09.551Z"
   },
   {
    "duration": 13,
    "start_time": "2024-08-20T09:31:10.743Z"
   },
   {
    "duration": 14,
    "start_time": "2024-08-20T09:31:10.757Z"
   },
   {
    "duration": 19,
    "start_time": "2024-08-20T09:31:10.772Z"
   },
   {
    "duration": 4,
    "start_time": "2024-08-20T09:31:10.793Z"
   },
   {
    "duration": 5952,
    "start_time": "2024-08-20T09:31:20.198Z"
   },
   {
    "duration": 1084,
    "start_time": "2024-08-20T09:31:44.508Z"
   },
   {
    "duration": 6596,
    "start_time": "2024-08-20T09:32:01.748Z"
   },
   {
    "duration": 5619,
    "start_time": "2024-08-20T09:32:42.900Z"
   },
   {
    "duration": 1061,
    "start_time": "2024-08-20T09:33:05.508Z"
   },
   {
    "duration": 6675,
    "start_time": "2024-08-20T09:33:28.987Z"
   },
   {
    "duration": 4274,
    "start_time": "2024-08-20T09:33:52.245Z"
   },
   {
    "duration": 1081,
    "start_time": "2024-08-20T09:34:20.768Z"
   },
   {
    "duration": 1075,
    "start_time": "2024-08-20T09:34:38.701Z"
   },
   {
    "duration": 1065,
    "start_time": "2024-08-20T09:34:56.116Z"
   },
   {
    "duration": 1759,
    "start_time": "2024-08-20T09:34:57.182Z"
   },
   {
    "duration": 12,
    "start_time": "2024-08-20T09:34:58.942Z"
   },
   {
    "duration": 61,
    "start_time": "2024-08-20T09:34:58.956Z"
   },
   {
    "duration": 14,
    "start_time": "2024-08-20T09:34:59.019Z"
   },
   {
    "duration": 7,
    "start_time": "2024-08-20T09:34:59.035Z"
   },
   {
    "duration": 9,
    "start_time": "2024-08-20T09:34:59.043Z"
   },
   {
    "duration": 12,
    "start_time": "2024-08-20T09:34:59.054Z"
   },
   {
    "duration": 32,
    "start_time": "2024-08-20T09:34:59.067Z"
   },
   {
    "duration": 31,
    "start_time": "2024-08-20T09:34:59.101Z"
   },
   {
    "duration": 14,
    "start_time": "2024-08-20T09:34:59.134Z"
   },
   {
    "duration": 333,
    "start_time": "2024-08-20T09:34:59.149Z"
   },
   {
    "duration": 6,
    "start_time": "2024-08-20T09:34:59.483Z"
   },
   {
    "duration": 5,
    "start_time": "2024-08-20T09:34:59.501Z"
   },
   {
    "duration": 6,
    "start_time": "2024-08-20T09:34:59.508Z"
   },
   {
    "duration": 1816,
    "start_time": "2024-08-20T09:34:59.516Z"
   },
   {
    "duration": 14,
    "start_time": "2024-08-20T09:35:01.334Z"
   },
   {
    "duration": 43,
    "start_time": "2024-08-20T09:35:01.349Z"
   },
   {
    "duration": 18,
    "start_time": "2024-08-20T09:35:01.394Z"
   },
   {
    "duration": 15,
    "start_time": "2024-08-20T09:35:01.413Z"
   },
   {
    "duration": 14,
    "start_time": "2024-08-20T09:35:01.430Z"
   },
   {
    "duration": 3167,
    "start_time": "2024-08-20T09:38:21.768Z"
   },
   {
    "duration": 2722,
    "start_time": "2024-08-20T09:38:24.937Z"
   },
   {
    "duration": 5,
    "start_time": "2024-08-20T09:38:27.661Z"
   },
   {
    "duration": 21,
    "start_time": "2024-08-20T09:38:27.667Z"
   },
   {
    "duration": 41,
    "start_time": "2024-08-20T09:38:27.690Z"
   },
   {
    "duration": 27,
    "start_time": "2024-08-20T09:38:27.733Z"
   },
   {
    "duration": 17,
    "start_time": "2024-08-20T09:38:27.762Z"
   },
   {
    "duration": 29,
    "start_time": "2024-08-20T09:38:27.780Z"
   },
   {
    "duration": 19,
    "start_time": "2024-08-20T09:38:27.811Z"
   },
   {
    "duration": 19,
    "start_time": "2024-08-20T09:38:27.831Z"
   },
   {
    "duration": 25,
    "start_time": "2024-08-20T09:38:27.852Z"
   },
   {
    "duration": 24,
    "start_time": "2024-08-20T09:38:27.879Z"
   },
   {
    "duration": 19,
    "start_time": "2024-08-20T09:38:27.905Z"
   },
   {
    "duration": 14,
    "start_time": "2024-08-20T09:38:27.927Z"
   },
   {
    "duration": 10,
    "start_time": "2024-08-20T09:38:27.942Z"
   },
   {
    "duration": 11,
    "start_time": "2024-08-20T09:38:27.954Z"
   },
   {
    "duration": 28,
    "start_time": "2024-08-20T09:38:27.967Z"
   },
   {
    "duration": 17,
    "start_time": "2024-08-20T09:38:27.997Z"
   },
   {
    "duration": 26,
    "start_time": "2024-08-20T09:38:28.016Z"
   },
   {
    "duration": 18,
    "start_time": "2024-08-20T09:38:28.044Z"
   },
   {
    "duration": 32,
    "start_time": "2024-08-20T09:38:28.064Z"
   },
   {
    "duration": 9,
    "start_time": "2024-08-20T09:38:28.097Z"
   },
   {
    "duration": 31,
    "start_time": "2024-08-20T09:38:28.108Z"
   },
   {
    "duration": 39,
    "start_time": "2024-08-20T09:38:28.140Z"
   },
   {
    "duration": 59,
    "start_time": "2024-08-20T09:38:28.180Z"
   },
   {
    "duration": 19,
    "start_time": "2024-08-20T09:38:28.241Z"
   },
   {
    "duration": 41,
    "start_time": "2024-08-20T09:38:28.262Z"
   },
   {
    "duration": 24,
    "start_time": "2024-08-20T09:38:28.305Z"
   },
   {
    "duration": 4,
    "start_time": "2024-08-20T09:38:28.331Z"
   },
   {
    "duration": 17,
    "start_time": "2024-08-20T09:38:28.337Z"
   },
   {
    "duration": 4,
    "start_time": "2024-08-20T09:38:28.355Z"
   },
   {
    "duration": 20,
    "start_time": "2024-08-20T09:38:28.360Z"
   },
   {
    "duration": 42,
    "start_time": "2024-08-20T09:38:28.381Z"
   },
   {
    "duration": 224,
    "start_time": "2024-08-20T09:38:28.425Z"
   },
   {
    "duration": 228,
    "start_time": "2024-08-20T09:38:28.650Z"
   },
   {
    "duration": 207,
    "start_time": "2024-08-20T09:38:28.879Z"
   },
   {
    "duration": 244,
    "start_time": "2024-08-20T09:38:29.088Z"
   },
   {
    "duration": 221,
    "start_time": "2024-08-20T09:38:29.334Z"
   },
   {
    "duration": 351,
    "start_time": "2024-08-20T09:38:29.557Z"
   },
   {
    "duration": 218,
    "start_time": "2024-08-20T09:38:29.910Z"
   },
   {
    "duration": 223,
    "start_time": "2024-08-20T09:38:30.132Z"
   },
   {
    "duration": 121,
    "start_time": "2024-08-20T09:38:30.357Z"
   },
   {
    "duration": 94,
    "start_time": "2024-08-20T09:38:30.479Z"
   },
   {
    "duration": 103,
    "start_time": "2024-08-20T09:38:30.574Z"
   },
   {
    "duration": 163,
    "start_time": "2024-08-20T09:38:30.679Z"
   },
   {
    "duration": 78,
    "start_time": "2024-08-20T09:38:30.844Z"
   },
   {
    "duration": 217,
    "start_time": "2024-08-20T09:38:30.924Z"
   },
   {
    "duration": 203,
    "start_time": "2024-08-20T09:38:31.143Z"
   },
   {
    "duration": 4,
    "start_time": "2024-08-20T09:38:31.348Z"
   },
   {
    "duration": 228,
    "start_time": "2024-08-20T09:38:31.353Z"
   },
   {
    "duration": 3,
    "start_time": "2024-08-20T09:38:31.582Z"
   },
   {
    "duration": 214,
    "start_time": "2024-08-20T09:38:31.586Z"
   },
   {
    "duration": 13,
    "start_time": "2024-08-20T09:38:31.802Z"
   },
   {
    "duration": 187,
    "start_time": "2024-08-20T09:38:31.817Z"
   },
   {
    "duration": 211,
    "start_time": "2024-08-20T09:38:32.006Z"
   },
   {
    "duration": 198,
    "start_time": "2024-08-20T09:38:32.219Z"
   },
   {
    "duration": 11,
    "start_time": "2024-08-20T09:38:32.420Z"
   },
   {
    "duration": 64,
    "start_time": "2024-08-20T09:38:32.433Z"
   },
   {
    "duration": 6,
    "start_time": "2024-08-20T09:38:32.498Z"
   },
   {
    "duration": 11,
    "start_time": "2024-08-20T09:38:32.505Z"
   },
   {
    "duration": 12,
    "start_time": "2024-08-20T09:38:32.518Z"
   },
   {
    "duration": 18,
    "start_time": "2024-08-20T09:38:32.531Z"
   },
   {
    "duration": 9,
    "start_time": "2024-08-20T09:38:32.550Z"
   },
   {
    "duration": 14,
    "start_time": "2024-08-20T09:38:32.560Z"
   },
   {
    "duration": 15,
    "start_time": "2024-08-20T09:38:32.575Z"
   },
   {
    "duration": 11,
    "start_time": "2024-08-20T09:38:32.592Z"
   },
   {
    "duration": 30,
    "start_time": "2024-08-20T09:38:32.605Z"
   },
   {
    "duration": 90,
    "start_time": "2024-08-20T09:38:32.637Z"
   },
   {
    "duration": 132,
    "start_time": "2024-08-20T09:38:32.728Z"
   },
   {
    "duration": 10,
    "start_time": "2024-08-20T09:38:32.862Z"
   },
   {
    "duration": 44,
    "start_time": "2024-08-20T09:38:32.873Z"
   },
   {
    "duration": 13,
    "start_time": "2024-08-20T09:38:32.919Z"
   },
   {
    "duration": 98,
    "start_time": "2024-08-20T09:38:32.934Z"
   },
   {
    "duration": 4,
    "start_time": "2024-08-20T09:38:33.034Z"
   },
   {
    "duration": 6,
    "start_time": "2024-08-20T09:38:33.040Z"
   },
   {
    "duration": 3686,
    "start_time": "2024-08-20T09:38:59.446Z"
   },
   {
    "duration": 6530,
    "start_time": "2024-08-20T09:39:47.764Z"
   },
   {
    "duration": 1035,
    "start_time": "2024-08-20T09:40:54.056Z"
   },
   {
    "duration": 4771,
    "start_time": "2024-08-20T09:41:37.948Z"
   },
   {
    "duration": 3307,
    "start_time": "2024-08-20T09:42:37.943Z"
   },
   {
    "duration": 2734,
    "start_time": "2024-08-20T09:42:41.252Z"
   },
   {
    "duration": 4,
    "start_time": "2024-08-20T09:42:43.988Z"
   },
   {
    "duration": 8,
    "start_time": "2024-08-20T09:42:43.994Z"
   },
   {
    "duration": 43,
    "start_time": "2024-08-20T09:42:44.004Z"
   },
   {
    "duration": 25,
    "start_time": "2024-08-20T09:42:44.048Z"
   },
   {
    "duration": 29,
    "start_time": "2024-08-20T09:42:44.075Z"
   },
   {
    "duration": 29,
    "start_time": "2024-08-20T09:42:44.106Z"
   },
   {
    "duration": 17,
    "start_time": "2024-08-20T09:42:44.136Z"
   },
   {
    "duration": 20,
    "start_time": "2024-08-20T09:42:44.154Z"
   },
   {
    "duration": 29,
    "start_time": "2024-08-20T09:42:44.175Z"
   },
   {
    "duration": 23,
    "start_time": "2024-08-20T09:42:44.207Z"
   },
   {
    "duration": 3,
    "start_time": "2024-08-20T09:42:44.232Z"
   },
   {
    "duration": 8,
    "start_time": "2024-08-20T09:42:44.239Z"
   },
   {
    "duration": 3,
    "start_time": "2024-08-20T09:42:44.249Z"
   },
   {
    "duration": 10,
    "start_time": "2024-08-20T09:42:44.254Z"
   },
   {
    "duration": 12,
    "start_time": "2024-08-20T09:42:44.266Z"
   },
   {
    "duration": 23,
    "start_time": "2024-08-20T09:42:44.280Z"
   },
   {
    "duration": 5,
    "start_time": "2024-08-20T09:42:44.307Z"
   },
   {
    "duration": 6,
    "start_time": "2024-08-20T09:42:44.314Z"
   },
   {
    "duration": 5,
    "start_time": "2024-08-20T09:42:44.327Z"
   },
   {
    "duration": 6,
    "start_time": "2024-08-20T09:42:44.334Z"
   },
   {
    "duration": 7,
    "start_time": "2024-08-20T09:42:44.342Z"
   },
   {
    "duration": 4,
    "start_time": "2024-08-20T09:42:44.351Z"
   },
   {
    "duration": 57,
    "start_time": "2024-08-20T09:42:44.357Z"
   },
   {
    "duration": 19,
    "start_time": "2024-08-20T09:42:44.415Z"
   },
   {
    "duration": 81,
    "start_time": "2024-08-20T09:42:44.435Z"
   },
   {
    "duration": 16,
    "start_time": "2024-08-20T09:42:44.517Z"
   },
   {
    "duration": 9,
    "start_time": "2024-08-20T09:42:44.534Z"
   },
   {
    "duration": 10,
    "start_time": "2024-08-20T09:42:44.544Z"
   },
   {
    "duration": 22,
    "start_time": "2024-08-20T09:42:44.555Z"
   },
   {
    "duration": 4,
    "start_time": "2024-08-20T09:42:44.578Z"
   },
   {
    "duration": 42,
    "start_time": "2024-08-20T09:42:44.583Z"
   },
   {
    "duration": 233,
    "start_time": "2024-08-20T09:42:44.627Z"
   },
   {
    "duration": 237,
    "start_time": "2024-08-20T09:42:44.862Z"
   },
   {
    "duration": 225,
    "start_time": "2024-08-20T09:42:45.102Z"
   },
   {
    "duration": 201,
    "start_time": "2024-08-20T09:42:45.328Z"
   },
   {
    "duration": 325,
    "start_time": "2024-08-20T09:42:45.531Z"
   },
   {
    "duration": 217,
    "start_time": "2024-08-20T09:42:45.858Z"
   },
   {
    "duration": 188,
    "start_time": "2024-08-20T09:42:46.077Z"
   },
   {
    "duration": 209,
    "start_time": "2024-08-20T09:42:46.269Z"
   },
   {
    "duration": 110,
    "start_time": "2024-08-20T09:42:46.479Z"
   },
   {
    "duration": 87,
    "start_time": "2024-08-20T09:42:46.590Z"
   },
   {
    "duration": 95,
    "start_time": "2024-08-20T09:42:46.679Z"
   },
   {
    "duration": 206,
    "start_time": "2024-08-20T09:42:46.775Z"
   },
   {
    "duration": 10,
    "start_time": "2024-08-20T09:42:46.982Z"
   },
   {
    "duration": 133,
    "start_time": "2024-08-20T09:42:47.002Z"
   },
   {
    "duration": 224,
    "start_time": "2024-08-20T09:42:47.136Z"
   },
   {
    "duration": 3,
    "start_time": "2024-08-20T09:42:47.362Z"
   },
   {
    "duration": 199,
    "start_time": "2024-08-20T09:42:47.366Z"
   },
   {
    "duration": 4,
    "start_time": "2024-08-20T09:42:47.566Z"
   },
   {
    "duration": 340,
    "start_time": "2024-08-20T09:42:47.571Z"
   },
   {
    "duration": 11,
    "start_time": "2024-08-20T09:42:47.912Z"
   },
   {
    "duration": 112,
    "start_time": "2024-08-20T09:42:47.925Z"
   },
   {
    "duration": 206,
    "start_time": "2024-08-20T09:42:48.038Z"
   },
   {
    "duration": 215,
    "start_time": "2024-08-20T09:42:48.245Z"
   },
   {
    "duration": 13,
    "start_time": "2024-08-20T09:42:48.461Z"
   },
   {
    "duration": 40,
    "start_time": "2024-08-20T09:42:48.475Z"
   },
   {
    "duration": 7,
    "start_time": "2024-08-20T09:42:48.517Z"
   },
   {
    "duration": 12,
    "start_time": "2024-08-20T09:42:48.526Z"
   },
   {
    "duration": 20,
    "start_time": "2024-08-20T09:42:48.540Z"
   },
   {
    "duration": 13,
    "start_time": "2024-08-20T09:42:48.562Z"
   },
   {
    "duration": 15,
    "start_time": "2024-08-20T09:42:48.577Z"
   },
   {
    "duration": 7,
    "start_time": "2024-08-20T09:42:48.594Z"
   },
   {
    "duration": 18,
    "start_time": "2024-08-20T09:42:48.602Z"
   },
   {
    "duration": 4,
    "start_time": "2024-08-20T09:42:48.622Z"
   },
   {
    "duration": 7,
    "start_time": "2024-08-20T09:42:48.627Z"
   },
   {
    "duration": 21,
    "start_time": "2024-08-20T09:42:48.636Z"
   },
   {
    "duration": 6,
    "start_time": "2024-08-20T09:42:48.658Z"
   },
   {
    "duration": 63,
    "start_time": "2024-08-20T09:42:48.665Z"
   },
   {
    "duration": 344,
    "start_time": "2024-08-20T09:42:48.729Z"
   },
   {
    "duration": 52,
    "start_time": "2024-08-20T09:42:49.074Z"
   },
   {
    "duration": 8,
    "start_time": "2024-08-20T09:42:49.127Z"
   },
   {
    "duration": 19,
    "start_time": "2024-08-20T09:42:49.136Z"
   },
   {
    "duration": 9,
    "start_time": "2024-08-20T09:42:49.157Z"
   },
   {
    "duration": 4943,
    "start_time": "2024-08-20T09:43:06.326Z"
   },
   {
    "duration": 8,
    "start_time": "2024-08-20T09:43:59.478Z"
   },
   {
    "duration": 1032,
    "start_time": "2024-08-20T09:44:22.734Z"
   },
   {
    "duration": 1409,
    "start_time": "2024-08-20T09:44:31.434Z"
   },
   {
    "duration": 39,
    "start_time": "2024-08-20T09:45:40.126Z"
   },
   {
    "duration": 0,
    "start_time": "2024-08-20T09:45:40.167Z"
   },
   {
    "duration": 0,
    "start_time": "2024-08-20T09:45:40.168Z"
   },
   {
    "duration": 0,
    "start_time": "2024-08-20T09:45:40.169Z"
   },
   {
    "duration": 0,
    "start_time": "2024-08-20T09:45:40.170Z"
   },
   {
    "duration": 0,
    "start_time": "2024-08-20T09:45:40.171Z"
   },
   {
    "duration": 0,
    "start_time": "2024-08-20T09:45:40.172Z"
   },
   {
    "duration": 0,
    "start_time": "2024-08-20T09:45:40.173Z"
   },
   {
    "duration": 0,
    "start_time": "2024-08-20T09:45:40.174Z"
   },
   {
    "duration": 0,
    "start_time": "2024-08-20T09:45:40.174Z"
   },
   {
    "duration": 0,
    "start_time": "2024-08-20T09:45:40.175Z"
   },
   {
    "duration": 0,
    "start_time": "2024-08-20T09:45:40.176Z"
   },
   {
    "duration": 0,
    "start_time": "2024-08-20T09:45:40.177Z"
   },
   {
    "duration": 0,
    "start_time": "2024-08-20T09:45:40.178Z"
   },
   {
    "duration": 0,
    "start_time": "2024-08-20T09:45:40.179Z"
   },
   {
    "duration": 0,
    "start_time": "2024-08-20T09:45:40.180Z"
   },
   {
    "duration": 0,
    "start_time": "2024-08-20T09:45:40.181Z"
   },
   {
    "duration": 0,
    "start_time": "2024-08-20T09:45:40.182Z"
   },
   {
    "duration": 0,
    "start_time": "2024-08-20T09:45:40.183Z"
   },
   {
    "duration": 0,
    "start_time": "2024-08-20T09:45:40.184Z"
   },
   {
    "duration": 1110,
    "start_time": "2024-08-20T09:46:05.496Z"
   },
   {
    "duration": 23,
    "start_time": "2024-08-20T09:46:06.608Z"
   },
   {
    "duration": 18,
    "start_time": "2024-08-20T09:46:06.632Z"
   },
   {
    "duration": 3,
    "start_time": "2024-08-20T09:46:06.651Z"
   },
   {
    "duration": 12,
    "start_time": "2024-08-20T09:46:06.656Z"
   },
   {
    "duration": 141,
    "start_time": "2024-08-20T09:46:06.669Z"
   },
   {
    "duration": 67,
    "start_time": "2024-08-20T09:46:06.812Z"
   },
   {
    "duration": 30,
    "start_time": "2024-08-20T09:46:06.880Z"
   },
   {
    "duration": 16,
    "start_time": "2024-08-20T09:46:06.912Z"
   },
   {
    "duration": 13,
    "start_time": "2024-08-20T09:46:06.929Z"
   },
   {
    "duration": 327,
    "start_time": "2024-08-20T09:46:06.943Z"
   },
   {
    "duration": 7,
    "start_time": "2024-08-20T09:46:07.271Z"
   },
   {
    "duration": 17,
    "start_time": "2024-08-20T09:46:07.279Z"
   },
   {
    "duration": 7,
    "start_time": "2024-08-20T09:46:07.301Z"
   },
   {
    "duration": 1566,
    "start_time": "2024-08-20T09:46:07.310Z"
   },
   {
    "duration": 27,
    "start_time": "2024-08-20T09:46:08.877Z"
   },
   {
    "duration": 16,
    "start_time": "2024-08-20T09:46:08.906Z"
   },
   {
    "duration": 15,
    "start_time": "2024-08-20T09:46:08.924Z"
   },
   {
    "duration": 18,
    "start_time": "2024-08-20T09:46:08.940Z"
   },
   {
    "duration": 13,
    "start_time": "2024-08-20T09:46:08.959Z"
   },
   {
    "duration": 3225,
    "start_time": "2024-08-20T10:00:49.766Z"
   },
   {
    "duration": 2595,
    "start_time": "2024-08-20T10:00:52.992Z"
   },
   {
    "duration": 1571,
    "start_time": "2024-08-20T10:00:55.589Z"
   },
   {
    "duration": 3,
    "start_time": "2024-08-20T10:00:57.161Z"
   },
   {
    "duration": 135,
    "start_time": "2024-08-20T10:00:57.166Z"
   },
   {
    "duration": 97,
    "start_time": "2024-08-20T10:00:57.303Z"
   },
   {
    "duration": 46,
    "start_time": "2024-08-20T10:00:57.404Z"
   },
   {
    "duration": 26,
    "start_time": "2024-08-20T10:00:57.451Z"
   },
   {
    "duration": 16,
    "start_time": "2024-08-20T10:00:57.479Z"
   },
   {
    "duration": 24,
    "start_time": "2024-08-20T10:00:57.496Z"
   },
   {
    "duration": 26,
    "start_time": "2024-08-20T10:00:57.521Z"
   },
   {
    "duration": 18,
    "start_time": "2024-08-20T10:00:57.548Z"
   },
   {
    "duration": 3,
    "start_time": "2024-08-20T10:00:57.568Z"
   },
   {
    "duration": 17,
    "start_time": "2024-08-20T10:00:57.574Z"
   },
   {
    "duration": 10,
    "start_time": "2024-08-20T10:00:57.592Z"
   },
   {
    "duration": 7,
    "start_time": "2024-08-20T10:00:57.605Z"
   },
   {
    "duration": 28,
    "start_time": "2024-08-20T10:00:57.613Z"
   },
   {
    "duration": 14,
    "start_time": "2024-08-20T10:00:57.643Z"
   },
   {
    "duration": 6,
    "start_time": "2024-08-20T10:00:57.658Z"
   },
   {
    "duration": 21,
    "start_time": "2024-08-20T10:00:57.665Z"
   },
   {
    "duration": 9,
    "start_time": "2024-08-20T10:00:57.688Z"
   },
   {
    "duration": 27,
    "start_time": "2024-08-20T10:00:57.698Z"
   },
   {
    "duration": 6,
    "start_time": "2024-08-20T10:00:57.727Z"
   },
   {
    "duration": 6,
    "start_time": "2024-08-20T10:00:57.734Z"
   },
   {
    "duration": 25,
    "start_time": "2024-08-20T10:00:57.741Z"
   },
   {
    "duration": 16,
    "start_time": "2024-08-20T10:00:57.767Z"
   },
   {
    "duration": 28,
    "start_time": "2024-08-20T10:00:57.785Z"
   },
   {
    "duration": 17,
    "start_time": "2024-08-20T10:00:57.814Z"
   },
   {
    "duration": 4,
    "start_time": "2024-08-20T10:00:57.832Z"
   },
   {
    "duration": 15,
    "start_time": "2024-08-20T10:00:57.837Z"
   },
   {
    "duration": 10,
    "start_time": "2024-08-20T10:00:57.853Z"
   },
   {
    "duration": 21,
    "start_time": "2024-08-20T10:00:57.864Z"
   },
   {
    "duration": 55,
    "start_time": "2024-08-20T10:00:57.886Z"
   },
   {
    "duration": 204,
    "start_time": "2024-08-20T10:00:57.942Z"
   },
   {
    "duration": 212,
    "start_time": "2024-08-20T10:00:58.147Z"
   },
   {
    "duration": 187,
    "start_time": "2024-08-20T10:00:58.360Z"
   },
   {
    "duration": 194,
    "start_time": "2024-08-20T10:00:58.548Z"
   },
   {
    "duration": 286,
    "start_time": "2024-08-20T10:00:58.744Z"
   },
   {
    "duration": 210,
    "start_time": "2024-08-20T10:00:59.032Z"
   },
   {
    "duration": 209,
    "start_time": "2024-08-20T10:00:59.243Z"
   },
   {
    "duration": 217,
    "start_time": "2024-08-20T10:00:59.457Z"
   },
   {
    "duration": 111,
    "start_time": "2024-08-20T10:00:59.675Z"
   },
   {
    "duration": 94,
    "start_time": "2024-08-20T10:00:59.787Z"
   },
   {
    "duration": 93,
    "start_time": "2024-08-20T10:00:59.882Z"
   },
   {
    "duration": 158,
    "start_time": "2024-08-20T10:00:59.976Z"
   },
   {
    "duration": 10,
    "start_time": "2024-08-20T10:01:00.135Z"
   },
   {
    "duration": 158,
    "start_time": "2024-08-20T10:01:00.146Z"
   },
   {
    "duration": 224,
    "start_time": "2024-08-20T10:01:00.307Z"
   },
   {
    "duration": 4,
    "start_time": "2024-08-20T10:01:00.532Z"
   },
   {
    "duration": 289,
    "start_time": "2024-08-20T10:01:00.537Z"
   },
   {
    "duration": 4,
    "start_time": "2024-08-20T10:01:00.827Z"
   },
   {
    "duration": 308,
    "start_time": "2024-08-20T10:01:00.832Z"
   },
   {
    "duration": 10,
    "start_time": "2024-08-20T10:01:01.141Z"
   },
   {
    "duration": 134,
    "start_time": "2024-08-20T10:01:01.152Z"
   },
   {
    "duration": 200,
    "start_time": "2024-08-20T10:01:01.287Z"
   },
   {
    "duration": 210,
    "start_time": "2024-08-20T10:01:01.488Z"
   },
   {
    "duration": 11,
    "start_time": "2024-08-20T10:01:01.701Z"
   },
   {
    "duration": 31,
    "start_time": "2024-08-20T10:01:01.714Z"
   },
   {
    "duration": 49,
    "start_time": "2024-08-20T10:01:01.746Z"
   },
   {
    "duration": 29,
    "start_time": "2024-08-20T10:01:01.796Z"
   },
   {
    "duration": 50,
    "start_time": "2024-08-20T10:01:01.827Z"
   },
   {
    "duration": 68,
    "start_time": "2024-08-20T10:01:01.878Z"
   },
   {
    "duration": 29,
    "start_time": "2024-08-20T10:01:01.948Z"
   },
   {
    "duration": 48,
    "start_time": "2024-08-20T10:01:01.978Z"
   },
   {
    "duration": 82,
    "start_time": "2024-08-20T10:01:02.027Z"
   },
   {
    "duration": 11,
    "start_time": "2024-08-20T10:01:02.113Z"
   },
   {
    "duration": 15,
    "start_time": "2024-08-20T10:01:02.125Z"
   },
   {
    "duration": 32,
    "start_time": "2024-08-20T10:01:02.142Z"
   },
   {
    "duration": 38,
    "start_time": "2024-08-20T10:01:02.176Z"
   },
   {
    "duration": 21,
    "start_time": "2024-08-20T10:01:02.216Z"
   },
   {
    "duration": 27,
    "start_time": "2024-08-20T10:01:02.239Z"
   },
   {
    "duration": 28,
    "start_time": "2024-08-20T10:01:02.267Z"
   },
   {
    "duration": 7,
    "start_time": "2024-08-20T10:01:02.297Z"
   },
   {
    "duration": 31,
    "start_time": "2024-08-20T10:01:02.306Z"
   },
   {
    "duration": 11,
    "start_time": "2024-08-20T10:01:02.338Z"
   },
   {
    "duration": 1356,
    "start_time": "2024-08-20T10:01:02.350Z"
   },
   {
    "duration": 132,
    "start_time": "2024-08-20T10:01:03.709Z"
   },
   {
    "duration": 0,
    "start_time": "2024-08-20T10:01:03.842Z"
   },
   {
    "duration": 0,
    "start_time": "2024-08-20T10:01:03.843Z"
   },
   {
    "duration": 0,
    "start_time": "2024-08-20T10:01:03.844Z"
   },
   {
    "duration": 0,
    "start_time": "2024-08-20T10:01:03.845Z"
   },
   {
    "duration": 0,
    "start_time": "2024-08-20T10:01:03.846Z"
   },
   {
    "duration": 0,
    "start_time": "2024-08-20T10:01:03.847Z"
   },
   {
    "duration": 0,
    "start_time": "2024-08-20T10:01:03.847Z"
   },
   {
    "duration": 0,
    "start_time": "2024-08-20T10:01:03.848Z"
   },
   {
    "duration": 0,
    "start_time": "2024-08-20T10:01:03.849Z"
   },
   {
    "duration": 0,
    "start_time": "2024-08-20T10:01:03.850Z"
   },
   {
    "duration": 0,
    "start_time": "2024-08-20T10:01:03.850Z"
   },
   {
    "duration": 0,
    "start_time": "2024-08-20T10:01:03.851Z"
   },
   {
    "duration": 0,
    "start_time": "2024-08-20T10:01:03.852Z"
   },
   {
    "duration": 0,
    "start_time": "2024-08-20T10:01:03.853Z"
   },
   {
    "duration": 0,
    "start_time": "2024-08-20T10:01:03.854Z"
   },
   {
    "duration": 0,
    "start_time": "2024-08-20T10:01:03.854Z"
   },
   {
    "duration": 0,
    "start_time": "2024-08-20T10:01:03.855Z"
   },
   {
    "duration": 0,
    "start_time": "2024-08-20T10:01:03.856Z"
   },
   {
    "duration": 8,
    "start_time": "2024-08-20T10:02:11.934Z"
   },
   {
    "duration": 17,
    "start_time": "2024-08-20T10:02:31.482Z"
   },
   {
    "duration": 17,
    "start_time": "2024-08-20T10:02:36.236Z"
   },
   {
    "duration": 4,
    "start_time": "2024-08-20T10:02:36.255Z"
   },
   {
    "duration": 24,
    "start_time": "2024-08-20T10:02:36.261Z"
   },
   {
    "duration": 4,
    "start_time": "2024-08-20T10:02:36.287Z"
   },
   {
    "duration": 4,
    "start_time": "2024-08-20T10:02:36.293Z"
   },
   {
    "duration": 4,
    "start_time": "2024-08-20T10:02:36.298Z"
   },
   {
    "duration": 14,
    "start_time": "2024-08-20T10:02:36.303Z"
   },
   {
    "duration": 16,
    "start_time": "2024-08-20T10:02:36.318Z"
   },
   {
    "duration": 13,
    "start_time": "2024-08-20T10:02:36.335Z"
   },
   {
    "duration": 318,
    "start_time": "2024-08-20T10:02:36.349Z"
   },
   {
    "duration": 8,
    "start_time": "2024-08-20T10:02:36.668Z"
   },
   {
    "duration": 18,
    "start_time": "2024-08-20T10:02:36.677Z"
   },
   {
    "duration": 26,
    "start_time": "2024-08-20T10:02:36.696Z"
   },
   {
    "duration": 1472,
    "start_time": "2024-08-20T10:02:36.724Z"
   },
   {
    "duration": 18,
    "start_time": "2024-08-20T10:02:38.197Z"
   },
   {
    "duration": 29,
    "start_time": "2024-08-20T10:02:38.216Z"
   },
   {
    "duration": 17,
    "start_time": "2024-08-20T10:02:38.247Z"
   },
   {
    "duration": 13,
    "start_time": "2024-08-20T10:02:38.265Z"
   },
   {
    "duration": 16,
    "start_time": "2024-08-20T10:02:38.279Z"
   }
  ],
  "colab": {
   "provenance": []
  },
  "kernelspec": {
   "display_name": "Python 3 (ipykernel)",
   "language": "python",
   "name": "python3"
  },
  "language_info": {
   "codemirror_mode": {
    "name": "ipython",
    "version": 3
   },
   "file_extension": ".py",
   "mimetype": "text/x-python",
   "name": "python",
   "nbconvert_exporter": "python",
   "pygments_lexer": "ipython3",
   "version": "3.9.5"
  },
  "toc": {
   "base_numbering": 1,
   "nav_menu": {},
   "number_sections": true,
   "sideBar": true,
   "skip_h1_title": true,
   "title_cell": "Table of Contents",
   "title_sidebar": "Contents",
   "toc_cell": false,
   "toc_position": {},
   "toc_section_display": true,
   "toc_window_display": false
  }
 },
 "nbformat": 4,
 "nbformat_minor": 1
}
